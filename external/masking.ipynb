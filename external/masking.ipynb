{
 "cells": [
  {
   "cell_type": "code",
   "execution_count": 10,
   "id": "906524c8-d452-47f2-a658-59a48249e9ec",
   "metadata": {},
   "outputs": [
    {
     "name": "stdout",
     "output_type": "stream",
     "text": [
      "Cases: 54\n",
      "Init from: /workspace/nnunet_seg_model/models/Dataset505_PelvicBone/nnUNetTrainer__nnUNetPlans__3d_fullres\n",
      "There are 54 cases in the source folder\n",
      "I am processing 0 out of 1 (max process ID is 0, we start counting with 0!)\n",
      "There are 54 cases that I would like to predict\n",
      "nnUNet_raw is not defined and nnU-Net can only be used on data for which preprocessed files are already present on your system. nnU-Net cannot be used for experiment planning and preprocessing like this. If this is not intended, please read documentation/setting_up_paths.md for information on how to set this up properly.\n",
      "nnUNet_preprocessed is not defined and nnU-Net can not be used for preprocessing or training. If this is not intended, please read documentation/setting_up_paths.md for information on how to set this up.\n",
      "nnUNet_results is not defined and nnU-Net cannot be used for training or inference. If this is not intended behavior, please read documentation/setting_up_paths.md for information on how to set this up.\n",
      "nnUNet_raw is not defined and nnU-Net can only be used on data for which preprocessed files are already present on your system. nnU-Net cannot be used for experiment planning and preprocessing like this. If this is not intended, please read documentation/setting_up_paths.md for information on how to set this up properly.\n",
      "nnUNet_preprocessed is not defined and nnU-Net can not be used for preprocessing or training. If this is not intended, please read documentation/setting_up_paths.md for information on how to set this up.\n",
      "nnUNet_results is not defined and nnU-Net cannot be used for training or inference. If this is not intended behavior, please read documentation/setting_up_paths.md for information on how to set this up.\n",
      "None\n",
      "None\n",
      "old shape: (45, 636, 876), new_shape: [ 62 666 917], old_spacing: [np.float64(5.5), np.float64(0.4088050425052643), np.float64(0.4088050425052643)], new_spacing: [3.9999987840652467, 0.3905999958515167, 0.3905999958515167], fn_data: functools.partial(<function resample_data_or_seg_to_shape at 0x7dca2b1daa70>, is_seg=False, order=3, order_z=0, force_separate_z=None)\n",
      "None\n",
      "\n",
      "Predicting TCGA-VS-A8EB:\n",
      "perform_everything_on_device: True\n",
      "Input shape: torch.Size([1, 62, 666, 917])\n",
      "step_size: 0.5\n",
      "mirror_axes: (0, 1, 2)\n",
      "n_steps 168, image size is torch.Size([62, 666, 917]), tile_size [20, 320, 256], tile_step_size 0.5\n",
      "steps:\n",
      "[[0, 8, 17, 25, 34, 42], [0, 115, 231, 346], [0, 110, 220, 330, 441, 551, 661]]\n",
      "move image to device cuda\n",
      "preallocating results arrays on device cuda\n"
     ]
    },
    {
     "name": "stderr",
     "output_type": "stream",
     "text": [
      "  0%|          | 0/168 [00:00<?, ?it/s]"
     ]
    },
    {
     "name": "stdout",
     "output_type": "stream",
     "text": [
      "old shape: (34, 500, 501), new_shape: [  51 1050 1052], old_spacing: [np.float64(5.9999871253967285), np.float64(0.8203020095825195), np.float64(0.8203099966049194)], new_spacing: [3.9999987840652467, 0.3905999958515167, 0.3905999958515167], fn_data: functools.partial(<function resample_data_or_seg_to_shape at 0x7b1d57772a70>, is_seg=False, order=3, order_z=0, force_separate_z=None)\n",
      "None\n"
     ]
    },
    {
     "name": "stderr",
     "output_type": "stream",
     "text": [
      " 15%|█▌        | 26/168 [00:10<00:51,  2.78it/s]"
     ]
    },
    {
     "name": "stdout",
     "output_type": "stream",
     "text": [
      "old shape: (35, 504, 512), new_shape: [ 52 832 845], old_spacing: [np.float64(5.999983310699463), np.float64(0.6445000171661377), np.float64(0.6445000171661377)], new_spacing: [3.9999987840652467, 0.3905999958515167, 0.3905999958515167], fn_data: functools.partial(<function resample_data_or_seg_to_shape at 0x7dca2b1daa70>, is_seg=False, order=3, order_z=0, force_separate_z=None)\n"
     ]
    },
    {
     "name": "stderr",
     "output_type": "stream",
     "text": [
      " 16%|█▌        | 27/168 [00:11<00:50,  2.78it/s]"
     ]
    },
    {
     "name": "stdout",
     "output_type": "stream",
     "text": [
      "None\n"
     ]
    },
    {
     "name": "stderr",
     "output_type": "stream",
     "text": [
      " 19%|█▉        | 32/168 [00:12<00:48,  2.78it/s]"
     ]
    },
    {
     "name": "stdout",
     "output_type": "stream",
     "text": [
      "old shape: (40, 504, 512), new_shape: [ 60 756 768], old_spacing: [np.float64(6.000014305114746), np.float64(0.5859000086784363), np.float64(0.5859000086784363)], new_spacing: [3.9999987840652467, 0.3905999958515167, 0.3905999958515167], fn_data: functools.partial(<function resample_data_or_seg_to_shape at 0x7b1d57772a70>, is_seg=False, order=3, order_z=0, force_separate_z=None)\n"
     ]
    },
    {
     "name": "stderr",
     "output_type": "stream",
     "text": [
      " 39%|███▊      | 65/168 [00:24<00:37,  2.78it/s]"
     ]
    },
    {
     "name": "stdout",
     "output_type": "stream",
     "text": [
      "old shape: (40, 636, 869), new_shape: [ 55 666 910], old_spacing: [np.float64(5.5), np.float64(0.4088050425052643), np.float64(0.4088050425052643)], new_spacing: [3.9999987840652467, 0.3905999958515167, 0.3905999958515167], fn_data: functools.partial(<function resample_data_or_seg_to_shape at 0x7dca2b1daa70>, is_seg=False, order=3, order_z=0, force_separate_z=None)\n"
     ]
    },
    {
     "name": "stderr",
     "output_type": "stream",
     "text": [
      "100%|██████████| 168/168 [01:02<00:00,  2.71it/s]\n"
     ]
    },
    {
     "name": "stdout",
     "output_type": "stream",
     "text": [
      "Input shape: torch.Size([1, 62, 666, 917])\n",
      "step_size: 0.5\n",
      "mirror_axes: (0, 1, 2)\n",
      "n_steps 168, image size is torch.Size([62, 666, 917]), tile_size [20, 320, 256], tile_step_size 0.5\n",
      "steps:\n",
      "[[0, 8, 17, 25, 34, 42], [0, 115, 231, 346], [0, 110, 220, 330, 441, 551, 661]]\n",
      "move image to device cuda\n",
      "preallocating results arrays on device cuda\n"
     ]
    },
    {
     "name": "stderr",
     "output_type": "stream",
     "text": [
      "100%|██████████| 168/168 [01:05<00:00,  2.58it/s]\n"
     ]
    },
    {
     "name": "stdout",
     "output_type": "stream",
     "text": [
      "Input shape: torch.Size([1, 62, 666, 917])\n",
      "step_size: 0.5\n",
      "mirror_axes: (0, 1, 2)\n",
      "n_steps 168, image size is torch.Size([62, 666, 917]), tile_size [20, 320, 256], tile_step_size 0.5\n",
      "steps:\n",
      "[[0, 8, 17, 25, 34, 42], [0, 115, 231, 346], [0, 110, 220, 330, 441, 551, 661]]\n",
      "move image to device cuda\n",
      "preallocating results arrays on device cuda\n"
     ]
    },
    {
     "name": "stderr",
     "output_type": "stream",
     "text": [
      "100%|██████████| 168/168 [01:17<00:00,  2.18it/s]\n"
     ]
    },
    {
     "name": "stdout",
     "output_type": "stream",
     "text": [
      "Prediction done\n",
      "sending off prediction to background worker for resampling and export\n",
      "done with TCGA-VS-A8EB\n",
      "\n",
      "Predicting TCGA-VS-A8EC:\n",
      "perform_everything_on_device: True\n",
      "None\n",
      "Input shape: torch.Size([1, 51, 1050, 1052])\n",
      "step_size: 0.5\n",
      "mirror_axes: (0, 1, 2)\n",
      "n_steps 240, image size is torch.Size([51, 1050, 1052]), tile_size [20, 320, 256], tile_step_size 0.5\n",
      "steps:\n",
      "[[0, 8, 16, 23, 31], [0, 146, 292, 438, 584, 730], [0, 114, 227, 341, 455, 569, 682, 796]]\n",
      "move image to device cuda\n",
      "preallocating results arrays on device cuda\n"
     ]
    },
    {
     "name": "stderr",
     "output_type": "stream",
     "text": [
      " 16%|█▋        | 39/240 [00:18<01:38,  2.05it/s]"
     ]
    },
    {
     "name": "stdout",
     "output_type": "stream",
     "text": [
      "old shape: (30, 252, 319), new_shape: [  62  907 1148], old_spacing: [np.float64(8.25), np.float64(1.40625), np.float64(1.40625)], new_spacing: [3.9999987840652467, 0.3905999958515167, 0.3905999958515167], fn_data: functools.partial(<function resample_data_or_seg_to_shape at 0x7b1d57772a70>, is_seg=False, order=3, order_z=0, force_separate_z=None)\n"
     ]
    },
    {
     "name": "stderr",
     "output_type": "stream",
     "text": [
      "100%|██████████| 240/240 [01:53<00:00,  2.11it/s]\n"
     ]
    },
    {
     "name": "stdout",
     "output_type": "stream",
     "text": [
      "Input shape: torch.Size([1, 51, 1050, 1052])\n",
      "step_size: 0.5\n",
      "mirror_axes: (0, 1, 2)\n",
      "n_steps 240, image size is torch.Size([51, 1050, 1052]), tile_size [20, 320, 256], tile_step_size 0.5\n",
      "steps:\n",
      "[[0, 8, 16, 23, 31], [0, 146, 292, 438, 584, 730], [0, 114, 227, 341, 455, 569, 682, 796]]\n",
      "move image to device cuda\n",
      "preallocating results arrays on device cuda\n"
     ]
    },
    {
     "name": "stderr",
     "output_type": "stream",
     "text": [
      "100%|██████████| 240/240 [01:58<00:00,  2.03it/s]\n"
     ]
    },
    {
     "name": "stdout",
     "output_type": "stream",
     "text": [
      "Input shape: torch.Size([1, 51, 1050, 1052])\n",
      "step_size: 0.5\n",
      "mirror_axes: (0, 1, 2)\n",
      "n_steps 240, image size is torch.Size([51, 1050, 1052]), tile_size [20, 320, 256], tile_step_size 0.5\n",
      "steps:\n",
      "[[0, 8, 16, 23, 31], [0, 146, 292, 438, 584, 730], [0, 114, 227, 341, 455, 569, 682, 796]]\n",
      "move image to device cuda\n",
      "preallocating results arrays on device cuda\n"
     ]
    },
    {
     "name": "stderr",
     "output_type": "stream",
     "text": [
      "100%|██████████| 240/240 [01:58<00:00,  2.02it/s]\n"
     ]
    },
    {
     "name": "stdout",
     "output_type": "stream",
     "text": [
      "Prediction done\n",
      "sending off prediction to background worker for resampling and export\n",
      "done with TCGA-VS-A8EC\n",
      "\n",
      "Predicting TCGA-VS-A8EG:\n",
      "perform_everything_on_device: True\n",
      "None\n",
      "Input shape: torch.Size([1, 52, 832, 845])\n",
      "step_size: 0.5\n",
      "mirror_axes: (0, 1, 2)\n",
      "n_steps 150, image size is torch.Size([52, 832, 845]), tile_size [20, 320, 256], tile_step_size 0.5\n",
      "steps:\n",
      "[[0, 8, 16, 24, 32], [0, 128, 256, 384, 512], [0, 118, 236, 353, 471, 589]]\n",
      "move image to device cuda\n",
      "preallocating results arrays on device cuda\n"
     ]
    },
    {
     "name": "stderr",
     "output_type": "stream",
     "text": [
      " 15%|█▍        | 22/150 [00:10<01:02,  2.06it/s]"
     ]
    },
    {
     "name": "stdout",
     "output_type": "stream",
     "text": [
      "old shape: (30, 208, 319), new_shape: [ 62 599 919], old_spacing: [np.float64(8.25), np.float64(1.125), np.float64(1.125)], new_spacing: [3.9999987840652467, 0.3905999958515167, 0.3905999958515167], fn_data: functools.partial(<function resample_data_or_seg_to_shape at 0x7dca2b1daa70>, is_seg=False, order=3, order_z=0, force_separate_z=None)\n"
     ]
    },
    {
     "name": "stderr",
     "output_type": "stream",
     "text": [
      "100%|██████████| 150/150 [01:15<00:00,  1.98it/s]\n"
     ]
    },
    {
     "name": "stdout",
     "output_type": "stream",
     "text": [
      "Input shape: torch.Size([1, 52, 832, 845])\n",
      "step_size: 0.5\n",
      "mirror_axes: (0, 1, 2)\n",
      "n_steps 150, image size is torch.Size([52, 832, 845]), tile_size [20, 320, 256], tile_step_size 0.5\n",
      "steps:\n",
      "[[0, 8, 16, 24, 32], [0, 128, 256, 384, 512], [0, 118, 236, 353, 471, 589]]\n",
      "move image to device cuda\n",
      "preallocating results arrays on device cuda\n"
     ]
    },
    {
     "name": "stderr",
     "output_type": "stream",
     "text": [
      "100%|██████████| 150/150 [01:14<00:00,  2.01it/s]\n"
     ]
    },
    {
     "name": "stdout",
     "output_type": "stream",
     "text": [
      "Input shape: torch.Size([1, 52, 832, 845])\n",
      "step_size: 0.5\n",
      "mirror_axes: (0, 1, 2)\n",
      "n_steps 150, image size is torch.Size([52, 832, 845]), tile_size [20, 320, 256], tile_step_size 0.5\n",
      "steps:\n",
      "[[0, 8, 16, 24, 32], [0, 128, 256, 384, 512], [0, 118, 236, 353, 471, 589]]\n",
      "move image to device cuda\n",
      "preallocating results arrays on device cuda\n"
     ]
    },
    {
     "name": "stderr",
     "output_type": "stream",
     "text": [
      "100%|██████████| 150/150 [01:15<00:00,  2.00it/s]\n"
     ]
    },
    {
     "name": "stdout",
     "output_type": "stream",
     "text": [
      "Prediction done\n",
      "sending off prediction to background worker for resampling and export\n",
      "done with TCGA-VS-A8EG\n",
      "\n",
      "Predicting TCGA-VS-A8EH:\n",
      "perform_everything_on_device: True\n",
      "None\n",
      "Input shape: torch.Size([1, 60, 756, 768])\n",
      "step_size: 0.5\n",
      "mirror_axes: (0, 1, 2)\n",
      "n_steps 100, image size is torch.Size([60, 756, 768]), tile_size [20, 320, 256], tile_step_size 0.5\n",
      "steps:\n",
      "[[0, 10, 20, 30, 40], [0, 145, 291, 436], [0, 128, 256, 384, 512]]\n",
      "move image to device cuda\n",
      "preallocating results arrays on device cuda\n"
     ]
    },
    {
     "name": "stderr",
     "output_type": "stream",
     "text": [
      " 26%|██▌       | 26/100 [00:12<00:38,  1.93it/s]"
     ]
    },
    {
     "name": "stdout",
     "output_type": "stream",
     "text": [
      "old shape: (30, 212, 319), new_shape: [  62  678 1021], old_spacing: [np.float64(8.25), np.float64(1.25), np.float64(1.25)], new_spacing: [3.9999987840652467, 0.3905999958515167, 0.3905999958515167], fn_data: functools.partial(<function resample_data_or_seg_to_shape at 0x7b1d57772a70>, is_seg=False, order=3, order_z=0, force_separate_z=None)\n"
     ]
    },
    {
     "name": "stderr",
     "output_type": "stream",
     "text": [
      "100%|██████████| 100/100 [00:49<00:00,  2.01it/s]\n"
     ]
    },
    {
     "name": "stdout",
     "output_type": "stream",
     "text": [
      "Input shape: torch.Size([1, 60, 756, 768])\n",
      "step_size: 0.5\n",
      "mirror_axes: (0, 1, 2)\n",
      "n_steps 100, image size is torch.Size([60, 756, 768]), tile_size [20, 320, 256], tile_step_size 0.5\n",
      "steps:\n",
      "[[0, 10, 20, 30, 40], [0, 145, 291, 436], [0, 128, 256, 384, 512]]\n",
      "move image to device cuda\n",
      "preallocating results arrays on device cuda\n"
     ]
    },
    {
     "name": "stderr",
     "output_type": "stream",
     "text": [
      "100%|██████████| 100/100 [00:49<00:00,  2.01it/s]\n"
     ]
    },
    {
     "name": "stdout",
     "output_type": "stream",
     "text": [
      "Input shape: torch.Size([1, 60, 756, 768])\n",
      "step_size: 0.5\n",
      "mirror_axes: (0, 1, 2)\n",
      "n_steps 100, image size is torch.Size([60, 756, 768]), tile_size [20, 320, 256], tile_step_size 0.5\n",
      "steps:\n",
      "[[0, 10, 20, 30, 40], [0, 145, 291, 436], [0, 128, 256, 384, 512]]\n",
      "move image to device cuda\n",
      "preallocating results arrays on device cuda\n"
     ]
    },
    {
     "name": "stderr",
     "output_type": "stream",
     "text": [
      "100%|██████████| 100/100 [00:47<00:00,  2.09it/s]\n"
     ]
    },
    {
     "name": "stdout",
     "output_type": "stream",
     "text": [
      "Prediction done\n",
      "sending off prediction to background worker for resampling and export\n",
      "done with TCGA-VS-A8EH\n",
      "None\n",
      "\n",
      "Predicting TCGA-VS-A8EI:\n",
      "perform_everything_on_device: True\n",
      "Input shape: torch.Size([1, 55, 666, 910])\n",
      "step_size: 0.5\n",
      "mirror_axes: (0, 1, 2)\n",
      "n_steps 140, image size is torch.Size([55, 666, 910]), tile_size [20, 320, 256], tile_step_size 0.5\n",
      "steps:\n",
      "[[0, 9, 18, 26, 35], [0, 115, 231, 346], [0, 109, 218, 327, 436, 545, 654]]\n",
      "move image to device cuda\n",
      "preallocating results arrays on device cuda\n"
     ]
    },
    {
     "name": "stderr",
     "output_type": "stream",
     "text": [
      " 39%|███▉      | 55/140 [00:28<00:41,  2.04it/s]"
     ]
    },
    {
     "name": "stdout",
     "output_type": "stream",
     "text": [
      "old shape: (30, 232, 319), new_shape: [  62  798 1097], old_spacing: [np.float64(8.25), np.float64(1.34375), np.float64(1.34375)], new_spacing: [3.9999987840652467, 0.3905999958515167, 0.3905999958515167], fn_data: functools.partial(<function resample_data_or_seg_to_shape at 0x7dca2b1daa70>, is_seg=False, order=3, order_z=0, force_separate_z=None)\n"
     ]
    },
    {
     "name": "stderr",
     "output_type": "stream",
     "text": [
      "100%|██████████| 140/140 [01:09<00:00,  2.01it/s]\n"
     ]
    },
    {
     "name": "stdout",
     "output_type": "stream",
     "text": [
      "Input shape: torch.Size([1, 55, 666, 910])\n",
      "step_size: 0.5\n",
      "mirror_axes: (0, 1, 2)\n",
      "n_steps 140, image size is torch.Size([55, 666, 910]), tile_size [20, 320, 256], tile_step_size 0.5\n",
      "steps:\n",
      "[[0, 9, 18, 26, 35], [0, 115, 231, 346], [0, 109, 218, 327, 436, 545, 654]]\n",
      "move image to device cuda\n",
      "preallocating results arrays on device cuda\n"
     ]
    },
    {
     "name": "stderr",
     "output_type": "stream",
     "text": [
      "100%|██████████| 140/140 [01:10<00:00,  1.99it/s]\n"
     ]
    },
    {
     "name": "stdout",
     "output_type": "stream",
     "text": [
      "Input shape: torch.Size([1, 55, 666, 910])\n",
      "step_size: 0.5\n",
      "mirror_axes: (0, 1, 2)\n",
      "n_steps 140, image size is torch.Size([55, 666, 910]), tile_size [20, 320, 256], tile_step_size 0.5\n",
      "steps:\n",
      "[[0, 9, 18, 26, 35], [0, 115, 231, 346], [0, 109, 218, 327, 436, 545, 654]]\n",
      "move image to device cuda\n",
      "preallocating results arrays on device cuda\n"
     ]
    },
    {
     "name": "stderr",
     "output_type": "stream",
     "text": [
      "100%|██████████| 140/140 [01:09<00:00,  2.01it/s]\n"
     ]
    },
    {
     "name": "stdout",
     "output_type": "stream",
     "text": [
      "Prediction done\n",
      "sending off prediction to background worker for resampling and export\n",
      "done with TCGA-VS-A8EI\n",
      "\n",
      "Predicting TCGA-VS-A8EJ:\n",
      "perform_everything_on_device: True\n",
      "Input shape: torch.Size([1, 62, 907, 1148])\n",
      "step_size: 0.5\n",
      "mirror_axes: (0, 1, 2)\n",
      "n_steps 240, image size is torch.Size([62, 907, 1148]), tile_size [20, 320, 256], tile_step_size 0.5\n",
      "steps:\n",
      "[[0, 8, 17, 25, 34, 42], [0, 147, 294, 440, 587], [0, 127, 255, 382, 510, 637, 765, 892]]\n",
      "move image to device cuda\n",
      "preallocating results arrays on device cuda\n"
     ]
    },
    {
     "name": "stderr",
     "output_type": "stream",
     "text": [
      "  1%|          | 2/240 [00:00<01:25,  2.79it/s]"
     ]
    },
    {
     "name": "stdout",
     "output_type": "stream",
     "text": [
      "None\n"
     ]
    },
    {
     "name": "stderr",
     "output_type": "stream",
     "text": [
      " 10%|█         | 25/240 [00:11<01:43,  2.08it/s]"
     ]
    },
    {
     "name": "stdout",
     "output_type": "stream",
     "text": [
      "old shape: (40, 624, 858), new_shape: [ 55 614 845], old_spacing: [np.float64(5.5), np.float64(0.38461539149284363), np.float64(0.38461539149284363)], new_spacing: [3.9999987840652467, 0.3905999958515167, 0.3905999958515167], fn_data: functools.partial(<function resample_data_or_seg_to_shape at 0x7b1d57772a70>, is_seg=False, order=3, order_z=0, force_separate_z=None)\n"
     ]
    },
    {
     "name": "stderr",
     "output_type": "stream",
     "text": [
      "100%|██████████| 240/240 [01:55<00:00,  2.08it/s]\n"
     ]
    },
    {
     "name": "stdout",
     "output_type": "stream",
     "text": [
      "Input shape: torch.Size([1, 62, 907, 1148])\n",
      "step_size: 0.5\n",
      "mirror_axes: (0, 1, 2)\n",
      "n_steps 240, image size is torch.Size([62, 907, 1148]), tile_size [20, 320, 256], tile_step_size 0.5\n",
      "steps:\n",
      "[[0, 8, 17, 25, 34, 42], [0, 147, 294, 440, 587], [0, 127, 255, 382, 510, 637, 765, 892]]\n",
      "move image to device cuda\n",
      "preallocating results arrays on device cuda\n"
     ]
    },
    {
     "name": "stderr",
     "output_type": "stream",
     "text": [
      "100%|██████████| 240/240 [02:00<00:00,  1.99it/s]\n"
     ]
    },
    {
     "name": "stdout",
     "output_type": "stream",
     "text": [
      "Input shape: torch.Size([1, 62, 907, 1148])\n",
      "step_size: 0.5\n",
      "mirror_axes: (0, 1, 2)\n",
      "n_steps 240, image size is torch.Size([62, 907, 1148]), tile_size [20, 320, 256], tile_step_size 0.5\n",
      "steps:\n",
      "[[0, 8, 17, 25, 34, 42], [0, 147, 294, 440, 587], [0, 127, 255, 382, 510, 637, 765, 892]]\n",
      "move image to device cuda\n",
      "preallocating results arrays on device cuda\n"
     ]
    },
    {
     "name": "stderr",
     "output_type": "stream",
     "text": [
      "100%|██████████| 240/240 [02:00<00:00,  1.99it/s]\n"
     ]
    },
    {
     "name": "stdout",
     "output_type": "stream",
     "text": [
      "Prediction done\n",
      "sending off prediction to background worker for resampling and export\n",
      "done with TCGA-VS-A8EJ\n",
      "\n",
      "Predicting TCGA-VS-A8EK:\n",
      "perform_everything_on_device: True\n",
      "Input shape: torch.Size([1, 62, 599, 919])\n",
      "step_size: 0.5\n",
      "mirror_axes: (0, 1, 2)\n",
      "n_steps 126, image size is torch.Size([62, 599, 919]), tile_size [20, 320, 256], tile_step_size 0.5\n",
      "steps:\n",
      "[[0, 8, 17, 25, 34, 42], [0, 140, 279], [0, 110, 221, 332, 442, 552, 663]]\n",
      "move image to device cuda\n",
      "preallocating results arrays on device cuda\n"
     ]
    },
    {
     "name": "stderr",
     "output_type": "stream",
     "text": [
      "  1%|          | 1/126 [00:00<00:26,  4.72it/s]"
     ]
    },
    {
     "name": "stdout",
     "output_type": "stream",
     "text": [
      "None\n"
     ]
    },
    {
     "name": "stderr",
     "output_type": "stream",
     "text": [
      " 31%|███       | 39/126 [00:19<00:44,  1.98it/s]"
     ]
    },
    {
     "name": "stdout",
     "output_type": "stream",
     "text": [
      "old shape: (40, 504, 512), new_shape: [ 60 756 768], old_spacing: [np.float64(5.999996185302734), np.float64(0.5859000086784363), np.float64(0.5859000086784363)], new_spacing: [3.9999987840652467, 0.3905999958515167, 0.3905999958515167], fn_data: functools.partial(<function resample_data_or_seg_to_shape at 0x7dca2b1daa70>, is_seg=False, order=3, order_z=0, force_separate_z=None)\n"
     ]
    },
    {
     "name": "stderr",
     "output_type": "stream",
     "text": [
      "100%|██████████| 126/126 [01:03<00:00,  1.99it/s]\n"
     ]
    },
    {
     "name": "stdout",
     "output_type": "stream",
     "text": [
      "Input shape: torch.Size([1, 62, 599, 919])\n",
      "step_size: 0.5\n",
      "mirror_axes: (0, 1, 2)\n",
      "n_steps 126, image size is torch.Size([62, 599, 919]), tile_size [20, 320, 256], tile_step_size 0.5\n",
      "steps:\n",
      "[[0, 8, 17, 25, 34, 42], [0, 140, 279], [0, 110, 221, 332, 442, 552, 663]]\n",
      "move image to device cuda\n",
      "preallocating results arrays on device cuda\n"
     ]
    },
    {
     "name": "stderr",
     "output_type": "stream",
     "text": [
      "100%|██████████| 126/126 [01:02<00:00,  2.01it/s]\n"
     ]
    },
    {
     "name": "stdout",
     "output_type": "stream",
     "text": [
      "Input shape: torch.Size([1, 62, 599, 919])\n",
      "step_size: 0.5\n",
      "mirror_axes: (0, 1, 2)\n",
      "n_steps 126, image size is torch.Size([62, 599, 919]), tile_size [20, 320, 256], tile_step_size 0.5\n",
      "steps:\n",
      "[[0, 8, 17, 25, 34, 42], [0, 140, 279], [0, 110, 221, 332, 442, 552, 663]]\n",
      "move image to device cuda\n",
      "preallocating results arrays on device cuda\n"
     ]
    },
    {
     "name": "stderr",
     "output_type": "stream",
     "text": [
      "100%|██████████| 126/126 [01:02<00:00,  2.01it/s]\n"
     ]
    },
    {
     "name": "stdout",
     "output_type": "stream",
     "text": [
      "Prediction done\n",
      "sending off prediction to background worker for resampling and export\n",
      "done with TCGA-VS-A8EK\n",
      "\n",
      "Predicting TCGA-VS-A8EL:\n",
      "perform_everything_on_device: True\n",
      "None\n",
      "Input shape: torch.Size([1, 62, 678, 1021])\n",
      "step_size: 0.5\n",
      "mirror_axes: (0, 1, 2)\n",
      "n_steps 168, image size is torch.Size([62, 678, 1021]), tile_size [20, 320, 256], tile_step_size 0.5\n",
      "steps:\n",
      "[[0, 8, 17, 25, 34, 42], [0, 119, 239, 358], [0, 128, 255, 382, 510, 638, 765]]\n",
      "move image to device cuda\n",
      "preallocating results arrays on device cuda\n"
     ]
    },
    {
     "name": "stderr",
     "output_type": "stream",
     "text": [
      " 17%|█▋        | 29/168 [00:13<01:06,  2.08it/s]"
     ]
    },
    {
     "name": "stdout",
     "output_type": "stream",
     "text": [
      "old shape: (30, 208, 319), new_shape: [  62  716 1097], old_spacing: [np.float64(8.25), np.float64(1.34375), np.float64(1.34375)], new_spacing: [3.9999987840652467, 0.3905999958515167, 0.3905999958515167], fn_data: functools.partial(<function resample_data_or_seg_to_shape at 0x7b1d57772a70>, is_seg=False, order=3, order_z=0, force_separate_z=None)\n"
     ]
    },
    {
     "name": "stderr",
     "output_type": "stream",
     "text": [
      "100%|██████████| 168/168 [01:24<00:00,  1.99it/s]\n"
     ]
    },
    {
     "name": "stdout",
     "output_type": "stream",
     "text": [
      "Input shape: torch.Size([1, 62, 678, 1021])\n",
      "step_size: 0.5\n",
      "mirror_axes: (0, 1, 2)\n",
      "n_steps 168, image size is torch.Size([62, 678, 1021]), tile_size [20, 320, 256], tile_step_size 0.5\n",
      "steps:\n",
      "[[0, 8, 17, 25, 34, 42], [0, 119, 239, 358], [0, 128, 255, 382, 510, 638, 765]]\n",
      "move image to device cuda\n",
      "preallocating results arrays on device cuda\n"
     ]
    },
    {
     "name": "stderr",
     "output_type": "stream",
     "text": [
      "100%|██████████| 168/168 [01:24<00:00,  1.99it/s]\n"
     ]
    },
    {
     "name": "stdout",
     "output_type": "stream",
     "text": [
      "Input shape: torch.Size([1, 62, 678, 1021])\n",
      "step_size: 0.5\n",
      "mirror_axes: (0, 1, 2)\n",
      "n_steps 168, image size is torch.Size([62, 678, 1021]), tile_size [20, 320, 256], tile_step_size 0.5\n",
      "steps:\n",
      "[[0, 8, 17, 25, 34, 42], [0, 119, 239, 358], [0, 128, 255, 382, 510, 638, 765]]\n",
      "move image to device cuda\n",
      "preallocating results arrays on device cuda\n"
     ]
    },
    {
     "name": "stderr",
     "output_type": "stream",
     "text": [
      "100%|██████████| 168/168 [01:22<00:00,  2.03it/s]\n"
     ]
    },
    {
     "name": "stdout",
     "output_type": "stream",
     "text": [
      "Prediction done\n",
      "sending off prediction to background worker for resampling and export\n",
      "done with TCGA-VS-A8EL\n",
      "\n",
      "Predicting TCGA-VS-A8Q8:\n",
      "perform_everything_on_device: True\n",
      "Input shape: torch.Size([1, 62, 798, 1097])\n",
      "step_size: 0.5\n",
      "mirror_axes: (0, 1, 2)\n",
      "n_steps 192, image size is torch.Size([62, 798, 1097]), tile_size [20, 320, 256], tile_step_size 0.5\n",
      "steps:\n",
      "[[0, 8, 17, 25, 34, 42], [0, 159, 319, 478], [0, 120, 240, 360, 481, 601, 721, 841]]\n",
      "move image to device cuda\n",
      "preallocating results arrays on device cuda\n"
     ]
    },
    {
     "name": "stderr",
     "output_type": "stream",
     "text": [
      "  1%|          | 2/192 [00:00<01:09,  2.75it/s]"
     ]
    },
    {
     "name": "stdout",
     "output_type": "stream",
     "text": [
      "None\n"
     ]
    },
    {
     "name": "stderr",
     "output_type": "stream",
     "text": [
      " 27%|██▋       | 51/192 [00:26<01:11,  1.98it/s]"
     ]
    },
    {
     "name": "stdout",
     "output_type": "stream",
     "text": [
      "old shape: (40, 720, 1008), new_shape: [  55  742 1039], old_spacing: [np.float64(5.5), np.float64(0.4027777910232544), np.float64(0.4027777910232544)], new_spacing: [3.9999987840652467, 0.3905999958515167, 0.3905999958515167], fn_data: functools.partial(<function resample_data_or_seg_to_shape at 0x7dca2b1daa70>, is_seg=False, order=3, order_z=0, force_separate_z=None)\n"
     ]
    },
    {
     "name": "stderr",
     "output_type": "stream",
     "text": [
      "100%|██████████| 192/192 [01:35<00:00,  2.01it/s]\n"
     ]
    },
    {
     "name": "stdout",
     "output_type": "stream",
     "text": [
      "Input shape: torch.Size([1, 62, 798, 1097])\n",
      "step_size: 0.5\n",
      "mirror_axes: (0, 1, 2)\n",
      "n_steps 192, image size is torch.Size([62, 798, 1097]), tile_size [20, 320, 256], tile_step_size 0.5\n",
      "steps:\n",
      "[[0, 8, 17, 25, 34, 42], [0, 159, 319, 478], [0, 120, 240, 360, 481, 601, 721, 841]]\n",
      "move image to device cuda\n",
      "preallocating results arrays on device cuda\n"
     ]
    },
    {
     "name": "stderr",
     "output_type": "stream",
     "text": [
      "100%|██████████| 192/192 [01:35<00:00,  2.02it/s]\n"
     ]
    },
    {
     "name": "stdout",
     "output_type": "stream",
     "text": [
      "Input shape: torch.Size([1, 62, 798, 1097])\n",
      "step_size: 0.5\n",
      "mirror_axes: (0, 1, 2)\n",
      "n_steps 192, image size is torch.Size([62, 798, 1097]), tile_size [20, 320, 256], tile_step_size 0.5\n",
      "steps:\n",
      "[[0, 8, 17, 25, 34, 42], [0, 159, 319, 478], [0, 120, 240, 360, 481, 601, 721, 841]]\n",
      "move image to device cuda\n",
      "preallocating results arrays on device cuda\n"
     ]
    },
    {
     "name": "stderr",
     "output_type": "stream",
     "text": [
      "100%|██████████| 192/192 [01:35<00:00,  2.00it/s]\n"
     ]
    },
    {
     "name": "stdout",
     "output_type": "stream",
     "text": [
      "Prediction done\n",
      "sending off prediction to background worker for resampling and export\n",
      "done with TCGA-VS-A8Q8\n",
      "\n",
      "Predicting TCGA-VS-A8Q9:\n",
      "perform_everything_on_device: True\n",
      "Input shape: torch.Size([1, 55, 614, 845])\n",
      "step_size: 0.5\n",
      "mirror_axes: (0, 1, 2)\n",
      "n_steps 90, image size is torch.Size([55, 614, 845]), tile_size [20, 320, 256], tile_step_size 0.5\n",
      "steps:\n",
      "[[0, 9, 18, 26, 35], [0, 147, 294], [0, 118, 236, 353, 471, 589]]\n",
      "move image to device cuda\n",
      "preallocating results arrays on device cuda\n"
     ]
    },
    {
     "name": "stderr",
     "output_type": "stream",
     "text": [
      "  1%|          | 1/90 [00:00<00:21,  4.22it/s]"
     ]
    },
    {
     "name": "stdout",
     "output_type": "stream",
     "text": [
      "None\n"
     ]
    },
    {
     "name": "stderr",
     "output_type": "stream",
     "text": [
      " 28%|██▊       | 25/90 [00:12<00:32,  1.97it/s]"
     ]
    },
    {
     "name": "stdout",
     "output_type": "stream",
     "text": [
      "old shape: (40, 636, 879), new_shape: [ 55 666 920], old_spacing: [np.float64(5.5), np.float64(0.4088050425052643), np.float64(0.4088050425052643)], new_spacing: [3.9999987840652467, 0.3905999958515167, 0.3905999958515167], fn_data: functools.partial(<function resample_data_or_seg_to_shape at 0x7b1d57772a70>, is_seg=False, order=3, order_z=0, force_separate_z=None)\n"
     ]
    },
    {
     "name": "stderr",
     "output_type": "stream",
     "text": [
      "100%|██████████| 90/90 [00:45<00:00,  1.99it/s]\n"
     ]
    },
    {
     "name": "stdout",
     "output_type": "stream",
     "text": [
      "Input shape: torch.Size([1, 55, 614, 845])\n",
      "step_size: 0.5\n",
      "mirror_axes: (0, 1, 2)\n",
      "n_steps 90, image size is torch.Size([55, 614, 845]), tile_size [20, 320, 256], tile_step_size 0.5\n",
      "steps:\n",
      "[[0, 9, 18, 26, 35], [0, 147, 294], [0, 118, 236, 353, 471, 589]]\n",
      "move image to device cuda\n",
      "preallocating results arrays on device cuda\n"
     ]
    },
    {
     "name": "stderr",
     "output_type": "stream",
     "text": [
      "100%|██████████| 90/90 [00:43<00:00,  2.09it/s]\n"
     ]
    },
    {
     "name": "stdout",
     "output_type": "stream",
     "text": [
      "Input shape: torch.Size([1, 55, 614, 845])\n",
      "step_size: 0.5\n",
      "mirror_axes: (0, 1, 2)\n",
      "n_steps 90, image size is torch.Size([55, 614, 845]), tile_size [20, 320, 256], tile_step_size 0.5\n",
      "steps:\n",
      "[[0, 9, 18, 26, 35], [0, 147, 294], [0, 118, 236, 353, 471, 589]]\n",
      "move image to device cuda\n",
      "preallocating results arrays on device cuda\n"
     ]
    },
    {
     "name": "stderr",
     "output_type": "stream",
     "text": [
      "100%|██████████| 90/90 [00:44<00:00,  2.00it/s]\n"
     ]
    },
    {
     "name": "stdout",
     "output_type": "stream",
     "text": [
      "Prediction done\n",
      "sending off prediction to background worker for resampling and export\n",
      "done with TCGA-VS-A8Q9\n",
      "\n",
      "Predicting TCGA-VS-A8QA:\n",
      "perform_everything_on_device: True\n",
      "None\n",
      "Input shape: torch.Size([1, 60, 756, 768])\n",
      "step_size: 0.5\n",
      "mirror_axes: (0, 1, 2)\n",
      "n_steps 100, image size is torch.Size([60, 756, 768]), tile_size [20, 320, 256], tile_step_size 0.5\n",
      "steps:\n",
      "[[0, 10, 20, 30, 40], [0, 145, 291, 436], [0, 128, 256, 384, 512]]\n",
      "move image to device cuda\n",
      "preallocating results arrays on device cuda\n"
     ]
    },
    {
     "name": "stderr",
     "output_type": "stream",
     "text": [
      " 38%|███▊      | 38/100 [00:19<00:31,  1.99it/s]"
     ]
    },
    {
     "name": "stdout",
     "output_type": "stream",
     "text": [
      "old shape: (30, 208, 319), new_shape: [ 62 632 970], old_spacing: [np.float64(8.25), np.float64(1.1875), np.float64(1.1875)], new_spacing: [3.9999987840652467, 0.3905999958515167, 0.3905999958515167], fn_data: functools.partial(<function resample_data_or_seg_to_shape at 0x7dca2b1daa70>, is_seg=False, order=3, order_z=0, force_separate_z=None)\n"
     ]
    },
    {
     "name": "stderr",
     "output_type": "stream",
     "text": [
      "100%|██████████| 100/100 [00:50<00:00,  1.97it/s]\n"
     ]
    },
    {
     "name": "stdout",
     "output_type": "stream",
     "text": [
      "Input shape: torch.Size([1, 60, 756, 768])\n",
      "step_size: 0.5\n",
      "mirror_axes: (0, 1, 2)\n",
      "n_steps 100, image size is torch.Size([60, 756, 768]), tile_size [20, 320, 256], tile_step_size 0.5\n",
      "steps:\n",
      "[[0, 10, 20, 30, 40], [0, 145, 291, 436], [0, 128, 256, 384, 512]]\n",
      "move image to device cuda\n",
      "preallocating results arrays on device cuda\n"
     ]
    },
    {
     "name": "stderr",
     "output_type": "stream",
     "text": [
      "100%|██████████| 100/100 [00:47<00:00,  2.11it/s]\n"
     ]
    },
    {
     "name": "stdout",
     "output_type": "stream",
     "text": [
      "Input shape: torch.Size([1, 60, 756, 768])\n",
      "step_size: 0.5\n",
      "mirror_axes: (0, 1, 2)\n",
      "n_steps 100, image size is torch.Size([60, 756, 768]), tile_size [20, 320, 256], tile_step_size 0.5\n",
      "steps:\n",
      "[[0, 10, 20, 30, 40], [0, 145, 291, 436], [0, 128, 256, 384, 512]]\n",
      "move image to device cuda\n",
      "preallocating results arrays on device cuda\n"
     ]
    },
    {
     "name": "stderr",
     "output_type": "stream",
     "text": [
      "100%|██████████| 100/100 [00:51<00:00,  1.93it/s]\n"
     ]
    },
    {
     "name": "stdout",
     "output_type": "stream",
     "text": [
      "Prediction done\n",
      "sending off prediction to background worker for resampling and export\n",
      "done with TCGA-VS-A8QA\n",
      "\n",
      "Predicting TCGA-VS-A8QC:\n",
      "perform_everything_on_device: True\n",
      "Input shape: torch.Size([1, 62, 716, 1097])\n",
      "step_size: 0.5\n",
      "mirror_axes: (0, 1, 2)\n",
      "n_steps 192, image size is torch.Size([62, 716, 1097]), tile_size [20, 320, 256], tile_step_size 0.5\n",
      "steps:\n",
      "[[0, 8, 17, 25, 34, 42], [0, 132, 264, 396], [0, 120, 240, 360, 481, 601, 721, 841]]\n",
      "move image to device cuda\n",
      "preallocating results arrays on device cuda\n"
     ]
    },
    {
     "name": "stderr",
     "output_type": "stream",
     "text": [
      "  0%|          | 0/192 [00:00<?, ?it/s]"
     ]
    },
    {
     "name": "stdout",
     "output_type": "stream",
     "text": [
      "None\n"
     ]
    },
    {
     "name": "stderr",
     "output_type": "stream",
     "text": [
      " 14%|█▍        | 27/192 [00:13<01:25,  1.93it/s]"
     ]
    },
    {
     "name": "stdout",
     "output_type": "stream",
     "text": [
      "old shape: (40, 504, 512), new_shape: [ 60 832 845], old_spacing: [np.float64(5.999989032745361), np.float64(0.6445000171661377), np.float64(0.6445000171661377)], new_spacing: [3.9999987840652467, 0.3905999958515167, 0.3905999958515167], fn_data: functools.partial(<function resample_data_or_seg_to_shape at 0x7b1d57772a70>, is_seg=False, order=3, order_z=0, force_separate_z=None)\n"
     ]
    },
    {
     "name": "stderr",
     "output_type": "stream",
     "text": [
      "100%|██████████| 192/192 [01:35<00:00,  2.01it/s]\n"
     ]
    },
    {
     "name": "stdout",
     "output_type": "stream",
     "text": [
      "Input shape: torch.Size([1, 62, 716, 1097])\n",
      "step_size: 0.5\n",
      "mirror_axes: (0, 1, 2)\n",
      "n_steps 192, image size is torch.Size([62, 716, 1097]), tile_size [20, 320, 256], tile_step_size 0.5\n",
      "steps:\n",
      "[[0, 8, 17, 25, 34, 42], [0, 132, 264, 396], [0, 120, 240, 360, 481, 601, 721, 841]]\n",
      "move image to device cuda\n",
      "preallocating results arrays on device cuda\n"
     ]
    },
    {
     "name": "stderr",
     "output_type": "stream",
     "text": [
      "100%|██████████| 192/192 [01:35<00:00,  2.02it/s]\n"
     ]
    },
    {
     "name": "stdout",
     "output_type": "stream",
     "text": [
      "Input shape: torch.Size([1, 62, 716, 1097])\n",
      "step_size: 0.5\n",
      "mirror_axes: (0, 1, 2)\n",
      "n_steps 192, image size is torch.Size([62, 716, 1097]), tile_size [20, 320, 256], tile_step_size 0.5\n",
      "steps:\n",
      "[[0, 8, 17, 25, 34, 42], [0, 132, 264, 396], [0, 120, 240, 360, 481, 601, 721, 841]]\n",
      "move image to device cuda\n",
      "preallocating results arrays on device cuda\n"
     ]
    },
    {
     "name": "stderr",
     "output_type": "stream",
     "text": [
      "100%|██████████| 192/192 [01:45<00:00,  1.81it/s]\n"
     ]
    },
    {
     "name": "stdout",
     "output_type": "stream",
     "text": [
      "Prediction done\n",
      "sending off prediction to background worker for resampling and export\n",
      "done with TCGA-VS-A8QC\n",
      "\n",
      "Predicting TCGA-VS-A8QF:\n",
      "perform_everything_on_device: True\n",
      "Input shape: torch.Size([1, 55, 742, 1039])\n",
      "step_size: 0.5\n",
      "mirror_axes: (0, 1, 2)\n",
      "n_steps 160, image size is torch.Size([55, 742, 1039]), tile_size [20, 320, 256], tile_step_size 0.5\n",
      "steps:\n",
      "[[0, 9, 18, 26, 35], [0, 141, 281, 422], [0, 112, 224, 336, 447, 559, 671, 783]]\n",
      "move image to device cuda\n",
      "preallocating results arrays on device cuda\n"
     ]
    },
    {
     "name": "stderr",
     "output_type": "stream",
     "text": [
      "  1%|          | 1/160 [00:00<00:37,  4.21it/s]"
     ]
    },
    {
     "name": "stdout",
     "output_type": "stream",
     "text": [
      "None\n"
     ]
    },
    {
     "name": "stderr",
     "output_type": "stream",
     "text": [
      " 11%|█▏        | 18/160 [00:09<01:22,  1.73it/s]"
     ]
    },
    {
     "name": "stdout",
     "output_type": "stream",
     "text": [
      "old shape: (40, 556, 762), new_shape: [ 55 563 772], old_spacing: [np.float64(5.5), np.float64(0.3956834673881531), np.float64(0.3956834673881531)], new_spacing: [3.9999987840652467, 0.3905999958515167, 0.3905999958515167], fn_data: functools.partial(<function resample_data_or_seg_to_shape at 0x7dca2b1daa70>, is_seg=False, order=3, order_z=0, force_separate_z=None)\n"
     ]
    },
    {
     "name": "stderr",
     "output_type": "stream",
     "text": [
      "100%|██████████| 160/160 [01:24<00:00,  1.89it/s]\n"
     ]
    },
    {
     "name": "stdout",
     "output_type": "stream",
     "text": [
      "Input shape: torch.Size([1, 55, 742, 1039])\n",
      "step_size: 0.5\n",
      "mirror_axes: (0, 1, 2)\n",
      "n_steps 160, image size is torch.Size([55, 742, 1039]), tile_size [20, 320, 256], tile_step_size 0.5\n",
      "steps:\n",
      "[[0, 9, 18, 26, 35], [0, 141, 281, 422], [0, 112, 224, 336, 447, 559, 671, 783]]\n",
      "move image to device cuda\n",
      "preallocating results arrays on device cuda\n"
     ]
    },
    {
     "name": "stderr",
     "output_type": "stream",
     "text": [
      "100%|██████████| 160/160 [01:29<00:00,  1.78it/s]\n"
     ]
    },
    {
     "name": "stdout",
     "output_type": "stream",
     "text": [
      "Input shape: torch.Size([1, 55, 742, 1039])\n",
      "step_size: 0.5\n",
      "mirror_axes: (0, 1, 2)\n",
      "n_steps 160, image size is torch.Size([55, 742, 1039]), tile_size [20, 320, 256], tile_step_size 0.5\n",
      "steps:\n",
      "[[0, 9, 18, 26, 35], [0, 141, 281, 422], [0, 112, 224, 336, 447, 559, 671, 783]]\n",
      "move image to device cuda\n",
      "preallocating results arrays on device cuda\n"
     ]
    },
    {
     "name": "stderr",
     "output_type": "stream",
     "text": [
      "100%|██████████| 160/160 [01:26<00:00,  1.85it/s]\n"
     ]
    },
    {
     "name": "stdout",
     "output_type": "stream",
     "text": [
      "Prediction done\n",
      "sending off prediction to background worker for resampling and export\n",
      "done with TCGA-VS-A8QF\n",
      "\n",
      "Predicting TCGA-VS-A8QH:\n",
      "perform_everything_on_device: True\n",
      "Input shape: torch.Size([1, 55, 666, 920])\n",
      "step_size: 0.5\n",
      "mirror_axes: (0, 1, 2)\n",
      "n_steps 140, image size is torch.Size([55, 666, 920]), tile_size [20, 320, 256], tile_step_size 0.5\n",
      "steps:\n",
      "[[0, 9, 18, 26, 35], [0, 115, 231, 346], [0, 111, 221, 332, 443, 553, 664]]\n",
      "move image to device cuda\n",
      "preallocating results arrays on device cuda\n"
     ]
    },
    {
     "name": "stderr",
     "output_type": "stream",
     "text": [
      "  1%|          | 1/140 [00:00<00:37,  3.73it/s]"
     ]
    },
    {
     "name": "stdout",
     "output_type": "stream",
     "text": [
      "None\n"
     ]
    },
    {
     "name": "stderr",
     "output_type": "stream",
     "text": [
      " 11%|█         | 15/140 [00:08<01:20,  1.54it/s]"
     ]
    },
    {
     "name": "stdout",
     "output_type": "stream",
     "text": [
      "old shape: (40, 512, 704), new_shape: [ 55 538 739], old_spacing: [np.float64(5.5), np.float64(0.41015625), np.float64(0.41015625)], new_spacing: [3.9999987840652467, 0.3905999958515167, 0.3905999958515167], fn_data: functools.partial(<function resample_data_or_seg_to_shape at 0x7b1d57772a70>, is_seg=False, order=3, order_z=0, force_separate_z=None)\n"
     ]
    },
    {
     "name": "stderr",
     "output_type": "stream",
     "text": [
      "100%|██████████| 140/140 [01:17<00:00,  1.81it/s]\n"
     ]
    },
    {
     "name": "stdout",
     "output_type": "stream",
     "text": [
      "Input shape: torch.Size([1, 55, 666, 920])\n",
      "step_size: 0.5\n",
      "mirror_axes: (0, 1, 2)\n",
      "n_steps 140, image size is torch.Size([55, 666, 920]), tile_size [20, 320, 256], tile_step_size 0.5\n",
      "steps:\n",
      "[[0, 9, 18, 26, 35], [0, 115, 231, 346], [0, 111, 221, 332, 443, 553, 664]]\n",
      "move image to device cuda\n",
      "preallocating results arrays on device cuda\n"
     ]
    },
    {
     "name": "stderr",
     "output_type": "stream",
     "text": [
      "100%|██████████| 140/140 [01:15<00:00,  1.85it/s]\n"
     ]
    },
    {
     "name": "stdout",
     "output_type": "stream",
     "text": [
      "Input shape: torch.Size([1, 55, 666, 920])\n",
      "step_size: 0.5\n",
      "mirror_axes: (0, 1, 2)\n",
      "n_steps 140, image size is torch.Size([55, 666, 920]), tile_size [20, 320, 256], tile_step_size 0.5\n",
      "steps:\n",
      "[[0, 9, 18, 26, 35], [0, 115, 231, 346], [0, 111, 221, 332, 443, 553, 664]]\n",
      "move image to device cuda\n",
      "preallocating results arrays on device cuda\n"
     ]
    },
    {
     "name": "stderr",
     "output_type": "stream",
     "text": [
      "100%|██████████| 140/140 [01:14<00:00,  1.87it/s]\n"
     ]
    },
    {
     "name": "stdout",
     "output_type": "stream",
     "text": [
      "Prediction done\n",
      "sending off prediction to background worker for resampling and export\n",
      "done with TCGA-VS-A8QH\n",
      "\n",
      "Predicting TCGA-VS-A8QM:\n",
      "perform_everything_on_device: True\n",
      "Input shape: torch.Size([1, 62, 632, 970])\n",
      "step_size: 0.5\n",
      "mirror_axes: (0, 1, 2)\n",
      "n_steps 126, image size is torch.Size([62, 632, 970]), tile_size [20, 320, 256], tile_step_size 0.5\n",
      "steps:\n",
      "[[0, 8, 17, 25, 34, 42], [0, 156, 312], [0, 119, 238, 357, 476, 595, 714]]\n",
      "move image to device cuda\n",
      "preallocating results arrays on device cuda\n"
     ]
    },
    {
     "name": "stderr",
     "output_type": "stream",
     "text": [
      "  0%|          | 0/126 [00:00<?, ?it/s]"
     ]
    },
    {
     "name": "stdout",
     "output_type": "stream",
     "text": [
      "None\n"
     ]
    },
    {
     "name": "stderr",
     "output_type": "stream",
     "text": [
      " 18%|█▊        | 23/126 [00:12<00:55,  1.87it/s]"
     ]
    },
    {
     "name": "stdout",
     "output_type": "stream",
     "text": [
      "old shape: (35, 501, 512), new_shape: [ 52 827 845], old_spacing: [np.float64(5.999989032745361), np.float64(0.6445000171661377), np.float64(0.6445000171661377)], new_spacing: [3.9999987840652467, 0.3905999958515167, 0.3905999958515167], fn_data: functools.partial(<function resample_data_or_seg_to_shape at 0x7dca2b1daa70>, is_seg=False, order=3, order_z=0, force_separate_z=None)\n"
     ]
    },
    {
     "name": "stderr",
     "output_type": "stream",
     "text": [
      "100%|██████████| 126/126 [01:07<00:00,  1.87it/s]\n"
     ]
    },
    {
     "name": "stdout",
     "output_type": "stream",
     "text": [
      "Input shape: torch.Size([1, 62, 632, 970])\n",
      "step_size: 0.5\n",
      "mirror_axes: (0, 1, 2)\n",
      "n_steps 126, image size is torch.Size([62, 632, 970]), tile_size [20, 320, 256], tile_step_size 0.5\n",
      "steps:\n",
      "[[0, 8, 17, 25, 34, 42], [0, 156, 312], [0, 119, 238, 357, 476, 595, 714]]\n",
      "move image to device cuda\n",
      "preallocating results arrays on device cuda\n"
     ]
    },
    {
     "name": "stderr",
     "output_type": "stream",
     "text": [
      "100%|██████████| 126/126 [01:12<00:00,  1.74it/s]\n"
     ]
    },
    {
     "name": "stdout",
     "output_type": "stream",
     "text": [
      "Input shape: torch.Size([1, 62, 632, 970])\n",
      "step_size: 0.5\n",
      "mirror_axes: (0, 1, 2)\n",
      "n_steps 126, image size is torch.Size([62, 632, 970]), tile_size [20, 320, 256], tile_step_size 0.5\n",
      "steps:\n",
      "[[0, 8, 17, 25, 34, 42], [0, 156, 312], [0, 119, 238, 357, 476, 595, 714]]\n",
      "move image to device cuda\n",
      "preallocating results arrays on device cuda\n"
     ]
    },
    {
     "name": "stderr",
     "output_type": "stream",
     "text": [
      "100%|██████████| 126/126 [01:08<00:00,  1.85it/s]\n"
     ]
    },
    {
     "name": "stdout",
     "output_type": "stream",
     "text": [
      "Prediction done\n",
      "sending off prediction to background worker for resampling and export\n",
      "done with TCGA-VS-A8QM\n",
      "\n",
      "Predicting TCGA-VS-A94W:\n",
      "perform_everything_on_device: True\n",
      "Input shape: torch.Size([1, 60, 832, 845])\n",
      "step_size: 0.5\n",
      "mirror_axes: (0, 1, 2)\n",
      "n_steps 150, image size is torch.Size([60, 832, 845]), tile_size [20, 320, 256], tile_step_size 0.5\n",
      "steps:\n",
      "[[0, 10, 20, 30, 40], [0, 128, 256, 384, 512], [0, 118, 236, 353, 471, 589]]\n",
      "move image to device cuda\n",
      "preallocating results arrays on device cuda\n"
     ]
    },
    {
     "name": "stderr",
     "output_type": "stream",
     "text": [
      "  1%|          | 1/150 [00:00<00:36,  4.10it/s]"
     ]
    },
    {
     "name": "stdout",
     "output_type": "stream",
     "text": [
      "None\n"
     ]
    },
    {
     "name": "stderr",
     "output_type": "stream",
     "text": [
      " 12%|█▏        | 18/150 [00:09<01:15,  1.75it/s]"
     ]
    },
    {
     "name": "stdout",
     "output_type": "stream",
     "text": [
      "old shape: (35, 624, 864), new_shape: [ 48 614 851], old_spacing: [np.float64(5.5), np.float64(0.38461539149284363), np.float64(0.38461539149284363)], new_spacing: [3.9999987840652467, 0.3905999958515167, 0.3905999958515167], fn_data: functools.partial(<function resample_data_or_seg_to_shape at 0x7b1d57772a70>, is_seg=False, order=3, order_z=0, force_separate_z=None)\n"
     ]
    },
    {
     "name": "stderr",
     "output_type": "stream",
     "text": [
      "100%|██████████| 150/150 [01:17<00:00,  1.95it/s]\n"
     ]
    },
    {
     "name": "stdout",
     "output_type": "stream",
     "text": [
      "Input shape: torch.Size([1, 60, 832, 845])\n",
      "step_size: 0.5\n",
      "mirror_axes: (0, 1, 2)\n",
      "n_steps 150, image size is torch.Size([60, 832, 845]), tile_size [20, 320, 256], tile_step_size 0.5\n",
      "steps:\n",
      "[[0, 10, 20, 30, 40], [0, 128, 256, 384, 512], [0, 118, 236, 353, 471, 589]]\n",
      "move image to device cuda\n",
      "preallocating results arrays on device cuda\n"
     ]
    },
    {
     "name": "stderr",
     "output_type": "stream",
     "text": [
      "100%|██████████| 150/150 [01:21<00:00,  1.84it/s]\n"
     ]
    },
    {
     "name": "stdout",
     "output_type": "stream",
     "text": [
      "Input shape: torch.Size([1, 60, 832, 845])\n",
      "step_size: 0.5\n",
      "mirror_axes: (0, 1, 2)\n",
      "n_steps 150, image size is torch.Size([60, 832, 845]), tile_size [20, 320, 256], tile_step_size 0.5\n",
      "steps:\n",
      "[[0, 10, 20, 30, 40], [0, 128, 256, 384, 512], [0, 118, 236, 353, 471, 589]]\n",
      "move image to device cuda\n",
      "preallocating results arrays on device cuda\n"
     ]
    },
    {
     "name": "stderr",
     "output_type": "stream",
     "text": [
      "100%|██████████| 150/150 [01:21<00:00,  1.84it/s]\n"
     ]
    },
    {
     "name": "stdout",
     "output_type": "stream",
     "text": [
      "Prediction done\n",
      "sending off prediction to background worker for resampling and export\n",
      "done with TCGA-VS-A94W\n",
      "\n",
      "Predicting TCGA-VS-A94X:\n",
      "perform_everything_on_device: True\n",
      "Input shape: torch.Size([1, 55, 563, 772])\n",
      "step_size: 0.5\n",
      "mirror_axes: (0, 1, 2)\n",
      "n_steps 90, image size is torch.Size([55, 563, 772]), tile_size [20, 320, 256], tile_step_size 0.5\n",
      "steps:\n",
      "[[0, 9, 18, 26, 35], [0, 122, 243], [0, 103, 206, 310, 413, 516]]\n",
      "move image to device cuda\n",
      "preallocating results arrays on device cuda\n"
     ]
    },
    {
     "name": "stderr",
     "output_type": "stream",
     "text": [
      "  1%|          | 1/90 [00:00<00:22,  4.04it/s]"
     ]
    },
    {
     "name": "stdout",
     "output_type": "stream",
     "text": [
      "None\n"
     ]
    },
    {
     "name": "stderr",
     "output_type": "stream",
     "text": [
      " 24%|██▍       | 22/90 [00:11<00:37,  1.80it/s]"
     ]
    },
    {
     "name": "stdout",
     "output_type": "stream",
     "text": [
      "old shape: (40, 624, 859), new_shape: [ 55 614 846], old_spacing: [np.float64(5.5), np.float64(0.38461539149284363), np.float64(0.38461539149284363)], new_spacing: [3.9999987840652467, 0.3905999958515167, 0.3905999958515167], fn_data: functools.partial(<function resample_data_or_seg_to_shape at 0x7dca2b1daa70>, is_seg=False, order=3, order_z=0, force_separate_z=None)\n"
     ]
    },
    {
     "name": "stderr",
     "output_type": "stream",
     "text": [
      "100%|██████████| 90/90 [00:49<00:00,  1.82it/s]\n"
     ]
    },
    {
     "name": "stdout",
     "output_type": "stream",
     "text": [
      "Input shape: torch.Size([1, 55, 563, 772])\n",
      "step_size: 0.5\n",
      "mirror_axes: (0, 1, 2)\n",
      "n_steps 90, image size is torch.Size([55, 563, 772]), tile_size [20, 320, 256], tile_step_size 0.5\n",
      "steps:\n",
      "[[0, 9, 18, 26, 35], [0, 122, 243], [0, 103, 206, 310, 413, 516]]\n",
      "move image to device cuda\n",
      "preallocating results arrays on device cuda\n"
     ]
    },
    {
     "name": "stderr",
     "output_type": "stream",
     "text": [
      "100%|██████████| 90/90 [00:48<00:00,  1.87it/s]\n"
     ]
    },
    {
     "name": "stdout",
     "output_type": "stream",
     "text": [
      "Input shape: torch.Size([1, 55, 563, 772])\n",
      "step_size: 0.5\n",
      "mirror_axes: (0, 1, 2)\n",
      "n_steps 90, image size is torch.Size([55, 563, 772]), tile_size [20, 320, 256], tile_step_size 0.5\n",
      "steps:\n",
      "[[0, 9, 18, 26, 35], [0, 122, 243], [0, 103, 206, 310, 413, 516]]\n",
      "move image to device cuda\n",
      "preallocating results arrays on device cuda\n"
     ]
    },
    {
     "name": "stderr",
     "output_type": "stream",
     "text": [
      "100%|██████████| 90/90 [00:49<00:00,  1.82it/s]\n"
     ]
    },
    {
     "name": "stdout",
     "output_type": "stream",
     "text": [
      "Prediction done\n",
      "sending off prediction to background worker for resampling and export\n",
      "done with TCGA-VS-A94X\n",
      "\n",
      "Predicting TCGA-VS-A94Y:\n",
      "perform_everything_on_device: True\n",
      "Input shape: torch.Size([1, 55, 538, 739])\n",
      "step_size: 0.5\n",
      "mirror_axes: (0, 1, 2)\n",
      "n_steps 75, image size is torch.Size([55, 538, 739]), tile_size [20, 320, 256], tile_step_size 0.5\n",
      "steps:\n",
      "[[0, 9, 18, 26, 35], [0, 109, 218], [0, 121, 242, 362, 483]]\n",
      "move image to device cuda\n",
      "preallocating results arrays on device cuda\n"
     ]
    },
    {
     "name": "stderr",
     "output_type": "stream",
     "text": [
      "  3%|▎         | 2/75 [00:00<00:27,  2.62it/s]"
     ]
    },
    {
     "name": "stdout",
     "output_type": "stream",
     "text": [
      "None\n"
     ]
    },
    {
     "name": "stderr",
     "output_type": "stream",
     "text": [
      " 31%|███       | 23/75 [00:11<00:30,  1.69it/s]"
     ]
    },
    {
     "name": "stdout",
     "output_type": "stream",
     "text": [
      "old shape: (40, 624, 857), new_shape: [ 55 614 844], old_spacing: [np.float64(5.5), np.float64(0.38461539149284363), np.float64(0.38461539149284363)], new_spacing: [3.9999987840652467, 0.3905999958515167, 0.3905999958515167], fn_data: functools.partial(<function resample_data_or_seg_to_shape at 0x7b1d57772a70>, is_seg=False, order=3, order_z=0, force_separate_z=None)\n"
     ]
    },
    {
     "name": "stderr",
     "output_type": "stream",
     "text": [
      "100%|██████████| 75/75 [00:40<00:00,  1.86it/s]\n"
     ]
    },
    {
     "name": "stdout",
     "output_type": "stream",
     "text": [
      "Input shape: torch.Size([1, 55, 538, 739])\n",
      "step_size: 0.5\n",
      "mirror_axes: (0, 1, 2)\n",
      "n_steps 75, image size is torch.Size([55, 538, 739]), tile_size [20, 320, 256], tile_step_size 0.5\n",
      "steps:\n",
      "[[0, 9, 18, 26, 35], [0, 109, 218], [0, 121, 242, 362, 483]]\n",
      "move image to device cuda\n",
      "preallocating results arrays on device cuda\n"
     ]
    },
    {
     "name": "stderr",
     "output_type": "stream",
     "text": [
      "100%|██████████| 75/75 [00:41<00:00,  1.80it/s]\n"
     ]
    },
    {
     "name": "stdout",
     "output_type": "stream",
     "text": [
      "Input shape: torch.Size([1, 55, 538, 739])\n",
      "step_size: 0.5\n",
      "mirror_axes: (0, 1, 2)\n",
      "n_steps 75, image size is torch.Size([55, 538, 739]), tile_size [20, 320, 256], tile_step_size 0.5\n",
      "steps:\n",
      "[[0, 9, 18, 26, 35], [0, 109, 218], [0, 121, 242, 362, 483]]\n",
      "move image to device cuda\n",
      "preallocating results arrays on device cuda\n"
     ]
    },
    {
     "name": "stderr",
     "output_type": "stream",
     "text": [
      "100%|██████████| 75/75 [00:39<00:00,  1.90it/s]\n"
     ]
    },
    {
     "name": "stdout",
     "output_type": "stream",
     "text": [
      "Prediction done\n",
      "sending off prediction to background worker for resampling and export\n",
      "done with TCGA-VS-A94Y\n",
      "\n",
      "Predicting TCGA-VS-A94Z:\n",
      "perform_everything_on_device: True\n",
      "Input shape: torch.Size([1, 52, 827, 845])\n",
      "step_size: 0.5\n",
      "mirror_axes: (0, 1, 2)\n",
      "n_steps 150, image size is torch.Size([52, 827, 845]), tile_size [20, 320, 256], tile_step_size 0.5\n",
      "steps:\n",
      "[[0, 8, 16, 24, 32], [0, 127, 254, 380, 507], [0, 118, 236, 353, 471, 589]]\n",
      "move image to device cuda\n",
      "preallocating results arrays on device cuda\n"
     ]
    },
    {
     "name": "stderr",
     "output_type": "stream",
     "text": [
      "  1%|          | 1/150 [00:00<00:37,  3.96it/s]"
     ]
    },
    {
     "name": "stdout",
     "output_type": "stream",
     "text": [
      "None\n"
     ]
    },
    {
     "name": "stderr",
     "output_type": "stream",
     "text": [
      " 13%|█▎        | 20/150 [00:11<01:12,  1.79it/s]"
     ]
    },
    {
     "name": "stdout",
     "output_type": "stream",
     "text": [
      "old shape: (40, 624, 859), new_shape: [ 55 614 846], old_spacing: [np.float64(5.5), np.float64(0.38461539149284363), np.float64(0.38461539149284363)], new_spacing: [3.9999987840652467, 0.3905999958515167, 0.3905999958515167], fn_data: functools.partial(<function resample_data_or_seg_to_shape at 0x7dca2b1daa70>, is_seg=False, order=3, order_z=0, force_separate_z=None)\n"
     ]
    },
    {
     "name": "stderr",
     "output_type": "stream",
     "text": [
      "100%|██████████| 150/150 [01:22<00:00,  1.82it/s]\n"
     ]
    },
    {
     "name": "stdout",
     "output_type": "stream",
     "text": [
      "Input shape: torch.Size([1, 52, 827, 845])\n",
      "step_size: 0.5\n",
      "mirror_axes: (0, 1, 2)\n",
      "n_steps 150, image size is torch.Size([52, 827, 845]), tile_size [20, 320, 256], tile_step_size 0.5\n",
      "steps:\n",
      "[[0, 8, 16, 24, 32], [0, 127, 254, 380, 507], [0, 118, 236, 353, 471, 589]]\n",
      "move image to device cuda\n",
      "preallocating results arrays on device cuda\n"
     ]
    },
    {
     "name": "stderr",
     "output_type": "stream",
     "text": [
      "100%|██████████| 150/150 [01:21<00:00,  1.84it/s]\n"
     ]
    },
    {
     "name": "stdout",
     "output_type": "stream",
     "text": [
      "Input shape: torch.Size([1, 52, 827, 845])\n",
      "step_size: 0.5\n",
      "mirror_axes: (0, 1, 2)\n",
      "n_steps 150, image size is torch.Size([52, 827, 845]), tile_size [20, 320, 256], tile_step_size 0.5\n",
      "steps:\n",
      "[[0, 8, 16, 24, 32], [0, 127, 254, 380, 507], [0, 118, 236, 353, 471, 589]]\n",
      "move image to device cuda\n",
      "preallocating results arrays on device cuda\n"
     ]
    },
    {
     "name": "stderr",
     "output_type": "stream",
     "text": [
      "100%|██████████| 150/150 [01:22<00:00,  1.82it/s]\n"
     ]
    },
    {
     "name": "stdout",
     "output_type": "stream",
     "text": [
      "Prediction done\n",
      "sending off prediction to background worker for resampling and export\n",
      "done with TCGA-VS-A94Z\n",
      "\n",
      "Predicting TCGA-VS-A950:\n",
      "perform_everything_on_device: True\n",
      "Input shape: torch.Size([1, 48, 614, 851])\n",
      "step_size: 0.5\n",
      "mirror_axes: (0, 1, 2)\n",
      "n_steps 72, image size is torch.Size([48, 614, 851]), tile_size [20, 320, 256], tile_step_size 0.5\n",
      "steps:\n",
      "[[0, 9, 19, 28], [0, 147, 294], [0, 119, 238, 357, 476, 595]]\n",
      "move image to device cuda\n",
      "preallocating results arrays on device cuda\n"
     ]
    },
    {
     "name": "stderr",
     "output_type": "stream",
     "text": [
      "  0%|          | 0/72 [00:00<?, ?it/s]"
     ]
    },
    {
     "name": "stdout",
     "output_type": "stream",
     "text": [
      "None\n"
     ]
    },
    {
     "name": "stderr",
     "output_type": "stream",
     "text": [
      " 47%|████▋     | 34/72 [00:16<00:19,  1.95it/s]"
     ]
    },
    {
     "name": "stdout",
     "output_type": "stream",
     "text": [
      "old shape: (40, 512, 504), new_shape: [ 60 922 907], old_spacing: [np.float64(6.000002384185791), np.float64(0.7031000256538391), np.float64(0.7031000256538391)], new_spacing: [3.9999987840652467, 0.3905999958515167, 0.3905999958515167], fn_data: functools.partial(<function resample_data_or_seg_to_shape at 0x7b1d57772a70>, is_seg=False, order=3, order_z=0, force_separate_z=None)\n"
     ]
    },
    {
     "name": "stderr",
     "output_type": "stream",
     "text": [
      "100%|██████████| 72/72 [00:37<00:00,  1.94it/s]\n"
     ]
    },
    {
     "name": "stdout",
     "output_type": "stream",
     "text": [
      "Input shape: torch.Size([1, 48, 614, 851])\n",
      "step_size: 0.5\n",
      "mirror_axes: (0, 1, 2)\n",
      "n_steps 72, image size is torch.Size([48, 614, 851]), tile_size [20, 320, 256], tile_step_size 0.5\n",
      "steps:\n",
      "[[0, 9, 19, 28], [0, 147, 294], [0, 119, 238, 357, 476, 595]]\n",
      "move image to device cuda\n",
      "preallocating results arrays on device cuda\n"
     ]
    },
    {
     "name": "stderr",
     "output_type": "stream",
     "text": [
      "100%|██████████| 72/72 [00:40<00:00,  1.78it/s]\n"
     ]
    },
    {
     "name": "stdout",
     "output_type": "stream",
     "text": [
      "Input shape: torch.Size([1, 48, 614, 851])\n",
      "step_size: 0.5\n",
      "mirror_axes: (0, 1, 2)\n",
      "n_steps 72, image size is torch.Size([48, 614, 851]), tile_size [20, 320, 256], tile_step_size 0.5\n",
      "steps:\n",
      "[[0, 9, 19, 28], [0, 147, 294], [0, 119, 238, 357, 476, 595]]\n",
      "move image to device cuda\n",
      "preallocating results arrays on device cuda\n"
     ]
    },
    {
     "name": "stderr",
     "output_type": "stream",
     "text": [
      "100%|██████████| 72/72 [00:39<00:00,  1.81it/s]\n"
     ]
    },
    {
     "name": "stdout",
     "output_type": "stream",
     "text": [
      "Prediction done\n",
      "sending off prediction to background worker for resampling and export\n",
      "done with TCGA-VS-A950\n",
      "\n",
      "Predicting TCGA-VS-A952:\n",
      "perform_everything_on_device: True\n",
      "Input shape: torch.Size([1, 55, 614, 846])\n",
      "step_size: 0.5\n",
      "mirror_axes: (0, 1, 2)\n",
      "n_steps 90, image size is torch.Size([55, 614, 846]), tile_size [20, 320, 256], tile_step_size 0.5\n",
      "steps:\n",
      "[[0, 9, 18, 26, 35], [0, 147, 294], [0, 118, 236, 354, 472, 590]]\n",
      "move image to device cuda\n",
      "preallocating results arrays on device cuda\n"
     ]
    },
    {
     "name": "stderr",
     "output_type": "stream",
     "text": [
      "  0%|          | 0/90 [00:00<?, ?it/s]"
     ]
    },
    {
     "name": "stdout",
     "output_type": "stream",
     "text": [
      "None\n"
     ]
    },
    {
     "name": "stderr",
     "output_type": "stream",
     "text": [
      " 34%|███▍      | 31/90 [00:16<00:35,  1.65it/s]"
     ]
    },
    {
     "name": "stdout",
     "output_type": "stream",
     "text": [
      "old shape: (40, 512, 510), new_shape: [ 60 871 867], old_spacing: [np.float64(6.000003814697266), np.float64(0.6640999913215637), np.float64(0.6640999913215637)], new_spacing: [3.9999987840652467, 0.3905999958515167, 0.3905999958515167], fn_data: functools.partial(<function resample_data_or_seg_to_shape at 0x7dca2b1daa70>, is_seg=False, order=3, order_z=0, force_separate_z=None)\n"
     ]
    },
    {
     "name": "stderr",
     "output_type": "stream",
     "text": [
      "100%|██████████| 90/90 [00:48<00:00,  1.85it/s]\n"
     ]
    },
    {
     "name": "stdout",
     "output_type": "stream",
     "text": [
      "Input shape: torch.Size([1, 55, 614, 846])\n",
      "step_size: 0.5\n",
      "mirror_axes: (0, 1, 2)\n",
      "n_steps 90, image size is torch.Size([55, 614, 846]), tile_size [20, 320, 256], tile_step_size 0.5\n",
      "steps:\n",
      "[[0, 9, 18, 26, 35], [0, 147, 294], [0, 118, 236, 354, 472, 590]]\n",
      "move image to device cuda\n",
      "preallocating results arrays on device cuda\n"
     ]
    },
    {
     "name": "stderr",
     "output_type": "stream",
     "text": [
      "100%|██████████| 90/90 [00:49<00:00,  1.82it/s]\n"
     ]
    },
    {
     "name": "stdout",
     "output_type": "stream",
     "text": [
      "Input shape: torch.Size([1, 55, 614, 846])\n",
      "step_size: 0.5\n",
      "mirror_axes: (0, 1, 2)\n",
      "n_steps 90, image size is torch.Size([55, 614, 846]), tile_size [20, 320, 256], tile_step_size 0.5\n",
      "steps:\n",
      "[[0, 9, 18, 26, 35], [0, 147, 294], [0, 118, 236, 354, 472, 590]]\n",
      "move image to device cuda\n",
      "preallocating results arrays on device cuda\n"
     ]
    },
    {
     "name": "stderr",
     "output_type": "stream",
     "text": [
      "100%|██████████| 90/90 [00:48<00:00,  1.87it/s]\n"
     ]
    },
    {
     "name": "stdout",
     "output_type": "stream",
     "text": [
      "Prediction done\n",
      "sending off prediction to background worker for resampling and export\n",
      "done with TCGA-VS-A952\n",
      "\n",
      "Predicting TCGA-VS-A953:\n",
      "perform_everything_on_device: True\n",
      "Input shape: torch.Size([1, 55, 614, 844])\n",
      "step_size: 0.5\n",
      "mirror_axes: (0, 1, 2)\n",
      "n_steps 90, image size is torch.Size([55, 614, 844]), tile_size [20, 320, 256], tile_step_size 0.5\n",
      "steps:\n",
      "[[0, 9, 18, 26, 35], [0, 147, 294], [0, 118, 235, 353, 470, 588]]\n",
      "move image to device cuda\n",
      "preallocating results arrays on device cuda\n"
     ]
    },
    {
     "name": "stderr",
     "output_type": "stream",
     "text": [
      "  1%|          | 1/90 [00:00<00:19,  4.45it/s]"
     ]
    },
    {
     "name": "stdout",
     "output_type": "stream",
     "text": [
      "None\n"
     ]
    },
    {
     "name": "stderr",
     "output_type": "stream",
     "text": [
      " 27%|██▋       | 24/90 [00:12<00:36,  1.81it/s]"
     ]
    },
    {
     "name": "stdout",
     "output_type": "stream",
     "text": [
      "old shape: (40, 636, 870), new_shape: [ 55 666 911], old_spacing: [np.float64(5.5), np.float64(0.4088050425052643), np.float64(0.4088050425052643)], new_spacing: [3.9999987840652467, 0.3905999958515167, 0.3905999958515167], fn_data: functools.partial(<function resample_data_or_seg_to_shape at 0x7b1d57772a70>, is_seg=False, order=3, order_z=0, force_separate_z=None)\n"
     ]
    },
    {
     "name": "stderr",
     "output_type": "stream",
     "text": [
      "100%|██████████| 90/90 [00:49<00:00,  1.83it/s]\n"
     ]
    },
    {
     "name": "stdout",
     "output_type": "stream",
     "text": [
      "Input shape: torch.Size([1, 55, 614, 844])\n",
      "step_size: 0.5\n",
      "mirror_axes: (0, 1, 2)\n",
      "n_steps 90, image size is torch.Size([55, 614, 844]), tile_size [20, 320, 256], tile_step_size 0.5\n",
      "steps:\n",
      "[[0, 9, 18, 26, 35], [0, 147, 294], [0, 118, 235, 353, 470, 588]]\n",
      "move image to device cuda\n",
      "preallocating results arrays on device cuda\n"
     ]
    },
    {
     "name": "stderr",
     "output_type": "stream",
     "text": [
      "100%|██████████| 90/90 [00:49<00:00,  1.81it/s]\n"
     ]
    },
    {
     "name": "stdout",
     "output_type": "stream",
     "text": [
      "Input shape: torch.Size([1, 55, 614, 844])\n",
      "step_size: 0.5\n",
      "mirror_axes: (0, 1, 2)\n",
      "n_steps 90, image size is torch.Size([55, 614, 844]), tile_size [20, 320, 256], tile_step_size 0.5\n",
      "steps:\n",
      "[[0, 9, 18, 26, 35], [0, 147, 294], [0, 118, 235, 353, 470, 588]]\n",
      "move image to device cuda\n",
      "preallocating results arrays on device cuda\n"
     ]
    },
    {
     "name": "stderr",
     "output_type": "stream",
     "text": [
      "100%|██████████| 90/90 [00:50<00:00,  1.79it/s]\n"
     ]
    },
    {
     "name": "stdout",
     "output_type": "stream",
     "text": [
      "Prediction done\n",
      "sending off prediction to background worker for resampling and export\n",
      "done with TCGA-VS-A953\n",
      "\n",
      "Predicting TCGA-VS-A954:\n",
      "perform_everything_on_device: True\n",
      "Input shape: torch.Size([1, 55, 614, 846])\n",
      "step_size: 0.5\n",
      "mirror_axes: (0, 1, 2)\n",
      "n_steps 90, image size is torch.Size([55, 614, 846]), tile_size [20, 320, 256], tile_step_size 0.5\n",
      "steps:\n",
      "[[0, 9, 18, 26, 35], [0, 147, 294], [0, 118, 236, 354, 472, 590]]\n",
      "move image to device cuda\n",
      "preallocating results arrays on device cuda\n"
     ]
    },
    {
     "name": "stderr",
     "output_type": "stream",
     "text": [
      "  0%|          | 0/90 [00:00<?, ?it/s]"
     ]
    },
    {
     "name": "stdout",
     "output_type": "stream",
     "text": [
      "None\n"
     ]
    },
    {
     "name": "stderr",
     "output_type": "stream",
     "text": [
      " 23%|██▎       | 21/90 [00:11<00:39,  1.76it/s]"
     ]
    },
    {
     "name": "stdout",
     "output_type": "stream",
     "text": [
      "old shape: (40, 504, 512), new_shape: [ 60 756 768], old_spacing: [np.float64(6.000003814697266), np.float64(0.5859000086784363), np.float64(0.5859000086784363)], new_spacing: [3.9999987840652467, 0.3905999958515167, 0.3905999958515167], fn_data: functools.partial(<function resample_data_or_seg_to_shape at 0x7dca2b1daa70>, is_seg=False, order=3, order_z=0, force_separate_z=None)\n"
     ]
    },
    {
     "name": "stderr",
     "output_type": "stream",
     "text": [
      "100%|██████████| 90/90 [00:47<00:00,  1.91it/s]\n"
     ]
    },
    {
     "name": "stdout",
     "output_type": "stream",
     "text": [
      "Input shape: torch.Size([1, 55, 614, 846])\n",
      "step_size: 0.5\n",
      "mirror_axes: (0, 1, 2)\n",
      "n_steps 90, image size is torch.Size([55, 614, 846]), tile_size [20, 320, 256], tile_step_size 0.5\n",
      "steps:\n",
      "[[0, 9, 18, 26, 35], [0, 147, 294], [0, 118, 236, 354, 472, 590]]\n",
      "move image to device cuda\n",
      "preallocating results arrays on device cuda\n"
     ]
    },
    {
     "name": "stderr",
     "output_type": "stream",
     "text": [
      "100%|██████████| 90/90 [00:48<00:00,  1.85it/s]\n"
     ]
    },
    {
     "name": "stdout",
     "output_type": "stream",
     "text": [
      "Input shape: torch.Size([1, 55, 614, 846])\n",
      "step_size: 0.5\n",
      "mirror_axes: (0, 1, 2)\n",
      "n_steps 90, image size is torch.Size([55, 614, 846]), tile_size [20, 320, 256], tile_step_size 0.5\n",
      "steps:\n",
      "[[0, 9, 18, 26, 35], [0, 147, 294], [0, 118, 236, 354, 472, 590]]\n",
      "move image to device cuda\n",
      "preallocating results arrays on device cuda\n"
     ]
    },
    {
     "name": "stderr",
     "output_type": "stream",
     "text": [
      "100%|██████████| 90/90 [00:47<00:00,  1.88it/s]\n"
     ]
    },
    {
     "name": "stdout",
     "output_type": "stream",
     "text": [
      "Prediction done\n",
      "sending off prediction to background worker for resampling and export\n",
      "done with TCGA-VS-A954\n",
      "\n",
      "Predicting TCGA-VS-A957:\n",
      "perform_everything_on_device: True\n",
      "Input shape: torch.Size([1, 60, 922, 907])\n",
      "step_size: 0.5\n",
      "mirror_axes: (0, 1, 2)\n",
      "n_steps 175, image size is torch.Size([60, 922, 907]), tile_size [20, 320, 256], tile_step_size 0.5\n",
      "steps:\n",
      "[[0, 10, 20, 30, 40], [0, 150, 301, 452, 602], [0, 108, 217, 326, 434, 542, 651]]\n",
      "move image to device cuda\n",
      "preallocating results arrays on device cuda\n"
     ]
    },
    {
     "name": "stderr",
     "output_type": "stream",
     "text": [
      "  0%|          | 0/175 [00:00<?, ?it/s]"
     ]
    },
    {
     "name": "stdout",
     "output_type": "stream",
     "text": [
      "None\n"
     ]
    },
    {
     "name": "stderr",
     "output_type": "stream",
     "text": [
      " 25%|██▌       | 44/175 [00:23<01:12,  1.80it/s]"
     ]
    },
    {
     "name": "stdout",
     "output_type": "stream",
     "text": [
      "old shape: (41, 497, 499), new_shape: [  56 1143 1148], old_spacing: [np.float64(5.499988079071045), np.float64(0.8984360098838806), np.float64(0.8984240293502808)], new_spacing: [3.9999987840652467, 0.3905999958515167, 0.3905999958515167], fn_data: functools.partial(<function resample_data_or_seg_to_shape at 0x7b1d57772a70>, is_seg=False, order=3, order_z=0, force_separate_z=None)\n"
     ]
    },
    {
     "name": "stderr",
     "output_type": "stream",
     "text": [
      "100%|██████████| 175/175 [01:32<00:00,  1.88it/s]\n"
     ]
    },
    {
     "name": "stdout",
     "output_type": "stream",
     "text": [
      "Input shape: torch.Size([1, 60, 922, 907])\n",
      "step_size: 0.5\n",
      "mirror_axes: (0, 1, 2)\n",
      "n_steps 175, image size is torch.Size([60, 922, 907]), tile_size [20, 320, 256], tile_step_size 0.5\n",
      "steps:\n",
      "[[0, 10, 20, 30, 40], [0, 150, 301, 452, 602], [0, 108, 217, 326, 434, 542, 651]]\n",
      "move image to device cuda\n",
      "preallocating results arrays on device cuda\n"
     ]
    },
    {
     "name": "stderr",
     "output_type": "stream",
     "text": [
      "100%|██████████| 175/175 [01:34<00:00,  1.85it/s]\n"
     ]
    },
    {
     "name": "stdout",
     "output_type": "stream",
     "text": [
      "Input shape: torch.Size([1, 60, 922, 907])\n",
      "step_size: 0.5\n",
      "mirror_axes: (0, 1, 2)\n",
      "n_steps 175, image size is torch.Size([60, 922, 907]), tile_size [20, 320, 256], tile_step_size 0.5\n",
      "steps:\n",
      "[[0, 10, 20, 30, 40], [0, 150, 301, 452, 602], [0, 108, 217, 326, 434, 542, 651]]\n",
      "move image to device cuda\n",
      "preallocating results arrays on device cuda\n"
     ]
    },
    {
     "name": "stderr",
     "output_type": "stream",
     "text": [
      "100%|██████████| 175/175 [01:34<00:00,  1.86it/s]\n"
     ]
    },
    {
     "name": "stdout",
     "output_type": "stream",
     "text": [
      "Prediction done\n",
      "sending off prediction to background worker for resampling and export\n",
      "done with TCGA-VS-A957\n",
      "\n",
      "Predicting TCGA-VS-A958:\n",
      "perform_everything_on_device: True\n",
      "Input shape: torch.Size([1, 60, 871, 867])\n",
      "step_size: 0.5\n",
      "mirror_axes: (0, 1, 2)\n",
      "n_steps 150, image size is torch.Size([60, 871, 867]), tile_size [20, 320, 256], tile_step_size 0.5\n",
      "steps:\n",
      "[[0, 10, 20, 30, 40], [0, 138, 276, 413, 551], [0, 122, 244, 367, 489, 611]]\n",
      "move image to device cuda\n",
      "preallocating results arrays on device cuda\n"
     ]
    },
    {
     "name": "stderr",
     "output_type": "stream",
     "text": [
      "  0%|          | 0/150 [00:00<?, ?it/s]"
     ]
    },
    {
     "name": "stdout",
     "output_type": "stream",
     "text": [
      "None\n"
     ]
    },
    {
     "name": "stderr",
     "output_type": "stream",
     "text": [
      " 17%|█▋        | 25/150 [00:12<01:07,  1.86it/s]"
     ]
    },
    {
     "name": "stdout",
     "output_type": "stream",
     "text": [
      "old shape: (40, 502, 512), new_shape: [ 55 803 819], old_spacing: [np.float64(5.500009536743164), np.float64(0.625), np.float64(0.6249909996986389)], new_spacing: [3.9999987840652467, 0.3905999958515167, 0.3905999958515167], fn_data: functools.partial(<function resample_data_or_seg_to_shape at 0x7dca2b1daa70>, is_seg=False, order=3, order_z=0, force_separate_z=None)\n"
     ]
    },
    {
     "name": "stderr",
     "output_type": "stream",
     "text": [
      "100%|██████████| 150/150 [01:19<00:00,  1.88it/s]\n"
     ]
    },
    {
     "name": "stdout",
     "output_type": "stream",
     "text": [
      "Input shape: torch.Size([1, 60, 871, 867])\n",
      "step_size: 0.5\n",
      "mirror_axes: (0, 1, 2)\n",
      "n_steps 150, image size is torch.Size([60, 871, 867]), tile_size [20, 320, 256], tile_step_size 0.5\n",
      "steps:\n",
      "[[0, 10, 20, 30, 40], [0, 138, 276, 413, 551], [0, 122, 244, 367, 489, 611]]\n",
      "move image to device cuda\n",
      "preallocating results arrays on device cuda\n"
     ]
    },
    {
     "name": "stderr",
     "output_type": "stream",
     "text": [
      "100%|██████████| 150/150 [01:20<00:00,  1.87it/s]\n"
     ]
    },
    {
     "name": "stdout",
     "output_type": "stream",
     "text": [
      "Input shape: torch.Size([1, 60, 871, 867])\n",
      "step_size: 0.5\n",
      "mirror_axes: (0, 1, 2)\n",
      "n_steps 150, image size is torch.Size([60, 871, 867]), tile_size [20, 320, 256], tile_step_size 0.5\n",
      "steps:\n",
      "[[0, 10, 20, 30, 40], [0, 138, 276, 413, 551], [0, 122, 244, 367, 489, 611]]\n",
      "move image to device cuda\n",
      "preallocating results arrays on device cuda\n"
     ]
    },
    {
     "name": "stderr",
     "output_type": "stream",
     "text": [
      "100%|██████████| 150/150 [01:20<00:00,  1.86it/s]\n"
     ]
    },
    {
     "name": "stdout",
     "output_type": "stream",
     "text": [
      "Prediction done\n",
      "sending off prediction to background worker for resampling and export\n",
      "done with TCGA-VS-A958\n",
      "\n",
      "Predicting TCGA-VS-A959:\n",
      "perform_everything_on_device: True\n",
      "Input shape: torch.Size([1, 55, 666, 911])\n",
      "step_size: 0.5\n",
      "mirror_axes: (0, 1, 2)\n",
      "n_steps 140, image size is torch.Size([55, 666, 911]), tile_size [20, 320, 256], tile_step_size 0.5\n",
      "steps:\n",
      "[[0, 9, 18, 26, 35], [0, 115, 231, 346], [0, 109, 218, 328, 437, 546, 655]]\n",
      "move image to device cuda\n",
      "preallocating results arrays on device cuda\n",
      "None\n"
     ]
    },
    {
     "name": "stderr",
     "output_type": "stream",
     "text": [
      " 23%|██▎       | 32/140 [00:20<01:09,  1.57it/s]"
     ]
    },
    {
     "name": "stdout",
     "output_type": "stream",
     "text": [
      "old shape: (36, 492, 500), new_shape: [  54 1083 1100], old_spacing: [np.float64(6.000004291534424), np.float64(0.8593999743461609), np.float64(0.8593999743461609)], new_spacing: [3.9999987840652467, 0.3905999958515167, 0.3905999958515167], fn_data: functools.partial(<function resample_data_or_seg_to_shape at 0x7b1d57772a70>, is_seg=False, order=3, order_z=0, force_separate_z=None)\n"
     ]
    },
    {
     "name": "stderr",
     "output_type": "stream",
     "text": [
      "100%|██████████| 140/140 [01:21<00:00,  1.71it/s]\n"
     ]
    },
    {
     "name": "stdout",
     "output_type": "stream",
     "text": [
      "Input shape: torch.Size([1, 55, 666, 911])\n",
      "step_size: 0.5\n",
      "mirror_axes: (0, 1, 2)\n",
      "n_steps 140, image size is torch.Size([55, 666, 911]), tile_size [20, 320, 256], tile_step_size 0.5\n",
      "steps:\n",
      "[[0, 9, 18, 26, 35], [0, 115, 231, 346], [0, 109, 218, 328, 437, 546, 655]]\n",
      "move image to device cuda\n",
      "preallocating results arrays on device cuda\n"
     ]
    },
    {
     "name": "stderr",
     "output_type": "stream",
     "text": [
      "100%|██████████| 140/140 [01:24<00:00,  1.66it/s]\n"
     ]
    },
    {
     "name": "stdout",
     "output_type": "stream",
     "text": [
      "Input shape: torch.Size([1, 55, 666, 911])\n",
      "step_size: 0.5\n",
      "mirror_axes: (0, 1, 2)\n",
      "n_steps 140, image size is torch.Size([55, 666, 911]), tile_size [20, 320, 256], tile_step_size 0.5\n",
      "steps:\n",
      "[[0, 9, 18, 26, 35], [0, 115, 231, 346], [0, 109, 218, 328, 437, 546, 655]]\n",
      "move image to device cuda\n",
      "preallocating results arrays on device cuda\n"
     ]
    },
    {
     "name": "stderr",
     "output_type": "stream",
     "text": [
      "100%|██████████| 140/140 [01:20<00:00,  1.74it/s]\n"
     ]
    },
    {
     "name": "stdout",
     "output_type": "stream",
     "text": [
      "Prediction done\n",
      "sending off prediction to background worker for resampling and export\n",
      "done with TCGA-VS-A959\n",
      "\n",
      "Predicting TCGA-VS-A9U5:\n",
      "perform_everything_on_device: True\n",
      "Input shape: torch.Size([1, 60, 756, 768])\n",
      "step_size: 0.5\n",
      "mirror_axes: (0, 1, 2)\n",
      "n_steps 100, image size is torch.Size([60, 756, 768]), tile_size [20, 320, 256], tile_step_size 0.5\n",
      "steps:\n",
      "[[0, 10, 20, 30, 40], [0, 145, 291, 436], [0, 128, 256, 384, 512]]\n",
      "move image to device cuda\n",
      "preallocating results arrays on device cuda\n"
     ]
    },
    {
     "name": "stderr",
     "output_type": "stream",
     "text": [
      "  0%|          | 0/100 [00:00<?, ?it/s]"
     ]
    },
    {
     "name": "stdout",
     "output_type": "stream",
     "text": [
      "None\n"
     ]
    },
    {
     "name": "stderr",
     "output_type": "stream",
     "text": [
      " 10%|█         | 10/100 [00:05<00:56,  1.60it/s]"
     ]
    },
    {
     "name": "stdout",
     "output_type": "stream",
     "text": [
      "old shape: (28, 640, 640), new_shape: [ 39 631 631], old_spacing: [np.float64(5.5), np.float64(0.38532471656799316), np.float64(0.38532471656799316)], new_spacing: [3.9999987840652467, 0.3905999958515167, 0.3905999958515167], fn_data: functools.partial(<function resample_data_or_seg_to_shape at 0x7dca2b1daa70>, is_seg=False, order=3, order_z=0, force_separate_z=None)\n"
     ]
    },
    {
     "name": "stderr",
     "output_type": "stream",
     "text": [
      "100%|██████████| 100/100 [01:01<00:00,  1.63it/s]\n"
     ]
    },
    {
     "name": "stdout",
     "output_type": "stream",
     "text": [
      "Input shape: torch.Size([1, 60, 756, 768])\n",
      "step_size: 0.5\n",
      "mirror_axes: (0, 1, 2)\n",
      "n_steps 100, image size is torch.Size([60, 756, 768]), tile_size [20, 320, 256], tile_step_size 0.5\n",
      "steps:\n",
      "[[0, 10, 20, 30, 40], [0, 145, 291, 436], [0, 128, 256, 384, 512]]\n",
      "move image to device cuda\n",
      "preallocating results arrays on device cuda\n"
     ]
    },
    {
     "name": "stderr",
     "output_type": "stream",
     "text": [
      "100%|██████████| 100/100 [00:58<00:00,  1.72it/s]\n"
     ]
    },
    {
     "name": "stdout",
     "output_type": "stream",
     "text": [
      "Input shape: torch.Size([1, 60, 756, 768])\n",
      "step_size: 0.5\n",
      "mirror_axes: (0, 1, 2)\n",
      "n_steps 100, image size is torch.Size([60, 756, 768]), tile_size [20, 320, 256], tile_step_size 0.5\n",
      "steps:\n",
      "[[0, 10, 20, 30, 40], [0, 145, 291, 436], [0, 128, 256, 384, 512]]\n",
      "move image to device cuda\n",
      "preallocating results arrays on device cuda\n"
     ]
    },
    {
     "name": "stderr",
     "output_type": "stream",
     "text": [
      "100%|██████████| 100/100 [00:58<00:00,  1.72it/s]\n"
     ]
    },
    {
     "name": "stdout",
     "output_type": "stream",
     "text": [
      "Prediction done\n",
      "sending off prediction to background worker for resampling and export\n",
      "done with TCGA-VS-A9U5\n",
      "\n",
      "Predicting TCGA-VS-A9U6:\n",
      "perform_everything_on_device: True\n",
      "Input shape: torch.Size([1, 56, 1143, 1148])\n",
      "step_size: 0.5\n",
      "mirror_axes: (0, 1, 2)\n",
      "n_steps 280, image size is torch.Size([56, 1143, 1148]), tile_size [20, 320, 256], tile_step_size 0.5\n",
      "steps:\n",
      "[[0, 9, 18, 27, 36], [0, 137, 274, 412, 549, 686, 823], [0, 127, 255, 382, 510, 637, 765, 892]]\n",
      "move image to device cuda\n",
      "None\n",
      "preallocating results arrays on device cuda\n"
     ]
    },
    {
     "name": "stderr",
     "output_type": "stream",
     "text": [
      "  6%|▋         | 18/280 [00:10<02:46,  1.57it/s]"
     ]
    },
    {
     "name": "stdout",
     "output_type": "stream",
     "text": [
      "old shape: (40, 624, 863), new_shape: [ 55 614 850], old_spacing: [np.float64(5.5), np.float64(0.38461539149284363), np.float64(0.38461539149284363)], new_spacing: [3.9999987840652467, 0.3905999958515167, 0.3905999958515167], fn_data: functools.partial(<function resample_data_or_seg_to_shape at 0x7b1d57772a70>, is_seg=False, order=3, order_z=0, force_separate_z=None)\n"
     ]
    },
    {
     "name": "stderr",
     "output_type": "stream",
     "text": [
      "100%|██████████| 280/280 [02:29<00:00,  1.88it/s]\n"
     ]
    },
    {
     "name": "stdout",
     "output_type": "stream",
     "text": [
      "Input shape: torch.Size([1, 56, 1143, 1148])\n",
      "step_size: 0.5\n",
      "mirror_axes: (0, 1, 2)\n",
      "n_steps 280, image size is torch.Size([56, 1143, 1148]), tile_size [20, 320, 256], tile_step_size 0.5\n",
      "steps:\n",
      "[[0, 9, 18, 27, 36], [0, 137, 274, 412, 549, 686, 823], [0, 127, 255, 382, 510, 637, 765, 892]]\n",
      "move image to device cuda\n",
      "preallocating results arrays on device cuda\n"
     ]
    },
    {
     "name": "stderr",
     "output_type": "stream",
     "text": [
      "100%|██████████| 280/280 [02:33<00:00,  1.83it/s]\n"
     ]
    },
    {
     "name": "stdout",
     "output_type": "stream",
     "text": [
      "Input shape: torch.Size([1, 56, 1143, 1148])\n",
      "step_size: 0.5\n",
      "mirror_axes: (0, 1, 2)\n",
      "n_steps 280, image size is torch.Size([56, 1143, 1148]), tile_size [20, 320, 256], tile_step_size 0.5\n",
      "steps:\n",
      "[[0, 9, 18, 27, 36], [0, 137, 274, 412, 549, 686, 823], [0, 127, 255, 382, 510, 637, 765, 892]]\n",
      "move image to device cuda\n",
      "preallocating results arrays on device cuda\n"
     ]
    },
    {
     "name": "stderr",
     "output_type": "stream",
     "text": [
      "100%|██████████| 280/280 [02:34<00:00,  1.82it/s]\n"
     ]
    },
    {
     "name": "stdout",
     "output_type": "stream",
     "text": [
      "Prediction done\n",
      "sending off prediction to background worker for resampling and export\n",
      "done with TCGA-VS-A9U6\n",
      "\n",
      "Predicting TCGA-VS-A9U7:\n",
      "perform_everything_on_device: True\n",
      "Input shape: torch.Size([1, 55, 803, 819])\n",
      "step_size: 0.5\n",
      "mirror_axes: (0, 1, 2)\n",
      "n_steps 150, image size is torch.Size([55, 803, 819]), tile_size [20, 320, 256], tile_step_size 0.5\n",
      "steps:\n",
      "[[0, 9, 18, 26, 35], [0, 121, 242, 362, 483], [0, 113, 225, 338, 450, 563]]\n",
      "move image to device cuda\n",
      "preallocating results arrays on device cuda\n"
     ]
    },
    {
     "name": "stderr",
     "output_type": "stream",
     "text": [
      "  1%|          | 1/150 [00:00<00:35,  4.25it/s]"
     ]
    },
    {
     "name": "stdout",
     "output_type": "stream",
     "text": [
      "None\n"
     ]
    },
    {
     "name": "stderr",
     "output_type": "stream",
     "text": [
      " 13%|█▎        | 20/150 [00:10<01:10,  1.85it/s]"
     ]
    },
    {
     "name": "stdout",
     "output_type": "stream",
     "text": [
      "old shape: (35, 624, 852), new_shape: [ 48 614 839], old_spacing: [np.float64(5.5), np.float64(0.38461539149284363), np.float64(0.38461539149284363)], new_spacing: [3.9999987840652467, 0.3905999958515167, 0.3905999958515167], fn_data: functools.partial(<function resample_data_or_seg_to_shape at 0x7dca2b1daa70>, is_seg=False, order=3, order_z=0, force_separate_z=None)\n"
     ]
    },
    {
     "name": "stderr",
     "output_type": "stream",
     "text": [
      "100%|██████████| 150/150 [01:20<00:00,  1.86it/s]\n"
     ]
    },
    {
     "name": "stdout",
     "output_type": "stream",
     "text": [
      "Input shape: torch.Size([1, 55, 803, 819])\n",
      "step_size: 0.5\n",
      "mirror_axes: (0, 1, 2)\n",
      "n_steps 150, image size is torch.Size([55, 803, 819]), tile_size [20, 320, 256], tile_step_size 0.5\n",
      "steps:\n",
      "[[0, 9, 18, 26, 35], [0, 121, 242, 362, 483], [0, 113, 225, 338, 450, 563]]\n",
      "move image to device cuda\n",
      "preallocating results arrays on device cuda\n"
     ]
    },
    {
     "name": "stderr",
     "output_type": "stream",
     "text": [
      "100%|██████████| 150/150 [01:20<00:00,  1.86it/s]\n"
     ]
    },
    {
     "name": "stdout",
     "output_type": "stream",
     "text": [
      "Input shape: torch.Size([1, 55, 803, 819])\n",
      "step_size: 0.5\n",
      "mirror_axes: (0, 1, 2)\n",
      "n_steps 150, image size is torch.Size([55, 803, 819]), tile_size [20, 320, 256], tile_step_size 0.5\n",
      "steps:\n",
      "[[0, 9, 18, 26, 35], [0, 121, 242, 362, 483], [0, 113, 225, 338, 450, 563]]\n",
      "move image to device cuda\n",
      "preallocating results arrays on device cuda\n"
     ]
    },
    {
     "name": "stderr",
     "output_type": "stream",
     "text": [
      "100%|██████████| 150/150 [01:20<00:00,  1.86it/s]\n"
     ]
    },
    {
     "name": "stdout",
     "output_type": "stream",
     "text": [
      "Prediction done\n",
      "sending off prediction to background worker for resampling and export\n",
      "done with TCGA-VS-A9U7\n",
      "\n",
      "Predicting TCGA-VS-A9UA:\n",
      "perform_everything_on_device: True\n",
      "Input shape: torch.Size([1, 54, 1083, 1100])\n",
      "step_size: 0.5\n",
      "mirror_axes: (0, 1, 2)\n",
      "n_steps 240, image size is torch.Size([54, 1083, 1100]), tile_size [20, 320, 256], tile_step_size 0.5\n",
      "steps:\n",
      "[[0, 8, 17, 26, 34], [0, 153, 305, 458, 610, 763], [0, 121, 241, 362, 482, 603, 723, 844]]\n",
      "move image to device cuda\n",
      "preallocating results arrays on device cuda\n"
     ]
    },
    {
     "name": "stderr",
     "output_type": "stream",
     "text": [
      "  0%|          | 0/240 [00:00<?, ?it/s]"
     ]
    },
    {
     "name": "stdout",
     "output_type": "stream",
     "text": [
      "None\n"
     ]
    },
    {
     "name": "stderr",
     "output_type": "stream",
     "text": [
      "  9%|▉         | 21/240 [00:11<02:05,  1.75it/s]"
     ]
    },
    {
     "name": "stdout",
     "output_type": "stream",
     "text": [
      "old shape: (40, 504, 512), new_shape: [ 60 756 768], old_spacing: [np.float64(5.999993801116943), np.float64(0.5859000086784363), np.float64(0.5859000086784363)], new_spacing: [3.9999987840652467, 0.3905999958515167, 0.3905999958515167], fn_data: functools.partial(<function resample_data_or_seg_to_shape at 0x7b1d57772a70>, is_seg=False, order=3, order_z=0, force_separate_z=None)\n"
     ]
    },
    {
     "name": "stderr",
     "output_type": "stream",
     "text": [
      "100%|██████████| 240/240 [02:09<00:00,  1.85it/s]\n"
     ]
    },
    {
     "name": "stdout",
     "output_type": "stream",
     "text": [
      "Input shape: torch.Size([1, 54, 1083, 1100])\n",
      "step_size: 0.5\n",
      "mirror_axes: (0, 1, 2)\n",
      "n_steps 240, image size is torch.Size([54, 1083, 1100]), tile_size [20, 320, 256], tile_step_size 0.5\n",
      "steps:\n",
      "[[0, 8, 17, 26, 34], [0, 153, 305, 458, 610, 763], [0, 121, 241, 362, 482, 603, 723, 844]]\n",
      "move image to device cuda\n",
      "preallocating results arrays on device cuda\n"
     ]
    },
    {
     "name": "stderr",
     "output_type": "stream",
     "text": [
      "100%|██████████| 240/240 [02:11<00:00,  1.83it/s]\n"
     ]
    },
    {
     "name": "stdout",
     "output_type": "stream",
     "text": [
      "Input shape: torch.Size([1, 54, 1083, 1100])\n",
      "step_size: 0.5\n",
      "mirror_axes: (0, 1, 2)\n",
      "n_steps 240, image size is torch.Size([54, 1083, 1100]), tile_size [20, 320, 256], tile_step_size 0.5\n",
      "steps:\n",
      "[[0, 8, 17, 26, 34], [0, 153, 305, 458, 610, 763], [0, 121, 241, 362, 482, 603, 723, 844]]\n",
      "move image to device cuda\n",
      "preallocating results arrays on device cuda\n"
     ]
    },
    {
     "name": "stderr",
     "output_type": "stream",
     "text": [
      "100%|██████████| 240/240 [02:09<00:00,  1.86it/s]\n"
     ]
    },
    {
     "name": "stdout",
     "output_type": "stream",
     "text": [
      "Prediction done\n",
      "sending off prediction to background worker for resampling and export\n",
      "done with TCGA-VS-A9UA\n",
      "\n",
      "Predicting TCGA-VS-A9UB:\n",
      "perform_everything_on_device: True\n",
      "None\n",
      "Input shape: torch.Size([1, 39, 631, 631])\n",
      "step_size: 0.5\n",
      "mirror_axes: (0, 1, 2)\n",
      "n_steps 36, image size is torch.Size([39, 631, 631]), tile_size [20, 320, 256], tile_step_size 0.5\n",
      "steps:\n",
      "[[0, 10, 19], [0, 156, 311], [0, 125, 250, 375]]\n",
      "move image to device cuda\n",
      "preallocating results arrays on device cuda\n"
     ]
    },
    {
     "name": "stderr",
     "output_type": "stream",
     "text": [
      " 72%|███████▏  | 26/36 [00:14<00:05,  1.75it/s]"
     ]
    },
    {
     "name": "stdout",
     "output_type": "stream",
     "text": [
      "old shape: (40, 504, 512), new_shape: [ 60 832 845], old_spacing: [np.float64(5.999990463256836), np.float64(0.6445000171661377), np.float64(0.6445000171661377)], new_spacing: [3.9999987840652467, 0.3905999958515167, 0.3905999958515167], fn_data: functools.partial(<function resample_data_or_seg_to_shape at 0x7dca2b1daa70>, is_seg=False, order=3, order_z=0, force_separate_z=None)\n"
     ]
    },
    {
     "name": "stderr",
     "output_type": "stream",
     "text": [
      "100%|██████████| 36/36 [00:20<00:00,  1.79it/s]\n"
     ]
    },
    {
     "name": "stdout",
     "output_type": "stream",
     "text": [
      "Input shape: torch.Size([1, 39, 631, 631])\n",
      "step_size: 0.5\n",
      "mirror_axes: (0, 1, 2)\n",
      "n_steps 36, image size is torch.Size([39, 631, 631]), tile_size [20, 320, 256], tile_step_size 0.5\n",
      "steps:\n",
      "[[0, 10, 19], [0, 156, 311], [0, 125, 250, 375]]\n",
      "move image to device cuda\n",
      "preallocating results arrays on device cuda\n"
     ]
    },
    {
     "name": "stderr",
     "output_type": "stream",
     "text": [
      "100%|██████████| 36/36 [00:18<00:00,  1.96it/s]\n"
     ]
    },
    {
     "name": "stdout",
     "output_type": "stream",
     "text": [
      "Input shape: torch.Size([1, 39, 631, 631])\n",
      "step_size: 0.5\n",
      "mirror_axes: (0, 1, 2)\n",
      "n_steps 36, image size is torch.Size([39, 631, 631]), tile_size [20, 320, 256], tile_step_size 0.5\n",
      "steps:\n",
      "[[0, 10, 19], [0, 156, 311], [0, 125, 250, 375]]\n",
      "move image to device cuda\n",
      "preallocating results arrays on device cuda\n"
     ]
    },
    {
     "name": "stderr",
     "output_type": "stream",
     "text": [
      "100%|██████████| 36/36 [00:17<00:00,  2.09it/s]\n"
     ]
    },
    {
     "name": "stdout",
     "output_type": "stream",
     "text": [
      "Prediction done\n",
      "sending off prediction to background worker for resampling and export\n",
      "done with TCGA-VS-A9UB\n",
      "\n",
      "Predicting TCGA-VS-A9UC:\n",
      "perform_everything_on_device: True\n",
      "Input shape: torch.Size([1, 55, 614, 850])\n",
      "step_size: 0.5\n",
      "mirror_axes: (0, 1, 2)\n",
      "n_steps 90, image size is torch.Size([55, 614, 850]), tile_size [20, 320, 256], tile_step_size 0.5\n",
      "steps:\n",
      "[[0, 9, 18, 26, 35], [0, 147, 294], [0, 119, 238, 356, 475, 594]]\n",
      "move image to device cuda\n",
      "preallocating results arrays on device cuda\n"
     ]
    },
    {
     "name": "stderr",
     "output_type": "stream",
     "text": [
      "  0%|          | 0/90 [00:00<?, ?it/s]"
     ]
    },
    {
     "name": "stdout",
     "output_type": "stream",
     "text": [
      "None\n"
     ]
    },
    {
     "name": "stderr",
     "output_type": "stream",
     "text": [
      " 30%|███       | 27/90 [00:14<00:37,  1.68it/s]"
     ]
    },
    {
     "name": "stdout",
     "output_type": "stream",
     "text": [
      "old shape: (40, 504, 512), new_shape: [ 60 857 871], old_spacing: [np.float64(6.000007152557373), np.float64(0.6640999913215637), np.float64(0.6640999913215637)], new_spacing: [3.9999987840652467, 0.3905999958515167, 0.3905999958515167], fn_data: functools.partial(<function resample_data_or_seg_to_shape at 0x7b1d57772a70>, is_seg=False, order=3, order_z=0, force_separate_z=None)\n"
     ]
    },
    {
     "name": "stderr",
     "output_type": "stream",
     "text": [
      "100%|██████████| 90/90 [00:48<00:00,  1.87it/s]\n"
     ]
    },
    {
     "name": "stdout",
     "output_type": "stream",
     "text": [
      "Input shape: torch.Size([1, 55, 614, 850])\n",
      "step_size: 0.5\n",
      "mirror_axes: (0, 1, 2)\n",
      "n_steps 90, image size is torch.Size([55, 614, 850]), tile_size [20, 320, 256], tile_step_size 0.5\n",
      "steps:\n",
      "[[0, 9, 18, 26, 35], [0, 147, 294], [0, 119, 238, 356, 475, 594]]\n",
      "move image to device cuda\n",
      "preallocating results arrays on device cuda\n"
     ]
    },
    {
     "name": "stderr",
     "output_type": "stream",
     "text": [
      "100%|██████████| 90/90 [00:47<00:00,  1.91it/s]\n"
     ]
    },
    {
     "name": "stdout",
     "output_type": "stream",
     "text": [
      "Input shape: torch.Size([1, 55, 614, 850])\n",
      "step_size: 0.5\n",
      "mirror_axes: (0, 1, 2)\n",
      "n_steps 90, image size is torch.Size([55, 614, 850]), tile_size [20, 320, 256], tile_step_size 0.5\n",
      "steps:\n",
      "[[0, 9, 18, 26, 35], [0, 147, 294], [0, 119, 238, 356, 475, 594]]\n",
      "move image to device cuda\n",
      "preallocating results arrays on device cuda\n"
     ]
    },
    {
     "name": "stderr",
     "output_type": "stream",
     "text": [
      "100%|██████████| 90/90 [00:44<00:00,  2.02it/s]\n"
     ]
    },
    {
     "name": "stdout",
     "output_type": "stream",
     "text": [
      "Prediction done\n",
      "sending off prediction to background worker for resampling and export\n",
      "done with TCGA-VS-A9UC\n",
      "\n",
      "Predicting TCGA-VS-A9UD:\n",
      "perform_everything_on_device: True\n",
      "None\n",
      "Input shape: torch.Size([1, 48, 614, 839])\n",
      "step_size: 0.5\n",
      "mirror_axes: (0, 1, 2)\n",
      "n_steps 72, image size is torch.Size([48, 614, 839]), tile_size [20, 320, 256], tile_step_size 0.5\n",
      "steps:\n",
      "[[0, 9, 19, 28], [0, 147, 294], [0, 117, 233, 350, 466, 583]]\n",
      "move image to device cuda\n",
      "preallocating results arrays on device cuda\n"
     ]
    },
    {
     "name": "stderr",
     "output_type": "stream",
     "text": [
      " 32%|███▏      | 23/72 [00:11<00:25,  1.90it/s]"
     ]
    },
    {
     "name": "stdout",
     "output_type": "stream",
     "text": [
      "old shape: (20, 504, 512), new_shape: [ 60 832 845], old_spacing: [np.float64(11.999955177307129), np.float64(0.6445000171661377), np.float64(0.6445000171661377)], new_spacing: [3.9999987840652467, 0.3905999958515167, 0.3905999958515167], fn_data: functools.partial(<function resample_data_or_seg_to_shape at 0x7dca2b1daa70>, is_seg=False, order=3, order_z=0, force_separate_z=None)\n"
     ]
    },
    {
     "name": "stderr",
     "output_type": "stream",
     "text": [
      "100%|██████████| 72/72 [00:37<00:00,  1.91it/s]\n"
     ]
    },
    {
     "name": "stdout",
     "output_type": "stream",
     "text": [
      "Input shape: torch.Size([1, 48, 614, 839])\n",
      "step_size: 0.5\n",
      "mirror_axes: (0, 1, 2)\n",
      "n_steps 72, image size is torch.Size([48, 614, 839]), tile_size [20, 320, 256], tile_step_size 0.5\n",
      "steps:\n",
      "[[0, 9, 19, 28], [0, 147, 294], [0, 117, 233, 350, 466, 583]]\n",
      "move image to device cuda\n",
      "preallocating results arrays on device cuda\n"
     ]
    },
    {
     "name": "stderr",
     "output_type": "stream",
     "text": [
      "100%|██████████| 72/72 [00:39<00:00,  1.84it/s]\n"
     ]
    },
    {
     "name": "stdout",
     "output_type": "stream",
     "text": [
      "Input shape: torch.Size([1, 48, 614, 839])\n",
      "step_size: 0.5\n",
      "mirror_axes: (0, 1, 2)\n",
      "n_steps 72, image size is torch.Size([48, 614, 839]), tile_size [20, 320, 256], tile_step_size 0.5\n",
      "steps:\n",
      "[[0, 9, 19, 28], [0, 147, 294], [0, 117, 233, 350, 466, 583]]\n",
      "move image to device cuda\n",
      "preallocating results arrays on device cuda\n"
     ]
    },
    {
     "name": "stderr",
     "output_type": "stream",
     "text": [
      "100%|██████████| 72/72 [00:39<00:00,  1.82it/s]\n"
     ]
    },
    {
     "name": "stdout",
     "output_type": "stream",
     "text": [
      "Prediction done\n",
      "sending off prediction to background worker for resampling and export\n",
      "done with TCGA-VS-A9UD\n",
      "\n",
      "Predicting TCGA-VS-A9UH:\n",
      "perform_everything_on_device: True\n",
      "Input shape: torch.Size([1, 60, 756, 768])\n",
      "step_size: 0.5\n",
      "mirror_axes: (0, 1, 2)\n",
      "n_steps 100, image size is torch.Size([60, 756, 768]), tile_size [20, 320, 256], tile_step_size 0.5\n",
      "steps:\n",
      "[[0, 10, 20, 30, 40], [0, 145, 291, 436], [0, 128, 256, 384, 512]]\n",
      "move image to device cuda\n",
      "preallocating results arrays on device cuda\n"
     ]
    },
    {
     "name": "stderr",
     "output_type": "stream",
     "text": [
      "  1%|          | 1/100 [00:00<00:24,  4.06it/s]"
     ]
    },
    {
     "name": "stdout",
     "output_type": "stream",
     "text": [
      "None\n"
     ]
    },
    {
     "name": "stderr",
     "output_type": "stream",
     "text": [
      " 20%|██        | 20/100 [00:11<00:49,  1.63it/s]"
     ]
    },
    {
     "name": "stdout",
     "output_type": "stream",
     "text": [
      "old shape: (40, 624, 864), new_shape: [ 55 614 851], old_spacing: [np.float64(5.5), np.float64(0.38461539149284363), np.float64(0.38461539149284363)], new_spacing: [3.9999987840652467, 0.3905999958515167, 0.3905999958515167], fn_data: functools.partial(<function resample_data_or_seg_to_shape at 0x7b1d57772a70>, is_seg=False, order=3, order_z=0, force_separate_z=None)\n"
     ]
    },
    {
     "name": "stderr",
     "output_type": "stream",
     "text": [
      "100%|██████████| 100/100 [00:54<00:00,  1.83it/s]\n"
     ]
    },
    {
     "name": "stdout",
     "output_type": "stream",
     "text": [
      "Input shape: torch.Size([1, 60, 756, 768])\n",
      "step_size: 0.5\n",
      "mirror_axes: (0, 1, 2)\n",
      "n_steps 100, image size is torch.Size([60, 756, 768]), tile_size [20, 320, 256], tile_step_size 0.5\n",
      "steps:\n",
      "[[0, 10, 20, 30, 40], [0, 145, 291, 436], [0, 128, 256, 384, 512]]\n",
      "move image to device cuda\n",
      "preallocating results arrays on device cuda\n"
     ]
    },
    {
     "name": "stderr",
     "output_type": "stream",
     "text": [
      "100%|██████████| 100/100 [00:53<00:00,  1.85it/s]\n"
     ]
    },
    {
     "name": "stdout",
     "output_type": "stream",
     "text": [
      "Input shape: torch.Size([1, 60, 756, 768])\n",
      "step_size: 0.5\n",
      "mirror_axes: (0, 1, 2)\n",
      "n_steps 100, image size is torch.Size([60, 756, 768]), tile_size [20, 320, 256], tile_step_size 0.5\n",
      "steps:\n",
      "[[0, 10, 20, 30, 40], [0, 145, 291, 436], [0, 128, 256, 384, 512]]\n",
      "move image to device cuda\n",
      "preallocating results arrays on device cuda\n"
     ]
    },
    {
     "name": "stderr",
     "output_type": "stream",
     "text": [
      "100%|██████████| 100/100 [00:54<00:00,  1.84it/s]\n"
     ]
    },
    {
     "name": "stdout",
     "output_type": "stream",
     "text": [
      "Prediction done\n",
      "sending off prediction to background worker for resampling and export\n",
      "done with TCGA-VS-A9UH\n",
      "\n",
      "Predicting TCGA-VS-A9UI:\n",
      "perform_everything_on_device: True\n",
      "Input shape: torch.Size([1, 60, 832, 845])\n",
      "step_size: 0.5\n",
      "mirror_axes: (0, 1, 2)\n",
      "n_steps 150, image size is torch.Size([60, 832, 845]), tile_size [20, 320, 256], tile_step_size 0.5\n",
      "steps:\n",
      "[[0, 10, 20, 30, 40], [0, 128, 256, 384, 512], [0, 118, 236, 353, 471, 589]]\n",
      "move image to device cuda\n",
      "None\n",
      "preallocating results arrays on device cuda\n"
     ]
    },
    {
     "name": "stderr",
     "output_type": "stream",
     "text": [
      " 16%|█▌        | 24/150 [00:11<01:01,  2.05it/s]"
     ]
    },
    {
     "name": "stdout",
     "output_type": "stream",
     "text": [
      "old shape: (36, 504, 512), new_shape: [ 49 806 819], old_spacing: [np.float64(5.49998664855957), np.float64(0.6249960064888), np.float64(0.6250060200691223)], new_spacing: [3.9999987840652467, 0.3905999958515167, 0.3905999958515167], fn_data: functools.partial(<function resample_data_or_seg_to_shape at 0x7dca2b1daa70>, is_seg=False, order=3, order_z=0, force_separate_z=None)\n"
     ]
    },
    {
     "name": "stderr",
     "output_type": "stream",
     "text": [
      "100%|██████████| 150/150 [01:19<00:00,  1.89it/s]\n"
     ]
    },
    {
     "name": "stdout",
     "output_type": "stream",
     "text": [
      "Input shape: torch.Size([1, 60, 832, 845])\n",
      "step_size: 0.5\n",
      "mirror_axes: (0, 1, 2)\n",
      "n_steps 150, image size is torch.Size([60, 832, 845]), tile_size [20, 320, 256], tile_step_size 0.5\n",
      "steps:\n",
      "[[0, 10, 20, 30, 40], [0, 128, 256, 384, 512], [0, 118, 236, 353, 471, 589]]\n",
      "move image to device cuda\n",
      "preallocating results arrays on device cuda\n"
     ]
    },
    {
     "name": "stderr",
     "output_type": "stream",
     "text": [
      "100%|██████████| 150/150 [01:17<00:00,  1.92it/s]\n"
     ]
    },
    {
     "name": "stdout",
     "output_type": "stream",
     "text": [
      "Input shape: torch.Size([1, 60, 832, 845])\n",
      "step_size: 0.5\n",
      "mirror_axes: (0, 1, 2)\n",
      "n_steps 150, image size is torch.Size([60, 832, 845]), tile_size [20, 320, 256], tile_step_size 0.5\n",
      "steps:\n",
      "[[0, 10, 20, 30, 40], [0, 128, 256, 384, 512], [0, 118, 236, 353, 471, 589]]\n",
      "move image to device cuda\n",
      "preallocating results arrays on device cuda\n"
     ]
    },
    {
     "name": "stderr",
     "output_type": "stream",
     "text": [
      "100%|██████████| 150/150 [01:17<00:00,  1.93it/s]\n"
     ]
    },
    {
     "name": "stdout",
     "output_type": "stream",
     "text": [
      "Prediction done\n",
      "sending off prediction to background worker for resampling and export\n",
      "done with TCGA-VS-A9UI\n",
      "\n",
      "Predicting TCGA-VS-A9UJ:\n",
      "perform_everything_on_device: True\n",
      "Input shape: torch.Size([1, 60, 857, 871])\n",
      "step_size: 0.5\n",
      "mirror_axes: (0, 1, 2)\n",
      "n_steps 150, image size is torch.Size([60, 857, 871]), tile_size [20, 320, 256], tile_step_size 0.5\n",
      "steps:\n",
      "[[0, 10, 20, 30, 40], [0, 134, 268, 403, 537], [0, 123, 246, 369, 492, 615]]\n",
      "move image to device cuda\n",
      "preallocating results arrays on device cuda\n"
     ]
    },
    {
     "name": "stderr",
     "output_type": "stream",
     "text": [
      "  0%|          | 0/150 [00:00<?, ?it/s]"
     ]
    },
    {
     "name": "stdout",
     "output_type": "stream",
     "text": [
      "None\n"
     ]
    },
    {
     "name": "stderr",
     "output_type": "stream",
     "text": [
      " 19%|█▉        | 29/150 [00:14<01:00,  1.98it/s]"
     ]
    },
    {
     "name": "stdout",
     "output_type": "stream",
     "text": [
      "old shape: (40, 504, 512), new_shape: [ 60 857 871], old_spacing: [np.float64(6.000003337860107), np.float64(0.6640999913215637), np.float64(0.6640999913215637)], new_spacing: [3.9999987840652467, 0.3905999958515167, 0.3905999958515167], fn_data: functools.partial(<function resample_data_or_seg_to_shape at 0x7b1d57772a70>, is_seg=False, order=3, order_z=0, force_separate_z=None)\n"
     ]
    },
    {
     "name": "stderr",
     "output_type": "stream",
     "text": [
      "100%|██████████| 150/150 [01:17<00:00,  1.93it/s]\n"
     ]
    },
    {
     "name": "stdout",
     "output_type": "stream",
     "text": [
      "Input shape: torch.Size([1, 60, 857, 871])\n",
      "step_size: 0.5\n",
      "mirror_axes: (0, 1, 2)\n",
      "n_steps 150, image size is torch.Size([60, 857, 871]), tile_size [20, 320, 256], tile_step_size 0.5\n",
      "steps:\n",
      "[[0, 10, 20, 30, 40], [0, 134, 268, 403, 537], [0, 123, 246, 369, 492, 615]]\n",
      "move image to device cuda\n",
      "preallocating results arrays on device cuda\n"
     ]
    },
    {
     "name": "stderr",
     "output_type": "stream",
     "text": [
      "100%|██████████| 150/150 [01:20<00:00,  1.87it/s]\n"
     ]
    },
    {
     "name": "stdout",
     "output_type": "stream",
     "text": [
      "Input shape: torch.Size([1, 60, 857, 871])\n",
      "step_size: 0.5\n",
      "mirror_axes: (0, 1, 2)\n",
      "n_steps 150, image size is torch.Size([60, 857, 871]), tile_size [20, 320, 256], tile_step_size 0.5\n",
      "steps:\n",
      "[[0, 10, 20, 30, 40], [0, 134, 268, 403, 537], [0, 123, 246, 369, 492, 615]]\n",
      "move image to device cuda\n",
      "preallocating results arrays on device cuda\n"
     ]
    },
    {
     "name": "stderr",
     "output_type": "stream",
     "text": [
      "100%|██████████| 150/150 [01:20<00:00,  1.87it/s]\n"
     ]
    },
    {
     "name": "stdout",
     "output_type": "stream",
     "text": [
      "Prediction done\n",
      "sending off prediction to background worker for resampling and export\n",
      "done with TCGA-VS-A9UJ\n",
      "\n",
      "Predicting TCGA-VS-A9UL:\n",
      "perform_everything_on_device: True\n",
      "Input shape: torch.Size([1, 60, 832, 845])\n",
      "step_size: 0.5\n",
      "mirror_axes: (0, 1, 2)\n",
      "n_steps 150, image size is torch.Size([60, 832, 845]), tile_size [20, 320, 256], tile_step_size 0.5\n",
      "steps:\n",
      "[[0, 10, 20, 30, 40], [0, 128, 256, 384, 512], [0, 118, 236, 353, 471, 589]]\n",
      "move image to device cuda\n",
      "preallocating results arrays on device cuda\n"
     ]
    },
    {
     "name": "stderr",
     "output_type": "stream",
     "text": [
      "  0%|          | 0/150 [00:00<?, ?it/s]"
     ]
    },
    {
     "name": "stdout",
     "output_type": "stream",
     "text": [
      "None\n"
     ]
    },
    {
     "name": "stderr",
     "output_type": "stream",
     "text": [
      " 15%|█▌        | 23/150 [00:11<01:13,  1.73it/s]"
     ]
    },
    {
     "name": "stdout",
     "output_type": "stream",
     "text": [
      "old shape: (40, 504, 512), new_shape: [ 60 756 768], old_spacing: [np.float64(5.999978065490723), np.float64(0.5859000086784363), np.float64(0.5859000086784363)], new_spacing: [3.9999987840652467, 0.3905999958515167, 0.3905999958515167], fn_data: functools.partial(<function resample_data_or_seg_to_shape at 0x7dca2b1daa70>, is_seg=False, order=3, order_z=0, force_separate_z=None)\n"
     ]
    },
    {
     "name": "stderr",
     "output_type": "stream",
     "text": [
      "100%|██████████| 150/150 [01:20<00:00,  1.86it/s]\n"
     ]
    },
    {
     "name": "stdout",
     "output_type": "stream",
     "text": [
      "Input shape: torch.Size([1, 60, 832, 845])\n",
      "step_size: 0.5\n",
      "mirror_axes: (0, 1, 2)\n",
      "n_steps 150, image size is torch.Size([60, 832, 845]), tile_size [20, 320, 256], tile_step_size 0.5\n",
      "steps:\n",
      "[[0, 10, 20, 30, 40], [0, 128, 256, 384, 512], [0, 118, 236, 353, 471, 589]]\n",
      "move image to device cuda\n",
      "preallocating results arrays on device cuda\n"
     ]
    },
    {
     "name": "stderr",
     "output_type": "stream",
     "text": [
      "100%|██████████| 150/150 [01:18<00:00,  1.91it/s]\n"
     ]
    },
    {
     "name": "stdout",
     "output_type": "stream",
     "text": [
      "Input shape: torch.Size([1, 60, 832, 845])\n",
      "step_size: 0.5\n",
      "mirror_axes: (0, 1, 2)\n",
      "n_steps 150, image size is torch.Size([60, 832, 845]), tile_size [20, 320, 256], tile_step_size 0.5\n",
      "steps:\n",
      "[[0, 10, 20, 30, 40], [0, 128, 256, 384, 512], [0, 118, 236, 353, 471, 589]]\n",
      "move image to device cuda\n",
      "preallocating results arrays on device cuda\n"
     ]
    },
    {
     "name": "stderr",
     "output_type": "stream",
     "text": [
      "100%|██████████| 150/150 [01:23<00:00,  1.79it/s]\n"
     ]
    },
    {
     "name": "stdout",
     "output_type": "stream",
     "text": [
      "Prediction done\n",
      "sending off prediction to background worker for resampling and export\n",
      "done with TCGA-VS-A9UL\n",
      "\n",
      "Predicting TCGA-VS-A9UM:\n",
      "perform_everything_on_device: True\n",
      "Input shape: torch.Size([1, 55, 614, 851])\n",
      "step_size: 0.5\n",
      "mirror_axes: (0, 1, 2)\n",
      "n_steps 90, image size is torch.Size([55, 614, 851]), tile_size [20, 320, 256], tile_step_size 0.5\n",
      "steps:\n",
      "[[0, 9, 18, 26, 35], [0, 147, 294], [0, 119, 238, 357, 476, 595]]\n",
      "move image to device cuda\n",
      "preallocating results arrays on device cuda\n"
     ]
    },
    {
     "name": "stderr",
     "output_type": "stream",
     "text": [
      "  1%|          | 1/90 [00:00<00:20,  4.24it/s]"
     ]
    },
    {
     "name": "stdout",
     "output_type": "stream",
     "text": [
      "None\n"
     ]
    },
    {
     "name": "stderr",
     "output_type": "stream",
     "text": [
      " 34%|███▍      | 31/90 [00:16<00:30,  1.90it/s]"
     ]
    },
    {
     "name": "stdout",
     "output_type": "stream",
     "text": [
      "old shape: (121, 388, 480), new_shape: [ 45 666 823], old_spacing: [np.float64(1.5000005960464478), np.float64(0.6701030731201172), np.float64(0.6701030731201172)], new_spacing: [3.9999987840652467, 0.3905999958515167, 0.3905999958515167], fn_data: functools.partial(<function resample_data_or_seg_to_shape at 0x7b1d57772a70>, is_seg=False, order=3, order_z=0, force_separate_z=None)\n"
     ]
    },
    {
     "name": "stderr",
     "output_type": "stream",
     "text": [
      "100%|██████████| 90/90 [00:47<00:00,  1.91it/s]\n"
     ]
    },
    {
     "name": "stdout",
     "output_type": "stream",
     "text": [
      "Input shape: torch.Size([1, 55, 614, 851])\n",
      "step_size: 0.5\n",
      "mirror_axes: (0, 1, 2)\n",
      "n_steps 90, image size is torch.Size([55, 614, 851]), tile_size [20, 320, 256], tile_step_size 0.5\n",
      "steps:\n",
      "[[0, 9, 18, 26, 35], [0, 147, 294], [0, 119, 238, 357, 476, 595]]\n",
      "move image to device cuda\n",
      "preallocating results arrays on device cuda\n"
     ]
    },
    {
     "name": "stderr",
     "output_type": "stream",
     "text": [
      "100%|██████████| 90/90 [00:49<00:00,  1.81it/s]\n"
     ]
    },
    {
     "name": "stdout",
     "output_type": "stream",
     "text": [
      "Input shape: torch.Size([1, 55, 614, 851])\n",
      "step_size: 0.5\n",
      "mirror_axes: (0, 1, 2)\n",
      "n_steps 90, image size is torch.Size([55, 614, 851]), tile_size [20, 320, 256], tile_step_size 0.5\n",
      "steps:\n",
      "[[0, 9, 18, 26, 35], [0, 147, 294], [0, 119, 238, 357, 476, 595]]\n",
      "move image to device cuda\n",
      "preallocating results arrays on device cuda\n"
     ]
    },
    {
     "name": "stderr",
     "output_type": "stream",
     "text": [
      "100%|██████████| 90/90 [00:48<00:00,  1.85it/s]\n"
     ]
    },
    {
     "name": "stdout",
     "output_type": "stream",
     "text": [
      "Prediction done\n",
      "sending off prediction to background worker for resampling and export\n",
      "done with TCGA-VS-A9UM\n",
      "\n",
      "Predicting TCGA-VS-A9UO:\n",
      "perform_everything_on_device: True\n",
      "Input shape: torch.Size([1, 49, 806, 819])\n",
      "step_size: 0.5\n",
      "mirror_axes: (0, 1, 2)\n",
      "n_steps 120, image size is torch.Size([49, 806, 819]), tile_size [20, 320, 256], tile_step_size 0.5\n",
      "steps:\n",
      "[[0, 10, 19, 29], [0, 122, 243, 364, 486], [0, 113, 225, 338, 450, 563]]\n",
      "move image to device cuda\n",
      "preallocating results arrays on device cuda\n"
     ]
    },
    {
     "name": "stderr",
     "output_type": "stream",
     "text": [
      "  1%|          | 1/120 [00:00<00:29,  4.01it/s]"
     ]
    },
    {
     "name": "stdout",
     "output_type": "stream",
     "text": [
      "None\n"
     ]
    },
    {
     "name": "stderr",
     "output_type": "stream",
     "text": [
      " 19%|█▉        | 23/120 [00:12<00:56,  1.72it/s]"
     ]
    },
    {
     "name": "stdout",
     "output_type": "stream",
     "text": [
      "old shape: (40, 624, 861), new_shape: [ 55 614 848], old_spacing: [np.float64(5.5), np.float64(0.38461539149284363), np.float64(0.38461539149284363)], new_spacing: [3.9999987840652467, 0.3905999958515167, 0.3905999958515167], fn_data: functools.partial(<function resample_data_or_seg_to_shape at 0x7dca2b1daa70>, is_seg=False, order=3, order_z=0, force_separate_z=None)\n"
     ]
    },
    {
     "name": "stderr",
     "output_type": "stream",
     "text": [
      "100%|██████████| 120/120 [01:03<00:00,  1.88it/s]\n"
     ]
    },
    {
     "name": "stdout",
     "output_type": "stream",
     "text": [
      "Input shape: torch.Size([1, 49, 806, 819])\n",
      "step_size: 0.5\n",
      "mirror_axes: (0, 1, 2)\n",
      "n_steps 120, image size is torch.Size([49, 806, 819]), tile_size [20, 320, 256], tile_step_size 0.5\n",
      "steps:\n",
      "[[0, 10, 19, 29], [0, 122, 243, 364, 486], [0, 113, 225, 338, 450, 563]]\n",
      "move image to device cuda\n",
      "preallocating results arrays on device cuda\n"
     ]
    },
    {
     "name": "stderr",
     "output_type": "stream",
     "text": [
      "100%|██████████| 120/120 [01:04<00:00,  1.85it/s]\n"
     ]
    },
    {
     "name": "stdout",
     "output_type": "stream",
     "text": [
      "Input shape: torch.Size([1, 49, 806, 819])\n",
      "step_size: 0.5\n",
      "mirror_axes: (0, 1, 2)\n",
      "n_steps 120, image size is torch.Size([49, 806, 819]), tile_size [20, 320, 256], tile_step_size 0.5\n",
      "steps:\n",
      "[[0, 10, 19, 29], [0, 122, 243, 364, 486], [0, 113, 225, 338, 450, 563]]\n",
      "move image to device cuda\n",
      "preallocating results arrays on device cuda\n"
     ]
    },
    {
     "name": "stderr",
     "output_type": "stream",
     "text": [
      "100%|██████████| 120/120 [01:02<00:00,  1.91it/s]\n"
     ]
    },
    {
     "name": "stdout",
     "output_type": "stream",
     "text": [
      "Prediction done\n",
      "sending off prediction to background worker for resampling and export\n",
      "done with TCGA-VS-A9UO\n",
      "\n",
      "Predicting TCGA-VS-A9UP:\n",
      "perform_everything_on_device: True\n",
      "Input shape: torch.Size([1, 60, 857, 871])\n",
      "step_size: 0.5\n",
      "mirror_axes: (0, 1, 2)\n",
      "n_steps 150, image size is torch.Size([60, 857, 871]), tile_size [20, 320, 256], tile_step_size 0.5\n",
      "steps:\n",
      "[[0, 10, 20, 30, 40], [0, 134, 268, 403, 537], [0, 123, 246, 369, 492, 615]]\n",
      "move image to device cuda\n",
      "preallocating results arrays on device cuda\n"
     ]
    },
    {
     "name": "stderr",
     "output_type": "stream",
     "text": [
      "  1%|          | 1/150 [00:00<00:42,  3.53it/s]"
     ]
    },
    {
     "name": "stdout",
     "output_type": "stream",
     "text": [
      "None\n"
     ]
    },
    {
     "name": "stderr",
     "output_type": "stream",
     "text": [
      " 14%|█▍        | 21/150 [00:10<01:07,  1.90it/s]"
     ]
    },
    {
     "name": "stdout",
     "output_type": "stream",
     "text": [
      "old shape: (40, 624, 859), new_shape: [ 55 614 846], old_spacing: [np.float64(5.5), np.float64(0.38461539149284363), np.float64(0.38461539149284363)], new_spacing: [3.9999987840652467, 0.3905999958515167, 0.3905999958515167], fn_data: functools.partial(<function resample_data_or_seg_to_shape at 0x7b1d57772a70>, is_seg=False, order=3, order_z=0, force_separate_z=None)\n"
     ]
    },
    {
     "name": "stderr",
     "output_type": "stream",
     "text": [
      "100%|██████████| 150/150 [01:18<00:00,  1.90it/s]\n"
     ]
    },
    {
     "name": "stdout",
     "output_type": "stream",
     "text": [
      "Input shape: torch.Size([1, 60, 857, 871])\n",
      "step_size: 0.5\n",
      "mirror_axes: (0, 1, 2)\n",
      "n_steps 150, image size is torch.Size([60, 857, 871]), tile_size [20, 320, 256], tile_step_size 0.5\n",
      "steps:\n",
      "[[0, 10, 20, 30, 40], [0, 134, 268, 403, 537], [0, 123, 246, 369, 492, 615]]\n",
      "move image to device cuda\n",
      "preallocating results arrays on device cuda\n"
     ]
    },
    {
     "name": "stderr",
     "output_type": "stream",
     "text": [
      "100%|██████████| 150/150 [01:22<00:00,  1.82it/s]\n"
     ]
    },
    {
     "name": "stdout",
     "output_type": "stream",
     "text": [
      "Input shape: torch.Size([1, 60, 857, 871])\n",
      "step_size: 0.5\n",
      "mirror_axes: (0, 1, 2)\n",
      "n_steps 150, image size is torch.Size([60, 857, 871]), tile_size [20, 320, 256], tile_step_size 0.5\n",
      "steps:\n",
      "[[0, 10, 20, 30, 40], [0, 134, 268, 403, 537], [0, 123, 246, 369, 492, 615]]\n",
      "move image to device cuda\n",
      "preallocating results arrays on device cuda\n"
     ]
    },
    {
     "name": "stderr",
     "output_type": "stream",
     "text": [
      "100%|██████████| 150/150 [01:20<00:00,  1.86it/s]\n"
     ]
    },
    {
     "name": "stdout",
     "output_type": "stream",
     "text": [
      "Prediction done\n",
      "sending off prediction to background worker for resampling and export\n",
      "done with TCGA-VS-A9UP\n",
      "\n",
      "Predicting TCGA-VS-A9UQ:\n",
      "perform_everything_on_device: True\n",
      "Input shape: torch.Size([1, 60, 756, 768])\n",
      "step_size: 0.5\n",
      "mirror_axes: (0, 1, 2)\n",
      "n_steps 100, image size is torch.Size([60, 756, 768]), tile_size [20, 320, 256], tile_step_size 0.5\n",
      "steps:\n",
      "[[0, 10, 20, 30, 40], [0, 145, 291, 436], [0, 128, 256, 384, 512]]\n",
      "move image to device cuda\n",
      "preallocating results arrays on device cuda\n"
     ]
    },
    {
     "name": "stderr",
     "output_type": "stream",
     "text": [
      "  1%|          | 1/100 [00:00<00:24,  4.01it/s]"
     ]
    },
    {
     "name": "stdout",
     "output_type": "stream",
     "text": [
      "None\n"
     ]
    },
    {
     "name": "stderr",
     "output_type": "stream",
     "text": [
      " 14%|█▍        | 14/100 [00:06<00:47,  1.81it/s]"
     ]
    },
    {
     "name": "stdout",
     "output_type": "stream",
     "text": [
      "old shape: (35, 512, 704), new_shape: [ 48 512 704], old_spacing: [np.float64(5.5), np.float64(0.390625), np.float64(0.390625)], new_spacing: [3.9999987840652467, 0.3905999958515167, 0.3905999958515167], fn_data: functools.partial(<function resample_data_or_seg_to_shape at 0x7dca2b1daa70>, is_seg=False, order=3, order_z=0, force_separate_z=None)\n"
     ]
    },
    {
     "name": "stderr",
     "output_type": "stream",
     "text": [
      "100%|██████████| 100/100 [00:54<00:00,  1.83it/s]\n"
     ]
    },
    {
     "name": "stdout",
     "output_type": "stream",
     "text": [
      "Input shape: torch.Size([1, 60, 756, 768])\n",
      "step_size: 0.5\n",
      "mirror_axes: (0, 1, 2)\n",
      "n_steps 100, image size is torch.Size([60, 756, 768]), tile_size [20, 320, 256], tile_step_size 0.5\n",
      "steps:\n",
      "[[0, 10, 20, 30, 40], [0, 145, 291, 436], [0, 128, 256, 384, 512]]\n",
      "move image to device cuda\n",
      "preallocating results arrays on device cuda\n"
     ]
    },
    {
     "name": "stderr",
     "output_type": "stream",
     "text": [
      "100%|██████████| 100/100 [00:52<00:00,  1.90it/s]\n"
     ]
    },
    {
     "name": "stdout",
     "output_type": "stream",
     "text": [
      "Input shape: torch.Size([1, 60, 756, 768])\n",
      "step_size: 0.5\n",
      "mirror_axes: (0, 1, 2)\n",
      "n_steps 100, image size is torch.Size([60, 756, 768]), tile_size [20, 320, 256], tile_step_size 0.5\n",
      "steps:\n",
      "[[0, 10, 20, 30, 40], [0, 145, 291, 436], [0, 128, 256, 384, 512]]\n",
      "move image to device cuda\n",
      "preallocating results arrays on device cuda\n"
     ]
    },
    {
     "name": "stderr",
     "output_type": "stream",
     "text": [
      "100%|██████████| 100/100 [00:57<00:00,  1.75it/s]\n"
     ]
    },
    {
     "name": "stdout",
     "output_type": "stream",
     "text": [
      "Prediction done\n",
      "sending off prediction to background worker for resampling and export\n",
      "done with TCGA-VS-A9UQ\n",
      "\n",
      "Predicting TCGA-VS-A9UR:\n",
      "perform_everything_on_device: True\n",
      "Input shape: torch.Size([1, 45, 666, 823])\n",
      "step_size: 0.5\n",
      "mirror_axes: (0, 1, 2)\n",
      "n_steps 96, image size is torch.Size([45, 666, 823]), tile_size [20, 320, 256], tile_step_size 0.5\n",
      "steps:\n",
      "[[0, 8, 17, 25], [0, 115, 231, 346], [0, 113, 227, 340, 454, 567]]\n",
      "move image to device cuda\n",
      "preallocating results arrays on device cuda\n"
     ]
    },
    {
     "name": "stderr",
     "output_type": "stream",
     "text": [
      "  1%|          | 1/96 [00:00<00:24,  3.89it/s]"
     ]
    },
    {
     "name": "stdout",
     "output_type": "stream",
     "text": [
      "None\n"
     ]
    },
    {
     "name": "stderr",
     "output_type": "stream",
     "text": [
      " 18%|█▊        | 17/96 [00:09<00:51,  1.54it/s]"
     ]
    },
    {
     "name": "stdout",
     "output_type": "stream",
     "text": [
      "old shape: (35, 624, 857), new_shape: [ 48 614 844], old_spacing: [np.float64(5.5), np.float64(0.38461539149284363), np.float64(0.38461539149284363)], new_spacing: [3.9999987840652467, 0.3905999958515167, 0.3905999958515167], fn_data: functools.partial(<function resample_data_or_seg_to_shape at 0x7b1d57772a70>, is_seg=False, order=3, order_z=0, force_separate_z=None)\n"
     ]
    },
    {
     "name": "stderr",
     "output_type": "stream",
     "text": [
      "100%|██████████| 96/96 [00:56<00:00,  1.71it/s]\n"
     ]
    },
    {
     "name": "stdout",
     "output_type": "stream",
     "text": [
      "Input shape: torch.Size([1, 45, 666, 823])\n",
      "step_size: 0.5\n",
      "mirror_axes: (0, 1, 2)\n",
      "n_steps 96, image size is torch.Size([45, 666, 823]), tile_size [20, 320, 256], tile_step_size 0.5\n",
      "steps:\n",
      "[[0, 8, 17, 25], [0, 115, 231, 346], [0, 113, 227, 340, 454, 567]]\n",
      "move image to device cuda\n",
      "preallocating results arrays on device cuda\n"
     ]
    },
    {
     "name": "stderr",
     "output_type": "stream",
     "text": [
      "100%|██████████| 96/96 [00:57<00:00,  1.67it/s]\n"
     ]
    },
    {
     "name": "stdout",
     "output_type": "stream",
     "text": [
      "Input shape: torch.Size([1, 45, 666, 823])\n",
      "step_size: 0.5\n",
      "mirror_axes: (0, 1, 2)\n",
      "n_steps 96, image size is torch.Size([45, 666, 823]), tile_size [20, 320, 256], tile_step_size 0.5\n",
      "steps:\n",
      "[[0, 8, 17, 25], [0, 115, 231, 346], [0, 113, 227, 340, 454, 567]]\n",
      "move image to device cuda\n",
      "preallocating results arrays on device cuda\n"
     ]
    },
    {
     "name": "stderr",
     "output_type": "stream",
     "text": [
      "100%|██████████| 96/96 [00:59<00:00,  1.61it/s]\n"
     ]
    },
    {
     "name": "stdout",
     "output_type": "stream",
     "text": [
      "Prediction done\n",
      "sending off prediction to background worker for resampling and export\n",
      "done with TCGA-VS-A9UR\n",
      "\n",
      "Predicting TCGA-VS-A9UT:\n",
      "perform_everything_on_device: True\n",
      "None\n",
      "Input shape: torch.Size([1, 55, 614, 848])\n",
      "step_size: 0.5\n",
      "mirror_axes: (0, 1, 2)\n",
      "n_steps 90, image size is torch.Size([55, 614, 848]), tile_size [20, 320, 256], tile_step_size 0.5\n",
      "steps:\n",
      "[[0, 9, 18, 26, 35], [0, 147, 294], [0, 118, 237, 355, 474, 592]]\n",
      "move image to device cuda\n",
      "preallocating results arrays on device cuda\n"
     ]
    },
    {
     "name": "stderr",
     "output_type": "stream",
     "text": [
      " 22%|██▏       | 20/90 [00:11<00:46,  1.51it/s]"
     ]
    },
    {
     "name": "stdout",
     "output_type": "stream",
     "text": [
      "old shape: (30, 208, 319), new_shape: [ 62 632 970], old_spacing: [np.float64(8.25), np.float64(1.1875), np.float64(1.1875)], new_spacing: [3.9999987840652467, 0.3905999958515167, 0.3905999958515167], fn_data: functools.partial(<function resample_data_or_seg_to_shape at 0x7dca2b1daa70>, is_seg=False, order=3, order_z=0, force_separate_z=None)\n"
     ]
    },
    {
     "name": "stderr",
     "output_type": "stream",
     "text": [
      "100%|██████████| 90/90 [00:53<00:00,  1.67it/s]\n"
     ]
    },
    {
     "name": "stdout",
     "output_type": "stream",
     "text": [
      "Input shape: torch.Size([1, 55, 614, 848])\n",
      "step_size: 0.5\n",
      "mirror_axes: (0, 1, 2)\n",
      "n_steps 90, image size is torch.Size([55, 614, 848]), tile_size [20, 320, 256], tile_step_size 0.5\n",
      "steps:\n",
      "[[0, 9, 18, 26, 35], [0, 147, 294], [0, 118, 237, 355, 474, 592]]\n",
      "move image to device cuda\n",
      "preallocating results arrays on device cuda\n"
     ]
    },
    {
     "name": "stderr",
     "output_type": "stream",
     "text": [
      "100%|██████████| 90/90 [00:52<00:00,  1.72it/s]\n"
     ]
    },
    {
     "name": "stdout",
     "output_type": "stream",
     "text": [
      "Input shape: torch.Size([1, 55, 614, 848])\n",
      "step_size: 0.5\n",
      "mirror_axes: (0, 1, 2)\n",
      "n_steps 90, image size is torch.Size([55, 614, 848]), tile_size [20, 320, 256], tile_step_size 0.5\n",
      "steps:\n",
      "[[0, 9, 18, 26, 35], [0, 147, 294], [0, 118, 237, 355, 474, 592]]\n",
      "move image to device cuda\n",
      "preallocating results arrays on device cuda\n"
     ]
    },
    {
     "name": "stderr",
     "output_type": "stream",
     "text": [
      "100%|██████████| 90/90 [00:52<00:00,  1.73it/s]\n"
     ]
    },
    {
     "name": "stdout",
     "output_type": "stream",
     "text": [
      "Prediction done\n",
      "sending off prediction to background worker for resampling and export\n",
      "done with TCGA-VS-A9UT\n",
      "\n",
      "Predicting TCGA-VS-A9UU:\n",
      "perform_everything_on_device: True\n",
      "Input shape: torch.Size([1, 55, 614, 846])\n",
      "step_size: 0.5\n",
      "mirror_axes: (0, 1, 2)\n",
      "n_steps 90, image size is torch.Size([55, 614, 846]), tile_size [20, 320, 256], tile_step_size 0.5\n",
      "steps:\n",
      "[[0, 9, 18, 26, 35], [0, 147, 294], [0, 118, 236, 354, 472, 590]]\n",
      "move image to device cuda\n",
      "preallocating results arrays on device cuda\n"
     ]
    },
    {
     "name": "stderr",
     "output_type": "stream",
     "text": [
      "  1%|          | 1/90 [00:00<00:23,  3.75it/s]"
     ]
    },
    {
     "name": "stdout",
     "output_type": "stream",
     "text": [
      "None\n"
     ]
    },
    {
     "name": "stderr",
     "output_type": "stream",
     "text": [
      " 22%|██▏       | 20/90 [00:11<00:41,  1.71it/s]"
     ]
    },
    {
     "name": "stdout",
     "output_type": "stream",
     "text": [
      "old shape: (35, 636, 871), new_shape: [ 48 666 912], old_spacing: [np.float64(5.5), np.float64(0.4088050425052643), np.float64(0.4088050425052643)], new_spacing: [3.9999987840652467, 0.3905999958515167, 0.3905999958515167], fn_data: functools.partial(<function resample_data_or_seg_to_shape at 0x7b1d57772a70>, is_seg=False, order=3, order_z=0, force_separate_z=None)\n"
     ]
    },
    {
     "name": "stderr",
     "output_type": "stream",
     "text": [
      "100%|██████████| 90/90 [00:52<00:00,  1.72it/s]\n"
     ]
    },
    {
     "name": "stdout",
     "output_type": "stream",
     "text": [
      "Input shape: torch.Size([1, 55, 614, 846])\n",
      "step_size: 0.5\n",
      "mirror_axes: (0, 1, 2)\n",
      "n_steps 90, image size is torch.Size([55, 614, 846]), tile_size [20, 320, 256], tile_step_size 0.5\n",
      "steps:\n",
      "[[0, 9, 18, 26, 35], [0, 147, 294], [0, 118, 236, 354, 472, 590]]\n",
      "move image to device cuda\n",
      "preallocating results arrays on device cuda\n"
     ]
    },
    {
     "name": "stderr",
     "output_type": "stream",
     "text": [
      "100%|██████████| 90/90 [00:53<00:00,  1.69it/s]\n"
     ]
    },
    {
     "name": "stdout",
     "output_type": "stream",
     "text": [
      "Input shape: torch.Size([1, 55, 614, 846])\n",
      "step_size: 0.5\n",
      "mirror_axes: (0, 1, 2)\n",
      "n_steps 90, image size is torch.Size([55, 614, 846]), tile_size [20, 320, 256], tile_step_size 0.5\n",
      "steps:\n",
      "[[0, 9, 18, 26, 35], [0, 147, 294], [0, 118, 236, 354, 472, 590]]\n",
      "move image to device cuda\n",
      "preallocating results arrays on device cuda\n"
     ]
    },
    {
     "name": "stderr",
     "output_type": "stream",
     "text": [
      "100%|██████████| 90/90 [00:52<00:00,  1.72it/s]\n"
     ]
    },
    {
     "name": "stdout",
     "output_type": "stream",
     "text": [
      "Prediction done\n",
      "sending off prediction to background worker for resampling and export\n",
      "done with TCGA-VS-A9UU\n",
      "\n",
      "Predicting TCGA-VS-A9UV:\n",
      "perform_everything_on_device: True\n",
      "Input shape: torch.Size([1, 48, 512, 704])\n",
      "step_size: 0.5\n",
      "mirror_axes: (0, 1, 2)\n",
      "n_steps 60, image size is torch.Size([48, 512, 704]), tile_size [20, 320, 256], tile_step_size 0.5\n",
      "steps:\n",
      "[[0, 9, 19, 28], [0, 96, 192], [0, 112, 224, 336, 448]]\n",
      "move image to device cuda\n",
      "preallocating results arrays on device cuda\n"
     ]
    },
    {
     "name": "stderr",
     "output_type": "stream",
     "text": [
      "  2%|▏         | 1/60 [00:00<00:14,  4.20it/s]"
     ]
    },
    {
     "name": "stdout",
     "output_type": "stream",
     "text": [
      "None\n"
     ]
    },
    {
     "name": "stderr",
     "output_type": "stream",
     "text": [
      " 25%|██▌       | 15/60 [00:09<00:29,  1.55it/s]"
     ]
    },
    {
     "name": "stdout",
     "output_type": "stream",
     "text": [
      "old shape: (35, 624, 854), new_shape: [ 48 614 841], old_spacing: [np.float64(5.5), np.float64(0.38461539149284363), np.float64(0.38461539149284363)], new_spacing: [3.9999987840652467, 0.3905999958515167, 0.3905999958515167], fn_data: functools.partial(<function resample_data_or_seg_to_shape at 0x7dca2b1daa70>, is_seg=False, order=3, order_z=0, force_separate_z=None)\n"
     ]
    },
    {
     "name": "stderr",
     "output_type": "stream",
     "text": [
      "100%|██████████| 60/60 [00:38<00:00,  1.56it/s]\n"
     ]
    },
    {
     "name": "stdout",
     "output_type": "stream",
     "text": [
      "Input shape: torch.Size([1, 48, 512, 704])\n",
      "step_size: 0.5\n",
      "mirror_axes: (0, 1, 2)\n",
      "n_steps 60, image size is torch.Size([48, 512, 704]), tile_size [20, 320, 256], tile_step_size 0.5\n",
      "steps:\n",
      "[[0, 9, 19, 28], [0, 96, 192], [0, 112, 224, 336, 448]]\n",
      "move image to device cuda\n",
      "preallocating results arrays on device cuda\n"
     ]
    },
    {
     "name": "stderr",
     "output_type": "stream",
     "text": [
      "100%|██████████| 60/60 [00:33<00:00,  1.78it/s]\n"
     ]
    },
    {
     "name": "stdout",
     "output_type": "stream",
     "text": [
      "Input shape: torch.Size([1, 48, 512, 704])\n",
      "step_size: 0.5\n",
      "mirror_axes: (0, 1, 2)\n",
      "n_steps 60, image size is torch.Size([48, 512, 704]), tile_size [20, 320, 256], tile_step_size 0.5\n",
      "steps:\n",
      "[[0, 9, 19, 28], [0, 96, 192], [0, 112, 224, 336, 448]]\n",
      "move image to device cuda\n",
      "preallocating results arrays on device cuda\n"
     ]
    },
    {
     "name": "stderr",
     "output_type": "stream",
     "text": [
      "100%|██████████| 60/60 [00:36<00:00,  1.64it/s]\n"
     ]
    },
    {
     "name": "stdout",
     "output_type": "stream",
     "text": [
      "Prediction done\n",
      "sending off prediction to background worker for resampling and export\n",
      "done with TCGA-VS-A9UV\n",
      "\n",
      "Predicting TCGA-VS-A9UY:\n",
      "perform_everything_on_device: True\n",
      "Input shape: torch.Size([1, 48, 614, 844])\n",
      "step_size: 0.5\n",
      "mirror_axes: (0, 1, 2)\n",
      "n_steps 72, image size is torch.Size([48, 614, 844]), tile_size [20, 320, 256], tile_step_size 0.5\n",
      "steps:\n",
      "[[0, 9, 19, 28], [0, 147, 294], [0, 118, 235, 353, 470, 588]]\n",
      "move image to device cuda\n",
      "None\n",
      "preallocating results arrays on device cuda\n"
     ]
    },
    {
     "name": "stderr",
     "output_type": "stream",
     "text": [
      " 22%|██▏       | 16/72 [00:10<00:39,  1.41it/s]"
     ]
    },
    {
     "name": "stdout",
     "output_type": "stream",
     "text": [
      "old shape: (40, 504, 512), new_shape: [ 60 756 768], old_spacing: [np.float64(5.999993801116943), np.float64(0.5859000086784363), np.float64(0.5859000086784363)], new_spacing: [3.9999987840652467, 0.3905999958515167, 0.3905999958515167], fn_data: functools.partial(<function resample_data_or_seg_to_shape at 0x7b1d57772a70>, is_seg=False, order=3, order_z=0, force_separate_z=None)\n"
     ]
    },
    {
     "name": "stderr",
     "output_type": "stream",
     "text": [
      "100%|██████████| 72/72 [00:45<00:00,  1.58it/s]\n"
     ]
    },
    {
     "name": "stdout",
     "output_type": "stream",
     "text": [
      "Input shape: torch.Size([1, 48, 614, 844])\n",
      "step_size: 0.5\n",
      "mirror_axes: (0, 1, 2)\n",
      "n_steps 72, image size is torch.Size([48, 614, 844]), tile_size [20, 320, 256], tile_step_size 0.5\n",
      "steps:\n",
      "[[0, 9, 19, 28], [0, 147, 294], [0, 118, 235, 353, 470, 588]]\n",
      "move image to device cuda\n",
      "preallocating results arrays on device cuda\n"
     ]
    },
    {
     "name": "stderr",
     "output_type": "stream",
     "text": [
      "100%|██████████| 72/72 [00:41<00:00,  1.73it/s]\n"
     ]
    },
    {
     "name": "stdout",
     "output_type": "stream",
     "text": [
      "Input shape: torch.Size([1, 48, 614, 844])\n",
      "step_size: 0.5\n",
      "mirror_axes: (0, 1, 2)\n",
      "n_steps 72, image size is torch.Size([48, 614, 844]), tile_size [20, 320, 256], tile_step_size 0.5\n",
      "steps:\n",
      "[[0, 9, 19, 28], [0, 147, 294], [0, 118, 235, 353, 470, 588]]\n",
      "move image to device cuda\n",
      "preallocating results arrays on device cuda\n"
     ]
    },
    {
     "name": "stderr",
     "output_type": "stream",
     "text": [
      "100%|██████████| 72/72 [00:43<00:00,  1.66it/s]\n"
     ]
    },
    {
     "name": "stdout",
     "output_type": "stream",
     "text": [
      "Prediction done\n",
      "sending off prediction to background worker for resampling and export\n",
      "done with TCGA-VS-A9UY\n",
      "\n",
      "Predicting TCGA-VS-A9UZ:\n",
      "perform_everything_on_device: True\n",
      "Input shape: torch.Size([1, 62, 632, 970])\n",
      "step_size: 0.5\n",
      "mirror_axes: (0, 1, 2)\n",
      "n_steps 126, image size is torch.Size([62, 632, 970]), tile_size [20, 320, 256], tile_step_size 0.5\n",
      "steps:\n",
      "[[0, 8, 17, 25, 34, 42], [0, 156, 312], [0, 119, 238, 357, 476, 595, 714]]\n",
      "move image to device cuda\n",
      "preallocating results arrays on device cuda\n"
     ]
    },
    {
     "name": "stderr",
     "output_type": "stream",
     "text": [
      "  1%|          | 1/126 [00:00<00:33,  3.75it/s]"
     ]
    },
    {
     "name": "stdout",
     "output_type": "stream",
     "text": [
      "None\n"
     ]
    },
    {
     "name": "stderr",
     "output_type": "stream",
     "text": [
      " 15%|█▌        | 19/126 [00:12<01:09,  1.54it/s]"
     ]
    },
    {
     "name": "stdout",
     "output_type": "stream",
     "text": [
      "old shape: (35, 636, 869), new_shape: [ 48 666 910], old_spacing: [np.float64(5.5), np.float64(0.4088050425052643), np.float64(0.4088050425052643)], new_spacing: [3.9999987840652467, 0.3905999958515167, 0.3905999958515167], fn_data: functools.partial(<function resample_data_or_seg_to_shape at 0x7dca2b1daa70>, is_seg=False, order=3, order_z=0, force_separate_z=None)\n"
     ]
    },
    {
     "name": "stderr",
     "output_type": "stream",
     "text": [
      "100%|██████████| 126/126 [01:16<00:00,  1.64it/s]\n"
     ]
    },
    {
     "name": "stdout",
     "output_type": "stream",
     "text": [
      "Input shape: torch.Size([1, 62, 632, 970])\n",
      "step_size: 0.5\n",
      "mirror_axes: (0, 1, 2)\n",
      "n_steps 126, image size is torch.Size([62, 632, 970]), tile_size [20, 320, 256], tile_step_size 0.5\n",
      "steps:\n",
      "[[0, 8, 17, 25, 34, 42], [0, 156, 312], [0, 119, 238, 357, 476, 595, 714]]\n",
      "move image to device cuda\n",
      "preallocating results arrays on device cuda\n"
     ]
    },
    {
     "name": "stderr",
     "output_type": "stream",
     "text": [
      "100%|██████████| 126/126 [01:17<00:00,  1.63it/s]\n"
     ]
    },
    {
     "name": "stdout",
     "output_type": "stream",
     "text": [
      "Input shape: torch.Size([1, 62, 632, 970])\n",
      "step_size: 0.5\n",
      "mirror_axes: (0, 1, 2)\n",
      "n_steps 126, image size is torch.Size([62, 632, 970]), tile_size [20, 320, 256], tile_step_size 0.5\n",
      "steps:\n",
      "[[0, 8, 17, 25, 34, 42], [0, 156, 312], [0, 119, 238, 357, 476, 595, 714]]\n",
      "move image to device cuda\n",
      "preallocating results arrays on device cuda\n"
     ]
    },
    {
     "name": "stderr",
     "output_type": "stream",
     "text": [
      "100%|██████████| 126/126 [01:17<00:00,  1.62it/s]\n"
     ]
    },
    {
     "name": "stdout",
     "output_type": "stream",
     "text": [
      "Prediction done\n",
      "sending off prediction to background worker for resampling and export\n",
      "done with TCGA-VS-A9UZ\n",
      "\n",
      "Predicting TCGA-VS-A9V0:\n",
      "perform_everything_on_device: True\n",
      "Input shape: torch.Size([1, 48, 666, 912])\n",
      "step_size: 0.5\n",
      "mirror_axes: (0, 1, 2)\n",
      "n_steps 112, image size is torch.Size([48, 666, 912]), tile_size [20, 320, 256], tile_step_size 0.5\n",
      "steps:\n",
      "[[0, 9, 19, 28], [0, 115, 231, 346], [0, 109, 219, 328, 437, 547, 656]]\n",
      "move image to device cuda\n",
      "preallocating results arrays on device cuda\n"
     ]
    },
    {
     "name": "stderr",
     "output_type": "stream",
     "text": [
      "  1%|          | 1/112 [00:00<00:29,  3.76it/s]"
     ]
    },
    {
     "name": "stdout",
     "output_type": "stream",
     "text": [
      "None\n"
     ]
    },
    {
     "name": "stderr",
     "output_type": "stream",
     "text": [
      " 15%|█▌        | 17/112 [00:10<01:04,  1.47it/s]"
     ]
    },
    {
     "name": "stdout",
     "output_type": "stream",
     "text": [
      "old shape: (40, 624, 862), new_shape: [ 55 614 849], old_spacing: [np.float64(5.5), np.float64(0.38461539149284363), np.float64(0.38461539149284363)], new_spacing: [3.9999987840652467, 0.3905999958515167, 0.3905999958515167], fn_data: functools.partial(<function resample_data_or_seg_to_shape at 0x7b1d57772a70>, is_seg=False, order=3, order_z=0, force_separate_z=None)\n"
     ]
    },
    {
     "name": "stderr",
     "output_type": "stream",
     "text": [
      "100%|██████████| 112/112 [01:08<00:00,  1.64it/s]\n"
     ]
    },
    {
     "name": "stdout",
     "output_type": "stream",
     "text": [
      "Input shape: torch.Size([1, 48, 666, 912])\n",
      "step_size: 0.5\n",
      "mirror_axes: (0, 1, 2)\n",
      "n_steps 112, image size is torch.Size([48, 666, 912]), tile_size [20, 320, 256], tile_step_size 0.5\n",
      "steps:\n",
      "[[0, 9, 19, 28], [0, 115, 231, 346], [0, 109, 219, 328, 437, 547, 656]]\n",
      "move image to device cuda\n",
      "preallocating results arrays on device cuda\n"
     ]
    },
    {
     "name": "stderr",
     "output_type": "stream",
     "text": [
      "100%|██████████| 112/112 [01:06<00:00,  1.70it/s]\n"
     ]
    },
    {
     "name": "stdout",
     "output_type": "stream",
     "text": [
      "Input shape: torch.Size([1, 48, 666, 912])\n",
      "step_size: 0.5\n",
      "mirror_axes: (0, 1, 2)\n",
      "n_steps 112, image size is torch.Size([48, 666, 912]), tile_size [20, 320, 256], tile_step_size 0.5\n",
      "steps:\n",
      "[[0, 9, 19, 28], [0, 115, 231, 346], [0, 109, 219, 328, 437, 547, 656]]\n",
      "move image to device cuda\n",
      "preallocating results arrays on device cuda\n"
     ]
    },
    {
     "name": "stderr",
     "output_type": "stream",
     "text": [
      "100%|██████████| 112/112 [01:07<00:00,  1.67it/s]\n"
     ]
    },
    {
     "name": "stdout",
     "output_type": "stream",
     "text": [
      "Prediction done\n",
      "sending off prediction to background worker for resampling and export\n",
      "done with TCGA-VS-A9V0\n",
      "\n",
      "Predicting TCGA-VS-A9V1:\n",
      "perform_everything_on_device: True\n",
      "Input shape: torch.Size([1, 48, 614, 841])\n",
      "step_size: 0.5\n",
      "mirror_axes: (0, 1, 2)\n",
      "n_steps 72, image size is torch.Size([48, 614, 841]), tile_size [20, 320, 256], tile_step_size 0.5\n",
      "steps:\n",
      "[[0, 9, 19, 28], [0, 147, 294], [0, 117, 234, 351, 468, 585]]\n",
      "move image to device cuda\n",
      "None\n",
      "preallocating results arrays on device cuda\n"
     ]
    },
    {
     "name": "stderr",
     "output_type": "stream",
     "text": [
      " 82%|████████▏ | 59/72 [00:35<00:07,  1.67it/s]"
     ]
    },
    {
     "name": "stdout",
     "output_type": "stream",
     "text": [
      "old shape: (36, 488, 503), new_shape: [  54 1171 1207], old_spacing: [np.float64(5.999999046325684), np.float64(0.9375), np.float64(0.9375029802322388)], new_spacing: [3.9999987840652467, 0.3905999958515167, 0.3905999958515167], fn_data: functools.partial(<function resample_data_or_seg_to_shape at 0x7dca2b1daa70>, is_seg=False, order=3, order_z=0, force_separate_z=None)\n"
     ]
    },
    {
     "name": "stderr",
     "output_type": "stream",
     "text": [
      "100%|██████████| 72/72 [00:42<00:00,  1.68it/s]\n"
     ]
    },
    {
     "name": "stdout",
     "output_type": "stream",
     "text": [
      "Input shape: torch.Size([1, 48, 614, 841])\n",
      "step_size: 0.5\n",
      "mirror_axes: (0, 1, 2)\n",
      "n_steps 72, image size is torch.Size([48, 614, 841]), tile_size [20, 320, 256], tile_step_size 0.5\n",
      "steps:\n",
      "[[0, 9, 19, 28], [0, 147, 294], [0, 117, 234, 351, 468, 585]]\n",
      "move image to device cuda\n",
      "preallocating results arrays on device cuda\n"
     ]
    },
    {
     "name": "stderr",
     "output_type": "stream",
     "text": [
      "100%|██████████| 72/72 [00:42<00:00,  1.68it/s]\n"
     ]
    },
    {
     "name": "stdout",
     "output_type": "stream",
     "text": [
      "Input shape: torch.Size([1, 48, 614, 841])\n",
      "step_size: 0.5\n",
      "mirror_axes: (0, 1, 2)\n",
      "n_steps 72, image size is torch.Size([48, 614, 841]), tile_size [20, 320, 256], tile_step_size 0.5\n",
      "steps:\n",
      "[[0, 9, 19, 28], [0, 147, 294], [0, 117, 234, 351, 468, 585]]\n",
      "move image to device cuda\n",
      "preallocating results arrays on device cuda\n"
     ]
    },
    {
     "name": "stderr",
     "output_type": "stream",
     "text": [
      "100%|██████████| 72/72 [00:42<00:00,  1.71it/s]\n"
     ]
    },
    {
     "name": "stdout",
     "output_type": "stream",
     "text": [
      "Prediction done\n",
      "sending off prediction to background worker for resampling and export\n",
      "done with TCGA-VS-A9V1\n",
      "\n",
      "Predicting TCGA-VS-A9V2:\n",
      "perform_everything_on_device: True\n",
      "None\n",
      "Input shape: torch.Size([1, 60, 756, 768])\n",
      "step_size: 0.5\n",
      "mirror_axes: (0, 1, 2)\n",
      "n_steps 100, image size is torch.Size([60, 756, 768]), tile_size [20, 320, 256], tile_step_size 0.5\n",
      "steps:\n",
      "[[0, 10, 20, 30, 40], [0, 145, 291, 436], [0, 128, 256, 384, 512]]\n",
      "move image to device cuda\n",
      "preallocating results arrays on device cuda\n"
     ]
    },
    {
     "name": "stderr",
     "output_type": "stream",
     "text": [
      " 24%|██▍       | 24/100 [00:12<00:42,  1.81it/s]"
     ]
    },
    {
     "name": "stdout",
     "output_type": "stream",
     "text": [
      "old shape: (30, 208, 319), new_shape: [  62  699 1072], old_spacing: [np.float64(8.25), np.float64(1.3125), np.float64(1.3125)], new_spacing: [3.9999987840652467, 0.3905999958515167, 0.3905999958515167], fn_data: functools.partial(<function resample_data_or_seg_to_shape at 0x7b1d57772a70>, is_seg=False, order=3, order_z=0, force_separate_z=None)\n"
     ]
    },
    {
     "name": "stderr",
     "output_type": "stream",
     "text": [
      "100%|██████████| 100/100 [00:58<00:00,  1.70it/s]\n"
     ]
    },
    {
     "name": "stdout",
     "output_type": "stream",
     "text": [
      "Input shape: torch.Size([1, 60, 756, 768])\n",
      "step_size: 0.5\n",
      "mirror_axes: (0, 1, 2)\n",
      "n_steps 100, image size is torch.Size([60, 756, 768]), tile_size [20, 320, 256], tile_step_size 0.5\n",
      "steps:\n",
      "[[0, 10, 20, 30, 40], [0, 145, 291, 436], [0, 128, 256, 384, 512]]\n",
      "move image to device cuda\n",
      "preallocating results arrays on device cuda\n"
     ]
    },
    {
     "name": "stderr",
     "output_type": "stream",
     "text": [
      "100%|██████████| 100/100 [00:58<00:00,  1.71it/s]\n"
     ]
    },
    {
     "name": "stdout",
     "output_type": "stream",
     "text": [
      "Input shape: torch.Size([1, 60, 756, 768])\n",
      "step_size: 0.5\n",
      "mirror_axes: (0, 1, 2)\n",
      "n_steps 100, image size is torch.Size([60, 756, 768]), tile_size [20, 320, 256], tile_step_size 0.5\n",
      "steps:\n",
      "[[0, 10, 20, 30, 40], [0, 145, 291, 436], [0, 128, 256, 384, 512]]\n",
      "move image to device cuda\n",
      "preallocating results arrays on device cuda\n"
     ]
    },
    {
     "name": "stderr",
     "output_type": "stream",
     "text": [
      "100%|██████████| 100/100 [01:02<00:00,  1.59it/s]\n"
     ]
    },
    {
     "name": "stdout",
     "output_type": "stream",
     "text": [
      "Prediction done\n",
      "sending off prediction to background worker for resampling and export\n",
      "done with TCGA-VS-A9V2\n",
      "\n",
      "Predicting TCGA-VS-A9V3:\n",
      "perform_everything_on_device: True\n",
      "Input shape: torch.Size([1, 48, 666, 910])\n",
      "step_size: 0.5\n",
      "mirror_axes: (0, 1, 2)\n",
      "n_steps 112, image size is torch.Size([48, 666, 910]), tile_size [20, 320, 256], tile_step_size 0.5\n",
      "steps:\n",
      "[[0, 9, 19, 28], [0, 115, 231, 346], [0, 109, 218, 327, 436, 545, 654]]\n",
      "move image to device cuda\n",
      "preallocating results arrays on device cuda\n"
     ]
    },
    {
     "name": "stderr",
     "output_type": "stream",
     "text": [
      "100%|██████████| 112/112 [01:07<00:00,  1.65it/s]\n"
     ]
    },
    {
     "name": "stdout",
     "output_type": "stream",
     "text": [
      "Input shape: torch.Size([1, 48, 666, 910])\n",
      "step_size: 0.5\n",
      "mirror_axes: (0, 1, 2)\n",
      "n_steps 112, image size is torch.Size([48, 666, 910]), tile_size [20, 320, 256], tile_step_size 0.5\n",
      "steps:\n",
      "[[0, 9, 19, 28], [0, 115, 231, 346], [0, 109, 218, 327, 436, 545, 654]]\n",
      "move image to device cuda\n",
      "preallocating results arrays on device cuda\n"
     ]
    },
    {
     "name": "stderr",
     "output_type": "stream",
     "text": [
      "100%|██████████| 112/112 [01:09<00:00,  1.60it/s]\n"
     ]
    },
    {
     "name": "stdout",
     "output_type": "stream",
     "text": [
      "Input shape: torch.Size([1, 48, 666, 910])\n",
      "step_size: 0.5\n",
      "mirror_axes: (0, 1, 2)\n",
      "n_steps 112, image size is torch.Size([48, 666, 910]), tile_size [20, 320, 256], tile_step_size 0.5\n",
      "steps:\n",
      "[[0, 9, 19, 28], [0, 115, 231, 346], [0, 109, 218, 327, 436, 545, 654]]\n",
      "move image to device cuda\n",
      "preallocating results arrays on device cuda\n"
     ]
    },
    {
     "name": "stderr",
     "output_type": "stream",
     "text": [
      "100%|██████████| 112/112 [01:06<00:00,  1.69it/s]\n"
     ]
    },
    {
     "name": "stdout",
     "output_type": "stream",
     "text": [
      "Prediction done\n",
      "sending off prediction to background worker for resampling and export\n",
      "done with TCGA-VS-A9V3\n",
      "\n",
      "Predicting TCGA-VS-A9V4:\n",
      "perform_everything_on_device: True\n",
      "Input shape: torch.Size([1, 55, 614, 849])\n",
      "step_size: 0.5\n",
      "mirror_axes: (0, 1, 2)\n",
      "n_steps 90, image size is torch.Size([55, 614, 849]), tile_size [20, 320, 256], tile_step_size 0.5\n",
      "steps:\n",
      "[[0, 9, 18, 26, 35], [0, 147, 294], [0, 119, 237, 356, 474, 593]]\n",
      "move image to device cuda\n",
      "preallocating results arrays on device cuda\n"
     ]
    },
    {
     "name": "stderr",
     "output_type": "stream",
     "text": [
      "100%|██████████| 90/90 [00:54<00:00,  1.64it/s]\n"
     ]
    },
    {
     "name": "stdout",
     "output_type": "stream",
     "text": [
      "Input shape: torch.Size([1, 55, 614, 849])\n",
      "step_size: 0.5\n",
      "mirror_axes: (0, 1, 2)\n",
      "n_steps 90, image size is torch.Size([55, 614, 849]), tile_size [20, 320, 256], tile_step_size 0.5\n",
      "steps:\n",
      "[[0, 9, 18, 26, 35], [0, 147, 294], [0, 119, 237, 356, 474, 593]]\n",
      "move image to device cuda\n",
      "preallocating results arrays on device cuda\n"
     ]
    },
    {
     "name": "stderr",
     "output_type": "stream",
     "text": [
      "100%|██████████| 90/90 [00:52<00:00,  1.71it/s]\n"
     ]
    },
    {
     "name": "stdout",
     "output_type": "stream",
     "text": [
      "Input shape: torch.Size([1, 55, 614, 849])\n",
      "step_size: 0.5\n",
      "mirror_axes: (0, 1, 2)\n",
      "n_steps 90, image size is torch.Size([55, 614, 849]), tile_size [20, 320, 256], tile_step_size 0.5\n",
      "steps:\n",
      "[[0, 9, 18, 26, 35], [0, 147, 294], [0, 119, 237, 356, 474, 593]]\n",
      "move image to device cuda\n",
      "preallocating results arrays on device cuda\n"
     ]
    },
    {
     "name": "stderr",
     "output_type": "stream",
     "text": [
      "100%|██████████| 90/90 [00:51<00:00,  1.76it/s]\n"
     ]
    },
    {
     "name": "stdout",
     "output_type": "stream",
     "text": [
      "Prediction done\n",
      "sending off prediction to background worker for resampling and export\n",
      "done with TCGA-VS-A9V4\n",
      "\n",
      "Predicting TCGA-VS-A9V5:\n",
      "perform_everything_on_device: True\n",
      "Input shape: torch.Size([1, 54, 1171, 1207])\n",
      "step_size: 0.5\n",
      "mirror_axes: (0, 1, 2)\n",
      "n_steps 315, image size is torch.Size([54, 1171, 1207]), tile_size [20, 320, 256], tile_step_size 0.5\n",
      "steps:\n",
      "[[0, 8, 17, 26, 34], [0, 142, 284, 426, 567, 709, 851], [0, 119, 238, 357, 476, 594, 713, 832, 951]]\n",
      "move image to device cuda\n",
      "preallocating results arrays on device cuda\n"
     ]
    },
    {
     "name": "stderr",
     "output_type": "stream",
     "text": [
      "100%|██████████| 315/315 [02:50<00:00,  1.84it/s]\n"
     ]
    },
    {
     "name": "stdout",
     "output_type": "stream",
     "text": [
      "Input shape: torch.Size([1, 54, 1171, 1207])\n",
      "step_size: 0.5\n",
      "mirror_axes: (0, 1, 2)\n",
      "n_steps 315, image size is torch.Size([54, 1171, 1207]), tile_size [20, 320, 256], tile_step_size 0.5\n",
      "steps:\n",
      "[[0, 8, 17, 26, 34], [0, 142, 284, 426, 567, 709, 851], [0, 119, 238, 357, 476, 594, 713, 832, 951]]\n",
      "move image to device cuda\n",
      "preallocating results arrays on device cuda\n"
     ]
    },
    {
     "name": "stderr",
     "output_type": "stream",
     "text": [
      "100%|██████████| 315/315 [02:50<00:00,  1.85it/s]\n"
     ]
    },
    {
     "name": "stdout",
     "output_type": "stream",
     "text": [
      "Input shape: torch.Size([1, 54, 1171, 1207])\n",
      "step_size: 0.5\n",
      "mirror_axes: (0, 1, 2)\n",
      "n_steps 315, image size is torch.Size([54, 1171, 1207]), tile_size [20, 320, 256], tile_step_size 0.5\n",
      "steps:\n",
      "[[0, 8, 17, 26, 34], [0, 142, 284, 426, 567, 709, 851], [0, 119, 238, 357, 476, 594, 713, 832, 951]]\n",
      "move image to device cuda\n",
      "preallocating results arrays on device cuda\n"
     ]
    },
    {
     "name": "stderr",
     "output_type": "stream",
     "text": [
      "100%|██████████| 315/315 [02:49<00:00,  1.85it/s]\n"
     ]
    },
    {
     "name": "stdout",
     "output_type": "stream",
     "text": [
      "Prediction done\n",
      "sending off prediction to background worker for resampling and export\n",
      "done with TCGA-VS-A9V5\n",
      "\n",
      "Predicting TCGA-VS-AA62:\n",
      "perform_everything_on_device: True\n",
      "Input shape: torch.Size([1, 62, 699, 1072])\n",
      "step_size: 0.5\n",
      "mirror_axes: (0, 1, 2)\n",
      "n_steps 192, image size is torch.Size([62, 699, 1072]), tile_size [20, 320, 256], tile_step_size 0.5\n",
      "steps:\n",
      "[[0, 8, 17, 25, 34, 42], [0, 126, 253, 379], [0, 117, 233, 350, 466, 583, 699, 816]]\n",
      "move image to device cuda\n",
      "preallocating results arrays on device cuda\n"
     ]
    },
    {
     "name": "stderr",
     "output_type": "stream",
     "text": [
      "100%|██████████| 192/192 [01:44<00:00,  1.84it/s]\n"
     ]
    },
    {
     "name": "stdout",
     "output_type": "stream",
     "text": [
      "Input shape: torch.Size([1, 62, 699, 1072])\n",
      "step_size: 0.5\n",
      "mirror_axes: (0, 1, 2)\n",
      "n_steps 192, image size is torch.Size([62, 699, 1072]), tile_size [20, 320, 256], tile_step_size 0.5\n",
      "steps:\n",
      "[[0, 8, 17, 25, 34, 42], [0, 126, 253, 379], [0, 117, 233, 350, 466, 583, 699, 816]]\n",
      "move image to device cuda\n",
      "preallocating results arrays on device cuda\n"
     ]
    },
    {
     "name": "stderr",
     "output_type": "stream",
     "text": [
      "100%|██████████| 192/192 [01:43<00:00,  1.86it/s]\n"
     ]
    },
    {
     "name": "stdout",
     "output_type": "stream",
     "text": [
      "Input shape: torch.Size([1, 62, 699, 1072])\n",
      "step_size: 0.5\n",
      "mirror_axes: (0, 1, 2)\n",
      "n_steps 192, image size is torch.Size([62, 699, 1072]), tile_size [20, 320, 256], tile_step_size 0.5\n",
      "steps:\n",
      "[[0, 8, 17, 25, 34, 42], [0, 126, 253, 379], [0, 117, 233, 350, 466, 583, 699, 816]]\n",
      "move image to device cuda\n",
      "preallocating results arrays on device cuda\n"
     ]
    },
    {
     "name": "stderr",
     "output_type": "stream",
     "text": [
      "100%|██████████| 192/192 [01:41<00:00,  1.89it/s]\n"
     ]
    },
    {
     "name": "stdout",
     "output_type": "stream",
     "text": [
      "Prediction done\n",
      "sending off prediction to background worker for resampling and export\n",
      "done with TCGA-VS-AA62\n",
      "✅ Done -> /MRI/seg_out\n"
     ]
    }
   ],
   "source": [
    "from pathlib import Path\n",
    "import os, glob, traceback\n",
    "import torch\n",
    "from nnunetv2.inference.predict_from_raw_data import nnUNetPredictor\n",
    "\n",
    "NNUNET_ROOT = \"/workspace/nnunet_seg_model\"\n",
    "MODEL_DIR   = str(Path(NNUNET_ROOT) / \"models\" / \"Dataset505_PelvicBone\" / \"nnUNetTrainer__nnUNetPlans__3d_fullres\")\n",
    "\n",
    "IN_DIR  = \"/workspace/MRI/output\"\n",
    "OUT_DIR = \"/workspace/MRI/seg_out\"\n",
    "os.makedirs(OUT_DIR, exist_ok=True)\n",
    "\n",
    "# CUDA 사용 가능 여부 점검\n",
    "if not torch.cuda.is_available():\n",
    "    raise SystemExit(\"CUDA GPU를 찾지 못했습니다. NVIDIA GPU + CUDA 휠(torch) 설치를 확인하세요.\")\n",
    "\n",
    "cases = sorted(glob.glob(os.path.join(IN_DIR, \"*_0000.nii.gz\")))\n",
    "assert cases, f\"No '*_0000.nii.gz' in {IN_DIR}\"\n",
    "file_lists = [[c] for c in cases]\n",
    "print(\"Cases:\", len(cases))\n",
    "\n",
    "dev = torch.device('cuda')  # ✅ GPU 사용\n",
    "# 정확도 모드(느리면 아래 Fast 모드 참고)\n",
    "predictor = nnUNetPredictor(\n",
    "    tile_step_size=0.5,      # 겹침 넉넉 (정확도↑)\n",
    "    use_gaussian=True,       # 블렌딩 On\n",
    "    use_mirroring=True,      # TTA On (정확도↑, 속도↓)\n",
    "    device=dev,\n",
    "    verbose=True,\n",
    "    verbose_preprocessing=True,\n",
    ")\n",
    "\n",
    "print(\"Init from:\", MODEL_DIR)\n",
    "predictor.initialize_from_trained_model_folder(\n",
    "    model_training_output_dir=MODEL_DIR,\n",
    "    checkpoint_name=\"checkpoint_best.pth\",\n",
    "    use_folds=(0,1,2),       # 3-fold 앙상블 (정확도↑, 속도↓)\n",
    ")\n",
    "\n",
    "try:\n",
    "    predictor.predict_from_files(\n",
    "        file_lists, OUT_DIR,\n",
    "        save_probabilities=False,\n",
    "        overwrite=True,\n",
    "        num_processes_preprocessing=2,     # GPU I/O 보조\n",
    "        num_processes_segmentation_export=2,\n",
    "    )\n",
    "    print(\"✅ Done ->\", OUT_DIR)\n",
    "except Exception:\n",
    "    traceback.print_exc()\n"
   ]
  },
  {
   "cell_type": "code",
   "execution_count": 11,
   "id": "301f97c9-fde4-4684-8e35-abd878da728b",
   "metadata": {},
   "outputs": [
    {
     "name": "stdout",
     "output_type": "stream",
     "text": [
      "Cases (CCTH-only): 7 / Total: 61\n",
      "Sample: ['CCTH-A07_0000.nii.gz', 'CCTH-A08_0000.nii.gz', 'CCTH-B01_0000.nii.gz', 'CCTH-B02_0000.nii.gz', 'CCTH-B04_0000.nii.gz']\n",
      "Init from: /workspace/nnunet_seg_model/models/Dataset505_PelvicBone/nnUNetTrainer__nnUNetPlans__3d_fullres\n",
      "There are 7 cases in the source folder\n",
      "I am processing 0 out of 1 (max process ID is 0, we start counting with 0!)\n",
      "There are 7 cases that I would like to predict\n",
      "nnUNet_raw is not defined and nnU-Net can only be used on data for which preprocessed files are already present on your system. nnU-Net cannot be used for experiment planning and preprocessing like this. If this is not intended, please read documentation/setting_up_paths.md for information on how to set this up properly.\n",
      "nnUNet_preprocessed is not defined and nnU-Net can not be used for preprocessing or training. If this is not intended, please read documentation/setting_up_paths.md for information on how to set this up.\n",
      "nnUNet_results is not defined and nnU-Net cannot be used for training or inference. If this is not intended behavior, please read documentation/setting_up_paths.md for information on how to set this up.\n",
      "nnUNet_raw is not defined and nnU-Net can only be used on data for which preprocessed files are already present on your system. nnU-Net cannot be used for experiment planning and preprocessing like this. If this is not intended, please read documentation/setting_up_paths.md for information on how to set this up properly.\n",
      "nnUNet_preprocessed is not defined and nnU-Net can not be used for preprocessing or training. If this is not intended, please read documentation/setting_up_paths.md for information on how to set this up.\n",
      "nnUNet_results is not defined and nnU-Net cannot be used for training or inference. If this is not intended behavior, please read documentation/setting_up_paths.md for information on how to set this up.\n",
      "None\n",
      "None\n",
      "old shape: (48, 509, 504), new_shape: [ 48 764 756], old_spacing: [np.float64(4.0), np.float64(0.5859000086784363), np.float64(0.5859000086784363)], new_spacing: [3.9999987840652467, 0.3905999958515167, 0.3905999958515167], fn_data: functools.partial(<function resample_data_or_seg_to_shape at 0x76f12edd6a70>, is_seg=False, order=3, order_z=0, force_separate_z=None)\n",
      "\n",
      "Predicting CCTH-A07:\n",
      "perform_everything_on_device: True\n",
      "None\n",
      "Input shape: torch.Size([1, 48, 764, 756])\n",
      "step_size: 0.5\n",
      "mirror_axes: (0, 1, 2)\n",
      "n_steps 80, image size is torch.Size([48, 764, 756]), tile_size [20, 320, 256], tile_step_size 0.5\n",
      "steps:\n",
      "[[0, 9, 19, 28], [0, 148, 296, 444], [0, 125, 250, 375, 500]]\n",
      "move image to device cuda\n",
      "preallocating results arrays on device cuda\n",
      "old shape: (50, 507, 504), new_shape: [ 50 761 756], old_spacing: [np.float64(4.000009059906006), np.float64(0.5859000086784363), np.float64(0.5859000086784363)], new_spacing: [3.9999987840652467, 0.3905999958515167, 0.3905999958515167], fn_data: functools.partial(<function resample_data_or_seg_to_shape at 0x7d99b00daa70>, is_seg=False, order=3, order_z=0, force_separate_z=None)\n",
      "None\n"
     ]
    },
    {
     "name": "stderr",
     "output_type": "stream",
     "text": [
      " 18%|█▊        | 14/80 [00:05<00:27,  2.43it/s]"
     ]
    },
    {
     "name": "stdout",
     "output_type": "stream",
     "text": [
      "old shape: (31, 612, 633), new_shape: [ 39 637 658], old_spacing: [np.float64(5.0), np.float64(0.40625), np.float64(0.40625)], new_spacing: [3.9999987840652467, 0.3905999958515167, 0.3905999958515167], fn_data: functools.partial(<function resample_data_or_seg_to_shape at 0x76f12edd6a70>, is_seg=False, order=3, order_z=0, force_separate_z=None)\n",
      "None\n"
     ]
    },
    {
     "name": "stderr",
     "output_type": "stream",
     "text": [
      " 25%|██▌       | 20/80 [00:07<00:25,  2.36it/s]"
     ]
    },
    {
     "name": "stdout",
     "output_type": "stream",
     "text": [
      "old shape: (40, 638, 638), new_shape: [ 50 664 664], old_spacing: [np.float64(5.0), np.float64(0.40625), np.float64(0.40625)], new_spacing: [3.9999987840652467, 0.3905999958515167, 0.3905999958515167], fn_data: functools.partial(<function resample_data_or_seg_to_shape at 0x7d99b00daa70>, is_seg=False, order=3, order_z=0, force_separate_z=None)\n"
     ]
    },
    {
     "name": "stderr",
     "output_type": "stream",
     "text": [
      " 42%|████▎     | 34/80 [00:14<00:21,  2.16it/s]"
     ]
    },
    {
     "name": "stdout",
     "output_type": "stream",
     "text": [
      "old shape: (38, 631, 638), new_shape: [ 55 656 664], old_spacing: [np.float64(5.75), np.float64(0.40625), np.float64(0.40625)], new_spacing: [3.9999987840652467, 0.3905999958515167, 0.3905999958515167], fn_data: functools.partial(<function resample_data_or_seg_to_shape at 0x76f12edd6a70>, is_seg=False, order=3, order_z=0, force_separate_z=None)\n"
     ]
    },
    {
     "name": "stderr",
     "output_type": "stream",
     "text": [
      "100%|██████████| 80/80 [00:35<00:00,  2.23it/s]\n"
     ]
    },
    {
     "name": "stdout",
     "output_type": "stream",
     "text": [
      "Input shape: torch.Size([1, 48, 764, 756])\n",
      "step_size: 0.5\n",
      "mirror_axes: (0, 1, 2)\n",
      "n_steps 80, image size is torch.Size([48, 764, 756]), tile_size [20, 320, 256], tile_step_size 0.5\n",
      "steps:\n",
      "[[0, 9, 19, 28], [0, 148, 296, 444], [0, 125, 250, 375, 500]]\n",
      "move image to device cuda\n",
      "preallocating results arrays on device cuda\n"
     ]
    },
    {
     "name": "stderr",
     "output_type": "stream",
     "text": [
      "100%|██████████| 80/80 [00:42<00:00,  1.89it/s]\n"
     ]
    },
    {
     "name": "stdout",
     "output_type": "stream",
     "text": [
      "Input shape: torch.Size([1, 48, 764, 756])\n",
      "step_size: 0.5\n",
      "mirror_axes: (0, 1, 2)\n",
      "n_steps 80, image size is torch.Size([48, 764, 756]), tile_size [20, 320, 256], tile_step_size 0.5\n",
      "steps:\n",
      "[[0, 9, 19, 28], [0, 148, 296, 444], [0, 125, 250, 375, 500]]\n",
      "move image to device cuda\n",
      "preallocating results arrays on device cuda\n"
     ]
    },
    {
     "name": "stderr",
     "output_type": "stream",
     "text": [
      "100%|██████████| 80/80 [00:42<00:00,  1.86it/s]\n"
     ]
    },
    {
     "name": "stdout",
     "output_type": "stream",
     "text": [
      "Prediction done\n",
      "sending off prediction to background worker for resampling and export\n",
      "done with CCTH-A07\n",
      "\n",
      "Predicting CCTH-A08:\n",
      "perform_everything_on_device: True\n",
      "Input shape: torch.Size([1, 50, 761, 756])\n",
      "step_size: 0.5\n",
      "mirror_axes: (0, 1, 2)\n",
      "n_steps 80, image size is torch.Size([50, 761, 756]), tile_size [20, 320, 256], tile_step_size 0.5\n",
      "steps:\n",
      "[[0, 10, 20, 30], [0, 147, 294, 441], [0, 125, 250, 375, 500]]\n",
      "move image to device cuda\n",
      "preallocating results arrays on device cuda\n"
     ]
    },
    {
     "name": "stderr",
     "output_type": "stream",
     "text": [
      "  1%|▏         | 1/80 [00:00<00:20,  3.90it/s]"
     ]
    },
    {
     "name": "stdout",
     "output_type": "stream",
     "text": [
      "None\n"
     ]
    },
    {
     "name": "stderr",
     "output_type": "stream",
     "text": [
      " 24%|██▍       | 19/80 [00:08<00:29,  2.08it/s]"
     ]
    },
    {
     "name": "stdout",
     "output_type": "stream",
     "text": [
      "old shape: (41, 629, 638), new_shape: [ 51 654 664], old_spacing: [np.float64(5.0), np.float64(0.40625), np.float64(0.40625)], new_spacing: [3.9999987840652467, 0.3905999958515167, 0.3905999958515167], fn_data: functools.partial(<function resample_data_or_seg_to_shape at 0x7d99b00daa70>, is_seg=False, order=3, order_z=0, force_separate_z=None)\n"
     ]
    },
    {
     "name": "stderr",
     "output_type": "stream",
     "text": [
      "100%|██████████| 80/80 [00:42<00:00,  1.87it/s]\n"
     ]
    },
    {
     "name": "stdout",
     "output_type": "stream",
     "text": [
      "Input shape: torch.Size([1, 50, 761, 756])\n",
      "step_size: 0.5\n",
      "mirror_axes: (0, 1, 2)\n",
      "n_steps 80, image size is torch.Size([50, 761, 756]), tile_size [20, 320, 256], tile_step_size 0.5\n",
      "steps:\n",
      "[[0, 10, 20, 30], [0, 147, 294, 441], [0, 125, 250, 375, 500]]\n",
      "move image to device cuda\n",
      "preallocating results arrays on device cuda\n"
     ]
    },
    {
     "name": "stderr",
     "output_type": "stream",
     "text": [
      "100%|██████████| 80/80 [00:41<00:00,  1.94it/s]\n"
     ]
    },
    {
     "name": "stdout",
     "output_type": "stream",
     "text": [
      "Input shape: torch.Size([1, 50, 761, 756])\n",
      "step_size: 0.5\n",
      "mirror_axes: (0, 1, 2)\n",
      "n_steps 80, image size is torch.Size([50, 761, 756]), tile_size [20, 320, 256], tile_step_size 0.5\n",
      "steps:\n",
      "[[0, 10, 20, 30], [0, 147, 294, 441], [0, 125, 250, 375, 500]]\n",
      "move image to device cuda\n",
      "preallocating results arrays on device cuda\n"
     ]
    },
    {
     "name": "stderr",
     "output_type": "stream",
     "text": [
      "100%|██████████| 80/80 [00:41<00:00,  1.93it/s]\n"
     ]
    },
    {
     "name": "stdout",
     "output_type": "stream",
     "text": [
      "Prediction done\n",
      "sending off prediction to background worker for resampling and export\n",
      "done with CCTH-A08\n",
      "\n",
      "Predicting CCTH-B01:\n",
      "perform_everything_on_device: True\n",
      "Input shape: torch.Size([1, 39, 637, 658])\n",
      "step_size: 0.5\n",
      "mirror_axes: (0, 1, 2)\n",
      "n_steps 45, image size is torch.Size([39, 637, 658]), tile_size [20, 320, 256], tile_step_size 0.5\n",
      "steps:\n",
      "[[0, 10, 19], [0, 158, 317], [0, 100, 201, 302, 402]]\n",
      "move image to device cuda\n",
      "preallocating results arrays on device cuda\n"
     ]
    },
    {
     "name": "stderr",
     "output_type": "stream",
     "text": [
      "  2%|▏         | 1/45 [00:00<00:12,  3.60it/s]"
     ]
    },
    {
     "name": "stdout",
     "output_type": "stream",
     "text": [
      "None\n"
     ]
    },
    {
     "name": "stderr",
     "output_type": "stream",
     "text": [
      " 33%|███▎      | 15/45 [00:07<00:15,  1.92it/s]"
     ]
    },
    {
     "name": "stdout",
     "output_type": "stream",
     "text": [
      "old shape: (37, 618, 638), new_shape: [ 46 643 664], old_spacing: [np.float64(5.0), np.float64(0.40625), np.float64(0.40625)], new_spacing: [3.9999987840652467, 0.3905999958515167, 0.3905999958515167], fn_data: functools.partial(<function resample_data_or_seg_to_shape at 0x76f12edd6a70>, is_seg=False, order=3, order_z=0, force_separate_z=None)\n"
     ]
    },
    {
     "name": "stderr",
     "output_type": "stream",
     "text": [
      "100%|██████████| 45/45 [00:23<00:00,  1.94it/s]\n"
     ]
    },
    {
     "name": "stdout",
     "output_type": "stream",
     "text": [
      "Input shape: torch.Size([1, 39, 637, 658])\n",
      "step_size: 0.5\n",
      "mirror_axes: (0, 1, 2)\n",
      "n_steps 45, image size is torch.Size([39, 637, 658]), tile_size [20, 320, 256], tile_step_size 0.5\n",
      "steps:\n",
      "[[0, 10, 19], [0, 158, 317], [0, 100, 201, 302, 402]]\n",
      "move image to device cuda\n",
      "preallocating results arrays on device cuda\n"
     ]
    },
    {
     "name": "stderr",
     "output_type": "stream",
     "text": [
      "100%|██████████| 45/45 [00:26<00:00,  1.72it/s]\n"
     ]
    },
    {
     "name": "stdout",
     "output_type": "stream",
     "text": [
      "Input shape: torch.Size([1, 39, 637, 658])\n",
      "step_size: 0.5\n",
      "mirror_axes: (0, 1, 2)\n",
      "n_steps 45, image size is torch.Size([39, 637, 658]), tile_size [20, 320, 256], tile_step_size 0.5\n",
      "steps:\n",
      "[[0, 10, 19], [0, 158, 317], [0, 100, 201, 302, 402]]\n",
      "move image to device cuda\n",
      "preallocating results arrays on device cuda\n"
     ]
    },
    {
     "name": "stderr",
     "output_type": "stream",
     "text": [
      "100%|██████████| 45/45 [00:22<00:00,  2.03it/s]\n"
     ]
    },
    {
     "name": "stdout",
     "output_type": "stream",
     "text": [
      "Prediction done\n",
      "sending off prediction to background worker for resampling and export\n",
      "done with CCTH-B01\n",
      "\n",
      "Predicting CCTH-B02:\n",
      "perform_everything_on_device: True\n",
      "Input shape: torch.Size([1, 50, 664, 664])\n",
      "step_size: 0.5\n",
      "mirror_axes: (0, 1, 2)\n",
      "n_steps 80, image size is torch.Size([50, 664, 664]), tile_size [20, 320, 256], tile_step_size 0.5\n",
      "steps:\n",
      "[[0, 10, 20, 30], [0, 115, 229, 344], [0, 102, 204, 306, 408]]\n",
      "move image to device cuda\n",
      "preallocating results arrays on device cuda\n"
     ]
    },
    {
     "name": "stderr",
     "output_type": "stream",
     "text": [
      "100%|██████████| 80/80 [00:44<00:00,  1.78it/s]\n"
     ]
    },
    {
     "name": "stdout",
     "output_type": "stream",
     "text": [
      "Input shape: torch.Size([1, 50, 664, 664])\n",
      "step_size: 0.5\n",
      "mirror_axes: (0, 1, 2)\n",
      "n_steps 80, image size is torch.Size([50, 664, 664]), tile_size [20, 320, 256], tile_step_size 0.5\n",
      "steps:\n",
      "[[0, 10, 20, 30], [0, 115, 229, 344], [0, 102, 204, 306, 408]]\n",
      "move image to device cuda\n",
      "preallocating results arrays on device cuda\n"
     ]
    },
    {
     "name": "stderr",
     "output_type": "stream",
     "text": [
      "100%|██████████| 80/80 [00:42<00:00,  1.90it/s]\n"
     ]
    },
    {
     "name": "stdout",
     "output_type": "stream",
     "text": [
      "Input shape: torch.Size([1, 50, 664, 664])\n",
      "step_size: 0.5\n",
      "mirror_axes: (0, 1, 2)\n",
      "n_steps 80, image size is torch.Size([50, 664, 664]), tile_size [20, 320, 256], tile_step_size 0.5\n",
      "steps:\n",
      "[[0, 10, 20, 30], [0, 115, 229, 344], [0, 102, 204, 306, 408]]\n",
      "move image to device cuda\n",
      "preallocating results arrays on device cuda\n"
     ]
    },
    {
     "name": "stderr",
     "output_type": "stream",
     "text": [
      "100%|██████████| 80/80 [00:45<00:00,  1.77it/s]\n"
     ]
    },
    {
     "name": "stdout",
     "output_type": "stream",
     "text": [
      "Prediction done\n",
      "sending off prediction to background worker for resampling and export\n",
      "done with CCTH-B02\n",
      "\n",
      "Predicting CCTH-B04:\n",
      "perform_everything_on_device: True\n",
      "Input shape: torch.Size([1, 55, 656, 664])\n",
      "step_size: 0.5\n",
      "mirror_axes: (0, 1, 2)\n",
      "n_steps 100, image size is torch.Size([55, 656, 664]), tile_size [20, 320, 256], tile_step_size 0.5\n",
      "steps:\n",
      "[[0, 9, 18, 26, 35], [0, 112, 224, 336], [0, 102, 204, 306, 408]]\n",
      "move image to device cuda\n",
      "preallocating results arrays on device cuda\n"
     ]
    },
    {
     "name": "stderr",
     "output_type": "stream",
     "text": [
      "100%|██████████| 100/100 [00:59<00:00,  1.68it/s]\n"
     ]
    },
    {
     "name": "stdout",
     "output_type": "stream",
     "text": [
      "Input shape: torch.Size([1, 55, 656, 664])\n",
      "step_size: 0.5\n",
      "mirror_axes: (0, 1, 2)\n",
      "n_steps 100, image size is torch.Size([55, 656, 664]), tile_size [20, 320, 256], tile_step_size 0.5\n",
      "steps:\n",
      "[[0, 9, 18, 26, 35], [0, 112, 224, 336], [0, 102, 204, 306, 408]]\n",
      "move image to device cuda\n",
      "preallocating results arrays on device cuda\n"
     ]
    },
    {
     "name": "stderr",
     "output_type": "stream",
     "text": [
      "100%|██████████| 100/100 [00:59<00:00,  1.67it/s]\n"
     ]
    },
    {
     "name": "stdout",
     "output_type": "stream",
     "text": [
      "Input shape: torch.Size([1, 55, 656, 664])\n",
      "step_size: 0.5\n",
      "mirror_axes: (0, 1, 2)\n",
      "n_steps 100, image size is torch.Size([55, 656, 664]), tile_size [20, 320, 256], tile_step_size 0.5\n",
      "steps:\n",
      "[[0, 9, 18, 26, 35], [0, 112, 224, 336], [0, 102, 204, 306, 408]]\n",
      "move image to device cuda\n",
      "preallocating results arrays on device cuda\n"
     ]
    },
    {
     "name": "stderr",
     "output_type": "stream",
     "text": [
      "100%|██████████| 100/100 [01:00<00:00,  1.67it/s]\n"
     ]
    },
    {
     "name": "stdout",
     "output_type": "stream",
     "text": [
      "Prediction done\n",
      "sending off prediction to background worker for resampling and export\n",
      "done with CCTH-B04\n",
      "\n",
      "Predicting CCTH-B07:\n",
      "perform_everything_on_device: True\n",
      "Input shape: torch.Size([1, 51, 654, 664])\n",
      "step_size: 0.5\n",
      "mirror_axes: (0, 1, 2)\n",
      "n_steps 100, image size is torch.Size([51, 654, 664]), tile_size [20, 320, 256], tile_step_size 0.5\n",
      "steps:\n",
      "[[0, 8, 16, 23, 31], [0, 111, 223, 334], [0, 102, 204, 306, 408]]\n",
      "move image to device cuda\n",
      "preallocating results arrays on device cuda\n"
     ]
    },
    {
     "name": "stderr",
     "output_type": "stream",
     "text": [
      "100%|██████████| 100/100 [01:01<00:00,  1.63it/s]\n"
     ]
    },
    {
     "name": "stdout",
     "output_type": "stream",
     "text": [
      "Input shape: torch.Size([1, 51, 654, 664])\n",
      "step_size: 0.5\n",
      "mirror_axes: (0, 1, 2)\n",
      "n_steps 100, image size is torch.Size([51, 654, 664]), tile_size [20, 320, 256], tile_step_size 0.5\n",
      "steps:\n",
      "[[0, 8, 16, 23, 31], [0, 111, 223, 334], [0, 102, 204, 306, 408]]\n",
      "move image to device cuda\n",
      "preallocating results arrays on device cuda\n"
     ]
    },
    {
     "name": "stderr",
     "output_type": "stream",
     "text": [
      "100%|██████████| 100/100 [01:00<00:00,  1.65it/s]\n"
     ]
    },
    {
     "name": "stdout",
     "output_type": "stream",
     "text": [
      "Input shape: torch.Size([1, 51, 654, 664])\n",
      "step_size: 0.5\n",
      "mirror_axes: (0, 1, 2)\n",
      "n_steps 100, image size is torch.Size([51, 654, 664]), tile_size [20, 320, 256], tile_step_size 0.5\n",
      "steps:\n",
      "[[0, 8, 16, 23, 31], [0, 111, 223, 334], [0, 102, 204, 306, 408]]\n",
      "move image to device cuda\n",
      "preallocating results arrays on device cuda\n"
     ]
    },
    {
     "name": "stderr",
     "output_type": "stream",
     "text": [
      "100%|██████████| 100/100 [01:00<00:00,  1.65it/s]\n"
     ]
    },
    {
     "name": "stdout",
     "output_type": "stream",
     "text": [
      "Prediction done\n",
      "sending off prediction to background worker for resampling and export\n",
      "done with CCTH-B07\n",
      "\n",
      "Predicting CCTH-B08:\n",
      "perform_everything_on_device: True\n",
      "Input shape: torch.Size([1, 46, 643, 664])\n",
      "step_size: 0.5\n",
      "mirror_axes: (0, 1, 2)\n",
      "n_steps 80, image size is torch.Size([46, 643, 664]), tile_size [20, 320, 256], tile_step_size 0.5\n",
      "steps:\n",
      "[[0, 9, 17, 26], [0, 108, 215, 323], [0, 102, 204, 306, 408]]\n",
      "move image to device cuda\n",
      "preallocating results arrays on device cuda\n"
     ]
    },
    {
     "name": "stderr",
     "output_type": "stream",
     "text": [
      "100%|██████████| 80/80 [00:46<00:00,  1.72it/s]\n"
     ]
    },
    {
     "name": "stdout",
     "output_type": "stream",
     "text": [
      "Input shape: torch.Size([1, 46, 643, 664])\n",
      "step_size: 0.5\n",
      "mirror_axes: (0, 1, 2)\n",
      "n_steps 80, image size is torch.Size([46, 643, 664]), tile_size [20, 320, 256], tile_step_size 0.5\n",
      "steps:\n",
      "[[0, 9, 17, 26], [0, 108, 215, 323], [0, 102, 204, 306, 408]]\n",
      "move image to device cuda\n",
      "preallocating results arrays on device cuda\n"
     ]
    },
    {
     "name": "stderr",
     "output_type": "stream",
     "text": [
      "100%|██████████| 80/80 [00:45<00:00,  1.76it/s]\n"
     ]
    },
    {
     "name": "stdout",
     "output_type": "stream",
     "text": [
      "Input shape: torch.Size([1, 46, 643, 664])\n",
      "step_size: 0.5\n",
      "mirror_axes: (0, 1, 2)\n",
      "n_steps 80, image size is torch.Size([46, 643, 664]), tile_size [20, 320, 256], tile_step_size 0.5\n",
      "steps:\n",
      "[[0, 9, 17, 26], [0, 108, 215, 323], [0, 102, 204, 306, 408]]\n",
      "move image to device cuda\n",
      "preallocating results arrays on device cuda\n"
     ]
    },
    {
     "name": "stderr",
     "output_type": "stream",
     "text": [
      "100%|██████████| 80/80 [00:45<00:00,  1.76it/s]\n"
     ]
    },
    {
     "name": "stdout",
     "output_type": "stream",
     "text": [
      "Prediction done\n",
      "sending off prediction to background worker for resampling and export\n",
      "done with CCTH-B08\n",
      "✅ Done -> /MRI/seg_out\n"
     ]
    }
   ],
   "source": [
    "from pathlib import Path\n",
    "import os, glob, traceback\n",
    "import torch\n",
    "from nnunetv2.inference.predict_from_raw_data import nnUNetPredictor\n",
    "\n",
    "NNUNET_ROOT = \"/workspace/nnunet_seg_model\"\n",
    "MODEL_DIR   = str(Path(NNUNET_ROOT) / \"models\" / \"Dataset505_PelvicBone\" / \"nnUNetTrainer__nnUNetPlans__3d_fullres\")\n",
    "\n",
    "IN_DIR  = \"/workspace/MRI/output\"\n",
    "OUT_DIR = \"/MRI/seg_out\"\n",
    "os.makedirs(OUT_DIR, exist_ok=True)\n",
    "\n",
    "# 필터 키워드(파일명에 이 문자열이 포함된 것만 남김)\n",
    "INCLUDE_KEYWORDS = [\"CCTH\"]     # 필요 시 [\"CCTH\", \"MR1\"] 처럼 추가 가능\n",
    "EXCLUDE_KEYWORDS = [\"TCGA\"]   # 필요하면 제외 키워드도 사용\n",
    "\n",
    "# CUDA 체크\n",
    "if not torch.cuda.is_available():\n",
    "    raise SystemExit(\"CUDA GPU를 찾지 못했습니다. NVIDIA GPU + CUDA 휠(torch) 설치를 확인하세요.\")\n",
    "\n",
    "# 모든 *_0000.nii.gz 수집\n",
    "cases_all = sorted(glob.glob(os.path.join(IN_DIR, \"*_0000.nii.gz\")))\n",
    "assert cases_all, f\"No '*_0000.nii.gz' in {IN_DIR}\"\n",
    "\n",
    "# CCTH만 필터\n",
    "def keep(path):\n",
    "    name = os.path.basename(path).upper()\n",
    "    if not any(k.upper() in name for k in INCLUDE_KEYWORDS):\n",
    "        return False\n",
    "    # if any(k.upper() in name for k in EXCLUDE_KEYWORDS):  # 제외가 필요하면 주석 해제\n",
    "    #     return False\n",
    "    return True\n",
    "\n",
    "cases = [c for c in cases_all if keep(c)]\n",
    "assert cases, f\"No CCTH '*_0000.nii.gz' in {IN_DIR}. (Total found: {len(cases_all)})\"\n",
    "\n",
    "file_lists = [[c] for c in cases]\n",
    "print(f\"Cases (CCTH-only): {len(cases)} / Total: {len(cases_all)}\")\n",
    "print(\"Sample:\", [os.path.basename(c) for c in cases[:5]])\n",
    "\n",
    "dev = torch.device('cuda')\n",
    "predictor = nnUNetPredictor(\n",
    "    tile_step_size=0.5,\n",
    "    use_gaussian=True,\n",
    "    use_mirroring=True,\n",
    "    device=dev,\n",
    "    verbose=True,\n",
    "    verbose_preprocessing=True,\n",
    ")\n",
    "\n",
    "print(\"Init from:\", MODEL_DIR)\n",
    "predictor.initialize_from_trained_model_folder(\n",
    "    model_training_output_dir=MODEL_DIR,\n",
    "    checkpoint_name=\"checkpoint_best.pth\",\n",
    "    use_folds=(0,1,2),\n",
    ")\n",
    "\n",
    "try:\n",
    "    predictor.predict_from_files(\n",
    "        file_lists, OUT_DIR,\n",
    "        save_probabilities=False,\n",
    "        overwrite=True,\n",
    "        num_processes_preprocessing=2,\n",
    "        num_processes_segmentation_export=2,\n",
    "    )\n",
    "    print(\"✅ Done ->\", OUT_DIR)\n",
    "except Exception:\n",
    "    traceback.print_exc()\n"
   ]
  },
  {
   "cell_type": "code",
   "execution_count": 12,
   "id": "1a843fd5-f7b8-4f23-886b-884b9145b5f1",
   "metadata": {},
   "outputs": [
    {
     "name": "stdout",
     "output_type": "stream",
     "text": [
      "❌ Discarded TCGA-VS-A8EB.nii.gz (confidence: 0.029)\n",
      "❌ Discarded TCGA-VS-A8EC.nii.gz (confidence: 0.025)\n",
      "❌ Discarded TCGA-VS-A8EG.nii.gz (confidence: 0.044)\n",
      "❌ Discarded TCGA-VS-A8EH.nii.gz (confidence: 0.051)\n",
      "❌ Discarded TCGA-VS-A8EI.nii.gz (confidence: 0.030)\n",
      "❌ Discarded TCGA-VS-A8EJ.nii.gz (confidence: 0.027)\n",
      "❌ Discarded TCGA-VS-A8EK.nii.gz (confidence: 0.041)\n",
      "❌ Discarded TCGA-VS-A8EL.nii.gz (confidence: 0.036)\n",
      "❌ Discarded TCGA-VS-A8Q8.nii.gz (confidence: 0.030)\n",
      "❌ Discarded TCGA-VS-A8Q9.nii.gz (confidence: 0.047)\n",
      "❌ Discarded TCGA-VS-A8QA.nii.gz (confidence: 0.056)\n",
      "❌ Discarded TCGA-VS-A8QC.nii.gz (confidence: 0.034)\n",
      "❌ Discarded TCGA-VS-A8QF.nii.gz (confidence: 0.031)\n",
      "❌ Discarded TCGA-VS-A8QH.nii.gz (confidence: 0.045)\n",
      "❌ Discarded TCGA-VS-A8QM.nii.gz (confidence: 0.044)\n",
      "❌ Discarded TCGA-VS-A94W.nii.gz (confidence: 0.035)\n",
      "❌ Discarded TCGA-VS-A94X.nii.gz (confidence: 0.040)\n",
      "❌ Discarded TCGA-VS-A94Y.nii.gz (confidence: 0.049)\n",
      "❌ Discarded TCGA-VS-A94Z.nii.gz (confidence: 0.053)\n",
      "❌ Discarded TCGA-VS-A950.nii.gz (confidence: 0.046)\n",
      "❌ Discarded TCGA-VS-A952.nii.gz (confidence: 0.050)\n",
      "❌ Discarded TCGA-VS-A953.nii.gz (confidence: 0.043)\n",
      "❌ Discarded TCGA-VS-A954.nii.gz (confidence: 0.043)\n",
      "❌ Discarded TCGA-VS-A957.nii.gz (confidence: 0.036)\n",
      "❌ Discarded TCGA-VS-A958.nii.gz (confidence: 0.037)\n",
      "❌ Discarded TCGA-VS-A959.nii.gz (confidence: 0.034)\n",
      "❌ Discarded TCGA-VS-A9U5.nii.gz (confidence: 0.042)\n",
      "❌ Discarded TCGA-VS-A9U6.nii.gz (confidence: 0.023)\n",
      "❌ Discarded TCGA-VS-A9U7.nii.gz (confidence: 0.039)\n",
      "❌ Discarded TCGA-VS-A9UA.nii.gz (confidence: 0.017)\n",
      "✅ Kept TCGA-VS-A9UB.nii.gz (confidence: 0.078)\n",
      "❌ Discarded TCGA-VS-A9UC.nii.gz (confidence: 0.033)\n",
      "❌ Discarded TCGA-VS-A9UD.nii.gz (confidence: 0.055)\n",
      "❌ Discarded TCGA-VS-A9UH.nii.gz (confidence: 0.046)\n",
      "❌ Discarded TCGA-VS-A9UI.nii.gz (confidence: 0.053)\n",
      "❌ Discarded TCGA-VS-A9UJ.nii.gz (confidence: 0.036)\n",
      "❌ Discarded TCGA-VS-A9UL.nii.gz (confidence: 0.035)\n",
      "❌ Discarded TCGA-VS-A9UM.nii.gz (confidence: 0.042)\n",
      "❌ Discarded TCGA-VS-A9UO.nii.gz (confidence: 0.042)\n",
      "❌ Discarded TCGA-VS-A9UP.nii.gz (confidence: 0.039)\n",
      "❌ Discarded TCGA-VS-A9UQ.nii.gz (confidence: 0.049)\n",
      "❌ Discarded TCGA-VS-A9UR.nii.gz (confidence: 0.004)\n",
      "❌ Discarded TCGA-VS-A9UT.nii.gz (confidence: 0.042)\n",
      "❌ Discarded TCGA-VS-A9UU.nii.gz (confidence: 0.049)\n",
      "✅ Kept TCGA-VS-A9UV.nii.gz (confidence: 0.063)\n",
      "❌ Discarded TCGA-VS-A9UY.nii.gz (confidence: 0.037)\n",
      "❌ Discarded TCGA-VS-A9UZ.nii.gz (confidence: 0.046)\n",
      "❌ Discarded TCGA-VS-A9V0.nii.gz (confidence: 0.042)\n",
      "❌ Discarded TCGA-VS-A9V1.nii.gz (confidence: 0.041)\n",
      "❌ Discarded TCGA-VS-A9V2.nii.gz (confidence: 0.041)\n",
      "❌ Discarded TCGA-VS-A9V3.nii.gz (confidence: 0.039)\n",
      "❌ Discarded TCGA-VS-A9V4.nii.gz (confidence: 0.049)\n",
      "❌ Discarded TCGA-VS-A9V5.nii.gz (confidence: 0.020)\n",
      "❌ Discarded TCGA-VS-AA62.nii.gz (confidence: 0.030)\n",
      "❌ Discarded CCTH-A07.nii.gz (confidence: 0.051)\n",
      "❌ Discarded CCTH-A08.nii.gz (confidence: 0.058)\n",
      "❌ Discarded CCTH-B01.nii.gz (confidence: 0.002)\n",
      "❌ Discarded CCTH-B02.nii.gz (confidence: 0.036)\n",
      "❌ Discarded CCTH-B04.nii.gz (confidence: 0.018)\n",
      "❌ Discarded CCTH-B07.nii.gz (confidence: 0.012)\n",
      "❌ Discarded CCTH-B08.nii.gz (confidence: 0.028)\n"
     ]
    }
   ],
   "source": [
    "import os\n",
    "import shutil\n",
    "import nibabel as nib\n",
    "import numpy as np\n",
    "\n",
    "# 입력: Stage 1 결과\n",
    "input_dir = \"/MRI/seg_out\"\n",
    "# 출력: 필터링된 결과\n",
    "output_dir = \"/workspace/MRI/seg_out\"\n",
    "os.makedirs(output_dir, exist_ok=True)\n",
    "\n",
    "# threshold 조정 가능 (예: 0.06 이상일 경우만 채택)\n",
    "confidence_threshold = 0.06\n",
    "\n",
    "for fname in os.listdir(input_dir):\n",
    "    if not fname.endswith(\".nii.gz\"):\n",
    "        continue\n",
    "    path = os.path.join(input_dir, fname)\n",
    "    try:\n",
    "        data = nib.load(path).get_fdata()\n",
    "        confidence = np.mean(data == 1)\n",
    "\n",
    "        if confidence > confidence_threshold:\n",
    "            shutil.copy(path, os.path.join(output_dir, fname))\n",
    "            print(f\"✅ Kept {fname} (confidence: {confidence:.3f})\")\n",
    "        else:\n",
    "            print(f\"❌ Discarded {fname} (confidence: {confidence:.3f})\")\n",
    "\n",
    "    except Exception as e:\n",
    "        print(f\"❌ Failed to process {fname}: {e}\")\n"
   ]
  }
 ],
 "metadata": {
  "kernelspec": {
   "display_name": "Python3 (ipykernel)",
   "language": "python",
   "name": "python3"
  },
  "language_info": {
   "codemirror_mode": {
    "name": "ipython",
    "version": 3
   },
   "file_extension": ".py",
   "mimetype": "text/x-python",
   "name": "python",
   "nbconvert_exporter": "python",
   "pygments_lexer": "ipython3",
   "version": "3.10.12"
  }
 },
 "nbformat": 4,
 "nbformat_minor": 5
}
