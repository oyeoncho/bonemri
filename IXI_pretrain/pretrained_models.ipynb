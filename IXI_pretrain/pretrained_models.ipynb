{
 "cells": [
  {
   "cell_type": "code",
   "execution_count": 1,
   "id": "a9f51c2f-da00-4469-b188-8335ac10d1cd",
   "metadata": {
    "collapsed": true,
    "jupyter": {
     "outputs_hidden": true
    }
   },
   "outputs": [
    {
     "name": "stdout",
     "output_type": "stream",
     "text": [
      "📁 Loading IXI metadata...\n",
      "⚠️ AGE 컬럼에 NaN 존재 → 29개 행 제거합니다.\n",
      "✅ 매칭된 샘플 수: 563\n",
      "🖥️ Using device: cuda\n",
      "\n",
      "========== 🏁 Run 1/5 시작 ==========\n"
     ]
    },
    {
     "name": "stderr",
     "output_type": "stream",
     "text": [
      "/tmp/ipykernel_4036/2994272709.py:102: FutureWarning: `torch.cuda.amp.GradScaler(args...)` is deprecated. Please use `torch.amp.GradScaler('cuda', args...)` instead.\n",
      "  scaler = GradScaler()\n"
     ]
    },
    {
     "name": "stdout",
     "output_type": "stream",
     "text": [
      "\n",
      "[Run 1 | Epoch 1] 🧪 Training...\n"
     ]
    },
    {
     "name": "stderr",
     "output_type": "stream",
     "text": [
      "/tmp/ipykernel_4036/2994272709.py:138: FutureWarning: `torch.cuda.amp.autocast(args...)` is deprecated. Please use `torch.amp.autocast('cuda', args...)` instead.\n",
      "  with autocast():\n"
     ]
    },
    {
     "name": "stdout",
     "output_type": "stream",
     "text": [
      "  └─ Batch 20/66 - Loss: 0.1825\n",
      "  └─ Batch 40/66 - Loss: 0.0722\n",
      "  └─ Batch 60/66 - Loss: 0.4433\n",
      "  └─ Batch 66/66 - Loss: 0.2054\n",
      "✅ [Run 1 | Epoch 1] Train Loss Total: 18.82\n"
     ]
    },
    {
     "name": "stderr",
     "output_type": "stream",
     "text": [
      "/tmp/ipykernel_4036/2994272709.py:166: FutureWarning: `torch.cuda.amp.autocast(args...)` is deprecated. Please use `torch.amp.autocast('cuda', args...)` instead.\n",
      "  with autocast():\n"
     ]
    },
    {
     "name": "stdout",
     "output_type": "stream",
     "text": [
      "🔍 [Run 1 | Epoch 1] Val MAE: 21.423 | R²: -1.276\n",
      "📂 Best model updated for Run 1 (MAE: 21.423)\n",
      "\n",
      "[Run 1 | Epoch 2] 🧪 Training...\n"
     ]
    },
    {
     "name": "stderr",
     "output_type": "stream",
     "text": [
      "/tmp/ipykernel_4036/2994272709.py:138: FutureWarning: `torch.cuda.amp.autocast(args...)` is deprecated. Please use `torch.amp.autocast('cuda', args...)` instead.\n",
      "  with autocast():\n"
     ]
    },
    {
     "name": "stdout",
     "output_type": "stream",
     "text": [
      "  └─ Batch 20/66 - Loss: 0.1227\n",
      "  └─ Batch 40/66 - Loss: 0.1035\n",
      "  └─ Batch 60/66 - Loss: 0.1616\n",
      "  └─ Batch 66/66 - Loss: 0.0864\n",
      "✅ [Run 1 | Epoch 2] Train Loss Total: 9.28\n"
     ]
    },
    {
     "name": "stderr",
     "output_type": "stream",
     "text": [
      "/tmp/ipykernel_4036/2994272709.py:166: FutureWarning: `torch.cuda.amp.autocast(args...)` is deprecated. Please use `torch.amp.autocast('cuda', args...)` instead.\n",
      "  with autocast():\n"
     ]
    },
    {
     "name": "stdout",
     "output_type": "stream",
     "text": [
      "🔍 [Run 1 | Epoch 2] Val MAE: 9.520 | R²: 0.456\n",
      "📂 Best model updated for Run 1 (MAE: 9.520)\n",
      "\n",
      "[Run 1 | Epoch 3] 🧪 Training...\n"
     ]
    },
    {
     "name": "stderr",
     "output_type": "stream",
     "text": [
      "/tmp/ipykernel_4036/2994272709.py:138: FutureWarning: `torch.cuda.amp.autocast(args...)` is deprecated. Please use `torch.amp.autocast('cuda', args...)` instead.\n",
      "  with autocast():\n"
     ]
    },
    {
     "name": "stdout",
     "output_type": "stream",
     "text": [
      "  └─ Batch 20/66 - Loss: 0.2621\n",
      "  └─ Batch 40/66 - Loss: 0.1410\n",
      "  └─ Batch 60/66 - Loss: 0.1042\n",
      "  └─ Batch 66/66 - Loss: 0.1376\n",
      "✅ [Run 1 | Epoch 3] Train Loss Total: 7.09\n"
     ]
    },
    {
     "name": "stderr",
     "output_type": "stream",
     "text": [
      "/tmp/ipykernel_4036/2994272709.py:166: FutureWarning: `torch.cuda.amp.autocast(args...)` is deprecated. Please use `torch.amp.autocast('cuda', args...)` instead.\n",
      "  with autocast():\n"
     ]
    },
    {
     "name": "stdout",
     "output_type": "stream",
     "text": [
      "🔍 [Run 1 | Epoch 3] Val MAE: 8.860 | R²: 0.596\n",
      "📂 Best model updated for Run 1 (MAE: 8.860)\n",
      "\n",
      "[Run 1 | Epoch 4] 🧪 Training...\n"
     ]
    },
    {
     "name": "stderr",
     "output_type": "stream",
     "text": [
      "/tmp/ipykernel_4036/2994272709.py:138: FutureWarning: `torch.cuda.amp.autocast(args...)` is deprecated. Please use `torch.amp.autocast('cuda', args...)` instead.\n",
      "  with autocast():\n"
     ]
    },
    {
     "name": "stdout",
     "output_type": "stream",
     "text": [
      "  └─ Batch 20/66 - Loss: 0.1293\n",
      "  └─ Batch 40/66 - Loss: 0.0456\n",
      "  └─ Batch 60/66 - Loss: 0.2082\n",
      "  └─ Batch 66/66 - Loss: 0.0975\n",
      "✅ [Run 1 | Epoch 4] Train Loss Total: 7.42\n"
     ]
    },
    {
     "name": "stderr",
     "output_type": "stream",
     "text": [
      "/tmp/ipykernel_4036/2994272709.py:166: FutureWarning: `torch.cuda.amp.autocast(args...)` is deprecated. Please use `torch.amp.autocast('cuda', args...)` instead.\n",
      "  with autocast():\n"
     ]
    },
    {
     "name": "stdout",
     "output_type": "stream",
     "text": [
      "🔍 [Run 1 | Epoch 4] Val MAE: 10.885 | R²: 0.348\n",
      "⏳ No improvement. Patience: 1/7\n",
      "\n",
      "[Run 1 | Epoch 5] 🧪 Training...\n"
     ]
    },
    {
     "name": "stderr",
     "output_type": "stream",
     "text": [
      "/tmp/ipykernel_4036/2994272709.py:138: FutureWarning: `torch.cuda.amp.autocast(args...)` is deprecated. Please use `torch.amp.autocast('cuda', args...)` instead.\n",
      "  with autocast():\n"
     ]
    },
    {
     "name": "stdout",
     "output_type": "stream",
     "text": [
      "  └─ Batch 20/66 - Loss: 0.0833\n",
      "  └─ Batch 40/66 - Loss: 0.1106\n",
      "  └─ Batch 60/66 - Loss: 0.2168\n",
      "  └─ Batch 66/66 - Loss: 0.1083\n",
      "✅ [Run 1 | Epoch 5] Train Loss Total: 7.51\n"
     ]
    },
    {
     "name": "stderr",
     "output_type": "stream",
     "text": [
      "/tmp/ipykernel_4036/2994272709.py:166: FutureWarning: `torch.cuda.amp.autocast(args...)` is deprecated. Please use `torch.amp.autocast('cuda', args...)` instead.\n",
      "  with autocast():\n"
     ]
    },
    {
     "name": "stdout",
     "output_type": "stream",
     "text": [
      "🔍 [Run 1 | Epoch 5] Val MAE: 8.906 | R²: 0.580\n",
      "⏳ No improvement. Patience: 2/7\n",
      "\n",
      "[Run 1 | Epoch 6] 🧪 Training...\n"
     ]
    },
    {
     "name": "stderr",
     "output_type": "stream",
     "text": [
      "/tmp/ipykernel_4036/2994272709.py:138: FutureWarning: `torch.cuda.amp.autocast(args...)` is deprecated. Please use `torch.amp.autocast('cuda', args...)` instead.\n",
      "  with autocast():\n"
     ]
    },
    {
     "name": "stdout",
     "output_type": "stream",
     "text": [
      "  └─ Batch 20/66 - Loss: 0.1088\n",
      "  └─ Batch 40/66 - Loss: 0.1043\n",
      "  └─ Batch 60/66 - Loss: 0.1865\n",
      "  └─ Batch 66/66 - Loss: 0.1894\n",
      "✅ [Run 1 | Epoch 6] Train Loss Total: 6.29\n"
     ]
    },
    {
     "name": "stderr",
     "output_type": "stream",
     "text": [
      "/tmp/ipykernel_4036/2994272709.py:166: FutureWarning: `torch.cuda.amp.autocast(args...)` is deprecated. Please use `torch.amp.autocast('cuda', args...)` instead.\n",
      "  with autocast():\n"
     ]
    },
    {
     "name": "stdout",
     "output_type": "stream",
     "text": [
      "🔍 [Run 1 | Epoch 6] Val MAE: 17.757 | R²: -0.450\n",
      "⏳ No improvement. Patience: 3/7\n",
      "\n",
      "[Run 1 | Epoch 7] 🧪 Training...\n"
     ]
    },
    {
     "name": "stderr",
     "output_type": "stream",
     "text": [
      "/tmp/ipykernel_4036/2994272709.py:138: FutureWarning: `torch.cuda.amp.autocast(args...)` is deprecated. Please use `torch.amp.autocast('cuda', args...)` instead.\n",
      "  with autocast():\n"
     ]
    },
    {
     "name": "stdout",
     "output_type": "stream",
     "text": [
      "  └─ Batch 20/66 - Loss: 0.1873\n",
      "  └─ Batch 40/66 - Loss: 0.0786\n",
      "  └─ Batch 60/66 - Loss: 0.1031\n",
      "  └─ Batch 66/66 - Loss: 0.0800\n",
      "✅ [Run 1 | Epoch 7] Train Loss Total: 5.33\n"
     ]
    },
    {
     "name": "stderr",
     "output_type": "stream",
     "text": [
      "/tmp/ipykernel_4036/2994272709.py:166: FutureWarning: `torch.cuda.amp.autocast(args...)` is deprecated. Please use `torch.amp.autocast('cuda', args...)` instead.\n",
      "  with autocast():\n"
     ]
    },
    {
     "name": "stdout",
     "output_type": "stream",
     "text": [
      "🔍 [Run 1 | Epoch 7] Val MAE: 8.269 | R²: 0.605\n",
      "📂 Best model updated for Run 1 (MAE: 8.269)\n",
      "\n",
      "[Run 1 | Epoch 8] 🧪 Training...\n"
     ]
    },
    {
     "name": "stderr",
     "output_type": "stream",
     "text": [
      "/tmp/ipykernel_4036/2994272709.py:138: FutureWarning: `torch.cuda.amp.autocast(args...)` is deprecated. Please use `torch.amp.autocast('cuda', args...)` instead.\n",
      "  with autocast():\n"
     ]
    },
    {
     "name": "stdout",
     "output_type": "stream",
     "text": [
      "  └─ Batch 20/66 - Loss: 0.1247\n",
      "  └─ Batch 40/66 - Loss: 0.0887\n",
      "  └─ Batch 60/66 - Loss: 0.0973\n",
      "  └─ Batch 66/66 - Loss: 0.0482\n",
      "✅ [Run 1 | Epoch 8] Train Loss Total: 5.03\n"
     ]
    },
    {
     "name": "stderr",
     "output_type": "stream",
     "text": [
      "/tmp/ipykernel_4036/2994272709.py:166: FutureWarning: `torch.cuda.amp.autocast(args...)` is deprecated. Please use `torch.amp.autocast('cuda', args...)` instead.\n",
      "  with autocast():\n"
     ]
    },
    {
     "name": "stdout",
     "output_type": "stream",
     "text": [
      "🔍 [Run 1 | Epoch 8] Val MAE: 6.156 | R²: 0.780\n",
      "📂 Best model updated for Run 1 (MAE: 6.156)\n",
      "\n",
      "[Run 1 | Epoch 9] 🧪 Training...\n"
     ]
    },
    {
     "name": "stderr",
     "output_type": "stream",
     "text": [
      "/tmp/ipykernel_4036/2994272709.py:138: FutureWarning: `torch.cuda.amp.autocast(args...)` is deprecated. Please use `torch.amp.autocast('cuda', args...)` instead.\n",
      "  with autocast():\n"
     ]
    },
    {
     "name": "stdout",
     "output_type": "stream",
     "text": [
      "  └─ Batch 20/66 - Loss: 0.0941\n",
      "  └─ Batch 40/66 - Loss: 0.0819\n",
      "  └─ Batch 60/66 - Loss: 0.0394\n",
      "  └─ Batch 66/66 - Loss: 0.0640\n",
      "✅ [Run 1 | Epoch 9] Train Loss Total: 4.75\n"
     ]
    },
    {
     "name": "stderr",
     "output_type": "stream",
     "text": [
      "/tmp/ipykernel_4036/2994272709.py:166: FutureWarning: `torch.cuda.amp.autocast(args...)` is deprecated. Please use `torch.amp.autocast('cuda', args...)` instead.\n",
      "  with autocast():\n"
     ]
    },
    {
     "name": "stdout",
     "output_type": "stream",
     "text": [
      "🔍 [Run 1 | Epoch 9] Val MAE: 7.814 | R²: 0.624\n",
      "⏳ No improvement. Patience: 1/7\n",
      "\n",
      "[Run 1 | Epoch 10] 🧪 Training...\n"
     ]
    },
    {
     "name": "stderr",
     "output_type": "stream",
     "text": [
      "/tmp/ipykernel_4036/2994272709.py:138: FutureWarning: `torch.cuda.amp.autocast(args...)` is deprecated. Please use `torch.amp.autocast('cuda', args...)` instead.\n",
      "  with autocast():\n"
     ]
    },
    {
     "name": "stdout",
     "output_type": "stream",
     "text": [
      "  └─ Batch 20/66 - Loss: 0.0684\n",
      "  └─ Batch 40/66 - Loss: 0.0495\n",
      "  └─ Batch 60/66 - Loss: 0.0892\n",
      "  └─ Batch 66/66 - Loss: 0.0649\n",
      "✅ [Run 1 | Epoch 10] Train Loss Total: 4.28\n"
     ]
    },
    {
     "name": "stderr",
     "output_type": "stream",
     "text": [
      "/tmp/ipykernel_4036/2994272709.py:166: FutureWarning: `torch.cuda.amp.autocast(args...)` is deprecated. Please use `torch.amp.autocast('cuda', args...)` instead.\n",
      "  with autocast():\n"
     ]
    },
    {
     "name": "stdout",
     "output_type": "stream",
     "text": [
      "🔍 [Run 1 | Epoch 10] Val MAE: 5.461 | R²: 0.811\n",
      "📂 Best model updated for Run 1 (MAE: 5.461)\n",
      "\n",
      "[Run 1 | Epoch 11] 🧪 Training...\n"
     ]
    },
    {
     "name": "stderr",
     "output_type": "stream",
     "text": [
      "/tmp/ipykernel_4036/2994272709.py:138: FutureWarning: `torch.cuda.amp.autocast(args...)` is deprecated. Please use `torch.amp.autocast('cuda', args...)` instead.\n",
      "  with autocast():\n"
     ]
    },
    {
     "name": "stdout",
     "output_type": "stream",
     "text": [
      "  └─ Batch 20/66 - Loss: 0.0504\n",
      "  └─ Batch 40/66 - Loss: 0.0571\n",
      "  └─ Batch 60/66 - Loss: 0.0369\n",
      "  └─ Batch 66/66 - Loss: 0.0694\n",
      "✅ [Run 1 | Epoch 11] Train Loss Total: 4.57\n"
     ]
    },
    {
     "name": "stderr",
     "output_type": "stream",
     "text": [
      "/tmp/ipykernel_4036/2994272709.py:166: FutureWarning: `torch.cuda.amp.autocast(args...)` is deprecated. Please use `torch.amp.autocast('cuda', args...)` instead.\n",
      "  with autocast():\n"
     ]
    },
    {
     "name": "stdout",
     "output_type": "stream",
     "text": [
      "🔍 [Run 1 | Epoch 11] Val MAE: 8.194 | R²: 0.654\n",
      "⏳ No improvement. Patience: 1/7\n",
      "\n",
      "[Run 1 | Epoch 12] 🧪 Training...\n"
     ]
    },
    {
     "name": "stderr",
     "output_type": "stream",
     "text": [
      "/tmp/ipykernel_4036/2994272709.py:138: FutureWarning: `torch.cuda.amp.autocast(args...)` is deprecated. Please use `torch.amp.autocast('cuda', args...)` instead.\n",
      "  with autocast():\n"
     ]
    },
    {
     "name": "stdout",
     "output_type": "stream",
     "text": [
      "  └─ Batch 20/66 - Loss: 0.0333\n",
      "  └─ Batch 40/66 - Loss: 0.0655\n",
      "  └─ Batch 60/66 - Loss: 0.0681\n",
      "  └─ Batch 66/66 - Loss: 0.0333\n",
      "✅ [Run 1 | Epoch 12] Train Loss Total: 3.92\n"
     ]
    },
    {
     "name": "stderr",
     "output_type": "stream",
     "text": [
      "/tmp/ipykernel_4036/2994272709.py:166: FutureWarning: `torch.cuda.amp.autocast(args...)` is deprecated. Please use `torch.amp.autocast('cuda', args...)` instead.\n",
      "  with autocast():\n"
     ]
    },
    {
     "name": "stdout",
     "output_type": "stream",
     "text": [
      "🔍 [Run 1 | Epoch 12] Val MAE: 5.210 | R²: 0.832\n",
      "📂 Best model updated for Run 1 (MAE: 5.210)\n",
      "\n",
      "[Run 1 | Epoch 13] 🧪 Training...\n"
     ]
    },
    {
     "name": "stderr",
     "output_type": "stream",
     "text": [
      "/tmp/ipykernel_4036/2994272709.py:138: FutureWarning: `torch.cuda.amp.autocast(args...)` is deprecated. Please use `torch.amp.autocast('cuda', args...)` instead.\n",
      "  with autocast():\n"
     ]
    },
    {
     "name": "stdout",
     "output_type": "stream",
     "text": [
      "  └─ Batch 20/66 - Loss: 0.0311\n",
      "  └─ Batch 40/66 - Loss: 0.0293\n",
      "  └─ Batch 60/66 - Loss: 0.0451\n",
      "  └─ Batch 66/66 - Loss: 0.0276\n",
      "✅ [Run 1 | Epoch 13] Train Loss Total: 3.99\n"
     ]
    },
    {
     "name": "stderr",
     "output_type": "stream",
     "text": [
      "/tmp/ipykernel_4036/2994272709.py:166: FutureWarning: `torch.cuda.amp.autocast(args...)` is deprecated. Please use `torch.amp.autocast('cuda', args...)` instead.\n",
      "  with autocast():\n"
     ]
    },
    {
     "name": "stdout",
     "output_type": "stream",
     "text": [
      "🔍 [Run 1 | Epoch 13] Val MAE: 7.542 | R²: 0.654\n",
      "⏳ No improvement. Patience: 1/7\n",
      "\n",
      "[Run 1 | Epoch 14] 🧪 Training...\n"
     ]
    },
    {
     "name": "stderr",
     "output_type": "stream",
     "text": [
      "/tmp/ipykernel_4036/2994272709.py:138: FutureWarning: `torch.cuda.amp.autocast(args...)` is deprecated. Please use `torch.amp.autocast('cuda', args...)` instead.\n",
      "  with autocast():\n"
     ]
    },
    {
     "name": "stdout",
     "output_type": "stream",
     "text": [
      "  └─ Batch 20/66 - Loss: 0.0706\n",
      "  └─ Batch 40/66 - Loss: 0.0577\n",
      "  └─ Batch 60/66 - Loss: 0.0820\n",
      "  └─ Batch 66/66 - Loss: 0.0330\n",
      "✅ [Run 1 | Epoch 14] Train Loss Total: 4.86\n"
     ]
    },
    {
     "name": "stderr",
     "output_type": "stream",
     "text": [
      "/tmp/ipykernel_4036/2994272709.py:166: FutureWarning: `torch.cuda.amp.autocast(args...)` is deprecated. Please use `torch.amp.autocast('cuda', args...)` instead.\n",
      "  with autocast():\n"
     ]
    },
    {
     "name": "stdout",
     "output_type": "stream",
     "text": [
      "🔍 [Run 1 | Epoch 14] Val MAE: 5.472 | R²: 0.815\n",
      "⏳ No improvement. Patience: 2/7\n",
      "\n",
      "[Run 1 | Epoch 15] 🧪 Training...\n"
     ]
    },
    {
     "name": "stderr",
     "output_type": "stream",
     "text": [
      "/tmp/ipykernel_4036/2994272709.py:138: FutureWarning: `torch.cuda.amp.autocast(args...)` is deprecated. Please use `torch.amp.autocast('cuda', args...)` instead.\n",
      "  with autocast():\n"
     ]
    },
    {
     "name": "stdout",
     "output_type": "stream",
     "text": [
      "  └─ Batch 20/66 - Loss: 0.0598\n",
      "  └─ Batch 40/66 - Loss: 0.0959\n",
      "  └─ Batch 60/66 - Loss: 0.0322\n",
      "  └─ Batch 66/66 - Loss: 0.1259\n",
      "✅ [Run 1 | Epoch 15] Train Loss Total: 4.09\n"
     ]
    },
    {
     "name": "stderr",
     "output_type": "stream",
     "text": [
      "/tmp/ipykernel_4036/2994272709.py:166: FutureWarning: `torch.cuda.amp.autocast(args...)` is deprecated. Please use `torch.amp.autocast('cuda', args...)` instead.\n",
      "  with autocast():\n"
     ]
    },
    {
     "name": "stdout",
     "output_type": "stream",
     "text": [
      "🔍 [Run 1 | Epoch 15] Val MAE: 12.571 | R²: 0.227\n",
      "⏳ No improvement. Patience: 3/7\n",
      "\n",
      "[Run 1 | Epoch 16] 🧪 Training...\n"
     ]
    },
    {
     "name": "stderr",
     "output_type": "stream",
     "text": [
      "/tmp/ipykernel_4036/2994272709.py:138: FutureWarning: `torch.cuda.amp.autocast(args...)` is deprecated. Please use `torch.amp.autocast('cuda', args...)` instead.\n",
      "  with autocast():\n"
     ]
    },
    {
     "name": "stdout",
     "output_type": "stream",
     "text": [
      "  └─ Batch 20/66 - Loss: 0.0631\n",
      "  └─ Batch 40/66 - Loss: 0.0556\n",
      "  └─ Batch 60/66 - Loss: 0.0302\n",
      "  └─ Batch 66/66 - Loss: 0.0493\n",
      "✅ [Run 1 | Epoch 16] Train Loss Total: 3.98\n"
     ]
    },
    {
     "name": "stderr",
     "output_type": "stream",
     "text": [
      "/tmp/ipykernel_4036/2994272709.py:166: FutureWarning: `torch.cuda.amp.autocast(args...)` is deprecated. Please use `torch.amp.autocast('cuda', args...)` instead.\n",
      "  with autocast():\n"
     ]
    },
    {
     "name": "stdout",
     "output_type": "stream",
     "text": [
      "🔍 [Run 1 | Epoch 16] Val MAE: 6.228 | R²: 0.751\n",
      "⏳ No improvement. Patience: 4/7\n",
      "\n",
      "[Run 1 | Epoch 17] 🧪 Training...\n"
     ]
    },
    {
     "name": "stderr",
     "output_type": "stream",
     "text": [
      "/tmp/ipykernel_4036/2994272709.py:138: FutureWarning: `torch.cuda.amp.autocast(args...)` is deprecated. Please use `torch.amp.autocast('cuda', args...)` instead.\n",
      "  with autocast():\n"
     ]
    },
    {
     "name": "stdout",
     "output_type": "stream",
     "text": [
      "  └─ Batch 20/66 - Loss: 0.0446\n",
      "  └─ Batch 40/66 - Loss: 0.0585\n",
      "  └─ Batch 60/66 - Loss: 0.0441\n",
      "  └─ Batch 66/66 - Loss: 0.0674\n",
      "✅ [Run 1 | Epoch 17] Train Loss Total: 3.14\n"
     ]
    },
    {
     "name": "stderr",
     "output_type": "stream",
     "text": [
      "/tmp/ipykernel_4036/2994272709.py:166: FutureWarning: `torch.cuda.amp.autocast(args...)` is deprecated. Please use `torch.amp.autocast('cuda', args...)` instead.\n",
      "  with autocast():\n"
     ]
    },
    {
     "name": "stdout",
     "output_type": "stream",
     "text": [
      "🔍 [Run 1 | Epoch 17] Val MAE: 5.808 | R²: 0.808\n",
      "⏳ No improvement. Patience: 5/7\n",
      "\n",
      "[Run 1 | Epoch 18] 🧪 Training...\n"
     ]
    },
    {
     "name": "stderr",
     "output_type": "stream",
     "text": [
      "/tmp/ipykernel_4036/2994272709.py:138: FutureWarning: `torch.cuda.amp.autocast(args...)` is deprecated. Please use `torch.amp.autocast('cuda', args...)` instead.\n",
      "  with autocast():\n"
     ]
    },
    {
     "name": "stdout",
     "output_type": "stream",
     "text": [
      "  └─ Batch 20/66 - Loss: 0.0391\n",
      "  └─ Batch 40/66 - Loss: 0.0444\n",
      "  └─ Batch 60/66 - Loss: 0.1190\n",
      "  └─ Batch 66/66 - Loss: 0.0526\n",
      "✅ [Run 1 | Epoch 18] Train Loss Total: 3.49\n"
     ]
    },
    {
     "name": "stderr",
     "output_type": "stream",
     "text": [
      "/tmp/ipykernel_4036/2994272709.py:166: FutureWarning: `torch.cuda.amp.autocast(args...)` is deprecated. Please use `torch.amp.autocast('cuda', args...)` instead.\n",
      "  with autocast():\n"
     ]
    },
    {
     "name": "stdout",
     "output_type": "stream",
     "text": [
      "🔍 [Run 1 | Epoch 18] Val MAE: 4.990 | R²: 0.855\n",
      "📂 Best model updated for Run 1 (MAE: 4.990)\n",
      "\n",
      "[Run 1 | Epoch 19] 🧪 Training...\n"
     ]
    },
    {
     "name": "stderr",
     "output_type": "stream",
     "text": [
      "/tmp/ipykernel_4036/2994272709.py:138: FutureWarning: `torch.cuda.amp.autocast(args...)` is deprecated. Please use `torch.amp.autocast('cuda', args...)` instead.\n",
      "  with autocast():\n"
     ]
    },
    {
     "name": "stdout",
     "output_type": "stream",
     "text": [
      "  └─ Batch 20/66 - Loss: 0.0645\n",
      "  └─ Batch 40/66 - Loss: 0.0352\n",
      "  └─ Batch 60/66 - Loss: 0.0457\n",
      "  └─ Batch 66/66 - Loss: 0.0420\n",
      "✅ [Run 1 | Epoch 19] Train Loss Total: 3.22\n"
     ]
    },
    {
     "name": "stderr",
     "output_type": "stream",
     "text": [
      "/tmp/ipykernel_4036/2994272709.py:166: FutureWarning: `torch.cuda.amp.autocast(args...)` is deprecated. Please use `torch.amp.autocast('cuda', args...)` instead.\n",
      "  with autocast():\n"
     ]
    },
    {
     "name": "stdout",
     "output_type": "stream",
     "text": [
      "🔍 [Run 1 | Epoch 19] Val MAE: 6.597 | R²: 0.767\n",
      "⏳ No improvement. Patience: 1/7\n",
      "\n",
      "[Run 1 | Epoch 20] 🧪 Training...\n"
     ]
    },
    {
     "name": "stderr",
     "output_type": "stream",
     "text": [
      "/tmp/ipykernel_4036/2994272709.py:138: FutureWarning: `torch.cuda.amp.autocast(args...)` is deprecated. Please use `torch.amp.autocast('cuda', args...)` instead.\n",
      "  with autocast():\n"
     ]
    },
    {
     "name": "stdout",
     "output_type": "stream",
     "text": [
      "  └─ Batch 20/66 - Loss: 0.0404\n",
      "  └─ Batch 40/66 - Loss: 0.0477\n",
      "  └─ Batch 60/66 - Loss: 0.0453\n",
      "  └─ Batch 66/66 - Loss: 0.0579\n",
      "✅ [Run 1 | Epoch 20] Train Loss Total: 3.36\n"
     ]
    },
    {
     "name": "stderr",
     "output_type": "stream",
     "text": [
      "/tmp/ipykernel_4036/2994272709.py:166: FutureWarning: `torch.cuda.amp.autocast(args...)` is deprecated. Please use `torch.amp.autocast('cuda', args...)` instead.\n",
      "  with autocast():\n"
     ]
    },
    {
     "name": "stdout",
     "output_type": "stream",
     "text": [
      "🔍 [Run 1 | Epoch 20] Val MAE: 5.326 | R²: 0.829\n",
      "⏳ No improvement. Patience: 2/7\n",
      "\n",
      "[Run 1 | Epoch 21] 🧪 Training...\n"
     ]
    },
    {
     "name": "stderr",
     "output_type": "stream",
     "text": [
      "/tmp/ipykernel_4036/2994272709.py:138: FutureWarning: `torch.cuda.amp.autocast(args...)` is deprecated. Please use `torch.amp.autocast('cuda', args...)` instead.\n",
      "  with autocast():\n"
     ]
    },
    {
     "name": "stdout",
     "output_type": "stream",
     "text": [
      "  └─ Batch 20/66 - Loss: 0.0384\n",
      "  └─ Batch 40/66 - Loss: 0.1770\n",
      "  └─ Batch 60/66 - Loss: 0.0268\n",
      "  └─ Batch 66/66 - Loss: 0.0715\n",
      "✅ [Run 1 | Epoch 21] Train Loss Total: 5.28\n"
     ]
    },
    {
     "name": "stderr",
     "output_type": "stream",
     "text": [
      "/tmp/ipykernel_4036/2994272709.py:166: FutureWarning: `torch.cuda.amp.autocast(args...)` is deprecated. Please use `torch.amp.autocast('cuda', args...)` instead.\n",
      "  with autocast():\n"
     ]
    },
    {
     "name": "stdout",
     "output_type": "stream",
     "text": [
      "🔍 [Run 1 | Epoch 21] Val MAE: 5.214 | R²: 0.835\n",
      "⏳ No improvement. Patience: 3/7\n",
      "\n",
      "[Run 1 | Epoch 22] 🧪 Training...\n"
     ]
    },
    {
     "name": "stderr",
     "output_type": "stream",
     "text": [
      "/tmp/ipykernel_4036/2994272709.py:138: FutureWarning: `torch.cuda.amp.autocast(args...)` is deprecated. Please use `torch.amp.autocast('cuda', args...)` instead.\n",
      "  with autocast():\n"
     ]
    },
    {
     "name": "stdout",
     "output_type": "stream",
     "text": [
      "  └─ Batch 20/66 - Loss: 0.0375\n",
      "  └─ Batch 40/66 - Loss: 0.0213\n",
      "  └─ Batch 60/66 - Loss: 0.0892\n",
      "  └─ Batch 66/66 - Loss: 0.0172\n",
      "✅ [Run 1 | Epoch 22] Train Loss Total: 2.84\n"
     ]
    },
    {
     "name": "stderr",
     "output_type": "stream",
     "text": [
      "/tmp/ipykernel_4036/2994272709.py:166: FutureWarning: `torch.cuda.amp.autocast(args...)` is deprecated. Please use `torch.amp.autocast('cuda', args...)` instead.\n",
      "  with autocast():\n"
     ]
    },
    {
     "name": "stdout",
     "output_type": "stream",
     "text": [
      "🔍 [Run 1 | Epoch 22] Val MAE: 5.310 | R²: 0.819\n",
      "⏳ No improvement. Patience: 4/7\n",
      "\n",
      "[Run 1 | Epoch 23] 🧪 Training...\n"
     ]
    },
    {
     "name": "stderr",
     "output_type": "stream",
     "text": [
      "/tmp/ipykernel_4036/2994272709.py:138: FutureWarning: `torch.cuda.amp.autocast(args...)` is deprecated. Please use `torch.amp.autocast('cuda', args...)` instead.\n",
      "  with autocast():\n"
     ]
    },
    {
     "name": "stdout",
     "output_type": "stream",
     "text": [
      "  └─ Batch 20/66 - Loss: 0.0347\n",
      "  └─ Batch 40/66 - Loss: 0.0621\n",
      "  └─ Batch 60/66 - Loss: 0.0801\n",
      "  └─ Batch 66/66 - Loss: 0.0161\n",
      "✅ [Run 1 | Epoch 23] Train Loss Total: 3.26\n"
     ]
    },
    {
     "name": "stderr",
     "output_type": "stream",
     "text": [
      "/tmp/ipykernel_4036/2994272709.py:166: FutureWarning: `torch.cuda.amp.autocast(args...)` is deprecated. Please use `torch.amp.autocast('cuda', args...)` instead.\n",
      "  with autocast():\n"
     ]
    },
    {
     "name": "stdout",
     "output_type": "stream",
     "text": [
      "🔍 [Run 1 | Epoch 23] Val MAE: 5.912 | R²: 0.793\n",
      "⏳ No improvement. Patience: 5/7\n",
      "\n",
      "[Run 1 | Epoch 24] 🧪 Training...\n"
     ]
    },
    {
     "name": "stderr",
     "output_type": "stream",
     "text": [
      "/tmp/ipykernel_4036/2994272709.py:138: FutureWarning: `torch.cuda.amp.autocast(args...)` is deprecated. Please use `torch.amp.autocast('cuda', args...)` instead.\n",
      "  with autocast():\n"
     ]
    },
    {
     "name": "stdout",
     "output_type": "stream",
     "text": [
      "  └─ Batch 20/66 - Loss: 0.0359\n",
      "  └─ Batch 40/66 - Loss: 0.0361\n",
      "  └─ Batch 60/66 - Loss: 0.0950\n",
      "  └─ Batch 66/66 - Loss: 0.1036\n",
      "✅ [Run 1 | Epoch 24] Train Loss Total: 3.11\n"
     ]
    },
    {
     "name": "stderr",
     "output_type": "stream",
     "text": [
      "/tmp/ipykernel_4036/2994272709.py:166: FutureWarning: `torch.cuda.amp.autocast(args...)` is deprecated. Please use `torch.amp.autocast('cuda', args...)` instead.\n",
      "  with autocast():\n"
     ]
    },
    {
     "name": "stdout",
     "output_type": "stream",
     "text": [
      "🔍 [Run 1 | Epoch 24] Val MAE: 9.930 | R²: 0.491\n",
      "⏳ No improvement. Patience: 6/7\n",
      "\n",
      "[Run 1 | Epoch 25] 🧪 Training...\n"
     ]
    },
    {
     "name": "stderr",
     "output_type": "stream",
     "text": [
      "/tmp/ipykernel_4036/2994272709.py:138: FutureWarning: `torch.cuda.amp.autocast(args...)` is deprecated. Please use `torch.amp.autocast('cuda', args...)` instead.\n",
      "  with autocast():\n"
     ]
    },
    {
     "name": "stdout",
     "output_type": "stream",
     "text": [
      "  └─ Batch 20/66 - Loss: 0.0303\n",
      "  └─ Batch 40/66 - Loss: 0.0224\n",
      "  └─ Batch 60/66 - Loss: 0.0324\n",
      "  └─ Batch 66/66 - Loss: 0.1018\n",
      "✅ [Run 1 | Epoch 25] Train Loss Total: 3.42\n"
     ]
    },
    {
     "name": "stderr",
     "output_type": "stream",
     "text": [
      "/tmp/ipykernel_4036/2994272709.py:166: FutureWarning: `torch.cuda.amp.autocast(args...)` is deprecated. Please use `torch.amp.autocast('cuda', args...)` instead.\n",
      "  with autocast():\n"
     ]
    },
    {
     "name": "stdout",
     "output_type": "stream",
     "text": [
      "🔍 [Run 1 | Epoch 25] Val MAE: 12.164 | R²: 0.282\n",
      "⏳ No improvement. Patience: 7/7\n",
      "🛑 Early stopping at epoch 25\n",
      "\n",
      "✅✅ [Run 1] Best MAE: 4.990\n",
      "\n",
      "========== 🏁 Run 2/5 시작 ==========\n",
      "\n",
      "[Run 2 | Epoch 1] 🧪 Training...\n"
     ]
    },
    {
     "name": "stderr",
     "output_type": "stream",
     "text": [
      "/tmp/ipykernel_4036/2994272709.py:138: FutureWarning: `torch.cuda.amp.autocast(args...)` is deprecated. Please use `torch.amp.autocast('cuda', args...)` instead.\n",
      "  with autocast():\n"
     ]
    },
    {
     "name": "stdout",
     "output_type": "stream",
     "text": [
      "  └─ Batch 20/66 - Loss: 0.1594\n",
      "  └─ Batch 40/66 - Loss: 0.0430\n",
      "  └─ Batch 60/66 - Loss: 0.1468\n",
      "  └─ Batch 66/66 - Loss: 0.1772\n",
      "✅ [Run 2 | Epoch 1] Train Loss Total: 25.38\n"
     ]
    },
    {
     "name": "stderr",
     "output_type": "stream",
     "text": [
      "/tmp/ipykernel_4036/2994272709.py:166: FutureWarning: `torch.cuda.amp.autocast(args...)` is deprecated. Please use `torch.amp.autocast('cuda', args...)` instead.\n",
      "  with autocast():\n"
     ]
    },
    {
     "name": "stdout",
     "output_type": "stream",
     "text": [
      "🔍 [Run 2 | Epoch 1] Val MAE: 10.407 | R²: 0.424\n",
      "📂 Best model updated for Run 2 (MAE: 10.407)\n",
      "\n",
      "[Run 2 | Epoch 2] 🧪 Training...\n"
     ]
    },
    {
     "name": "stderr",
     "output_type": "stream",
     "text": [
      "/tmp/ipykernel_4036/2994272709.py:138: FutureWarning: `torch.cuda.amp.autocast(args...)` is deprecated. Please use `torch.amp.autocast('cuda', args...)` instead.\n",
      "  with autocast():\n"
     ]
    },
    {
     "name": "stdout",
     "output_type": "stream",
     "text": [
      "  └─ Batch 20/66 - Loss: 0.1187\n",
      "  └─ Batch 40/66 - Loss: 0.2713\n",
      "  └─ Batch 60/66 - Loss: 0.0990\n",
      "  └─ Batch 66/66 - Loss: 0.0529\n",
      "✅ [Run 2 | Epoch 2] Train Loss Total: 8.64\n"
     ]
    },
    {
     "name": "stderr",
     "output_type": "stream",
     "text": [
      "/tmp/ipykernel_4036/2994272709.py:166: FutureWarning: `torch.cuda.amp.autocast(args...)` is deprecated. Please use `torch.amp.autocast('cuda', args...)` instead.\n",
      "  with autocast():\n"
     ]
    },
    {
     "name": "stdout",
     "output_type": "stream",
     "text": [
      "🔍 [Run 2 | Epoch 2] Val MAE: 10.285 | R²: 0.412\n",
      "📂 Best model updated for Run 2 (MAE: 10.285)\n",
      "\n",
      "[Run 2 | Epoch 3] 🧪 Training...\n"
     ]
    },
    {
     "name": "stderr",
     "output_type": "stream",
     "text": [
      "/tmp/ipykernel_4036/2994272709.py:138: FutureWarning: `torch.cuda.amp.autocast(args...)` is deprecated. Please use `torch.amp.autocast('cuda', args...)` instead.\n",
      "  with autocast():\n"
     ]
    },
    {
     "name": "stdout",
     "output_type": "stream",
     "text": [
      "  └─ Batch 20/66 - Loss: 0.0659\n",
      "  └─ Batch 40/66 - Loss: 0.1101\n",
      "  └─ Batch 60/66 - Loss: 0.1039\n",
      "  └─ Batch 66/66 - Loss: 0.0909\n",
      "✅ [Run 2 | Epoch 3] Train Loss Total: 8.08\n"
     ]
    },
    {
     "name": "stderr",
     "output_type": "stream",
     "text": [
      "/tmp/ipykernel_4036/2994272709.py:166: FutureWarning: `torch.cuda.amp.autocast(args...)` is deprecated. Please use `torch.amp.autocast('cuda', args...)` instead.\n",
      "  with autocast():\n"
     ]
    },
    {
     "name": "stdout",
     "output_type": "stream",
     "text": [
      "🔍 [Run 2 | Epoch 3] Val MAE: 14.571 | R²: -0.006\n",
      "⏳ No improvement. Patience: 1/7\n",
      "\n",
      "[Run 2 | Epoch 4] 🧪 Training...\n"
     ]
    },
    {
     "name": "stderr",
     "output_type": "stream",
     "text": [
      "/tmp/ipykernel_4036/2994272709.py:138: FutureWarning: `torch.cuda.amp.autocast(args...)` is deprecated. Please use `torch.amp.autocast('cuda', args...)` instead.\n",
      "  with autocast():\n"
     ]
    },
    {
     "name": "stdout",
     "output_type": "stream",
     "text": [
      "  └─ Batch 20/66 - Loss: 0.0871\n",
      "  └─ Batch 40/66 - Loss: 0.1421\n",
      "  └─ Batch 60/66 - Loss: 0.1075\n",
      "  └─ Batch 66/66 - Loss: 0.0780\n",
      "✅ [Run 2 | Epoch 4] Train Loss Total: 7.39\n"
     ]
    },
    {
     "name": "stderr",
     "output_type": "stream",
     "text": [
      "/tmp/ipykernel_4036/2994272709.py:166: FutureWarning: `torch.cuda.amp.autocast(args...)` is deprecated. Please use `torch.amp.autocast('cuda', args...)` instead.\n",
      "  with autocast():\n"
     ]
    },
    {
     "name": "stdout",
     "output_type": "stream",
     "text": [
      "🔍 [Run 2 | Epoch 4] Val MAE: 5.798 | R²: 0.797\n",
      "📂 Best model updated for Run 2 (MAE: 5.798)\n",
      "\n",
      "[Run 2 | Epoch 5] 🧪 Training...\n"
     ]
    },
    {
     "name": "stderr",
     "output_type": "stream",
     "text": [
      "/tmp/ipykernel_4036/2994272709.py:138: FutureWarning: `torch.cuda.amp.autocast(args...)` is deprecated. Please use `torch.amp.autocast('cuda', args...)` instead.\n",
      "  with autocast():\n"
     ]
    },
    {
     "name": "stdout",
     "output_type": "stream",
     "text": [
      "  └─ Batch 20/66 - Loss: 0.1749\n",
      "  └─ Batch 40/66 - Loss: 0.0752\n",
      "  └─ Batch 60/66 - Loss: 0.0434\n",
      "  └─ Batch 66/66 - Loss: 0.1558\n",
      "✅ [Run 2 | Epoch 5] Train Loss Total: 7.06\n"
     ]
    },
    {
     "name": "stderr",
     "output_type": "stream",
     "text": [
      "/tmp/ipykernel_4036/2994272709.py:166: FutureWarning: `torch.cuda.amp.autocast(args...)` is deprecated. Please use `torch.amp.autocast('cuda', args...)` instead.\n",
      "  with autocast():\n"
     ]
    },
    {
     "name": "stdout",
     "output_type": "stream",
     "text": [
      "🔍 [Run 2 | Epoch 5] Val MAE: 9.283 | R²: 0.560\n",
      "⏳ No improvement. Patience: 1/7\n",
      "\n",
      "[Run 2 | Epoch 6] 🧪 Training...\n"
     ]
    },
    {
     "name": "stderr",
     "output_type": "stream",
     "text": [
      "/tmp/ipykernel_4036/2994272709.py:138: FutureWarning: `torch.cuda.amp.autocast(args...)` is deprecated. Please use `torch.amp.autocast('cuda', args...)` instead.\n",
      "  with autocast():\n"
     ]
    },
    {
     "name": "stdout",
     "output_type": "stream",
     "text": [
      "  └─ Batch 20/66 - Loss: 0.1003\n",
      "  └─ Batch 40/66 - Loss: 0.1401\n",
      "  └─ Batch 60/66 - Loss: 0.0653\n",
      "  └─ Batch 66/66 - Loss: 0.0854\n",
      "✅ [Run 2 | Epoch 6] Train Loss Total: 5.80\n"
     ]
    },
    {
     "name": "stderr",
     "output_type": "stream",
     "text": [
      "/tmp/ipykernel_4036/2994272709.py:166: FutureWarning: `torch.cuda.amp.autocast(args...)` is deprecated. Please use `torch.amp.autocast('cuda', args...)` instead.\n",
      "  with autocast():\n"
     ]
    },
    {
     "name": "stdout",
     "output_type": "stream",
     "text": [
      "🔍 [Run 2 | Epoch 6] Val MAE: 8.124 | R²: 0.605\n",
      "⏳ No improvement. Patience: 2/7\n",
      "\n",
      "[Run 2 | Epoch 7] 🧪 Training...\n"
     ]
    },
    {
     "name": "stderr",
     "output_type": "stream",
     "text": [
      "/tmp/ipykernel_4036/2994272709.py:138: FutureWarning: `torch.cuda.amp.autocast(args...)` is deprecated. Please use `torch.amp.autocast('cuda', args...)` instead.\n",
      "  with autocast():\n"
     ]
    },
    {
     "name": "stdout",
     "output_type": "stream",
     "text": [
      "  └─ Batch 20/66 - Loss: 0.1433\n",
      "  └─ Batch 40/66 - Loss: 0.1197\n",
      "  └─ Batch 60/66 - Loss: 0.0721\n",
      "  └─ Batch 66/66 - Loss: 0.0649\n",
      "✅ [Run 2 | Epoch 7] Train Loss Total: 5.86\n"
     ]
    },
    {
     "name": "stderr",
     "output_type": "stream",
     "text": [
      "/tmp/ipykernel_4036/2994272709.py:166: FutureWarning: `torch.cuda.amp.autocast(args...)` is deprecated. Please use `torch.amp.autocast('cuda', args...)` instead.\n",
      "  with autocast():\n"
     ]
    },
    {
     "name": "stdout",
     "output_type": "stream",
     "text": [
      "🔍 [Run 2 | Epoch 7] Val MAE: 9.362 | R²: 0.518\n",
      "⏳ No improvement. Patience: 3/7\n",
      "\n",
      "[Run 2 | Epoch 8] 🧪 Training...\n"
     ]
    },
    {
     "name": "stderr",
     "output_type": "stream",
     "text": [
      "/tmp/ipykernel_4036/2994272709.py:138: FutureWarning: `torch.cuda.amp.autocast(args...)` is deprecated. Please use `torch.amp.autocast('cuda', args...)` instead.\n",
      "  with autocast():\n"
     ]
    },
    {
     "name": "stdout",
     "output_type": "stream",
     "text": [
      "  └─ Batch 20/66 - Loss: 0.1033\n",
      "  └─ Batch 40/66 - Loss: 0.0916\n",
      "  └─ Batch 60/66 - Loss: 0.0725\n",
      "  └─ Batch 66/66 - Loss: 0.1446\n",
      "✅ [Run 2 | Epoch 8] Train Loss Total: 5.94\n"
     ]
    },
    {
     "name": "stderr",
     "output_type": "stream",
     "text": [
      "/tmp/ipykernel_4036/2994272709.py:166: FutureWarning: `torch.cuda.amp.autocast(args...)` is deprecated. Please use `torch.amp.autocast('cuda', args...)` instead.\n",
      "  with autocast():\n"
     ]
    },
    {
     "name": "stdout",
     "output_type": "stream",
     "text": [
      "🔍 [Run 2 | Epoch 8] Val MAE: 6.181 | R²: 0.755\n",
      "⏳ No improvement. Patience: 4/7\n",
      "\n",
      "[Run 2 | Epoch 9] 🧪 Training...\n"
     ]
    },
    {
     "name": "stderr",
     "output_type": "stream",
     "text": [
      "/tmp/ipykernel_4036/2994272709.py:138: FutureWarning: `torch.cuda.amp.autocast(args...)` is deprecated. Please use `torch.amp.autocast('cuda', args...)` instead.\n",
      "  with autocast():\n"
     ]
    },
    {
     "name": "stdout",
     "output_type": "stream",
     "text": [
      "  └─ Batch 20/66 - Loss: 0.0545\n",
      "  └─ Batch 40/66 - Loss: 0.0680\n",
      "  └─ Batch 60/66 - Loss: 0.0881\n",
      "  └─ Batch 66/66 - Loss: 0.0748\n",
      "✅ [Run 2 | Epoch 9] Train Loss Total: 6.65\n"
     ]
    },
    {
     "name": "stderr",
     "output_type": "stream",
     "text": [
      "/tmp/ipykernel_4036/2994272709.py:166: FutureWarning: `torch.cuda.amp.autocast(args...)` is deprecated. Please use `torch.amp.autocast('cuda', args...)` instead.\n",
      "  with autocast():\n"
     ]
    },
    {
     "name": "stdout",
     "output_type": "stream",
     "text": [
      "🔍 [Run 2 | Epoch 9] Val MAE: 10.019 | R²: 0.495\n",
      "⏳ No improvement. Patience: 5/7\n",
      "\n",
      "[Run 2 | Epoch 10] 🧪 Training...\n"
     ]
    },
    {
     "name": "stderr",
     "output_type": "stream",
     "text": [
      "/tmp/ipykernel_4036/2994272709.py:138: FutureWarning: `torch.cuda.amp.autocast(args...)` is deprecated. Please use `torch.amp.autocast('cuda', args...)` instead.\n",
      "  with autocast():\n"
     ]
    },
    {
     "name": "stdout",
     "output_type": "stream",
     "text": [
      "  └─ Batch 20/66 - Loss: 0.0830\n",
      "  └─ Batch 40/66 - Loss: 0.0672\n",
      "  └─ Batch 60/66 - Loss: 0.0545\n",
      "  └─ Batch 66/66 - Loss: 0.0610\n",
      "✅ [Run 2 | Epoch 10] Train Loss Total: 4.75\n"
     ]
    },
    {
     "name": "stderr",
     "output_type": "stream",
     "text": [
      "/tmp/ipykernel_4036/2994272709.py:166: FutureWarning: `torch.cuda.amp.autocast(args...)` is deprecated. Please use `torch.amp.autocast('cuda', args...)` instead.\n",
      "  with autocast():\n"
     ]
    },
    {
     "name": "stdout",
     "output_type": "stream",
     "text": [
      "🔍 [Run 2 | Epoch 10] Val MAE: 5.327 | R²: 0.836\n",
      "📂 Best model updated for Run 2 (MAE: 5.327)\n",
      "\n",
      "[Run 2 | Epoch 11] 🧪 Training...\n"
     ]
    },
    {
     "name": "stderr",
     "output_type": "stream",
     "text": [
      "/tmp/ipykernel_4036/2994272709.py:138: FutureWarning: `torch.cuda.amp.autocast(args...)` is deprecated. Please use `torch.amp.autocast('cuda', args...)` instead.\n",
      "  with autocast():\n"
     ]
    },
    {
     "name": "stdout",
     "output_type": "stream",
     "text": [
      "  └─ Batch 20/66 - Loss: 0.0584\n",
      "  └─ Batch 40/66 - Loss: 0.0487\n",
      "  └─ Batch 60/66 - Loss: 0.0717\n",
      "  └─ Batch 66/66 - Loss: 0.0388\n",
      "✅ [Run 2 | Epoch 11] Train Loss Total: 4.83\n"
     ]
    },
    {
     "name": "stderr",
     "output_type": "stream",
     "text": [
      "/tmp/ipykernel_4036/2994272709.py:166: FutureWarning: `torch.cuda.amp.autocast(args...)` is deprecated. Please use `torch.amp.autocast('cuda', args...)` instead.\n",
      "  with autocast():\n"
     ]
    },
    {
     "name": "stdout",
     "output_type": "stream",
     "text": [
      "🔍 [Run 2 | Epoch 11] Val MAE: 8.792 | R²: 0.616\n",
      "⏳ No improvement. Patience: 1/7\n",
      "\n",
      "[Run 2 | Epoch 12] 🧪 Training...\n"
     ]
    },
    {
     "name": "stderr",
     "output_type": "stream",
     "text": [
      "/tmp/ipykernel_4036/2994272709.py:138: FutureWarning: `torch.cuda.amp.autocast(args...)` is deprecated. Please use `torch.amp.autocast('cuda', args...)` instead.\n",
      "  with autocast():\n"
     ]
    },
    {
     "name": "stdout",
     "output_type": "stream",
     "text": [
      "  └─ Batch 20/66 - Loss: 0.0452\n",
      "  └─ Batch 40/66 - Loss: 0.0370\n",
      "  └─ Batch 60/66 - Loss: 0.0684\n",
      "  └─ Batch 66/66 - Loss: 0.0610\n",
      "✅ [Run 2 | Epoch 12] Train Loss Total: 4.83\n"
     ]
    },
    {
     "name": "stderr",
     "output_type": "stream",
     "text": [
      "/tmp/ipykernel_4036/2994272709.py:166: FutureWarning: `torch.cuda.amp.autocast(args...)` is deprecated. Please use `torch.amp.autocast('cuda', args...)` instead.\n",
      "  with autocast():\n"
     ]
    },
    {
     "name": "stdout",
     "output_type": "stream",
     "text": [
      "🔍 [Run 2 | Epoch 12] Val MAE: 11.218 | R²: 0.378\n",
      "⏳ No improvement. Patience: 2/7\n",
      "\n",
      "[Run 2 | Epoch 13] 🧪 Training...\n"
     ]
    },
    {
     "name": "stderr",
     "output_type": "stream",
     "text": [
      "/tmp/ipykernel_4036/2994272709.py:138: FutureWarning: `torch.cuda.amp.autocast(args...)` is deprecated. Please use `torch.amp.autocast('cuda', args...)` instead.\n",
      "  with autocast():\n"
     ]
    },
    {
     "name": "stdout",
     "output_type": "stream",
     "text": [
      "  └─ Batch 20/66 - Loss: 0.0623\n",
      "  └─ Batch 40/66 - Loss: 0.0403\n",
      "  └─ Batch 60/66 - Loss: 0.1053\n",
      "  └─ Batch 66/66 - Loss: 0.1637\n",
      "✅ [Run 2 | Epoch 13] Train Loss Total: 5.73\n"
     ]
    },
    {
     "name": "stderr",
     "output_type": "stream",
     "text": [
      "/tmp/ipykernel_4036/2994272709.py:166: FutureWarning: `torch.cuda.amp.autocast(args...)` is deprecated. Please use `torch.amp.autocast('cuda', args...)` instead.\n",
      "  with autocast():\n"
     ]
    },
    {
     "name": "stdout",
     "output_type": "stream",
     "text": [
      "🔍 [Run 2 | Epoch 13] Val MAE: 10.298 | R²: 0.451\n",
      "⏳ No improvement. Patience: 3/7\n",
      "\n",
      "[Run 2 | Epoch 14] 🧪 Training...\n"
     ]
    },
    {
     "name": "stderr",
     "output_type": "stream",
     "text": [
      "/tmp/ipykernel_4036/2994272709.py:138: FutureWarning: `torch.cuda.amp.autocast(args...)` is deprecated. Please use `torch.amp.autocast('cuda', args...)` instead.\n",
      "  with autocast():\n"
     ]
    },
    {
     "name": "stdout",
     "output_type": "stream",
     "text": [
      "  └─ Batch 20/66 - Loss: 0.0310\n",
      "  └─ Batch 40/66 - Loss: 0.0449\n",
      "  └─ Batch 60/66 - Loss: 0.0603\n",
      "  └─ Batch 66/66 - Loss: 0.0377\n",
      "✅ [Run 2 | Epoch 14] Train Loss Total: 4.21\n"
     ]
    },
    {
     "name": "stderr",
     "output_type": "stream",
     "text": [
      "/tmp/ipykernel_4036/2994272709.py:166: FutureWarning: `torch.cuda.amp.autocast(args...)` is deprecated. Please use `torch.amp.autocast('cuda', args...)` instead.\n",
      "  with autocast():\n"
     ]
    },
    {
     "name": "stdout",
     "output_type": "stream",
     "text": [
      "🔍 [Run 2 | Epoch 14] Val MAE: 7.232 | R²: 0.712\n",
      "⏳ No improvement. Patience: 4/7\n",
      "\n",
      "[Run 2 | Epoch 15] 🧪 Training...\n"
     ]
    },
    {
     "name": "stderr",
     "output_type": "stream",
     "text": [
      "/tmp/ipykernel_4036/2994272709.py:138: FutureWarning: `torch.cuda.amp.autocast(args...)` is deprecated. Please use `torch.amp.autocast('cuda', args...)` instead.\n",
      "  with autocast():\n"
     ]
    },
    {
     "name": "stdout",
     "output_type": "stream",
     "text": [
      "  └─ Batch 20/66 - Loss: 0.0509\n",
      "  └─ Batch 40/66 - Loss: 0.0727\n",
      "  └─ Batch 60/66 - Loss: 0.0324\n",
      "  └─ Batch 66/66 - Loss: 0.0440\n",
      "✅ [Run 2 | Epoch 15] Train Loss Total: 3.79\n"
     ]
    },
    {
     "name": "stderr",
     "output_type": "stream",
     "text": [
      "/tmp/ipykernel_4036/2994272709.py:166: FutureWarning: `torch.cuda.amp.autocast(args...)` is deprecated. Please use `torch.amp.autocast('cuda', args...)` instead.\n",
      "  with autocast():\n"
     ]
    },
    {
     "name": "stdout",
     "output_type": "stream",
     "text": [
      "🔍 [Run 2 | Epoch 15] Val MAE: 5.204 | R²: 0.840\n",
      "📂 Best model updated for Run 2 (MAE: 5.204)\n",
      "\n",
      "[Run 2 | Epoch 16] 🧪 Training...\n"
     ]
    },
    {
     "name": "stderr",
     "output_type": "stream",
     "text": [
      "/tmp/ipykernel_4036/2994272709.py:138: FutureWarning: `torch.cuda.amp.autocast(args...)` is deprecated. Please use `torch.amp.autocast('cuda', args...)` instead.\n",
      "  with autocast():\n"
     ]
    },
    {
     "name": "stdout",
     "output_type": "stream",
     "text": [
      "  └─ Batch 20/66 - Loss: 0.0924\n",
      "  └─ Batch 40/66 - Loss: 0.1345\n",
      "  └─ Batch 60/66 - Loss: 0.1015\n",
      "  └─ Batch 66/66 - Loss: 0.0095\n",
      "✅ [Run 2 | Epoch 16] Train Loss Total: 4.91\n"
     ]
    },
    {
     "name": "stderr",
     "output_type": "stream",
     "text": [
      "/tmp/ipykernel_4036/2994272709.py:166: FutureWarning: `torch.cuda.amp.autocast(args...)` is deprecated. Please use `torch.amp.autocast('cuda', args...)` instead.\n",
      "  with autocast():\n"
     ]
    },
    {
     "name": "stdout",
     "output_type": "stream",
     "text": [
      "🔍 [Run 2 | Epoch 16] Val MAE: 6.393 | R²: 0.768\n",
      "⏳ No improvement. Patience: 1/7\n",
      "\n",
      "[Run 2 | Epoch 17] 🧪 Training...\n"
     ]
    },
    {
     "name": "stderr",
     "output_type": "stream",
     "text": [
      "/tmp/ipykernel_4036/2994272709.py:138: FutureWarning: `torch.cuda.amp.autocast(args...)` is deprecated. Please use `torch.amp.autocast('cuda', args...)` instead.\n",
      "  with autocast():\n"
     ]
    },
    {
     "name": "stdout",
     "output_type": "stream",
     "text": [
      "  └─ Batch 20/66 - Loss: 0.1616\n",
      "  └─ Batch 40/66 - Loss: 0.0513\n",
      "  └─ Batch 60/66 - Loss: 0.0265\n",
      "  └─ Batch 66/66 - Loss: 0.0445\n",
      "✅ [Run 2 | Epoch 17] Train Loss Total: 4.33\n"
     ]
    },
    {
     "name": "stderr",
     "output_type": "stream",
     "text": [
      "/tmp/ipykernel_4036/2994272709.py:166: FutureWarning: `torch.cuda.amp.autocast(args...)` is deprecated. Please use `torch.amp.autocast('cuda', args...)` instead.\n",
      "  with autocast():\n"
     ]
    },
    {
     "name": "stdout",
     "output_type": "stream",
     "text": [
      "🔍 [Run 2 | Epoch 17] Val MAE: 5.768 | R²: 0.804\n",
      "⏳ No improvement. Patience: 2/7\n",
      "\n",
      "[Run 2 | Epoch 18] 🧪 Training...\n"
     ]
    },
    {
     "name": "stderr",
     "output_type": "stream",
     "text": [
      "/tmp/ipykernel_4036/2994272709.py:138: FutureWarning: `torch.cuda.amp.autocast(args...)` is deprecated. Please use `torch.amp.autocast('cuda', args...)` instead.\n",
      "  with autocast():\n"
     ]
    },
    {
     "name": "stdout",
     "output_type": "stream",
     "text": [
      "  └─ Batch 20/66 - Loss: 0.0117\n",
      "  └─ Batch 40/66 - Loss: 0.0390\n",
      "  └─ Batch 60/66 - Loss: 0.1239\n",
      "  └─ Batch 66/66 - Loss: 0.0954\n",
      "✅ [Run 2 | Epoch 18] Train Loss Total: 3.64\n"
     ]
    },
    {
     "name": "stderr",
     "output_type": "stream",
     "text": [
      "/tmp/ipykernel_4036/2994272709.py:166: FutureWarning: `torch.cuda.amp.autocast(args...)` is deprecated. Please use `torch.amp.autocast('cuda', args...)` instead.\n",
      "  with autocast():\n"
     ]
    },
    {
     "name": "stdout",
     "output_type": "stream",
     "text": [
      "🔍 [Run 2 | Epoch 18] Val MAE: 10.895 | R²: 0.430\n",
      "⏳ No improvement. Patience: 3/7\n",
      "\n",
      "[Run 2 | Epoch 19] 🧪 Training...\n"
     ]
    },
    {
     "name": "stderr",
     "output_type": "stream",
     "text": [
      "/tmp/ipykernel_4036/2994272709.py:138: FutureWarning: `torch.cuda.amp.autocast(args...)` is deprecated. Please use `torch.amp.autocast('cuda', args...)` instead.\n",
      "  with autocast():\n"
     ]
    },
    {
     "name": "stdout",
     "output_type": "stream",
     "text": [
      "  └─ Batch 20/66 - Loss: 0.0786\n",
      "  └─ Batch 40/66 - Loss: 0.0405\n",
      "  └─ Batch 60/66 - Loss: 0.0751\n",
      "  └─ Batch 66/66 - Loss: 0.0519\n",
      "✅ [Run 2 | Epoch 19] Train Loss Total: 3.86\n"
     ]
    },
    {
     "name": "stderr",
     "output_type": "stream",
     "text": [
      "/tmp/ipykernel_4036/2994272709.py:166: FutureWarning: `torch.cuda.amp.autocast(args...)` is deprecated. Please use `torch.amp.autocast('cuda', args...)` instead.\n",
      "  with autocast():\n"
     ]
    },
    {
     "name": "stdout",
     "output_type": "stream",
     "text": [
      "🔍 [Run 2 | Epoch 19] Val MAE: 5.303 | R²: 0.845\n",
      "⏳ No improvement. Patience: 4/7\n",
      "\n",
      "[Run 2 | Epoch 20] 🧪 Training...\n"
     ]
    },
    {
     "name": "stderr",
     "output_type": "stream",
     "text": [
      "/tmp/ipykernel_4036/2994272709.py:138: FutureWarning: `torch.cuda.amp.autocast(args...)` is deprecated. Please use `torch.amp.autocast('cuda', args...)` instead.\n",
      "  with autocast():\n"
     ]
    },
    {
     "name": "stdout",
     "output_type": "stream",
     "text": [
      "  └─ Batch 20/66 - Loss: 0.0498\n",
      "  └─ Batch 40/66 - Loss: 0.0376\n",
      "  └─ Batch 60/66 - Loss: 0.0364\n",
      "  └─ Batch 66/66 - Loss: 0.1446\n",
      "✅ [Run 2 | Epoch 20] Train Loss Total: 4.23\n"
     ]
    },
    {
     "name": "stderr",
     "output_type": "stream",
     "text": [
      "/tmp/ipykernel_4036/2994272709.py:166: FutureWarning: `torch.cuda.amp.autocast(args...)` is deprecated. Please use `torch.amp.autocast('cuda', args...)` instead.\n",
      "  with autocast():\n"
     ]
    },
    {
     "name": "stdout",
     "output_type": "stream",
     "text": [
      "🔍 [Run 2 | Epoch 20] Val MAE: 8.408 | R²: 0.616\n",
      "⏳ No improvement. Patience: 5/7\n",
      "\n",
      "[Run 2 | Epoch 21] 🧪 Training...\n"
     ]
    },
    {
     "name": "stderr",
     "output_type": "stream",
     "text": [
      "/tmp/ipykernel_4036/2994272709.py:138: FutureWarning: `torch.cuda.amp.autocast(args...)` is deprecated. Please use `torch.amp.autocast('cuda', args...)` instead.\n",
      "  with autocast():\n"
     ]
    },
    {
     "name": "stdout",
     "output_type": "stream",
     "text": [
      "  └─ Batch 20/66 - Loss: 0.0269\n",
      "  └─ Batch 40/66 - Loss: 0.0435\n",
      "  └─ Batch 60/66 - Loss: 0.0287\n",
      "  └─ Batch 66/66 - Loss: 0.0343\n",
      "✅ [Run 2 | Epoch 21] Train Loss Total: 2.98\n"
     ]
    },
    {
     "name": "stderr",
     "output_type": "stream",
     "text": [
      "/tmp/ipykernel_4036/2994272709.py:166: FutureWarning: `torch.cuda.amp.autocast(args...)` is deprecated. Please use `torch.amp.autocast('cuda', args...)` instead.\n",
      "  with autocast():\n"
     ]
    },
    {
     "name": "stdout",
     "output_type": "stream",
     "text": [
      "🔍 [Run 2 | Epoch 21] Val MAE: 5.207 | R²: 0.839\n",
      "⏳ No improvement. Patience: 6/7\n",
      "\n",
      "[Run 2 | Epoch 22] 🧪 Training...\n"
     ]
    },
    {
     "name": "stderr",
     "output_type": "stream",
     "text": [
      "/tmp/ipykernel_4036/2994272709.py:138: FutureWarning: `torch.cuda.amp.autocast(args...)` is deprecated. Please use `torch.amp.autocast('cuda', args...)` instead.\n",
      "  with autocast():\n"
     ]
    },
    {
     "name": "stdout",
     "output_type": "stream",
     "text": [
      "  └─ Batch 20/66 - Loss: 0.0462\n",
      "  └─ Batch 40/66 - Loss: 0.0325\n",
      "  └─ Batch 60/66 - Loss: 0.0303\n",
      "  └─ Batch 66/66 - Loss: 0.0258\n",
      "✅ [Run 2 | Epoch 22] Train Loss Total: 3.39\n"
     ]
    },
    {
     "name": "stderr",
     "output_type": "stream",
     "text": [
      "/tmp/ipykernel_4036/2994272709.py:166: FutureWarning: `torch.cuda.amp.autocast(args...)` is deprecated. Please use `torch.amp.autocast('cuda', args...)` instead.\n",
      "  with autocast():\n"
     ]
    },
    {
     "name": "stdout",
     "output_type": "stream",
     "text": [
      "🔍 [Run 2 | Epoch 22] Val MAE: 5.688 | R²: 0.824\n",
      "⏳ No improvement. Patience: 7/7\n",
      "🛑 Early stopping at epoch 22\n",
      "\n",
      "✅✅ [Run 2] Best MAE: 5.204\n",
      "\n",
      "========== 🏁 Run 3/5 시작 ==========\n",
      "\n",
      "[Run 3 | Epoch 1] 🧪 Training...\n"
     ]
    },
    {
     "name": "stderr",
     "output_type": "stream",
     "text": [
      "/tmp/ipykernel_4036/2994272709.py:138: FutureWarning: `torch.cuda.amp.autocast(args...)` is deprecated. Please use `torch.amp.autocast('cuda', args...)` instead.\n",
      "  with autocast():\n"
     ]
    },
    {
     "name": "stdout",
     "output_type": "stream",
     "text": [
      "  └─ Batch 20/66 - Loss: 0.3324\n",
      "  └─ Batch 40/66 - Loss: 0.3613\n",
      "  └─ Batch 60/66 - Loss: 0.1431\n",
      "  └─ Batch 66/66 - Loss: 0.1523\n",
      "✅ [Run 3 | Epoch 1] Train Loss Total: 20.30\n"
     ]
    },
    {
     "name": "stderr",
     "output_type": "stream",
     "text": [
      "/tmp/ipykernel_4036/2994272709.py:166: FutureWarning: `torch.cuda.amp.autocast(args...)` is deprecated. Please use `torch.amp.autocast('cuda', args...)` instead.\n",
      "  with autocast():\n"
     ]
    },
    {
     "name": "stdout",
     "output_type": "stream",
     "text": [
      "🔍 [Run 3 | Epoch 1] Val MAE: 14.720 | R²: -0.119\n",
      "📂 Best model updated for Run 3 (MAE: 14.720)\n",
      "\n",
      "[Run 3 | Epoch 2] 🧪 Training...\n"
     ]
    },
    {
     "name": "stderr",
     "output_type": "stream",
     "text": [
      "/tmp/ipykernel_4036/2994272709.py:138: FutureWarning: `torch.cuda.amp.autocast(args...)` is deprecated. Please use `torch.amp.autocast('cuda', args...)` instead.\n",
      "  with autocast():\n"
     ]
    },
    {
     "name": "stdout",
     "output_type": "stream",
     "text": [
      "  └─ Batch 20/66 - Loss: 0.0922\n",
      "  └─ Batch 40/66 - Loss: 0.0818\n",
      "  └─ Batch 60/66 - Loss: 0.1356\n",
      "  └─ Batch 66/66 - Loss: 0.1891\n",
      "✅ [Run 3 | Epoch 2] Train Loss Total: 9.10\n"
     ]
    },
    {
     "name": "stderr",
     "output_type": "stream",
     "text": [
      "/tmp/ipykernel_4036/2994272709.py:166: FutureWarning: `torch.cuda.amp.autocast(args...)` is deprecated. Please use `torch.amp.autocast('cuda', args...)` instead.\n",
      "  with autocast():\n"
     ]
    },
    {
     "name": "stdout",
     "output_type": "stream",
     "text": [
      "🔍 [Run 3 | Epoch 2] Val MAE: 9.264 | R²: 0.469\n",
      "📂 Best model updated for Run 3 (MAE: 9.264)\n",
      "\n",
      "[Run 3 | Epoch 3] 🧪 Training...\n"
     ]
    },
    {
     "name": "stderr",
     "output_type": "stream",
     "text": [
      "/tmp/ipykernel_4036/2994272709.py:138: FutureWarning: `torch.cuda.amp.autocast(args...)` is deprecated. Please use `torch.amp.autocast('cuda', args...)` instead.\n",
      "  with autocast():\n"
     ]
    },
    {
     "name": "stdout",
     "output_type": "stream",
     "text": [
      "  └─ Batch 20/66 - Loss: 0.1108\n",
      "  └─ Batch 40/66 - Loss: 0.2633\n",
      "  └─ Batch 60/66 - Loss: 0.2658\n",
      "  └─ Batch 66/66 - Loss: 0.4814\n",
      "✅ [Run 3 | Epoch 3] Train Loss Total: 8.50\n"
     ]
    },
    {
     "name": "stderr",
     "output_type": "stream",
     "text": [
      "/tmp/ipykernel_4036/2994272709.py:166: FutureWarning: `torch.cuda.amp.autocast(args...)` is deprecated. Please use `torch.amp.autocast('cuda', args...)` instead.\n",
      "  with autocast():\n"
     ]
    },
    {
     "name": "stdout",
     "output_type": "stream",
     "text": [
      "🔍 [Run 3 | Epoch 3] Val MAE: 47.043 | R²: -7.417\n",
      "⏳ No improvement. Patience: 1/7\n",
      "\n",
      "[Run 3 | Epoch 4] 🧪 Training...\n"
     ]
    },
    {
     "name": "stderr",
     "output_type": "stream",
     "text": [
      "/tmp/ipykernel_4036/2994272709.py:138: FutureWarning: `torch.cuda.amp.autocast(args...)` is deprecated. Please use `torch.amp.autocast('cuda', args...)` instead.\n",
      "  with autocast():\n"
     ]
    },
    {
     "name": "stdout",
     "output_type": "stream",
     "text": [
      "  └─ Batch 20/66 - Loss: 0.0745\n",
      "  └─ Batch 40/66 - Loss: 0.1600\n",
      "  └─ Batch 60/66 - Loss: 0.0722\n",
      "  └─ Batch 66/66 - Loss: 0.0902\n",
      "✅ [Run 3 | Epoch 4] Train Loss Total: 8.90\n"
     ]
    },
    {
     "name": "stderr",
     "output_type": "stream",
     "text": [
      "/tmp/ipykernel_4036/2994272709.py:166: FutureWarning: `torch.cuda.amp.autocast(args...)` is deprecated. Please use `torch.amp.autocast('cuda', args...)` instead.\n",
      "  with autocast():\n"
     ]
    },
    {
     "name": "stdout",
     "output_type": "stream",
     "text": [
      "🔍 [Run 3 | Epoch 4] Val MAE: 6.909 | R²: 0.735\n",
      "📂 Best model updated for Run 3 (MAE: 6.909)\n",
      "\n",
      "[Run 3 | Epoch 5] 🧪 Training...\n"
     ]
    },
    {
     "name": "stderr",
     "output_type": "stream",
     "text": [
      "/tmp/ipykernel_4036/2994272709.py:138: FutureWarning: `torch.cuda.amp.autocast(args...)` is deprecated. Please use `torch.amp.autocast('cuda', args...)` instead.\n",
      "  with autocast():\n"
     ]
    },
    {
     "name": "stdout",
     "output_type": "stream",
     "text": [
      "  └─ Batch 20/66 - Loss: 0.0708\n",
      "  └─ Batch 40/66 - Loss: 0.0542\n",
      "  └─ Batch 60/66 - Loss: 0.0771\n",
      "  └─ Batch 66/66 - Loss: 0.1037\n",
      "✅ [Run 3 | Epoch 5] Train Loss Total: 6.18\n"
     ]
    },
    {
     "name": "stderr",
     "output_type": "stream",
     "text": [
      "/tmp/ipykernel_4036/2994272709.py:166: FutureWarning: `torch.cuda.amp.autocast(args...)` is deprecated. Please use `torch.amp.autocast('cuda', args...)` instead.\n",
      "  with autocast():\n"
     ]
    },
    {
     "name": "stdout",
     "output_type": "stream",
     "text": [
      "🔍 [Run 3 | Epoch 5] Val MAE: 7.401 | R²: 0.688\n",
      "⏳ No improvement. Patience: 1/7\n",
      "\n",
      "[Run 3 | Epoch 6] 🧪 Training...\n"
     ]
    },
    {
     "name": "stderr",
     "output_type": "stream",
     "text": [
      "/tmp/ipykernel_4036/2994272709.py:138: FutureWarning: `torch.cuda.amp.autocast(args...)` is deprecated. Please use `torch.amp.autocast('cuda', args...)` instead.\n",
      "  with autocast():\n"
     ]
    },
    {
     "name": "stdout",
     "output_type": "stream",
     "text": [
      "  └─ Batch 20/66 - Loss: 0.0908\n",
      "  └─ Batch 40/66 - Loss: 0.1009\n",
      "  └─ Batch 60/66 - Loss: 0.0720\n",
      "  └─ Batch 66/66 - Loss: 0.0888\n",
      "✅ [Run 3 | Epoch 6] Train Loss Total: 5.20\n"
     ]
    },
    {
     "name": "stderr",
     "output_type": "stream",
     "text": [
      "/tmp/ipykernel_4036/2994272709.py:166: FutureWarning: `torch.cuda.amp.autocast(args...)` is deprecated. Please use `torch.amp.autocast('cuda', args...)` instead.\n",
      "  with autocast():\n"
     ]
    },
    {
     "name": "stdout",
     "output_type": "stream",
     "text": [
      "🔍 [Run 3 | Epoch 6] Val MAE: 10.775 | R²: 0.412\n",
      "⏳ No improvement. Patience: 2/7\n",
      "\n",
      "[Run 3 | Epoch 7] 🧪 Training...\n"
     ]
    },
    {
     "name": "stderr",
     "output_type": "stream",
     "text": [
      "/tmp/ipykernel_4036/2994272709.py:138: FutureWarning: `torch.cuda.amp.autocast(args...)` is deprecated. Please use `torch.amp.autocast('cuda', args...)` instead.\n",
      "  with autocast():\n"
     ]
    },
    {
     "name": "stdout",
     "output_type": "stream",
     "text": [
      "  └─ Batch 20/66 - Loss: 0.1387\n",
      "  └─ Batch 40/66 - Loss: 0.0198\n",
      "  └─ Batch 60/66 - Loss: 0.0622\n",
      "  └─ Batch 66/66 - Loss: 0.0950\n",
      "✅ [Run 3 | Epoch 7] Train Loss Total: 5.22\n"
     ]
    },
    {
     "name": "stderr",
     "output_type": "stream",
     "text": [
      "/tmp/ipykernel_4036/2994272709.py:166: FutureWarning: `torch.cuda.amp.autocast(args...)` is deprecated. Please use `torch.amp.autocast('cuda', args...)` instead.\n",
      "  with autocast():\n"
     ]
    },
    {
     "name": "stdout",
     "output_type": "stream",
     "text": [
      "🔍 [Run 3 | Epoch 7] Val MAE: 7.290 | R²: 0.678\n",
      "⏳ No improvement. Patience: 3/7\n",
      "\n",
      "[Run 3 | Epoch 8] 🧪 Training...\n"
     ]
    },
    {
     "name": "stderr",
     "output_type": "stream",
     "text": [
      "/tmp/ipykernel_4036/2994272709.py:138: FutureWarning: `torch.cuda.amp.autocast(args...)` is deprecated. Please use `torch.amp.autocast('cuda', args...)` instead.\n",
      "  with autocast():\n"
     ]
    },
    {
     "name": "stdout",
     "output_type": "stream",
     "text": [
      "  └─ Batch 20/66 - Loss: 0.0789\n",
      "  └─ Batch 40/66 - Loss: 0.1339\n",
      "  └─ Batch 60/66 - Loss: 0.0467\n",
      "  └─ Batch 66/66 - Loss: 0.0455\n",
      "✅ [Run 3 | Epoch 8] Train Loss Total: 4.88\n"
     ]
    },
    {
     "name": "stderr",
     "output_type": "stream",
     "text": [
      "/tmp/ipykernel_4036/2994272709.py:166: FutureWarning: `torch.cuda.amp.autocast(args...)` is deprecated. Please use `torch.amp.autocast('cuda', args...)` instead.\n",
      "  with autocast():\n"
     ]
    },
    {
     "name": "stdout",
     "output_type": "stream",
     "text": [
      "🔍 [Run 3 | Epoch 8] Val MAE: 6.605 | R²: 0.756\n",
      "📂 Best model updated for Run 3 (MAE: 6.605)\n",
      "\n",
      "[Run 3 | Epoch 9] 🧪 Training...\n"
     ]
    },
    {
     "name": "stderr",
     "output_type": "stream",
     "text": [
      "/tmp/ipykernel_4036/2994272709.py:138: FutureWarning: `torch.cuda.amp.autocast(args...)` is deprecated. Please use `torch.amp.autocast('cuda', args...)` instead.\n",
      "  with autocast():\n"
     ]
    },
    {
     "name": "stdout",
     "output_type": "stream",
     "text": [
      "  └─ Batch 20/66 - Loss: 0.0933\n",
      "  └─ Batch 40/66 - Loss: 0.1589\n",
      "  └─ Batch 60/66 - Loss: 0.0439\n",
      "  └─ Batch 66/66 - Loss: 0.0513\n",
      "✅ [Run 3 | Epoch 9] Train Loss Total: 4.77\n"
     ]
    },
    {
     "name": "stderr",
     "output_type": "stream",
     "text": [
      "/tmp/ipykernel_4036/2994272709.py:166: FutureWarning: `torch.cuda.amp.autocast(args...)` is deprecated. Please use `torch.amp.autocast('cuda', args...)` instead.\n",
      "  with autocast():\n"
     ]
    },
    {
     "name": "stdout",
     "output_type": "stream",
     "text": [
      "🔍 [Run 3 | Epoch 9] Val MAE: 7.961 | R²: 0.614\n",
      "⏳ No improvement. Patience: 1/7\n",
      "\n",
      "[Run 3 | Epoch 10] 🧪 Training...\n"
     ]
    },
    {
     "name": "stderr",
     "output_type": "stream",
     "text": [
      "/tmp/ipykernel_4036/2994272709.py:138: FutureWarning: `torch.cuda.amp.autocast(args...)` is deprecated. Please use `torch.amp.autocast('cuda', args...)` instead.\n",
      "  with autocast():\n"
     ]
    },
    {
     "name": "stdout",
     "output_type": "stream",
     "text": [
      "  └─ Batch 20/66 - Loss: 0.0492\n",
      "  └─ Batch 40/66 - Loss: 0.0489\n",
      "  └─ Batch 60/66 - Loss: 0.0402\n",
      "  └─ Batch 66/66 - Loss: 0.0341\n",
      "✅ [Run 3 | Epoch 10] Train Loss Total: 3.40\n"
     ]
    },
    {
     "name": "stderr",
     "output_type": "stream",
     "text": [
      "/tmp/ipykernel_4036/2994272709.py:166: FutureWarning: `torch.cuda.amp.autocast(args...)` is deprecated. Please use `torch.amp.autocast('cuda', args...)` instead.\n",
      "  with autocast():\n"
     ]
    },
    {
     "name": "stdout",
     "output_type": "stream",
     "text": [
      "🔍 [Run 3 | Epoch 10] Val MAE: 5.452 | R²: 0.803\n",
      "📂 Best model updated for Run 3 (MAE: 5.452)\n",
      "\n",
      "[Run 3 | Epoch 11] 🧪 Training...\n"
     ]
    },
    {
     "name": "stderr",
     "output_type": "stream",
     "text": [
      "/tmp/ipykernel_4036/2994272709.py:138: FutureWarning: `torch.cuda.amp.autocast(args...)` is deprecated. Please use `torch.amp.autocast('cuda', args...)` instead.\n",
      "  with autocast():\n"
     ]
    },
    {
     "name": "stdout",
     "output_type": "stream",
     "text": [
      "  └─ Batch 20/66 - Loss: 0.0218\n",
      "  └─ Batch 40/66 - Loss: 0.0354\n",
      "  └─ Batch 60/66 - Loss: 0.0677\n",
      "  └─ Batch 66/66 - Loss: 0.0113\n",
      "✅ [Run 3 | Epoch 11] Train Loss Total: 3.48\n"
     ]
    },
    {
     "name": "stderr",
     "output_type": "stream",
     "text": [
      "/tmp/ipykernel_4036/2994272709.py:166: FutureWarning: `torch.cuda.amp.autocast(args...)` is deprecated. Please use `torch.amp.autocast('cuda', args...)` instead.\n",
      "  with autocast():\n"
     ]
    },
    {
     "name": "stdout",
     "output_type": "stream",
     "text": [
      "🔍 [Run 3 | Epoch 11] Val MAE: 9.546 | R²: 0.524\n",
      "⏳ No improvement. Patience: 1/7\n",
      "\n",
      "[Run 3 | Epoch 12] 🧪 Training...\n"
     ]
    },
    {
     "name": "stderr",
     "output_type": "stream",
     "text": [
      "/tmp/ipykernel_4036/2994272709.py:138: FutureWarning: `torch.cuda.amp.autocast(args...)` is deprecated. Please use `torch.amp.autocast('cuda', args...)` instead.\n",
      "  with autocast():\n"
     ]
    },
    {
     "name": "stdout",
     "output_type": "stream",
     "text": [
      "  └─ Batch 20/66 - Loss: 0.0242\n",
      "  └─ Batch 40/66 - Loss: 0.0562\n",
      "  └─ Batch 60/66 - Loss: 0.0682\n",
      "  └─ Batch 66/66 - Loss: 0.0568\n",
      "✅ [Run 3 | Epoch 12] Train Loss Total: 3.41\n"
     ]
    },
    {
     "name": "stderr",
     "output_type": "stream",
     "text": [
      "/tmp/ipykernel_4036/2994272709.py:166: FutureWarning: `torch.cuda.amp.autocast(args...)` is deprecated. Please use `torch.amp.autocast('cuda', args...)` instead.\n",
      "  with autocast():\n"
     ]
    },
    {
     "name": "stdout",
     "output_type": "stream",
     "text": [
      "🔍 [Run 3 | Epoch 12] Val MAE: 11.743 | R²: 0.340\n",
      "⏳ No improvement. Patience: 2/7\n",
      "\n",
      "[Run 3 | Epoch 13] 🧪 Training...\n"
     ]
    },
    {
     "name": "stderr",
     "output_type": "stream",
     "text": [
      "/tmp/ipykernel_4036/2994272709.py:138: FutureWarning: `torch.cuda.amp.autocast(args...)` is deprecated. Please use `torch.amp.autocast('cuda', args...)` instead.\n",
      "  with autocast():\n"
     ]
    },
    {
     "name": "stdout",
     "output_type": "stream",
     "text": [
      "  └─ Batch 20/66 - Loss: 0.0601\n",
      "  └─ Batch 40/66 - Loss: 0.0396\n",
      "  └─ Batch 60/66 - Loss: 0.0319\n",
      "  └─ Batch 66/66 - Loss: 0.0755\n",
      "✅ [Run 3 | Epoch 13] Train Loss Total: 3.60\n"
     ]
    },
    {
     "name": "stderr",
     "output_type": "stream",
     "text": [
      "/tmp/ipykernel_4036/2994272709.py:166: FutureWarning: `torch.cuda.amp.autocast(args...)` is deprecated. Please use `torch.amp.autocast('cuda', args...)` instead.\n",
      "  with autocast():\n"
     ]
    },
    {
     "name": "stdout",
     "output_type": "stream",
     "text": [
      "🔍 [Run 3 | Epoch 13] Val MAE: 8.884 | R²: 0.598\n",
      "⏳ No improvement. Patience: 3/7\n",
      "\n",
      "[Run 3 | Epoch 14] 🧪 Training...\n"
     ]
    },
    {
     "name": "stderr",
     "output_type": "stream",
     "text": [
      "/tmp/ipykernel_4036/2994272709.py:138: FutureWarning: `torch.cuda.amp.autocast(args...)` is deprecated. Please use `torch.amp.autocast('cuda', args...)` instead.\n",
      "  with autocast():\n"
     ]
    },
    {
     "name": "stdout",
     "output_type": "stream",
     "text": [
      "  └─ Batch 20/66 - Loss: 0.0274\n",
      "  └─ Batch 40/66 - Loss: 0.0445\n",
      "  └─ Batch 60/66 - Loss: 0.0385\n",
      "  └─ Batch 66/66 - Loss: 0.0282\n",
      "✅ [Run 3 | Epoch 14] Train Loss Total: 2.73\n"
     ]
    },
    {
     "name": "stderr",
     "output_type": "stream",
     "text": [
      "/tmp/ipykernel_4036/2994272709.py:166: FutureWarning: `torch.cuda.amp.autocast(args...)` is deprecated. Please use `torch.amp.autocast('cuda', args...)` instead.\n",
      "  with autocast():\n"
     ]
    },
    {
     "name": "stdout",
     "output_type": "stream",
     "text": [
      "🔍 [Run 3 | Epoch 14] Val MAE: 5.935 | R²: 0.795\n",
      "⏳ No improvement. Patience: 4/7\n",
      "\n",
      "[Run 3 | Epoch 15] 🧪 Training...\n"
     ]
    },
    {
     "name": "stderr",
     "output_type": "stream",
     "text": [
      "/tmp/ipykernel_4036/2994272709.py:138: FutureWarning: `torch.cuda.amp.autocast(args...)` is deprecated. Please use `torch.amp.autocast('cuda', args...)` instead.\n",
      "  with autocast():\n"
     ]
    },
    {
     "name": "stdout",
     "output_type": "stream",
     "text": [
      "  └─ Batch 20/66 - Loss: 0.0464\n",
      "  └─ Batch 40/66 - Loss: 0.0585\n",
      "  └─ Batch 60/66 - Loss: 0.0227\n",
      "  └─ Batch 66/66 - Loss: 0.0573\n",
      "✅ [Run 3 | Epoch 15] Train Loss Total: 3.59\n"
     ]
    },
    {
     "name": "stderr",
     "output_type": "stream",
     "text": [
      "/tmp/ipykernel_4036/2994272709.py:166: FutureWarning: `torch.cuda.amp.autocast(args...)` is deprecated. Please use `torch.amp.autocast('cuda', args...)` instead.\n",
      "  with autocast():\n"
     ]
    },
    {
     "name": "stdout",
     "output_type": "stream",
     "text": [
      "🔍 [Run 3 | Epoch 15] Val MAE: 6.261 | R²: 0.764\n",
      "⏳ No improvement. Patience: 5/7\n",
      "\n",
      "[Run 3 | Epoch 16] 🧪 Training...\n"
     ]
    },
    {
     "name": "stderr",
     "output_type": "stream",
     "text": [
      "/tmp/ipykernel_4036/2994272709.py:138: FutureWarning: `torch.cuda.amp.autocast(args...)` is deprecated. Please use `torch.amp.autocast('cuda', args...)` instead.\n",
      "  with autocast():\n"
     ]
    },
    {
     "name": "stdout",
     "output_type": "stream",
     "text": [
      "  └─ Batch 20/66 - Loss: 0.0407\n",
      "  └─ Batch 40/66 - Loss: 0.0696\n",
      "  └─ Batch 60/66 - Loss: 0.0337\n",
      "  └─ Batch 66/66 - Loss: 0.0374\n",
      "✅ [Run 3 | Epoch 16] Train Loss Total: 3.40\n"
     ]
    },
    {
     "name": "stderr",
     "output_type": "stream",
     "text": [
      "/tmp/ipykernel_4036/2994272709.py:166: FutureWarning: `torch.cuda.amp.autocast(args...)` is deprecated. Please use `torch.amp.autocast('cuda', args...)` instead.\n",
      "  with autocast():\n"
     ]
    },
    {
     "name": "stdout",
     "output_type": "stream",
     "text": [
      "🔍 [Run 3 | Epoch 16] Val MAE: 7.629 | R²: 0.653\n",
      "⏳ No improvement. Patience: 6/7\n",
      "\n",
      "[Run 3 | Epoch 17] 🧪 Training...\n"
     ]
    },
    {
     "name": "stderr",
     "output_type": "stream",
     "text": [
      "/tmp/ipykernel_4036/2994272709.py:138: FutureWarning: `torch.cuda.amp.autocast(args...)` is deprecated. Please use `torch.amp.autocast('cuda', args...)` instead.\n",
      "  with autocast():\n"
     ]
    },
    {
     "name": "stdout",
     "output_type": "stream",
     "text": [
      "  └─ Batch 20/66 - Loss: 0.0500\n",
      "  └─ Batch 40/66 - Loss: 0.1047\n",
      "  └─ Batch 60/66 - Loss: 0.0186\n",
      "  └─ Batch 66/66 - Loss: 0.0329\n",
      "✅ [Run 3 | Epoch 17] Train Loss Total: 3.45\n"
     ]
    },
    {
     "name": "stderr",
     "output_type": "stream",
     "text": [
      "/tmp/ipykernel_4036/2994272709.py:166: FutureWarning: `torch.cuda.amp.autocast(args...)` is deprecated. Please use `torch.amp.autocast('cuda', args...)` instead.\n",
      "  with autocast():\n"
     ]
    },
    {
     "name": "stdout",
     "output_type": "stream",
     "text": [
      "🔍 [Run 3 | Epoch 17] Val MAE: 6.272 | R²: 0.789\n",
      "⏳ No improvement. Patience: 7/7\n",
      "🛑 Early stopping at epoch 17\n",
      "\n",
      "✅✅ [Run 3] Best MAE: 5.452\n",
      "\n",
      "========== 🏁 Run 4/5 시작 ==========\n",
      "\n",
      "[Run 4 | Epoch 1] 🧪 Training...\n"
     ]
    },
    {
     "name": "stderr",
     "output_type": "stream",
     "text": [
      "/tmp/ipykernel_4036/2994272709.py:138: FutureWarning: `torch.cuda.amp.autocast(args...)` is deprecated. Please use `torch.amp.autocast('cuda', args...)` instead.\n",
      "  with autocast():\n"
     ]
    },
    {
     "name": "stdout",
     "output_type": "stream",
     "text": [
      "  └─ Batch 20/66 - Loss: 0.4370\n",
      "  └─ Batch 40/66 - Loss: 0.3565\n",
      "  └─ Batch 60/66 - Loss: 0.3210\n",
      "  └─ Batch 66/66 - Loss: 0.5237\n",
      "✅ [Run 4 | Epoch 1] Train Loss Total: 28.11\n"
     ]
    },
    {
     "name": "stderr",
     "output_type": "stream",
     "text": [
      "/tmp/ipykernel_4036/2994272709.py:166: FutureWarning: `torch.cuda.amp.autocast(args...)` is deprecated. Please use `torch.amp.autocast('cuda', args...)` instead.\n",
      "  with autocast():\n"
     ]
    },
    {
     "name": "stdout",
     "output_type": "stream",
     "text": [
      "🔍 [Run 4 | Epoch 1] Val MAE: 37.035 | R²: -5.328\n",
      "📂 Best model updated for Run 4 (MAE: 37.035)\n",
      "\n",
      "[Run 4 | Epoch 2] 🧪 Training...\n"
     ]
    },
    {
     "name": "stderr",
     "output_type": "stream",
     "text": [
      "/tmp/ipykernel_4036/2994272709.py:138: FutureWarning: `torch.cuda.amp.autocast(args...)` is deprecated. Please use `torch.amp.autocast('cuda', args...)` instead.\n",
      "  with autocast():\n"
     ]
    },
    {
     "name": "stdout",
     "output_type": "stream",
     "text": [
      "  └─ Batch 20/66 - Loss: 0.1869\n",
      "  └─ Batch 40/66 - Loss: 0.1093\n",
      "  └─ Batch 60/66 - Loss: 0.0938\n",
      "  └─ Batch 66/66 - Loss: 0.1863\n",
      "✅ [Run 4 | Epoch 2] Train Loss Total: 10.88\n"
     ]
    },
    {
     "name": "stderr",
     "output_type": "stream",
     "text": [
      "/tmp/ipykernel_4036/2994272709.py:166: FutureWarning: `torch.cuda.amp.autocast(args...)` is deprecated. Please use `torch.amp.autocast('cuda', args...)` instead.\n",
      "  with autocast():\n"
     ]
    },
    {
     "name": "stdout",
     "output_type": "stream",
     "text": [
      "🔍 [Run 4 | Epoch 2] Val MAE: 16.847 | R²: -0.692\n",
      "📂 Best model updated for Run 4 (MAE: 16.847)\n",
      "\n",
      "[Run 4 | Epoch 3] 🧪 Training...\n"
     ]
    },
    {
     "name": "stderr",
     "output_type": "stream",
     "text": [
      "/tmp/ipykernel_4036/2994272709.py:138: FutureWarning: `torch.cuda.amp.autocast(args...)` is deprecated. Please use `torch.amp.autocast('cuda', args...)` instead.\n",
      "  with autocast():\n"
     ]
    },
    {
     "name": "stdout",
     "output_type": "stream",
     "text": [
      "  └─ Batch 20/66 - Loss: 0.1537\n",
      "  └─ Batch 40/66 - Loss: 0.1684\n",
      "  └─ Batch 60/66 - Loss: 0.1106\n",
      "  └─ Batch 66/66 - Loss: 0.1224\n",
      "✅ [Run 4 | Epoch 3] Train Loss Total: 10.77\n"
     ]
    },
    {
     "name": "stderr",
     "output_type": "stream",
     "text": [
      "/tmp/ipykernel_4036/2994272709.py:166: FutureWarning: `torch.cuda.amp.autocast(args...)` is deprecated. Please use `torch.amp.autocast('cuda', args...)` instead.\n",
      "  with autocast():\n"
     ]
    },
    {
     "name": "stdout",
     "output_type": "stream",
     "text": [
      "🔍 [Run 4 | Epoch 3] Val MAE: 17.474 | R²: -0.673\n",
      "⏳ No improvement. Patience: 1/7\n",
      "\n",
      "[Run 4 | Epoch 4] 🧪 Training...\n"
     ]
    },
    {
     "name": "stderr",
     "output_type": "stream",
     "text": [
      "/tmp/ipykernel_4036/2994272709.py:138: FutureWarning: `torch.cuda.amp.autocast(args...)` is deprecated. Please use `torch.amp.autocast('cuda', args...)` instead.\n",
      "  with autocast():\n"
     ]
    },
    {
     "name": "stdout",
     "output_type": "stream",
     "text": [
      "  └─ Batch 20/66 - Loss: 0.1215\n",
      "  └─ Batch 40/66 - Loss: 0.1378\n",
      "  └─ Batch 60/66 - Loss: 0.0734\n",
      "  └─ Batch 66/66 - Loss: 0.0965\n",
      "✅ [Run 4 | Epoch 4] Train Loss Total: 7.93\n"
     ]
    },
    {
     "name": "stderr",
     "output_type": "stream",
     "text": [
      "/tmp/ipykernel_4036/2994272709.py:166: FutureWarning: `torch.cuda.amp.autocast(args...)` is deprecated. Please use `torch.amp.autocast('cuda', args...)` instead.\n",
      "  with autocast():\n"
     ]
    },
    {
     "name": "stdout",
     "output_type": "stream",
     "text": [
      "🔍 [Run 4 | Epoch 4] Val MAE: 10.549 | R²: 0.336\n",
      "📂 Best model updated for Run 4 (MAE: 10.549)\n",
      "\n",
      "[Run 4 | Epoch 5] 🧪 Training...\n"
     ]
    },
    {
     "name": "stderr",
     "output_type": "stream",
     "text": [
      "/tmp/ipykernel_4036/2994272709.py:138: FutureWarning: `torch.cuda.amp.autocast(args...)` is deprecated. Please use `torch.amp.autocast('cuda', args...)` instead.\n",
      "  with autocast():\n"
     ]
    },
    {
     "name": "stdout",
     "output_type": "stream",
     "text": [
      "  └─ Batch 20/66 - Loss: 0.1935\n",
      "  └─ Batch 40/66 - Loss: 0.0776\n",
      "  └─ Batch 60/66 - Loss: 0.1403\n",
      "  └─ Batch 66/66 - Loss: 0.1152\n",
      "✅ [Run 4 | Epoch 5] Train Loss Total: 7.44\n"
     ]
    },
    {
     "name": "stderr",
     "output_type": "stream",
     "text": [
      "/tmp/ipykernel_4036/2994272709.py:166: FutureWarning: `torch.cuda.amp.autocast(args...)` is deprecated. Please use `torch.amp.autocast('cuda', args...)` instead.\n",
      "  with autocast():\n"
     ]
    },
    {
     "name": "stdout",
     "output_type": "stream",
     "text": [
      "🔍 [Run 4 | Epoch 5] Val MAE: 10.769 | R²: 0.358\n",
      "⏳ No improvement. Patience: 1/7\n",
      "\n",
      "[Run 4 | Epoch 6] 🧪 Training...\n"
     ]
    },
    {
     "name": "stderr",
     "output_type": "stream",
     "text": [
      "/tmp/ipykernel_4036/2994272709.py:138: FutureWarning: `torch.cuda.amp.autocast(args...)` is deprecated. Please use `torch.amp.autocast('cuda', args...)` instead.\n",
      "  with autocast():\n"
     ]
    },
    {
     "name": "stdout",
     "output_type": "stream",
     "text": [
      "  └─ Batch 20/66 - Loss: 0.0921\n",
      "  └─ Batch 40/66 - Loss: 0.1843\n",
      "  └─ Batch 60/66 - Loss: 0.0974\n",
      "  └─ Batch 66/66 - Loss: 0.0691\n",
      "✅ [Run 4 | Epoch 6] Train Loss Total: 6.62\n"
     ]
    },
    {
     "name": "stderr",
     "output_type": "stream",
     "text": [
      "/tmp/ipykernel_4036/2994272709.py:166: FutureWarning: `torch.cuda.amp.autocast(args...)` is deprecated. Please use `torch.amp.autocast('cuda', args...)` instead.\n",
      "  with autocast():\n"
     ]
    },
    {
     "name": "stdout",
     "output_type": "stream",
     "text": [
      "🔍 [Run 4 | Epoch 6] Val MAE: 12.166 | R²: 0.196\n",
      "⏳ No improvement. Patience: 2/7\n",
      "\n",
      "[Run 4 | Epoch 7] 🧪 Training...\n"
     ]
    },
    {
     "name": "stderr",
     "output_type": "stream",
     "text": [
      "/tmp/ipykernel_4036/2994272709.py:138: FutureWarning: `torch.cuda.amp.autocast(args...)` is deprecated. Please use `torch.amp.autocast('cuda', args...)` instead.\n",
      "  with autocast():\n"
     ]
    },
    {
     "name": "stdout",
     "output_type": "stream",
     "text": [
      "  └─ Batch 20/66 - Loss: 0.1264\n",
      "  └─ Batch 40/66 - Loss: 0.1117\n",
      "  └─ Batch 60/66 - Loss: 0.0934\n",
      "  └─ Batch 66/66 - Loss: 0.0993\n",
      "✅ [Run 4 | Epoch 7] Train Loss Total: 5.86\n"
     ]
    },
    {
     "name": "stderr",
     "output_type": "stream",
     "text": [
      "/tmp/ipykernel_4036/2994272709.py:166: FutureWarning: `torch.cuda.amp.autocast(args...)` is deprecated. Please use `torch.amp.autocast('cuda', args...)` instead.\n",
      "  with autocast():\n"
     ]
    },
    {
     "name": "stdout",
     "output_type": "stream",
     "text": [
      "🔍 [Run 4 | Epoch 7] Val MAE: 8.386 | R²: 0.574\n",
      "📂 Best model updated for Run 4 (MAE: 8.386)\n",
      "\n",
      "[Run 4 | Epoch 8] 🧪 Training...\n"
     ]
    },
    {
     "name": "stderr",
     "output_type": "stream",
     "text": [
      "/tmp/ipykernel_4036/2994272709.py:138: FutureWarning: `torch.cuda.amp.autocast(args...)` is deprecated. Please use `torch.amp.autocast('cuda', args...)` instead.\n",
      "  with autocast():\n"
     ]
    },
    {
     "name": "stdout",
     "output_type": "stream",
     "text": [
      "  └─ Batch 20/66 - Loss: 0.0251\n",
      "  └─ Batch 40/66 - Loss: 0.0486\n",
      "  └─ Batch 60/66 - Loss: 0.0853\n",
      "  └─ Batch 66/66 - Loss: 0.1466\n",
      "✅ [Run 4 | Epoch 8] Train Loss Total: 6.50\n"
     ]
    },
    {
     "name": "stderr",
     "output_type": "stream",
     "text": [
      "/tmp/ipykernel_4036/2994272709.py:166: FutureWarning: `torch.cuda.amp.autocast(args...)` is deprecated. Please use `torch.amp.autocast('cuda', args...)` instead.\n",
      "  with autocast():\n"
     ]
    },
    {
     "name": "stdout",
     "output_type": "stream",
     "text": [
      "🔍 [Run 4 | Epoch 8] Val MAE: 8.347 | R²: 0.575\n",
      "📂 Best model updated for Run 4 (MAE: 8.347)\n",
      "\n",
      "[Run 4 | Epoch 9] 🧪 Training...\n"
     ]
    },
    {
     "name": "stderr",
     "output_type": "stream",
     "text": [
      "/tmp/ipykernel_4036/2994272709.py:138: FutureWarning: `torch.cuda.amp.autocast(args...)` is deprecated. Please use `torch.amp.autocast('cuda', args...)` instead.\n",
      "  with autocast():\n"
     ]
    },
    {
     "name": "stdout",
     "output_type": "stream",
     "text": [
      "  └─ Batch 20/66 - Loss: 0.0419\n",
      "  └─ Batch 40/66 - Loss: 0.0692\n",
      "  └─ Batch 60/66 - Loss: 0.0712\n",
      "  └─ Batch 66/66 - Loss: 0.0529\n",
      "✅ [Run 4 | Epoch 9] Train Loss Total: 4.57\n"
     ]
    },
    {
     "name": "stderr",
     "output_type": "stream",
     "text": [
      "/tmp/ipykernel_4036/2994272709.py:166: FutureWarning: `torch.cuda.amp.autocast(args...)` is deprecated. Please use `torch.amp.autocast('cuda', args...)` instead.\n",
      "  with autocast():\n"
     ]
    },
    {
     "name": "stdout",
     "output_type": "stream",
     "text": [
      "🔍 [Run 4 | Epoch 9] Val MAE: 6.876 | R²: 0.713\n",
      "📂 Best model updated for Run 4 (MAE: 6.876)\n",
      "\n",
      "[Run 4 | Epoch 10] 🧪 Training...\n"
     ]
    },
    {
     "name": "stderr",
     "output_type": "stream",
     "text": [
      "/tmp/ipykernel_4036/2994272709.py:138: FutureWarning: `torch.cuda.amp.autocast(args...)` is deprecated. Please use `torch.amp.autocast('cuda', args...)` instead.\n",
      "  with autocast():\n"
     ]
    },
    {
     "name": "stdout",
     "output_type": "stream",
     "text": [
      "  └─ Batch 20/66 - Loss: 0.0595\n",
      "  └─ Batch 40/66 - Loss: 0.1007\n",
      "  └─ Batch 60/66 - Loss: 0.0272\n",
      "  └─ Batch 66/66 - Loss: 0.0695\n",
      "✅ [Run 4 | Epoch 10] Train Loss Total: 4.68\n"
     ]
    },
    {
     "name": "stderr",
     "output_type": "stream",
     "text": [
      "/tmp/ipykernel_4036/2994272709.py:166: FutureWarning: `torch.cuda.amp.autocast(args...)` is deprecated. Please use `torch.amp.autocast('cuda', args...)` instead.\n",
      "  with autocast():\n"
     ]
    },
    {
     "name": "stdout",
     "output_type": "stream",
     "text": [
      "🔍 [Run 4 | Epoch 10] Val MAE: 8.114 | R²: 0.609\n",
      "⏳ No improvement. Patience: 1/7\n",
      "\n",
      "[Run 4 | Epoch 11] 🧪 Training...\n"
     ]
    },
    {
     "name": "stderr",
     "output_type": "stream",
     "text": [
      "/tmp/ipykernel_4036/2994272709.py:138: FutureWarning: `torch.cuda.amp.autocast(args...)` is deprecated. Please use `torch.amp.autocast('cuda', args...)` instead.\n",
      "  with autocast():\n"
     ]
    },
    {
     "name": "stdout",
     "output_type": "stream",
     "text": [
      "  └─ Batch 20/66 - Loss: 0.0328\n",
      "  └─ Batch 40/66 - Loss: 0.0412\n",
      "  └─ Batch 60/66 - Loss: 0.0579\n",
      "  └─ Batch 66/66 - Loss: 0.0500\n",
      "✅ [Run 4 | Epoch 11] Train Loss Total: 4.54\n"
     ]
    },
    {
     "name": "stderr",
     "output_type": "stream",
     "text": [
      "/tmp/ipykernel_4036/2994272709.py:166: FutureWarning: `torch.cuda.amp.autocast(args...)` is deprecated. Please use `torch.amp.autocast('cuda', args...)` instead.\n",
      "  with autocast():\n"
     ]
    },
    {
     "name": "stdout",
     "output_type": "stream",
     "text": [
      "🔍 [Run 4 | Epoch 11] Val MAE: 10.059 | R²: 0.421\n",
      "⏳ No improvement. Patience: 2/7\n",
      "\n",
      "[Run 4 | Epoch 12] 🧪 Training...\n"
     ]
    },
    {
     "name": "stderr",
     "output_type": "stream",
     "text": [
      "/tmp/ipykernel_4036/2994272709.py:138: FutureWarning: `torch.cuda.amp.autocast(args...)` is deprecated. Please use `torch.amp.autocast('cuda', args...)` instead.\n",
      "  with autocast():\n"
     ]
    },
    {
     "name": "stdout",
     "output_type": "stream",
     "text": [
      "  └─ Batch 20/66 - Loss: 0.0390\n",
      "  └─ Batch 40/66 - Loss: 0.0835\n",
      "  └─ Batch 60/66 - Loss: 0.0327\n",
      "  └─ Batch 66/66 - Loss: 0.0806\n",
      "✅ [Run 4 | Epoch 12] Train Loss Total: 3.69\n"
     ]
    },
    {
     "name": "stderr",
     "output_type": "stream",
     "text": [
      "/tmp/ipykernel_4036/2994272709.py:166: FutureWarning: `torch.cuda.amp.autocast(args...)` is deprecated. Please use `torch.amp.autocast('cuda', args...)` instead.\n",
      "  with autocast():\n"
     ]
    },
    {
     "name": "stdout",
     "output_type": "stream",
     "text": [
      "🔍 [Run 4 | Epoch 12] Val MAE: 9.250 | R²: 0.479\n",
      "⏳ No improvement. Patience: 3/7\n",
      "\n",
      "[Run 4 | Epoch 13] 🧪 Training...\n"
     ]
    },
    {
     "name": "stderr",
     "output_type": "stream",
     "text": [
      "/tmp/ipykernel_4036/2994272709.py:138: FutureWarning: `torch.cuda.amp.autocast(args...)` is deprecated. Please use `torch.amp.autocast('cuda', args...)` instead.\n",
      "  with autocast():\n"
     ]
    },
    {
     "name": "stdout",
     "output_type": "stream",
     "text": [
      "  └─ Batch 20/66 - Loss: 0.0391\n",
      "  └─ Batch 40/66 - Loss: 0.1811\n",
      "  └─ Batch 60/66 - Loss: 0.0933\n",
      "  └─ Batch 66/66 - Loss: 0.0651\n",
      "✅ [Run 4 | Epoch 13] Train Loss Total: 6.56\n"
     ]
    },
    {
     "name": "stderr",
     "output_type": "stream",
     "text": [
      "/tmp/ipykernel_4036/2994272709.py:166: FutureWarning: `torch.cuda.amp.autocast(args...)` is deprecated. Please use `torch.amp.autocast('cuda', args...)` instead.\n",
      "  with autocast():\n"
     ]
    },
    {
     "name": "stdout",
     "output_type": "stream",
     "text": [
      "🔍 [Run 4 | Epoch 13] Val MAE: 6.755 | R²: 0.722\n",
      "📂 Best model updated for Run 4 (MAE: 6.755)\n",
      "\n",
      "[Run 4 | Epoch 14] 🧪 Training...\n"
     ]
    },
    {
     "name": "stderr",
     "output_type": "stream",
     "text": [
      "/tmp/ipykernel_4036/2994272709.py:138: FutureWarning: `torch.cuda.amp.autocast(args...)` is deprecated. Please use `torch.amp.autocast('cuda', args...)` instead.\n",
      "  with autocast():\n"
     ]
    },
    {
     "name": "stdout",
     "output_type": "stream",
     "text": [
      "  └─ Batch 20/66 - Loss: 0.0246\n",
      "  └─ Batch 40/66 - Loss: 0.0142\n",
      "  └─ Batch 60/66 - Loss: 0.0703\n",
      "  └─ Batch 66/66 - Loss: 0.0769\n",
      "✅ [Run 4 | Epoch 14] Train Loss Total: 3.37\n"
     ]
    },
    {
     "name": "stderr",
     "output_type": "stream",
     "text": [
      "/tmp/ipykernel_4036/2994272709.py:166: FutureWarning: `torch.cuda.amp.autocast(args...)` is deprecated. Please use `torch.amp.autocast('cuda', args...)` instead.\n",
      "  with autocast():\n"
     ]
    },
    {
     "name": "stdout",
     "output_type": "stream",
     "text": [
      "🔍 [Run 4 | Epoch 14] Val MAE: 9.235 | R²: 0.522\n",
      "⏳ No improvement. Patience: 1/7\n",
      "\n",
      "[Run 4 | Epoch 15] 🧪 Training...\n"
     ]
    },
    {
     "name": "stderr",
     "output_type": "stream",
     "text": [
      "/tmp/ipykernel_4036/2994272709.py:138: FutureWarning: `torch.cuda.amp.autocast(args...)` is deprecated. Please use `torch.amp.autocast('cuda', args...)` instead.\n",
      "  with autocast():\n"
     ]
    },
    {
     "name": "stdout",
     "output_type": "stream",
     "text": [
      "  └─ Batch 20/66 - Loss: 0.0531\n",
      "  └─ Batch 40/66 - Loss: 0.0270\n",
      "  └─ Batch 60/66 - Loss: 0.1075\n",
      "  └─ Batch 66/66 - Loss: 0.0334\n",
      "✅ [Run 4 | Epoch 15] Train Loss Total: 3.54\n"
     ]
    },
    {
     "name": "stderr",
     "output_type": "stream",
     "text": [
      "/tmp/ipykernel_4036/2994272709.py:166: FutureWarning: `torch.cuda.amp.autocast(args...)` is deprecated. Please use `torch.amp.autocast('cuda', args...)` instead.\n",
      "  with autocast():\n"
     ]
    },
    {
     "name": "stdout",
     "output_type": "stream",
     "text": [
      "🔍 [Run 4 | Epoch 15] Val MAE: 10.020 | R²: 0.440\n",
      "⏳ No improvement. Patience: 2/7\n",
      "\n",
      "[Run 4 | Epoch 16] 🧪 Training...\n"
     ]
    },
    {
     "name": "stderr",
     "output_type": "stream",
     "text": [
      "/tmp/ipykernel_4036/2994272709.py:138: FutureWarning: `torch.cuda.amp.autocast(args...)` is deprecated. Please use `torch.amp.autocast('cuda', args...)` instead.\n",
      "  with autocast():\n"
     ]
    },
    {
     "name": "stdout",
     "output_type": "stream",
     "text": [
      "  └─ Batch 20/66 - Loss: 0.0477\n",
      "  └─ Batch 40/66 - Loss: 0.0453\n",
      "  └─ Batch 60/66 - Loss: 0.0385\n",
      "  └─ Batch 66/66 - Loss: 0.0757\n",
      "✅ [Run 4 | Epoch 16] Train Loss Total: 4.06\n"
     ]
    },
    {
     "name": "stderr",
     "output_type": "stream",
     "text": [
      "/tmp/ipykernel_4036/2994272709.py:166: FutureWarning: `torch.cuda.amp.autocast(args...)` is deprecated. Please use `torch.amp.autocast('cuda', args...)` instead.\n",
      "  with autocast():\n"
     ]
    },
    {
     "name": "stdout",
     "output_type": "stream",
     "text": [
      "🔍 [Run 4 | Epoch 16] Val MAE: 9.032 | R²: 0.547\n",
      "⏳ No improvement. Patience: 3/7\n",
      "\n",
      "[Run 4 | Epoch 17] 🧪 Training...\n"
     ]
    },
    {
     "name": "stderr",
     "output_type": "stream",
     "text": [
      "/tmp/ipykernel_4036/2994272709.py:138: FutureWarning: `torch.cuda.amp.autocast(args...)` is deprecated. Please use `torch.amp.autocast('cuda', args...)` instead.\n",
      "  with autocast():\n"
     ]
    },
    {
     "name": "stdout",
     "output_type": "stream",
     "text": [
      "  └─ Batch 20/66 - Loss: 0.0862\n",
      "  └─ Batch 40/66 - Loss: 0.0359\n",
      "  └─ Batch 60/66 - Loss: 0.0174\n",
      "  └─ Batch 66/66 - Loss: 0.0217\n",
      "✅ [Run 4 | Epoch 17] Train Loss Total: 4.10\n"
     ]
    },
    {
     "name": "stderr",
     "output_type": "stream",
     "text": [
      "/tmp/ipykernel_4036/2994272709.py:166: FutureWarning: `torch.cuda.amp.autocast(args...)` is deprecated. Please use `torch.amp.autocast('cuda', args...)` instead.\n",
      "  with autocast():\n"
     ]
    },
    {
     "name": "stdout",
     "output_type": "stream",
     "text": [
      "🔍 [Run 4 | Epoch 17] Val MAE: 7.401 | R²: 0.683\n",
      "⏳ No improvement. Patience: 4/7\n",
      "\n",
      "[Run 4 | Epoch 18] 🧪 Training...\n"
     ]
    },
    {
     "name": "stderr",
     "output_type": "stream",
     "text": [
      "/tmp/ipykernel_4036/2994272709.py:138: FutureWarning: `torch.cuda.amp.autocast(args...)` is deprecated. Please use `torch.amp.autocast('cuda', args...)` instead.\n",
      "  with autocast():\n"
     ]
    },
    {
     "name": "stdout",
     "output_type": "stream",
     "text": [
      "  └─ Batch 20/66 - Loss: 0.0959\n",
      "  └─ Batch 40/66 - Loss: 0.0465\n",
      "  └─ Batch 60/66 - Loss: 0.0752\n",
      "  └─ Batch 66/66 - Loss: 0.0413\n",
      "✅ [Run 4 | Epoch 18] Train Loss Total: 3.71\n"
     ]
    },
    {
     "name": "stderr",
     "output_type": "stream",
     "text": [
      "/tmp/ipykernel_4036/2994272709.py:166: FutureWarning: `torch.cuda.amp.autocast(args...)` is deprecated. Please use `torch.amp.autocast('cuda', args...)` instead.\n",
      "  with autocast():\n"
     ]
    },
    {
     "name": "stdout",
     "output_type": "stream",
     "text": [
      "🔍 [Run 4 | Epoch 18] Val MAE: 6.700 | R²: 0.727\n",
      "📂 Best model updated for Run 4 (MAE: 6.700)\n",
      "\n",
      "[Run 4 | Epoch 19] 🧪 Training...\n"
     ]
    },
    {
     "name": "stderr",
     "output_type": "stream",
     "text": [
      "/tmp/ipykernel_4036/2994272709.py:138: FutureWarning: `torch.cuda.amp.autocast(args...)` is deprecated. Please use `torch.amp.autocast('cuda', args...)` instead.\n",
      "  with autocast():\n"
     ]
    },
    {
     "name": "stdout",
     "output_type": "stream",
     "text": [
      "  └─ Batch 20/66 - Loss: 0.0589\n",
      "  └─ Batch 40/66 - Loss: 0.0576\n",
      "  └─ Batch 60/66 - Loss: 0.0816\n",
      "  └─ Batch 66/66 - Loss: 0.0322\n",
      "✅ [Run 4 | Epoch 19] Train Loss Total: 3.44\n"
     ]
    },
    {
     "name": "stderr",
     "output_type": "stream",
     "text": [
      "/tmp/ipykernel_4036/2994272709.py:166: FutureWarning: `torch.cuda.amp.autocast(args...)` is deprecated. Please use `torch.amp.autocast('cuda', args...)` instead.\n",
      "  with autocast():\n"
     ]
    },
    {
     "name": "stdout",
     "output_type": "stream",
     "text": [
      "🔍 [Run 4 | Epoch 19] Val MAE: 5.619 | R²: 0.810\n",
      "📂 Best model updated for Run 4 (MAE: 5.619)\n",
      "\n",
      "[Run 4 | Epoch 20] 🧪 Training...\n"
     ]
    },
    {
     "name": "stderr",
     "output_type": "stream",
     "text": [
      "/tmp/ipykernel_4036/2994272709.py:138: FutureWarning: `torch.cuda.amp.autocast(args...)` is deprecated. Please use `torch.amp.autocast('cuda', args...)` instead.\n",
      "  with autocast():\n"
     ]
    },
    {
     "name": "stdout",
     "output_type": "stream",
     "text": [
      "  └─ Batch 20/66 - Loss: 0.0596\n",
      "  └─ Batch 40/66 - Loss: 0.0550\n",
      "  └─ Batch 60/66 - Loss: 0.0314\n",
      "  └─ Batch 66/66 - Loss: 0.0258\n",
      "✅ [Run 4 | Epoch 20] Train Loss Total: 3.20\n"
     ]
    },
    {
     "name": "stderr",
     "output_type": "stream",
     "text": [
      "/tmp/ipykernel_4036/2994272709.py:166: FutureWarning: `torch.cuda.amp.autocast(args...)` is deprecated. Please use `torch.amp.autocast('cuda', args...)` instead.\n",
      "  with autocast():\n"
     ]
    },
    {
     "name": "stdout",
     "output_type": "stream",
     "text": [
      "🔍 [Run 4 | Epoch 20] Val MAE: 6.351 | R²: 0.752\n",
      "⏳ No improvement. Patience: 1/7\n",
      "\n",
      "[Run 4 | Epoch 21] 🧪 Training...\n"
     ]
    },
    {
     "name": "stderr",
     "output_type": "stream",
     "text": [
      "/tmp/ipykernel_4036/2994272709.py:138: FutureWarning: `torch.cuda.amp.autocast(args...)` is deprecated. Please use `torch.amp.autocast('cuda', args...)` instead.\n",
      "  with autocast():\n"
     ]
    },
    {
     "name": "stdout",
     "output_type": "stream",
     "text": [
      "  └─ Batch 20/66 - Loss: 0.0759\n",
      "  └─ Batch 40/66 - Loss: 0.1187\n",
      "  └─ Batch 60/66 - Loss: 0.0432\n",
      "  └─ Batch 66/66 - Loss: 0.0244\n",
      "✅ [Run 4 | Epoch 21] Train Loss Total: 3.26\n"
     ]
    },
    {
     "name": "stderr",
     "output_type": "stream",
     "text": [
      "/tmp/ipykernel_4036/2994272709.py:166: FutureWarning: `torch.cuda.amp.autocast(args...)` is deprecated. Please use `torch.amp.autocast('cuda', args...)` instead.\n",
      "  with autocast():\n"
     ]
    },
    {
     "name": "stdout",
     "output_type": "stream",
     "text": [
      "🔍 [Run 4 | Epoch 21] Val MAE: 6.333 | R²: 0.754\n",
      "⏳ No improvement. Patience: 2/7\n",
      "\n",
      "[Run 4 | Epoch 22] 🧪 Training...\n"
     ]
    },
    {
     "name": "stderr",
     "output_type": "stream",
     "text": [
      "/tmp/ipykernel_4036/2994272709.py:138: FutureWarning: `torch.cuda.amp.autocast(args...)` is deprecated. Please use `torch.amp.autocast('cuda', args...)` instead.\n",
      "  with autocast():\n"
     ]
    },
    {
     "name": "stdout",
     "output_type": "stream",
     "text": [
      "  └─ Batch 20/66 - Loss: 0.2491\n",
      "  └─ Batch 40/66 - Loss: 0.0605\n",
      "  └─ Batch 60/66 - Loss: 0.0367\n",
      "  └─ Batch 66/66 - Loss: 0.0298\n",
      "✅ [Run 4 | Epoch 22] Train Loss Total: 5.35\n"
     ]
    },
    {
     "name": "stderr",
     "output_type": "stream",
     "text": [
      "/tmp/ipykernel_4036/2994272709.py:166: FutureWarning: `torch.cuda.amp.autocast(args...)` is deprecated. Please use `torch.amp.autocast('cuda', args...)` instead.\n",
      "  with autocast():\n"
     ]
    },
    {
     "name": "stdout",
     "output_type": "stream",
     "text": [
      "🔍 [Run 4 | Epoch 22] Val MAE: 6.551 | R²: 0.755\n",
      "⏳ No improvement. Patience: 3/7\n",
      "\n",
      "[Run 4 | Epoch 23] 🧪 Training...\n"
     ]
    },
    {
     "name": "stderr",
     "output_type": "stream",
     "text": [
      "/tmp/ipykernel_4036/2994272709.py:138: FutureWarning: `torch.cuda.amp.autocast(args...)` is deprecated. Please use `torch.amp.autocast('cuda', args...)` instead.\n",
      "  with autocast():\n"
     ]
    },
    {
     "name": "stdout",
     "output_type": "stream",
     "text": [
      "  └─ Batch 20/66 - Loss: 0.0575\n",
      "  └─ Batch 40/66 - Loss: 0.0454\n",
      "  └─ Batch 60/66 - Loss: 0.0474\n",
      "  └─ Batch 66/66 - Loss: 0.0588\n",
      "✅ [Run 4 | Epoch 23] Train Loss Total: 2.65\n"
     ]
    },
    {
     "name": "stderr",
     "output_type": "stream",
     "text": [
      "/tmp/ipykernel_4036/2994272709.py:166: FutureWarning: `torch.cuda.amp.autocast(args...)` is deprecated. Please use `torch.amp.autocast('cuda', args...)` instead.\n",
      "  with autocast():\n"
     ]
    },
    {
     "name": "stdout",
     "output_type": "stream",
     "text": [
      "🔍 [Run 4 | Epoch 23] Val MAE: 5.867 | R²: 0.792\n",
      "⏳ No improvement. Patience: 4/7\n",
      "\n",
      "[Run 4 | Epoch 24] 🧪 Training...\n"
     ]
    },
    {
     "name": "stderr",
     "output_type": "stream",
     "text": [
      "/tmp/ipykernel_4036/2994272709.py:138: FutureWarning: `torch.cuda.amp.autocast(args...)` is deprecated. Please use `torch.amp.autocast('cuda', args...)` instead.\n",
      "  with autocast():\n"
     ]
    },
    {
     "name": "stdout",
     "output_type": "stream",
     "text": [
      "  └─ Batch 20/66 - Loss: 0.0258\n",
      "  └─ Batch 40/66 - Loss: 0.0238\n",
      "  └─ Batch 60/66 - Loss: 0.0406\n",
      "  └─ Batch 66/66 - Loss: 0.0261\n",
      "✅ [Run 4 | Epoch 24] Train Loss Total: 2.34\n"
     ]
    },
    {
     "name": "stderr",
     "output_type": "stream",
     "text": [
      "/tmp/ipykernel_4036/2994272709.py:166: FutureWarning: `torch.cuda.amp.autocast(args...)` is deprecated. Please use `torch.amp.autocast('cuda', args...)` instead.\n",
      "  with autocast():\n"
     ]
    },
    {
     "name": "stdout",
     "output_type": "stream",
     "text": [
      "🔍 [Run 4 | Epoch 24] Val MAE: 5.841 | R²: 0.805\n",
      "⏳ No improvement. Patience: 5/7\n",
      "\n",
      "[Run 4 | Epoch 25] 🧪 Training...\n"
     ]
    },
    {
     "name": "stderr",
     "output_type": "stream",
     "text": [
      "/tmp/ipykernel_4036/2994272709.py:138: FutureWarning: `torch.cuda.amp.autocast(args...)` is deprecated. Please use `torch.amp.autocast('cuda', args...)` instead.\n",
      "  with autocast():\n"
     ]
    },
    {
     "name": "stdout",
     "output_type": "stream",
     "text": [
      "  └─ Batch 20/66 - Loss: 0.0447\n",
      "  └─ Batch 40/66 - Loss: 0.0161\n",
      "  └─ Batch 60/66 - Loss: 0.0483\n",
      "  └─ Batch 66/66 - Loss: 0.0194\n",
      "✅ [Run 4 | Epoch 25] Train Loss Total: 2.09\n"
     ]
    },
    {
     "name": "stderr",
     "output_type": "stream",
     "text": [
      "/tmp/ipykernel_4036/2994272709.py:166: FutureWarning: `torch.cuda.amp.autocast(args...)` is deprecated. Please use `torch.amp.autocast('cuda', args...)` instead.\n",
      "  with autocast():\n"
     ]
    },
    {
     "name": "stdout",
     "output_type": "stream",
     "text": [
      "🔍 [Run 4 | Epoch 25] Val MAE: 6.063 | R²: 0.778\n",
      "⏳ No improvement. Patience: 6/7\n",
      "\n",
      "[Run 4 | Epoch 26] 🧪 Training...\n"
     ]
    },
    {
     "name": "stderr",
     "output_type": "stream",
     "text": [
      "/tmp/ipykernel_4036/2994272709.py:138: FutureWarning: `torch.cuda.amp.autocast(args...)` is deprecated. Please use `torch.amp.autocast('cuda', args...)` instead.\n",
      "  with autocast():\n"
     ]
    },
    {
     "name": "stdout",
     "output_type": "stream",
     "text": [
      "  └─ Batch 20/66 - Loss: 0.0721\n",
      "  └─ Batch 40/66 - Loss: 0.0241\n",
      "  └─ Batch 60/66 - Loss: 0.0390\n",
      "  └─ Batch 66/66 - Loss: 0.0212\n",
      "✅ [Run 4 | Epoch 26] Train Loss Total: 2.16\n"
     ]
    },
    {
     "name": "stderr",
     "output_type": "stream",
     "text": [
      "/tmp/ipykernel_4036/2994272709.py:166: FutureWarning: `torch.cuda.amp.autocast(args...)` is deprecated. Please use `torch.amp.autocast('cuda', args...)` instead.\n",
      "  with autocast():\n"
     ]
    },
    {
     "name": "stdout",
     "output_type": "stream",
     "text": [
      "🔍 [Run 4 | Epoch 26] Val MAE: 6.185 | R²: 0.768\n",
      "⏳ No improvement. Patience: 7/7\n",
      "🛑 Early stopping at epoch 26\n",
      "\n",
      "✅✅ [Run 4] Best MAE: 5.619\n",
      "\n",
      "========== 🏁 Run 5/5 시작 ==========\n",
      "\n",
      "[Run 5 | Epoch 1] 🧪 Training...\n"
     ]
    },
    {
     "name": "stderr",
     "output_type": "stream",
     "text": [
      "/tmp/ipykernel_4036/2994272709.py:138: FutureWarning: `torch.cuda.amp.autocast(args...)` is deprecated. Please use `torch.amp.autocast('cuda', args...)` instead.\n",
      "  with autocast():\n"
     ]
    },
    {
     "name": "stdout",
     "output_type": "stream",
     "text": [
      "  └─ Batch 20/66 - Loss: 0.2726\n",
      "  └─ Batch 40/66 - Loss: 0.2137\n",
      "  └─ Batch 60/66 - Loss: 0.0962\n",
      "  └─ Batch 66/66 - Loss: 0.1378\n",
      "✅ [Run 5 | Epoch 1] Train Loss Total: 16.89\n"
     ]
    },
    {
     "name": "stderr",
     "output_type": "stream",
     "text": [
      "/tmp/ipykernel_4036/2994272709.py:166: FutureWarning: `torch.cuda.amp.autocast(args...)` is deprecated. Please use `torch.amp.autocast('cuda', args...)` instead.\n",
      "  with autocast():\n"
     ]
    },
    {
     "name": "stdout",
     "output_type": "stream",
     "text": [
      "🔍 [Run 5 | Epoch 1] Val MAE: 17.103 | R²: -0.408\n",
      "📂 Best model updated for Run 5 (MAE: 17.103)\n",
      "\n",
      "[Run 5 | Epoch 2] 🧪 Training...\n"
     ]
    },
    {
     "name": "stderr",
     "output_type": "stream",
     "text": [
      "/tmp/ipykernel_4036/2994272709.py:138: FutureWarning: `torch.cuda.amp.autocast(args...)` is deprecated. Please use `torch.amp.autocast('cuda', args...)` instead.\n",
      "  with autocast():\n"
     ]
    },
    {
     "name": "stdout",
     "output_type": "stream",
     "text": [
      "  └─ Batch 20/66 - Loss: 0.1330\n",
      "  └─ Batch 40/66 - Loss: 0.3810\n",
      "  └─ Batch 60/66 - Loss: 0.1678\n",
      "  └─ Batch 66/66 - Loss: 0.1245\n",
      "✅ [Run 5 | Epoch 2] Train Loss Total: 10.26\n"
     ]
    },
    {
     "name": "stderr",
     "output_type": "stream",
     "text": [
      "/tmp/ipykernel_4036/2994272709.py:166: FutureWarning: `torch.cuda.amp.autocast(args...)` is deprecated. Please use `torch.amp.autocast('cuda', args...)` instead.\n",
      "  with autocast():\n"
     ]
    },
    {
     "name": "stdout",
     "output_type": "stream",
     "text": [
      "🔍 [Run 5 | Epoch 2] Val MAE: 12.753 | R²: 0.077\n",
      "📂 Best model updated for Run 5 (MAE: 12.753)\n",
      "\n",
      "[Run 5 | Epoch 3] 🧪 Training...\n"
     ]
    },
    {
     "name": "stderr",
     "output_type": "stream",
     "text": [
      "/tmp/ipykernel_4036/2994272709.py:138: FutureWarning: `torch.cuda.amp.autocast(args...)` is deprecated. Please use `torch.amp.autocast('cuda', args...)` instead.\n",
      "  with autocast():\n"
     ]
    },
    {
     "name": "stdout",
     "output_type": "stream",
     "text": [
      "  └─ Batch 20/66 - Loss: 0.2851\n",
      "  └─ Batch 40/66 - Loss: 0.3166\n",
      "  └─ Batch 60/66 - Loss: 0.2539\n",
      "  └─ Batch 66/66 - Loss: 0.1752\n",
      "✅ [Run 5 | Epoch 3] Train Loss Total: 12.17\n"
     ]
    },
    {
     "name": "stderr",
     "output_type": "stream",
     "text": [
      "/tmp/ipykernel_4036/2994272709.py:166: FutureWarning: `torch.cuda.amp.autocast(args...)` is deprecated. Please use `torch.amp.autocast('cuda', args...)` instead.\n",
      "  with autocast():\n"
     ]
    },
    {
     "name": "stdout",
     "output_type": "stream",
     "text": [
      "🔍 [Run 5 | Epoch 3] Val MAE: 14.708 | R²: -0.134\n",
      "⏳ No improvement. Patience: 1/7\n",
      "\n",
      "[Run 5 | Epoch 4] 🧪 Training...\n"
     ]
    },
    {
     "name": "stderr",
     "output_type": "stream",
     "text": [
      "/tmp/ipykernel_4036/2994272709.py:138: FutureWarning: `torch.cuda.amp.autocast(args...)` is deprecated. Please use `torch.amp.autocast('cuda', args...)` instead.\n",
      "  with autocast():\n"
     ]
    },
    {
     "name": "stdout",
     "output_type": "stream",
     "text": [
      "  └─ Batch 20/66 - Loss: 0.0711\n",
      "  └─ Batch 40/66 - Loss: 0.1533\n",
      "  └─ Batch 60/66 - Loss: 0.1252\n",
      "  └─ Batch 66/66 - Loss: 0.0756\n",
      "✅ [Run 5 | Epoch 4] Train Loss Total: 7.12\n"
     ]
    },
    {
     "name": "stderr",
     "output_type": "stream",
     "text": [
      "/tmp/ipykernel_4036/2994272709.py:166: FutureWarning: `torch.cuda.amp.autocast(args...)` is deprecated. Please use `torch.amp.autocast('cuda', args...)` instead.\n",
      "  with autocast():\n"
     ]
    },
    {
     "name": "stdout",
     "output_type": "stream",
     "text": [
      "🔍 [Run 5 | Epoch 4] Val MAE: 10.996 | R²: 0.336\n",
      "📂 Best model updated for Run 5 (MAE: 10.996)\n",
      "\n",
      "[Run 5 | Epoch 5] 🧪 Training...\n"
     ]
    },
    {
     "name": "stderr",
     "output_type": "stream",
     "text": [
      "/tmp/ipykernel_4036/2994272709.py:138: FutureWarning: `torch.cuda.amp.autocast(args...)` is deprecated. Please use `torch.amp.autocast('cuda', args...)` instead.\n",
      "  with autocast():\n"
     ]
    },
    {
     "name": "stdout",
     "output_type": "stream",
     "text": [
      "  └─ Batch 20/66 - Loss: 0.0808\n",
      "  └─ Batch 40/66 - Loss: 0.0186\n",
      "  └─ Batch 60/66 - Loss: 0.1085\n",
      "  └─ Batch 66/66 - Loss: 0.0793\n",
      "✅ [Run 5 | Epoch 5] Train Loss Total: 5.84\n"
     ]
    },
    {
     "name": "stderr",
     "output_type": "stream",
     "text": [
      "/tmp/ipykernel_4036/2994272709.py:166: FutureWarning: `torch.cuda.amp.autocast(args...)` is deprecated. Please use `torch.amp.autocast('cuda', args...)` instead.\n",
      "  with autocast():\n"
     ]
    },
    {
     "name": "stdout",
     "output_type": "stream",
     "text": [
      "🔍 [Run 5 | Epoch 5] Val MAE: 13.177 | R²: 0.070\n",
      "⏳ No improvement. Patience: 1/7\n",
      "\n",
      "[Run 5 | Epoch 6] 🧪 Training...\n"
     ]
    },
    {
     "name": "stderr",
     "output_type": "stream",
     "text": [
      "/tmp/ipykernel_4036/2994272709.py:138: FutureWarning: `torch.cuda.amp.autocast(args...)` is deprecated. Please use `torch.amp.autocast('cuda', args...)` instead.\n",
      "  with autocast():\n"
     ]
    },
    {
     "name": "stdout",
     "output_type": "stream",
     "text": [
      "  └─ Batch 20/66 - Loss: 0.1040\n",
      "  └─ Batch 40/66 - Loss: 0.0579\n",
      "  └─ Batch 60/66 - Loss: 0.1628\n",
      "  └─ Batch 66/66 - Loss: 0.1327\n",
      "✅ [Run 5 | Epoch 6] Train Loss Total: 5.54\n"
     ]
    },
    {
     "name": "stderr",
     "output_type": "stream",
     "text": [
      "/tmp/ipykernel_4036/2994272709.py:166: FutureWarning: `torch.cuda.amp.autocast(args...)` is deprecated. Please use `torch.amp.autocast('cuda', args...)` instead.\n",
      "  with autocast():\n"
     ]
    },
    {
     "name": "stdout",
     "output_type": "stream",
     "text": [
      "🔍 [Run 5 | Epoch 6] Val MAE: 8.713 | R²: 0.573\n",
      "📂 Best model updated for Run 5 (MAE: 8.713)\n",
      "\n",
      "[Run 5 | Epoch 7] 🧪 Training...\n"
     ]
    },
    {
     "name": "stderr",
     "output_type": "stream",
     "text": [
      "/tmp/ipykernel_4036/2994272709.py:138: FutureWarning: `torch.cuda.amp.autocast(args...)` is deprecated. Please use `torch.amp.autocast('cuda', args...)` instead.\n",
      "  with autocast():\n"
     ]
    },
    {
     "name": "stdout",
     "output_type": "stream",
     "text": [
      "  └─ Batch 20/66 - Loss: 0.0594\n",
      "  └─ Batch 40/66 - Loss: 0.0656\n",
      "  └─ Batch 60/66 - Loss: 0.0958\n",
      "  └─ Batch 66/66 - Loss: 0.0884\n",
      "✅ [Run 5 | Epoch 7] Train Loss Total: 5.60\n"
     ]
    },
    {
     "name": "stderr",
     "output_type": "stream",
     "text": [
      "/tmp/ipykernel_4036/2994272709.py:166: FutureWarning: `torch.cuda.amp.autocast(args...)` is deprecated. Please use `torch.amp.autocast('cuda', args...)` instead.\n",
      "  with autocast():\n"
     ]
    },
    {
     "name": "stdout",
     "output_type": "stream",
     "text": [
      "🔍 [Run 5 | Epoch 7] Val MAE: 7.957 | R²: 0.649\n",
      "📂 Best model updated for Run 5 (MAE: 7.957)\n",
      "\n",
      "[Run 5 | Epoch 8] 🧪 Training...\n"
     ]
    },
    {
     "name": "stderr",
     "output_type": "stream",
     "text": [
      "/tmp/ipykernel_4036/2994272709.py:138: FutureWarning: `torch.cuda.amp.autocast(args...)` is deprecated. Please use `torch.amp.autocast('cuda', args...)` instead.\n",
      "  with autocast():\n"
     ]
    },
    {
     "name": "stdout",
     "output_type": "stream",
     "text": [
      "  └─ Batch 20/66 - Loss: 0.0680\n",
      "  └─ Batch 40/66 - Loss: 0.0533\n",
      "  └─ Batch 60/66 - Loss: 0.0464\n",
      "  └─ Batch 66/66 - Loss: 0.0953\n",
      "✅ [Run 5 | Epoch 8] Train Loss Total: 4.44\n"
     ]
    },
    {
     "name": "stderr",
     "output_type": "stream",
     "text": [
      "/tmp/ipykernel_4036/2994272709.py:166: FutureWarning: `torch.cuda.amp.autocast(args...)` is deprecated. Please use `torch.amp.autocast('cuda', args...)` instead.\n",
      "  with autocast():\n"
     ]
    },
    {
     "name": "stdout",
     "output_type": "stream",
     "text": [
      "🔍 [Run 5 | Epoch 8] Val MAE: 9.345 | R²: 0.509\n",
      "⏳ No improvement. Patience: 1/7\n",
      "\n",
      "[Run 5 | Epoch 9] 🧪 Training...\n"
     ]
    },
    {
     "name": "stderr",
     "output_type": "stream",
     "text": [
      "/tmp/ipykernel_4036/2994272709.py:138: FutureWarning: `torch.cuda.amp.autocast(args...)` is deprecated. Please use `torch.amp.autocast('cuda', args...)` instead.\n",
      "  with autocast():\n"
     ]
    },
    {
     "name": "stdout",
     "output_type": "stream",
     "text": [
      "  └─ Batch 20/66 - Loss: 0.0484\n",
      "  └─ Batch 40/66 - Loss: 0.0589\n",
      "  └─ Batch 60/66 - Loss: 0.0697\n",
      "  └─ Batch 66/66 - Loss: 0.0331\n",
      "✅ [Run 5 | Epoch 9] Train Loss Total: 4.77\n"
     ]
    },
    {
     "name": "stderr",
     "output_type": "stream",
     "text": [
      "/tmp/ipykernel_4036/2994272709.py:166: FutureWarning: `torch.cuda.amp.autocast(args...)` is deprecated. Please use `torch.amp.autocast('cuda', args...)` instead.\n",
      "  with autocast():\n"
     ]
    },
    {
     "name": "stdout",
     "output_type": "stream",
     "text": [
      "🔍 [Run 5 | Epoch 9] Val MAE: 6.935 | R²: 0.717\n",
      "📂 Best model updated for Run 5 (MAE: 6.935)\n",
      "\n",
      "[Run 5 | Epoch 10] 🧪 Training...\n"
     ]
    },
    {
     "name": "stderr",
     "output_type": "stream",
     "text": [
      "/tmp/ipykernel_4036/2994272709.py:138: FutureWarning: `torch.cuda.amp.autocast(args...)` is deprecated. Please use `torch.amp.autocast('cuda', args...)` instead.\n",
      "  with autocast():\n"
     ]
    },
    {
     "name": "stdout",
     "output_type": "stream",
     "text": [
      "  └─ Batch 20/66 - Loss: 0.0229\n",
      "  └─ Batch 40/66 - Loss: 0.0743\n",
      "  └─ Batch 60/66 - Loss: 0.1011\n",
      "  └─ Batch 66/66 - Loss: 0.1139\n",
      "✅ [Run 5 | Epoch 10] Train Loss Total: 4.08\n"
     ]
    },
    {
     "name": "stderr",
     "output_type": "stream",
     "text": [
      "/tmp/ipykernel_4036/2994272709.py:166: FutureWarning: `torch.cuda.amp.autocast(args...)` is deprecated. Please use `torch.amp.autocast('cuda', args...)` instead.\n",
      "  with autocast():\n"
     ]
    },
    {
     "name": "stdout",
     "output_type": "stream",
     "text": [
      "🔍 [Run 5 | Epoch 10] Val MAE: 10.647 | R²: 0.405\n",
      "⏳ No improvement. Patience: 1/7\n",
      "\n",
      "[Run 5 | Epoch 11] 🧪 Training...\n"
     ]
    },
    {
     "name": "stderr",
     "output_type": "stream",
     "text": [
      "/tmp/ipykernel_4036/2994272709.py:138: FutureWarning: `torch.cuda.amp.autocast(args...)` is deprecated. Please use `torch.amp.autocast('cuda', args...)` instead.\n",
      "  with autocast():\n"
     ]
    },
    {
     "name": "stdout",
     "output_type": "stream",
     "text": [
      "  └─ Batch 20/66 - Loss: 0.0658\n",
      "  └─ Batch 40/66 - Loss: 0.0531\n",
      "  └─ Batch 60/66 - Loss: 0.0518\n",
      "  └─ Batch 66/66 - Loss: 0.0848\n",
      "✅ [Run 5 | Epoch 11] Train Loss Total: 3.97\n"
     ]
    },
    {
     "name": "stderr",
     "output_type": "stream",
     "text": [
      "/tmp/ipykernel_4036/2994272709.py:166: FutureWarning: `torch.cuda.amp.autocast(args...)` is deprecated. Please use `torch.amp.autocast('cuda', args...)` instead.\n",
      "  with autocast():\n"
     ]
    },
    {
     "name": "stdout",
     "output_type": "stream",
     "text": [
      "🔍 [Run 5 | Epoch 11] Val MAE: 8.418 | R²: 0.604\n",
      "⏳ No improvement. Patience: 2/7\n",
      "\n",
      "[Run 5 | Epoch 12] 🧪 Training...\n"
     ]
    },
    {
     "name": "stderr",
     "output_type": "stream",
     "text": [
      "/tmp/ipykernel_4036/2994272709.py:138: FutureWarning: `torch.cuda.amp.autocast(args...)` is deprecated. Please use `torch.amp.autocast('cuda', args...)` instead.\n",
      "  with autocast():\n"
     ]
    },
    {
     "name": "stdout",
     "output_type": "stream",
     "text": [
      "  └─ Batch 20/66 - Loss: 0.0470\n",
      "  └─ Batch 40/66 - Loss: 0.0675\n",
      "  └─ Batch 60/66 - Loss: 0.0366\n",
      "  └─ Batch 66/66 - Loss: 0.0623\n",
      "✅ [Run 5 | Epoch 12] Train Loss Total: 3.78\n"
     ]
    },
    {
     "name": "stderr",
     "output_type": "stream",
     "text": [
      "/tmp/ipykernel_4036/2994272709.py:166: FutureWarning: `torch.cuda.amp.autocast(args...)` is deprecated. Please use `torch.amp.autocast('cuda', args...)` instead.\n",
      "  with autocast():\n"
     ]
    },
    {
     "name": "stdout",
     "output_type": "stream",
     "text": [
      "🔍 [Run 5 | Epoch 12] Val MAE: 6.382 | R²: 0.767\n",
      "📂 Best model updated for Run 5 (MAE: 6.382)\n",
      "\n",
      "[Run 5 | Epoch 13] 🧪 Training...\n"
     ]
    },
    {
     "name": "stderr",
     "output_type": "stream",
     "text": [
      "/tmp/ipykernel_4036/2994272709.py:138: FutureWarning: `torch.cuda.amp.autocast(args...)` is deprecated. Please use `torch.amp.autocast('cuda', args...)` instead.\n",
      "  with autocast():\n"
     ]
    },
    {
     "name": "stdout",
     "output_type": "stream",
     "text": [
      "  └─ Batch 20/66 - Loss: 0.0465\n",
      "  └─ Batch 40/66 - Loss: 0.0385\n",
      "  └─ Batch 60/66 - Loss: 0.0526\n",
      "  └─ Batch 66/66 - Loss: 0.0590\n",
      "✅ [Run 5 | Epoch 13] Train Loss Total: 3.38\n"
     ]
    },
    {
     "name": "stderr",
     "output_type": "stream",
     "text": [
      "/tmp/ipykernel_4036/2994272709.py:166: FutureWarning: `torch.cuda.amp.autocast(args...)` is deprecated. Please use `torch.amp.autocast('cuda', args...)` instead.\n",
      "  with autocast():\n"
     ]
    },
    {
     "name": "stdout",
     "output_type": "stream",
     "text": [
      "🔍 [Run 5 | Epoch 13] Val MAE: 6.697 | R²: 0.743\n",
      "⏳ No improvement. Patience: 1/7\n",
      "\n",
      "[Run 5 | Epoch 14] 🧪 Training...\n"
     ]
    },
    {
     "name": "stderr",
     "output_type": "stream",
     "text": [
      "/tmp/ipykernel_4036/2994272709.py:138: FutureWarning: `torch.cuda.amp.autocast(args...)` is deprecated. Please use `torch.amp.autocast('cuda', args...)` instead.\n",
      "  with autocast():\n"
     ]
    },
    {
     "name": "stdout",
     "output_type": "stream",
     "text": [
      "  └─ Batch 20/66 - Loss: 0.0785\n",
      "  └─ Batch 40/66 - Loss: 0.0430\n",
      "  └─ Batch 60/66 - Loss: 0.0970\n",
      "  └─ Batch 66/66 - Loss: 0.0566\n",
      "✅ [Run 5 | Epoch 14] Train Loss Total: 3.68\n"
     ]
    },
    {
     "name": "stderr",
     "output_type": "stream",
     "text": [
      "/tmp/ipykernel_4036/2994272709.py:166: FutureWarning: `torch.cuda.amp.autocast(args...)` is deprecated. Please use `torch.amp.autocast('cuda', args...)` instead.\n",
      "  with autocast():\n"
     ]
    },
    {
     "name": "stdout",
     "output_type": "stream",
     "text": [
      "🔍 [Run 5 | Epoch 14] Val MAE: 6.541 | R²: 0.746\n",
      "⏳ No improvement. Patience: 2/7\n",
      "\n",
      "[Run 5 | Epoch 15] 🧪 Training...\n"
     ]
    },
    {
     "name": "stderr",
     "output_type": "stream",
     "text": [
      "/tmp/ipykernel_4036/2994272709.py:138: FutureWarning: `torch.cuda.amp.autocast(args...)` is deprecated. Please use `torch.amp.autocast('cuda', args...)` instead.\n",
      "  with autocast():\n"
     ]
    },
    {
     "name": "stdout",
     "output_type": "stream",
     "text": [
      "  └─ Batch 20/66 - Loss: 0.0600\n",
      "  └─ Batch 40/66 - Loss: 0.0938\n",
      "  └─ Batch 60/66 - Loss: 0.0867\n",
      "  └─ Batch 66/66 - Loss: 0.0296\n",
      "✅ [Run 5 | Epoch 15] Train Loss Total: 3.51\n"
     ]
    },
    {
     "name": "stderr",
     "output_type": "stream",
     "text": [
      "/tmp/ipykernel_4036/2994272709.py:166: FutureWarning: `torch.cuda.amp.autocast(args...)` is deprecated. Please use `torch.amp.autocast('cuda', args...)` instead.\n",
      "  with autocast():\n"
     ]
    },
    {
     "name": "stdout",
     "output_type": "stream",
     "text": [
      "🔍 [Run 5 | Epoch 15] Val MAE: 7.264 | R²: 0.713\n",
      "⏳ No improvement. Patience: 3/7\n",
      "\n",
      "[Run 5 | Epoch 16] 🧪 Training...\n"
     ]
    },
    {
     "name": "stderr",
     "output_type": "stream",
     "text": [
      "/tmp/ipykernel_4036/2994272709.py:138: FutureWarning: `torch.cuda.amp.autocast(args...)` is deprecated. Please use `torch.amp.autocast('cuda', args...)` instead.\n",
      "  with autocast():\n"
     ]
    },
    {
     "name": "stdout",
     "output_type": "stream",
     "text": [
      "  └─ Batch 20/66 - Loss: 0.0517\n",
      "  └─ Batch 40/66 - Loss: 0.0296\n",
      "  └─ Batch 60/66 - Loss: 0.0713\n",
      "  └─ Batch 66/66 - Loss: 0.1070\n",
      "✅ [Run 5 | Epoch 16] Train Loss Total: 4.43\n"
     ]
    },
    {
     "name": "stderr",
     "output_type": "stream",
     "text": [
      "/tmp/ipykernel_4036/2994272709.py:166: FutureWarning: `torch.cuda.amp.autocast(args...)` is deprecated. Please use `torch.amp.autocast('cuda', args...)` instead.\n",
      "  with autocast():\n"
     ]
    },
    {
     "name": "stdout",
     "output_type": "stream",
     "text": [
      "🔍 [Run 5 | Epoch 16] Val MAE: 8.180 | R²: 0.631\n",
      "⏳ No improvement. Patience: 4/7\n",
      "\n",
      "[Run 5 | Epoch 17] 🧪 Training...\n"
     ]
    },
    {
     "name": "stderr",
     "output_type": "stream",
     "text": [
      "/tmp/ipykernel_4036/2994272709.py:138: FutureWarning: `torch.cuda.amp.autocast(args...)` is deprecated. Please use `torch.amp.autocast('cuda', args...)` instead.\n",
      "  with autocast():\n"
     ]
    },
    {
     "name": "stdout",
     "output_type": "stream",
     "text": [
      "  └─ Batch 20/66 - Loss: 0.0890\n",
      "  └─ Batch 40/66 - Loss: 0.0513\n",
      "  └─ Batch 60/66 - Loss: 0.0434\n",
      "  └─ Batch 66/66 - Loss: 0.0735\n",
      "✅ [Run 5 | Epoch 17] Train Loss Total: 3.65\n"
     ]
    },
    {
     "name": "stderr",
     "output_type": "stream",
     "text": [
      "/tmp/ipykernel_4036/2994272709.py:166: FutureWarning: `torch.cuda.amp.autocast(args...)` is deprecated. Please use `torch.amp.autocast('cuda', args...)` instead.\n",
      "  with autocast():\n"
     ]
    },
    {
     "name": "stdout",
     "output_type": "stream",
     "text": [
      "🔍 [Run 5 | Epoch 17] Val MAE: 7.806 | R²: 0.685\n",
      "⏳ No improvement. Patience: 5/7\n",
      "\n",
      "[Run 5 | Epoch 18] 🧪 Training...\n"
     ]
    },
    {
     "name": "stderr",
     "output_type": "stream",
     "text": [
      "/tmp/ipykernel_4036/2994272709.py:138: FutureWarning: `torch.cuda.amp.autocast(args...)` is deprecated. Please use `torch.amp.autocast('cuda', args...)` instead.\n",
      "  with autocast():\n"
     ]
    },
    {
     "name": "stdout",
     "output_type": "stream",
     "text": [
      "  └─ Batch 20/66 - Loss: 0.0505\n",
      "  └─ Batch 40/66 - Loss: 0.0535\n",
      "  └─ Batch 60/66 - Loss: 0.0795\n",
      "  └─ Batch 66/66 - Loss: 0.0782\n",
      "✅ [Run 5 | Epoch 18] Train Loss Total: 3.38\n"
     ]
    },
    {
     "name": "stderr",
     "output_type": "stream",
     "text": [
      "/tmp/ipykernel_4036/2994272709.py:166: FutureWarning: `torch.cuda.amp.autocast(args...)` is deprecated. Please use `torch.amp.autocast('cuda', args...)` instead.\n",
      "  with autocast():\n"
     ]
    },
    {
     "name": "stdout",
     "output_type": "stream",
     "text": [
      "🔍 [Run 5 | Epoch 18] Val MAE: 5.816 | R²: 0.802\n",
      "📂 Best model updated for Run 5 (MAE: 5.816)\n",
      "\n",
      "[Run 5 | Epoch 19] 🧪 Training...\n"
     ]
    },
    {
     "name": "stderr",
     "output_type": "stream",
     "text": [
      "/tmp/ipykernel_4036/2994272709.py:138: FutureWarning: `torch.cuda.amp.autocast(args...)` is deprecated. Please use `torch.amp.autocast('cuda', args...)` instead.\n",
      "  with autocast():\n"
     ]
    },
    {
     "name": "stdout",
     "output_type": "stream",
     "text": [
      "  └─ Batch 20/66 - Loss: 0.0365\n",
      "  └─ Batch 40/66 - Loss: 0.0547\n",
      "  └─ Batch 60/66 - Loss: 0.0252\n",
      "  └─ Batch 66/66 - Loss: 0.0526\n",
      "✅ [Run 5 | Epoch 19] Train Loss Total: 2.98\n"
     ]
    },
    {
     "name": "stderr",
     "output_type": "stream",
     "text": [
      "/tmp/ipykernel_4036/2994272709.py:166: FutureWarning: `torch.cuda.amp.autocast(args...)` is deprecated. Please use `torch.amp.autocast('cuda', args...)` instead.\n",
      "  with autocast():\n"
     ]
    },
    {
     "name": "stdout",
     "output_type": "stream",
     "text": [
      "🔍 [Run 5 | Epoch 19] Val MAE: 6.245 | R²: 0.770\n",
      "⏳ No improvement. Patience: 1/7\n",
      "\n",
      "[Run 5 | Epoch 20] 🧪 Training...\n"
     ]
    },
    {
     "name": "stderr",
     "output_type": "stream",
     "text": [
      "/tmp/ipykernel_4036/2994272709.py:138: FutureWarning: `torch.cuda.amp.autocast(args...)` is deprecated. Please use `torch.amp.autocast('cuda', args...)` instead.\n",
      "  with autocast():\n"
     ]
    },
    {
     "name": "stdout",
     "output_type": "stream",
     "text": [
      "  └─ Batch 20/66 - Loss: 0.0712\n",
      "  └─ Batch 40/66 - Loss: 0.0199\n",
      "  └─ Batch 60/66 - Loss: 0.0881\n",
      "  └─ Batch 66/66 - Loss: 0.0347\n",
      "✅ [Run 5 | Epoch 20] Train Loss Total: 3.79\n"
     ]
    },
    {
     "name": "stderr",
     "output_type": "stream",
     "text": [
      "/tmp/ipykernel_4036/2994272709.py:166: FutureWarning: `torch.cuda.amp.autocast(args...)` is deprecated. Please use `torch.amp.autocast('cuda', args...)` instead.\n",
      "  with autocast():\n"
     ]
    },
    {
     "name": "stdout",
     "output_type": "stream",
     "text": [
      "🔍 [Run 5 | Epoch 20] Val MAE: 6.458 | R²: 0.754\n",
      "⏳ No improvement. Patience: 2/7\n",
      "\n",
      "[Run 5 | Epoch 21] 🧪 Training...\n"
     ]
    },
    {
     "name": "stderr",
     "output_type": "stream",
     "text": [
      "/tmp/ipykernel_4036/2994272709.py:138: FutureWarning: `torch.cuda.amp.autocast(args...)` is deprecated. Please use `torch.amp.autocast('cuda', args...)` instead.\n",
      "  with autocast():\n"
     ]
    },
    {
     "name": "stdout",
     "output_type": "stream",
     "text": [
      "  └─ Batch 20/66 - Loss: 0.0488\n",
      "  └─ Batch 40/66 - Loss: 0.0239\n",
      "  └─ Batch 60/66 - Loss: 0.0242\n",
      "  └─ Batch 66/66 - Loss: 0.0390\n",
      "✅ [Run 5 | Epoch 21] Train Loss Total: 2.79\n"
     ]
    },
    {
     "name": "stderr",
     "output_type": "stream",
     "text": [
      "/tmp/ipykernel_4036/2994272709.py:166: FutureWarning: `torch.cuda.amp.autocast(args...)` is deprecated. Please use `torch.amp.autocast('cuda', args...)` instead.\n",
      "  with autocast():\n"
     ]
    },
    {
     "name": "stdout",
     "output_type": "stream",
     "text": [
      "🔍 [Run 5 | Epoch 21] Val MAE: 6.320 | R²: 0.768\n",
      "⏳ No improvement. Patience: 3/7\n",
      "\n",
      "[Run 5 | Epoch 22] 🧪 Training...\n"
     ]
    },
    {
     "name": "stderr",
     "output_type": "stream",
     "text": [
      "/tmp/ipykernel_4036/2994272709.py:138: FutureWarning: `torch.cuda.amp.autocast(args...)` is deprecated. Please use `torch.amp.autocast('cuda', args...)` instead.\n",
      "  with autocast():\n"
     ]
    },
    {
     "name": "stdout",
     "output_type": "stream",
     "text": [
      "  └─ Batch 20/66 - Loss: 0.0432\n",
      "  └─ Batch 40/66 - Loss: 0.0207\n",
      "  └─ Batch 60/66 - Loss: 0.0391\n",
      "  └─ Batch 66/66 - Loss: 0.0189\n",
      "✅ [Run 5 | Epoch 22] Train Loss Total: 2.75\n"
     ]
    },
    {
     "name": "stderr",
     "output_type": "stream",
     "text": [
      "/tmp/ipykernel_4036/2994272709.py:166: FutureWarning: `torch.cuda.amp.autocast(args...)` is deprecated. Please use `torch.amp.autocast('cuda', args...)` instead.\n",
      "  with autocast():\n"
     ]
    },
    {
     "name": "stdout",
     "output_type": "stream",
     "text": [
      "🔍 [Run 5 | Epoch 22] Val MAE: 5.616 | R²: 0.813\n",
      "📂 Best model updated for Run 5 (MAE: 5.616)\n",
      "\n",
      "[Run 5 | Epoch 23] 🧪 Training...\n"
     ]
    },
    {
     "name": "stderr",
     "output_type": "stream",
     "text": [
      "/tmp/ipykernel_4036/2994272709.py:138: FutureWarning: `torch.cuda.amp.autocast(args...)` is deprecated. Please use `torch.amp.autocast('cuda', args...)` instead.\n",
      "  with autocast():\n"
     ]
    },
    {
     "name": "stdout",
     "output_type": "stream",
     "text": [
      "  └─ Batch 20/66 - Loss: 0.0367\n",
      "  └─ Batch 40/66 - Loss: 0.0558\n",
      "  └─ Batch 60/66 - Loss: 0.0310\n",
      "  └─ Batch 66/66 - Loss: 0.0396\n",
      "✅ [Run 5 | Epoch 23] Train Loss Total: 2.41\n"
     ]
    },
    {
     "name": "stderr",
     "output_type": "stream",
     "text": [
      "/tmp/ipykernel_4036/2994272709.py:166: FutureWarning: `torch.cuda.amp.autocast(args...)` is deprecated. Please use `torch.amp.autocast('cuda', args...)` instead.\n",
      "  with autocast():\n"
     ]
    },
    {
     "name": "stdout",
     "output_type": "stream",
     "text": [
      "🔍 [Run 5 | Epoch 23] Val MAE: 5.734 | R²: 0.808\n",
      "⏳ No improvement. Patience: 1/7\n",
      "\n",
      "[Run 5 | Epoch 24] 🧪 Training...\n"
     ]
    },
    {
     "name": "stderr",
     "output_type": "stream",
     "text": [
      "/tmp/ipykernel_4036/2994272709.py:138: FutureWarning: `torch.cuda.amp.autocast(args...)` is deprecated. Please use `torch.amp.autocast('cuda', args...)` instead.\n",
      "  with autocast():\n"
     ]
    },
    {
     "name": "stdout",
     "output_type": "stream",
     "text": [
      "  └─ Batch 20/66 - Loss: 0.0372\n",
      "  └─ Batch 40/66 - Loss: 0.0856\n",
      "  └─ Batch 60/66 - Loss: 0.0254\n",
      "  └─ Batch 66/66 - Loss: 0.0239\n",
      "✅ [Run 5 | Epoch 24] Train Loss Total: 3.48\n"
     ]
    },
    {
     "name": "stderr",
     "output_type": "stream",
     "text": [
      "/tmp/ipykernel_4036/2994272709.py:166: FutureWarning: `torch.cuda.amp.autocast(args...)` is deprecated. Please use `torch.amp.autocast('cuda', args...)` instead.\n",
      "  with autocast():\n"
     ]
    },
    {
     "name": "stdout",
     "output_type": "stream",
     "text": [
      "🔍 [Run 5 | Epoch 24] Val MAE: 6.516 | R²: 0.768\n",
      "⏳ No improvement. Patience: 2/7\n",
      "\n",
      "[Run 5 | Epoch 25] 🧪 Training...\n"
     ]
    },
    {
     "name": "stderr",
     "output_type": "stream",
     "text": [
      "/tmp/ipykernel_4036/2994272709.py:138: FutureWarning: `torch.cuda.amp.autocast(args...)` is deprecated. Please use `torch.amp.autocast('cuda', args...)` instead.\n",
      "  with autocast():\n"
     ]
    },
    {
     "name": "stdout",
     "output_type": "stream",
     "text": [
      "  └─ Batch 20/66 - Loss: 0.0269\n",
      "  └─ Batch 40/66 - Loss: 0.0419\n",
      "  └─ Batch 60/66 - Loss: 0.0585\n",
      "  └─ Batch 66/66 - Loss: 0.0473\n",
      "✅ [Run 5 | Epoch 25] Train Loss Total: 2.32\n"
     ]
    },
    {
     "name": "stderr",
     "output_type": "stream",
     "text": [
      "/tmp/ipykernel_4036/2994272709.py:166: FutureWarning: `torch.cuda.amp.autocast(args...)` is deprecated. Please use `torch.amp.autocast('cuda', args...)` instead.\n",
      "  with autocast():\n"
     ]
    },
    {
     "name": "stdout",
     "output_type": "stream",
     "text": [
      "🔍 [Run 5 | Epoch 25] Val MAE: 6.733 | R²: 0.727\n",
      "⏳ No improvement. Patience: 3/7\n",
      "\n",
      "[Run 5 | Epoch 26] 🧪 Training...\n"
     ]
    },
    {
     "name": "stderr",
     "output_type": "stream",
     "text": [
      "/tmp/ipykernel_4036/2994272709.py:138: FutureWarning: `torch.cuda.amp.autocast(args...)` is deprecated. Please use `torch.amp.autocast('cuda', args...)` instead.\n",
      "  with autocast():\n"
     ]
    },
    {
     "name": "stdout",
     "output_type": "stream",
     "text": [
      "  └─ Batch 20/66 - Loss: 0.0211\n",
      "  └─ Batch 40/66 - Loss: 0.0262\n",
      "  └─ Batch 60/66 - Loss: 0.0470\n",
      "  └─ Batch 66/66 - Loss: 0.0201\n",
      "✅ [Run 5 | Epoch 26] Train Loss Total: 2.30\n"
     ]
    },
    {
     "name": "stderr",
     "output_type": "stream",
     "text": [
      "/tmp/ipykernel_4036/2994272709.py:166: FutureWarning: `torch.cuda.amp.autocast(args...)` is deprecated. Please use `torch.amp.autocast('cuda', args...)` instead.\n",
      "  with autocast():\n"
     ]
    },
    {
     "name": "stdout",
     "output_type": "stream",
     "text": [
      "🔍 [Run 5 | Epoch 26] Val MAE: 6.179 | R²: 0.783\n",
      "⏳ No improvement. Patience: 4/7\n",
      "\n",
      "[Run 5 | Epoch 27] 🧪 Training...\n"
     ]
    },
    {
     "name": "stderr",
     "output_type": "stream",
     "text": [
      "/tmp/ipykernel_4036/2994272709.py:138: FutureWarning: `torch.cuda.amp.autocast(args...)` is deprecated. Please use `torch.amp.autocast('cuda', args...)` instead.\n",
      "  with autocast():\n"
     ]
    },
    {
     "name": "stdout",
     "output_type": "stream",
     "text": [
      "  └─ Batch 20/66 - Loss: 0.0277\n",
      "  └─ Batch 40/66 - Loss: 0.0329\n",
      "  └─ Batch 60/66 - Loss: 0.0222\n",
      "  └─ Batch 66/66 - Loss: 0.0278\n",
      "✅ [Run 5 | Epoch 27] Train Loss Total: 2.16\n"
     ]
    },
    {
     "name": "stderr",
     "output_type": "stream",
     "text": [
      "/tmp/ipykernel_4036/2994272709.py:166: FutureWarning: `torch.cuda.amp.autocast(args...)` is deprecated. Please use `torch.amp.autocast('cuda', args...)` instead.\n",
      "  with autocast():\n"
     ]
    },
    {
     "name": "stdout",
     "output_type": "stream",
     "text": [
      "🔍 [Run 5 | Epoch 27] Val MAE: 5.731 | R²: 0.806\n",
      "⏳ No improvement. Patience: 5/7\n",
      "\n",
      "[Run 5 | Epoch 28] 🧪 Training...\n"
     ]
    },
    {
     "name": "stderr",
     "output_type": "stream",
     "text": [
      "/tmp/ipykernel_4036/2994272709.py:138: FutureWarning: `torch.cuda.amp.autocast(args...)` is deprecated. Please use `torch.amp.autocast('cuda', args...)` instead.\n",
      "  with autocast():\n"
     ]
    },
    {
     "name": "stdout",
     "output_type": "stream",
     "text": [
      "  └─ Batch 20/66 - Loss: 0.0367\n",
      "  └─ Batch 40/66 - Loss: 0.0151\n",
      "  └─ Batch 60/66 - Loss: 0.0287\n",
      "  └─ Batch 66/66 - Loss: 0.0174\n",
      "✅ [Run 5 | Epoch 28] Train Loss Total: 1.64\n"
     ]
    },
    {
     "name": "stderr",
     "output_type": "stream",
     "text": [
      "/tmp/ipykernel_4036/2994272709.py:166: FutureWarning: `torch.cuda.amp.autocast(args...)` is deprecated. Please use `torch.amp.autocast('cuda', args...)` instead.\n",
      "  with autocast():\n"
     ]
    },
    {
     "name": "stdout",
     "output_type": "stream",
     "text": [
      "🔍 [Run 5 | Epoch 28] Val MAE: 5.515 | R²: 0.826\n",
      "📂 Best model updated for Run 5 (MAE: 5.515)\n",
      "\n",
      "[Run 5 | Epoch 29] 🧪 Training...\n"
     ]
    },
    {
     "name": "stderr",
     "output_type": "stream",
     "text": [
      "/tmp/ipykernel_4036/2994272709.py:138: FutureWarning: `torch.cuda.amp.autocast(args...)` is deprecated. Please use `torch.amp.autocast('cuda', args...)` instead.\n",
      "  with autocast():\n"
     ]
    },
    {
     "name": "stdout",
     "output_type": "stream",
     "text": [
      "  └─ Batch 20/66 - Loss: 0.0133\n",
      "  └─ Batch 40/66 - Loss: 0.0313\n",
      "  └─ Batch 60/66 - Loss: 0.0243\n",
      "  └─ Batch 66/66 - Loss: 0.0235\n",
      "✅ [Run 5 | Epoch 29] Train Loss Total: 1.47\n"
     ]
    },
    {
     "name": "stderr",
     "output_type": "stream",
     "text": [
      "/tmp/ipykernel_4036/2994272709.py:166: FutureWarning: `torch.cuda.amp.autocast(args...)` is deprecated. Please use `torch.amp.autocast('cuda', args...)` instead.\n",
      "  with autocast():\n"
     ]
    },
    {
     "name": "stdout",
     "output_type": "stream",
     "text": [
      "🔍 [Run 5 | Epoch 29] Val MAE: 5.681 | R²: 0.813\n",
      "⏳ No improvement. Patience: 1/7\n",
      "\n",
      "[Run 5 | Epoch 30] 🧪 Training...\n"
     ]
    },
    {
     "name": "stderr",
     "output_type": "stream",
     "text": [
      "/tmp/ipykernel_4036/2994272709.py:138: FutureWarning: `torch.cuda.amp.autocast(args...)` is deprecated. Please use `torch.amp.autocast('cuda', args...)` instead.\n",
      "  with autocast():\n"
     ]
    },
    {
     "name": "stdout",
     "output_type": "stream",
     "text": [
      "  └─ Batch 20/66 - Loss: 0.0253\n",
      "  └─ Batch 40/66 - Loss: 0.0119\n",
      "  └─ Batch 60/66 - Loss: 0.0541\n",
      "  └─ Batch 66/66 - Loss: 0.0123\n",
      "✅ [Run 5 | Epoch 30] Train Loss Total: 1.56\n"
     ]
    },
    {
     "name": "stderr",
     "output_type": "stream",
     "text": [
      "/tmp/ipykernel_4036/2994272709.py:166: FutureWarning: `torch.cuda.amp.autocast(args...)` is deprecated. Please use `torch.amp.autocast('cuda', args...)` instead.\n",
      "  with autocast():\n"
     ]
    },
    {
     "name": "stdout",
     "output_type": "stream",
     "text": [
      "🔍 [Run 5 | Epoch 30] Val MAE: 5.754 | R²: 0.809\n",
      "⏳ No improvement. Patience: 2/7\n",
      "\n",
      "[Run 5 | Epoch 31] 🧪 Training...\n"
     ]
    },
    {
     "name": "stderr",
     "output_type": "stream",
     "text": [
      "/tmp/ipykernel_4036/2994272709.py:138: FutureWarning: `torch.cuda.amp.autocast(args...)` is deprecated. Please use `torch.amp.autocast('cuda', args...)` instead.\n",
      "  with autocast():\n"
     ]
    },
    {
     "name": "stdout",
     "output_type": "stream",
     "text": [
      "  └─ Batch 20/66 - Loss: 0.0215\n",
      "  └─ Batch 40/66 - Loss: 0.0310\n",
      "  └─ Batch 60/66 - Loss: 0.0451\n",
      "  └─ Batch 66/66 - Loss: 0.0279\n",
      "✅ [Run 5 | Epoch 31] Train Loss Total: 1.86\n"
     ]
    },
    {
     "name": "stderr",
     "output_type": "stream",
     "text": [
      "/tmp/ipykernel_4036/2994272709.py:166: FutureWarning: `torch.cuda.amp.autocast(args...)` is deprecated. Please use `torch.amp.autocast('cuda', args...)` instead.\n",
      "  with autocast():\n"
     ]
    },
    {
     "name": "stdout",
     "output_type": "stream",
     "text": [
      "🔍 [Run 5 | Epoch 31] Val MAE: 5.754 | R²: 0.803\n",
      "⏳ No improvement. Patience: 3/7\n",
      "\n",
      "[Run 5 | Epoch 32] 🧪 Training...\n"
     ]
    },
    {
     "name": "stderr",
     "output_type": "stream",
     "text": [
      "/tmp/ipykernel_4036/2994272709.py:138: FutureWarning: `torch.cuda.amp.autocast(args...)` is deprecated. Please use `torch.amp.autocast('cuda', args...)` instead.\n",
      "  with autocast():\n"
     ]
    },
    {
     "name": "stdout",
     "output_type": "stream",
     "text": [
      "  └─ Batch 20/66 - Loss: 0.0203\n",
      "  └─ Batch 40/66 - Loss: 0.0140\n",
      "  └─ Batch 60/66 - Loss: 0.0183\n",
      "  └─ Batch 66/66 - Loss: 0.0278\n",
      "✅ [Run 5 | Epoch 32] Train Loss Total: 1.63\n"
     ]
    },
    {
     "name": "stderr",
     "output_type": "stream",
     "text": [
      "/tmp/ipykernel_4036/2994272709.py:166: FutureWarning: `torch.cuda.amp.autocast(args...)` is deprecated. Please use `torch.amp.autocast('cuda', args...)` instead.\n",
      "  with autocast():\n"
     ]
    },
    {
     "name": "stdout",
     "output_type": "stream",
     "text": [
      "🔍 [Run 5 | Epoch 32] Val MAE: 5.755 | R²: 0.807\n",
      "⏳ No improvement. Patience: 4/7\n",
      "\n",
      "[Run 5 | Epoch 33] 🧪 Training...\n"
     ]
    },
    {
     "name": "stderr",
     "output_type": "stream",
     "text": [
      "/tmp/ipykernel_4036/2994272709.py:138: FutureWarning: `torch.cuda.amp.autocast(args...)` is deprecated. Please use `torch.amp.autocast('cuda', args...)` instead.\n",
      "  with autocast():\n"
     ]
    },
    {
     "name": "stdout",
     "output_type": "stream",
     "text": [
      "  └─ Batch 20/66 - Loss: 0.0427\n",
      "  └─ Batch 40/66 - Loss: 0.0127\n",
      "  └─ Batch 60/66 - Loss: 0.0136\n",
      "  └─ Batch 66/66 - Loss: 0.0218\n",
      "✅ [Run 5 | Epoch 33] Train Loss Total: 1.90\n"
     ]
    },
    {
     "name": "stderr",
     "output_type": "stream",
     "text": [
      "/tmp/ipykernel_4036/2994272709.py:166: FutureWarning: `torch.cuda.amp.autocast(args...)` is deprecated. Please use `torch.amp.autocast('cuda', args...)` instead.\n",
      "  with autocast():\n"
     ]
    },
    {
     "name": "stdout",
     "output_type": "stream",
     "text": [
      "🔍 [Run 5 | Epoch 33] Val MAE: 5.665 | R²: 0.812\n",
      "⏳ No improvement. Patience: 5/7\n",
      "\n",
      "[Run 5 | Epoch 34] 🧪 Training...\n"
     ]
    },
    {
     "name": "stderr",
     "output_type": "stream",
     "text": [
      "/tmp/ipykernel_4036/2994272709.py:138: FutureWarning: `torch.cuda.amp.autocast(args...)` is deprecated. Please use `torch.amp.autocast('cuda', args...)` instead.\n",
      "  with autocast():\n"
     ]
    },
    {
     "name": "stdout",
     "output_type": "stream",
     "text": [
      "  └─ Batch 20/66 - Loss: 0.0379\n",
      "  └─ Batch 40/66 - Loss: 0.0308\n",
      "  └─ Batch 60/66 - Loss: 0.0362\n",
      "  └─ Batch 66/66 - Loss: 0.0603\n",
      "✅ [Run 5 | Epoch 34] Train Loss Total: 2.04\n"
     ]
    },
    {
     "name": "stderr",
     "output_type": "stream",
     "text": [
      "/tmp/ipykernel_4036/2994272709.py:166: FutureWarning: `torch.cuda.amp.autocast(args...)` is deprecated. Please use `torch.amp.autocast('cuda', args...)` instead.\n",
      "  with autocast():\n"
     ]
    },
    {
     "name": "stdout",
     "output_type": "stream",
     "text": [
      "🔍 [Run 5 | Epoch 34] Val MAE: 6.673 | R²: 0.760\n",
      "⏳ No improvement. Patience: 6/7\n",
      "\n",
      "[Run 5 | Epoch 35] 🧪 Training...\n"
     ]
    },
    {
     "name": "stderr",
     "output_type": "stream",
     "text": [
      "/tmp/ipykernel_4036/2994272709.py:138: FutureWarning: `torch.cuda.amp.autocast(args...)` is deprecated. Please use `torch.amp.autocast('cuda', args...)` instead.\n",
      "  with autocast():\n"
     ]
    },
    {
     "name": "stdout",
     "output_type": "stream",
     "text": [
      "  └─ Batch 20/66 - Loss: 0.0137\n",
      "  └─ Batch 40/66 - Loss: 0.0326\n",
      "  └─ Batch 60/66 - Loss: 0.0146\n",
      "  └─ Batch 66/66 - Loss: 0.0052\n",
      "✅ [Run 5 | Epoch 35] Train Loss Total: 1.38\n"
     ]
    },
    {
     "name": "stderr",
     "output_type": "stream",
     "text": [
      "/tmp/ipykernel_4036/2994272709.py:166: FutureWarning: `torch.cuda.amp.autocast(args...)` is deprecated. Please use `torch.amp.autocast('cuda', args...)` instead.\n",
      "  with autocast():\n"
     ]
    },
    {
     "name": "stdout",
     "output_type": "stream",
     "text": [
      "🔍 [Run 5 | Epoch 35] Val MAE: 6.449 | R²: 0.771\n",
      "⏳ No improvement. Patience: 7/7\n",
      "🛑 Early stopping at epoch 35\n",
      "\n",
      "✅✅ [Run 5] Best MAE: 5.515\n",
      "\n",
      "🏆 전체 최고 모델 저장 완료: Run 1 (MAE: 4.990) → best_model_overall.pt\n"
     ]
    },
    {
     "data": {
      "image/png": "[encoded data removed]",
      "text/plain": [
       "<Figure size 1000x500 with 1 Axes>"
      ]
     },
     "metadata": {},
     "output_type": "display_data"
    },
    {
     "data": {
      "image/png": "[encoded data removed]",
      "text/plain": [
       "<Figure size 1000x500 with 1 Axes>"
      ]
     },
     "metadata": {},
     "output_type": "display_data"
    }
   ],
   "source": [
    "import os\n",
    "import glob\n",
    "import pandas as pd\n",
    "import numpy as np\n",
    "import nibabel as nib\n",
    "from PIL import Image\n",
    "from sklearn.model_selection import train_test_split\n",
    "from sklearn.metrics import mean_absolute_error, r2_score\n",
    "import matplotlib.pyplot as plt\n",
    "\n",
    "import torch\n",
    "import torch.nn as nn\n",
    "from torch.utils.data import Dataset, DataLoader\n",
    "from torchvision import transforms\n",
    "import timm\n",
    "from torch.cuda.amp import autocast, GradScaler\n",
    "\n",
    "# 🔧 저장 경로 설정\n",
    "SAVE_DIR = \"./models/swinv2_ixi\"\n",
    "os.makedirs(SAVE_DIR, exist_ok=True)\n",
    "\n",
    "# 1. Load metadata\n",
    "print(\"📁 Loading IXI metadata...\")\n",
    "df_info = pd.read_excel(\"./IXI-T1/IXI.xls\", sheet_name=\"Table\")\n",
    "df_info[\"IXI_ID\"] = df_info[\"IXI_ID\"].apply(lambda x: f\"IXI{int(x):03d}\")\n",
    "df_info = df_info[[\"IXI_ID\", \"AGE\"]]\n",
    "\n",
    "if df_info[\"AGE\"].isna().sum() > 0:\n",
    "    print(f\"⚠️ AGE 컬럼에 NaN 존재 → {df_info['AGE'].isna().sum()}개 행 제거합니다.\")\n",
    "    df_info = df_info.dropna(subset=[\"AGE\"])\n",
    "\n",
    "nifti_paths = sorted(glob.glob(\"./IXI-T1/*.nii.gz\"))\n",
    "records = []\n",
    "for path in nifti_paths:\n",
    "    basename = os.path.basename(path)\n",
    "    ixid = basename.split(\"-\")[0]\n",
    "    age_row = df_info[df_info[\"IXI_ID\"] == ixid]\n",
    "    if not age_row.empty:\n",
    "        age = age_row.iloc[0][\"AGE\"]\n",
    "        records.append({\"path\": path, \"IXI_ID\": ixid, \"AGE\": age})\n",
    "df = pd.DataFrame(records)\n",
    "print(f\"✅ 매칭된 샘플 수: {len(df)}\")\n",
    "\n",
    "# 2. Dataset\n",
    "class IXIAgeDataset(Dataset):\n",
    "    def __init__(self, df, transform=None, num_slices=40, resolution=(192, 192)):\n",
    "        self.df = df\n",
    "        self.num_slices = num_slices\n",
    "        self.resolution = resolution\n",
    "        self.transform = transform or transforms.Compose([\n",
    "            transforms.Resize(self.resolution),\n",
    "            transforms.ToTensor(),\n",
    "            transforms.Normalize([0.485], [0.229]),\n",
    "        ])\n",
    "\n",
    "    def __len__(self):\n",
    "        return len(self.df)\n",
    "\n",
    "    def __getitem__(self, idx):\n",
    "        row = self.df.iloc[idx]\n",
    "        img = nib.load(row[\"path\"]).get_fdata()\n",
    "        z_center = img.shape[2] // 2\n",
    "        half = self.num_slices // 2\n",
    "        slice_indices = list(range(z_center - half, z_center + half))\n",
    "\n",
    "        slices = []\n",
    "        for z in slice_indices:\n",
    "            if z < 0 or z >= img.shape[2]:\n",
    "                slice_img = np.zeros_like(img[:, :, 0], dtype=np.float32)\n",
    "            else:\n",
    "                slice_img = img[:, :, z]\n",
    "                if slice_img.max() != slice_img.min():\n",
    "                    slice_img = ((slice_img - slice_img.min()) / (slice_img.max() - slice_img.min())).astype(np.float32)\n",
    "                else:\n",
    "                    slice_img = np.zeros_like(slice_img, dtype=np.float32)\n",
    "\n",
    "            pil_img = Image.fromarray((slice_img * 255).astype(np.uint8)).convert(\"L\")\n",
    "            tensor_img = self.transform(pil_img)\n",
    "            slices.append(tensor_img)\n",
    "\n",
    "        stack_tensor = torch.stack(slices, dim=0).squeeze(1)  # (num_slices, H, W)\n",
    "        age = torch.tensor(row[\"AGE\"] / 100.0, dtype=torch.float32)\n",
    "        return stack_tensor, age\n",
    "\n",
    "# 3. SwinV2 모델 정의\n",
    "class SwinV2Regressor(nn.Module):\n",
    "    def __init__(self):\n",
    "        super().__init__()\n",
    "        self.backbone = timm.create_model('swinv2_base_window12_192', pretrained=True, num_classes=1)\n",
    "\n",
    "    def forward(self, x):\n",
    "        return self.backbone(x).squeeze(1)\n",
    "\n",
    "# 4. 학습 설정\n",
    "device = torch.device(\"cuda\" if torch.cuda.is_available() else \"cpu\")\n",
    "print(f\"🖥️ Using device: {device}\")\n",
    "\n",
    "mae_list = []\n",
    "r2_list = []\n",
    "global_best_mae = float('inf')\n",
    "global_best_model_state = None\n",
    "scaler = GradScaler()\n",
    "\n",
    "# 5. 하이퍼파라미터 설정\n",
    "batch_size = 6\n",
    "num_epochs = 500\n",
    "num_slices = 30\n",
    "image_resolution = (192, 192)\n",
    "\n",
    "# 6. 5번 반복 학습\n",
    "for run in range(5):\n",
    "    print(f\"\\n========== 🏁 Run {run+1}/5 시작 ==========\")\n",
    "    train_df, val_df = train_test_split(df, test_size=0.3, random_state=run)\n",
    "\n",
    "    train_set = IXIAgeDataset(train_df, num_slices=num_slices, resolution=image_resolution)\n",
    "    val_set = IXIAgeDataset(val_df, num_slices=num_slices, resolution=image_resolution)\n",
    "    train_loader = DataLoader(train_set, batch_size=batch_size, shuffle=True, num_workers=4, pin_memory=True)\n",
    "    val_loader = DataLoader(val_set, batch_size=batch_size, num_workers=4, pin_memory=True)\n",
    "\n",
    "    model = SwinV2Regressor().to(device)\n",
    "    optimizer = torch.optim.AdamW(model.parameters(), lr=1e-4)\n",
    "    criterion = nn.L1Loss()\n",
    "\n",
    "    best_mae = float('inf')\n",
    "    best_model_path = os.path.join(SAVE_DIR, f\"best_model_run{run+1}.pt\")\n",
    "    patience = 7\n",
    "    patience_counter = 0\n",
    "\n",
    "    for epoch in range(num_epochs):\n",
    "        model.train()\n",
    "        total_loss = 0\n",
    "        print(f\"\\n[Run {run+1} | Epoch {epoch+1}] 🧪 Training...\")\n",
    "        for batch_idx, (x, y) in enumerate(train_loader):\n",
    "            x, y = x.to(device), y.to(device)\n",
    "            B, S, H, W = x.shape\n",
    "            x = x.view(B * S, 1, H, W).repeat(1, 3, 1, 1)\n",
    "\n",
    "            with autocast():\n",
    "                pred = model(x).view(B, S).mean(dim=1)\n",
    "                loss = criterion(pred, y)\n",
    "\n",
    "            if torch.isnan(loss):\n",
    "                print(f\"⚠️ NaN 발생: 입력값 range=({x.min().item():.3f}, {x.max().item():.3f}) → 스킵\")\n",
    "                continue\n",
    "\n",
    "            optimizer.zero_grad()\n",
    "            scaler.scale(loss).backward()\n",
    "            torch.nn.utils.clip_grad_norm_(model.parameters(), max_norm=1.0)\n",
    "            scaler.step(optimizer)\n",
    "            scaler.update()\n",
    "\n",
    "            total_loss += loss.item()\n",
    "            if (batch_idx + 1) % 20 == 0 or (batch_idx + 1) == len(train_loader):\n",
    "                print(f\"  └─ Batch {batch_idx+1}/{len(train_loader)} - Loss: {loss.item():.4f}\")\n",
    "\n",
    "        print(f\"✅ [Run {run+1} | Epoch {epoch+1}] Train Loss Total: {total_loss:.2f}\")\n",
    "\n",
    "        model.eval()\n",
    "        preds, trues = [], []\n",
    "        with torch.no_grad():\n",
    "            for x, y in val_loader:\n",
    "                x = x.to(device)\n",
    "                B, S, H, W = x.shape\n",
    "                x = x.view(B * S, 1, H, W).repeat(1, 3, 1, 1)\n",
    "\n",
    "                with autocast():\n",
    "                    pred = model(x).view(B, S).mean(dim=1).cpu().numpy() * 100.0\n",
    "\n",
    "                preds.extend(pred)\n",
    "                trues.extend(y.numpy() * 100.0)\n",
    "\n",
    "        mae = mean_absolute_error(trues, preds)\n",
    "        r2 = r2_score(trues, preds)\n",
    "        print(f\"🔍 [Run {run+1} | Epoch {epoch+1}] Val MAE: {mae:.3f} | R²: {r2:.3f}\")\n",
    "\n",
    "        if mae < best_mae:\n",
    "            best_mae = mae\n",
    "            patience_counter = 0\n",
    "            torch.save(model.state_dict(), best_model_path)\n",
    "            print(f\"📂 Best model updated for Run {run+1} (MAE: {best_mae:.3f})\")\n",
    "        else:\n",
    "            patience_counter += 1\n",
    "            print(f\"⏳ No improvement. Patience: {patience_counter}/{patience}\")\n",
    "\n",
    "        if patience_counter >= patience:\n",
    "            print(f\"🛑 Early stopping at epoch {epoch+1}\")\n",
    "            break\n",
    "\n",
    "    if best_mae < global_best_mae:\n",
    "        global_best_mae = best_mae\n",
    "        global_best_model_state = model.state_dict()\n",
    "        best_run_id = run + 1\n",
    "\n",
    "    print(f\"\\n✅✅ [Run {run+1}] Best MAE: {best_mae:.3f}\")\n",
    "    mae_list.append(best_mae)\n",
    "    r2_list.append(r2)\n",
    "\n",
    "# 7. 전체 최고 모델 저장\n",
    "torch.save(global_best_model_state, os.path.join(SAVE_DIR, \"best_model_overall.pt\"))\n",
    "print(f\"\\n🏆 전체 최고 모델 저장 완료: Run {best_run_id} (MAE: {global_best_mae:.3f}) → best_model_overall.pt\")\n",
    "\n",
    "# 8. 시각화 결과 저장\n",
    "plt.figure(figsize=(10,5))\n",
    "plt.plot(mae_list, marker='o', label='MAE')\n",
    "plt.title(\"MAE over 5 Random Splits\")\n",
    "plt.xlabel(\"Run\")\n",
    "plt.ylabel(\"MAE\")\n",
    "plt.legend()\n",
    "plt.grid(True)\n",
    "plt.savefig(os.path.join(SAVE_DIR, \"mae_plot.png\"))\n",
    "plt.show()\n",
    "\n",
    "plt.figure(figsize=(10,5))\n",
    "plt.plot(r2_list, marker='s', label='R²')\n",
    "plt.title(\"R² Score over 5 Random Splits\")\n",
    "plt.xlabel(\"Run\")\n",
    "plt.ylabel(\"R² Score\")\n",
    "plt.legend()\n",
    "plt.grid(True)\n",
    "plt.savefig(os.path.join(SAVE_DIR, \"r2_plot.png\"))\n",
    "plt.show()\n"
   ]
  },
  {
   "cell_type": "code",
   "execution_count": 1,
   "id": "2337213c-9be3-42db-9858-ab83df237d8a",
   "metadata": {},
   "outputs": [
    {
     "name": "stdout",
     "output_type": "stream",
     "text": [
      "📁 Loading IXI metadata...\n",
      "⚠️ AGE 컬럼에 NaN 존재 → 29개 행 제거합니다.\n",
      "✅ 매칭된 샘플 수: 563\n",
      "🖥️ Using device: cuda\n",
      "\n",
      "========== 🏁 Run 1/5 시작 ==========\n"
     ]
    },
    {
     "name": "stderr",
     "output_type": "stream",
     "text": [
      "/tmp/ipykernel_14880/3713387577.py:103: FutureWarning: `torch.cuda.amp.GradScaler(args...)` is deprecated. Please use `torch.amp.GradScaler('cuda', args...)` instead.\n",
      "  scaler = GradScaler()\n",
      "/tmp/ipykernel_14880/3713387577.py:141: FutureWarning: `torch.cuda.amp.autocast(args...)` is deprecated. Please use `torch.amp.autocast('cuda', args...)` instead.\n",
      "  with autocast():\n",
      "/tmp/ipykernel_14880/3713387577.py:168: FutureWarning: `torch.cuda.amp.autocast(args...)` is deprecated. Please use `torch.amp.autocast('cuda', args...)` instead.\n",
      "  with autocast():\n"
     ]
    },
    {
     "name": "stdout",
     "output_type": "stream",
     "text": [
      "🔍 [Run 1 | Epoch 1] MAE: 66.252, R²: -16.820, TrainLoss: 0.8259, ValLoss: 0.6620\n"
     ]
    },
    {
     "name": "stderr",
     "output_type": "stream",
     "text": [
      "/tmp/ipykernel_14880/3713387577.py:141: FutureWarning: `torch.cuda.amp.autocast(args...)` is deprecated. Please use `torch.amp.autocast('cuda', args...)` instead.\n",
      "  with autocast():\n",
      "/tmp/ipykernel_14880/3713387577.py:168: FutureWarning: `torch.cuda.amp.autocast(args...)` is deprecated. Please use `torch.amp.autocast('cuda', args...)` instead.\n",
      "  with autocast():\n"
     ]
    },
    {
     "name": "stdout",
     "output_type": "stream",
     "text": [
      "🔍 [Run 1 | Epoch 2] MAE: 35.056, R²: -4.763, TrainLoss: 0.4096, ValLoss: 0.3498\n"
     ]
    },
    {
     "name": "stderr",
     "output_type": "stream",
     "text": [
      "/tmp/ipykernel_14880/3713387577.py:141: FutureWarning: `torch.cuda.amp.autocast(args...)` is deprecated. Please use `torch.amp.autocast('cuda', args...)` instead.\n",
      "  with autocast():\n",
      "/tmp/ipykernel_14880/3713387577.py:168: FutureWarning: `torch.cuda.amp.autocast(args...)` is deprecated. Please use `torch.amp.autocast('cuda', args...)` instead.\n",
      "  with autocast():\n"
     ]
    },
    {
     "name": "stdout",
     "output_type": "stream",
     "text": [
      "🔍 [Run 1 | Epoch 3] MAE: 21.274, R²: -1.441, TrainLoss: 0.2115, ValLoss: 0.2123\n"
     ]
    },
    {
     "name": "stderr",
     "output_type": "stream",
     "text": [
      "/tmp/ipykernel_14880/3713387577.py:141: FutureWarning: `torch.cuda.amp.autocast(args...)` is deprecated. Please use `torch.amp.autocast('cuda', args...)` instead.\n",
      "  with autocast():\n",
      "/tmp/ipykernel_14880/3713387577.py:168: FutureWarning: `torch.cuda.amp.autocast(args...)` is deprecated. Please use `torch.amp.autocast('cuda', args...)` instead.\n",
      "  with autocast():\n"
     ]
    },
    {
     "name": "stdout",
     "output_type": "stream",
     "text": [
      "🔍 [Run 1 | Epoch 4] MAE: 39.425, R²: -6.352, TrainLoss: 0.2222, ValLoss: 0.3932\n"
     ]
    },
    {
     "name": "stderr",
     "output_type": "stream",
     "text": [
      "/tmp/ipykernel_14880/3713387577.py:141: FutureWarning: `torch.cuda.amp.autocast(args...)` is deprecated. Please use `torch.amp.autocast('cuda', args...)` instead.\n",
      "  with autocast():\n",
      "/tmp/ipykernel_14880/3713387577.py:168: FutureWarning: `torch.cuda.amp.autocast(args...)` is deprecated. Please use `torch.amp.autocast('cuda', args...)` instead.\n",
      "  with autocast():\n"
     ]
    },
    {
     "name": "stdout",
     "output_type": "stream",
     "text": [
      "🔍 [Run 1 | Epoch 5] MAE: 12.770, R²: 0.099, TrainLoss: 0.2577, ValLoss: 0.1280\n"
     ]
    },
    {
     "name": "stderr",
     "output_type": "stream",
     "text": [
      "/tmp/ipykernel_14880/3713387577.py:141: FutureWarning: `torch.cuda.amp.autocast(args...)` is deprecated. Please use `torch.amp.autocast('cuda', args...)` instead.\n",
      "  with autocast():\n",
      "/tmp/ipykernel_14880/3713387577.py:168: FutureWarning: `torch.cuda.amp.autocast(args...)` is deprecated. Please use `torch.amp.autocast('cuda', args...)` instead.\n",
      "  with autocast():\n"
     ]
    },
    {
     "name": "stdout",
     "output_type": "stream",
     "text": [
      "🔍 [Run 1 | Epoch 6] MAE: 15.969, R²: -0.485, TrainLoss: 0.2051, ValLoss: 0.1593\n"
     ]
    },
    {
     "name": "stderr",
     "output_type": "stream",
     "text": [
      "/tmp/ipykernel_14880/3713387577.py:141: FutureWarning: `torch.cuda.amp.autocast(args...)` is deprecated. Please use `torch.amp.autocast('cuda', args...)` instead.\n",
      "  with autocast():\n",
      "/tmp/ipykernel_14880/3713387577.py:168: FutureWarning: `torch.cuda.amp.autocast(args...)` is deprecated. Please use `torch.amp.autocast('cuda', args...)` instead.\n",
      "  with autocast():\n"
     ]
    },
    {
     "name": "stdout",
     "output_type": "stream",
     "text": [
      "🔍 [Run 1 | Epoch 7] MAE: 10.600, R²: 0.331, TrainLoss: 0.1526, ValLoss: 0.1062\n"
     ]
    },
    {
     "name": "stderr",
     "output_type": "stream",
     "text": [
      "/tmp/ipykernel_14880/3713387577.py:141: FutureWarning: `torch.cuda.amp.autocast(args...)` is deprecated. Please use `torch.amp.autocast('cuda', args...)` instead.\n",
      "  with autocast():\n",
      "/tmp/ipykernel_14880/3713387577.py:168: FutureWarning: `torch.cuda.amp.autocast(args...)` is deprecated. Please use `torch.amp.autocast('cuda', args...)` instead.\n",
      "  with autocast():\n"
     ]
    },
    {
     "name": "stdout",
     "output_type": "stream",
     "text": [
      "🔍 [Run 1 | Epoch 8] MAE: 14.017, R²: -0.194, TrainLoss: 0.1560, ValLoss: 0.1398\n"
     ]
    },
    {
     "name": "stderr",
     "output_type": "stream",
     "text": [
      "/tmp/ipykernel_14880/3713387577.py:141: FutureWarning: `torch.cuda.amp.autocast(args...)` is deprecated. Please use `torch.amp.autocast('cuda', args...)` instead.\n",
      "  with autocast():\n",
      "/tmp/ipykernel_14880/3713387577.py:168: FutureWarning: `torch.cuda.amp.autocast(args...)` is deprecated. Please use `torch.amp.autocast('cuda', args...)` instead.\n",
      "  with autocast():\n"
     ]
    },
    {
     "name": "stdout",
     "output_type": "stream",
     "text": [
      "🔍 [Run 1 | Epoch 9] MAE: 35.699, R²: -4.562, TrainLoss: 0.1523, ValLoss: 0.3575\n"
     ]
    },
    {
     "name": "stderr",
     "output_type": "stream",
     "text": [
      "/tmp/ipykernel_14880/3713387577.py:141: FutureWarning: `torch.cuda.amp.autocast(args...)` is deprecated. Please use `torch.amp.autocast('cuda', args...)` instead.\n",
      "  with autocast():\n",
      "/tmp/ipykernel_14880/3713387577.py:168: FutureWarning: `torch.cuda.amp.autocast(args...)` is deprecated. Please use `torch.amp.autocast('cuda', args...)` instead.\n",
      "  with autocast():\n"
     ]
    },
    {
     "name": "stdout",
     "output_type": "stream",
     "text": [
      "🔍 [Run 1 | Epoch 10] MAE: 35.950, R²: -4.514, TrainLoss: 0.2277, ValLoss: 0.3592\n"
     ]
    },
    {
     "name": "stderr",
     "output_type": "stream",
     "text": [
      "/tmp/ipykernel_14880/3713387577.py:141: FutureWarning: `torch.cuda.amp.autocast(args...)` is deprecated. Please use `torch.amp.autocast('cuda', args...)` instead.\n",
      "  with autocast():\n",
      "/tmp/ipykernel_14880/3713387577.py:168: FutureWarning: `torch.cuda.amp.autocast(args...)` is deprecated. Please use `torch.amp.autocast('cuda', args...)` instead.\n",
      "  with autocast():\n"
     ]
    },
    {
     "name": "stdout",
     "output_type": "stream",
     "text": [
      "🔍 [Run 1 | Epoch 11] MAE: 20.155, R²: -1.010, TrainLoss: 0.1512, ValLoss: 0.2013\n"
     ]
    },
    {
     "name": "stderr",
     "output_type": "stream",
     "text": [
      "/tmp/ipykernel_14880/3713387577.py:141: FutureWarning: `torch.cuda.amp.autocast(args...)` is deprecated. Please use `torch.amp.autocast('cuda', args...)` instead.\n",
      "  with autocast():\n",
      "/tmp/ipykernel_14880/3713387577.py:168: FutureWarning: `torch.cuda.amp.autocast(args...)` is deprecated. Please use `torch.amp.autocast('cuda', args...)` instead.\n",
      "  with autocast():\n"
     ]
    },
    {
     "name": "stdout",
     "output_type": "stream",
     "text": [
      "🔍 [Run 1 | Epoch 12] MAE: 15.275, R²: -0.343, TrainLoss: 0.1464, ValLoss: 0.1530\n"
     ]
    },
    {
     "name": "stderr",
     "output_type": "stream",
     "text": [
      "/tmp/ipykernel_14880/3713387577.py:141: FutureWarning: `torch.cuda.amp.autocast(args...)` is deprecated. Please use `torch.amp.autocast('cuda', args...)` instead.\n",
      "  with autocast():\n",
      "/tmp/ipykernel_14880/3713387577.py:168: FutureWarning: `torch.cuda.amp.autocast(args...)` is deprecated. Please use `torch.amp.autocast('cuda', args...)` instead.\n",
      "  with autocast():\n"
     ]
    },
    {
     "name": "stdout",
     "output_type": "stream",
     "text": [
      "🔍 [Run 1 | Epoch 13] MAE: 19.476, R²: -1.012, TrainLoss: 0.1698, ValLoss: 0.1943\n"
     ]
    },
    {
     "name": "stderr",
     "output_type": "stream",
     "text": [
      "/tmp/ipykernel_14880/3713387577.py:141: FutureWarning: `torch.cuda.amp.autocast(args...)` is deprecated. Please use `torch.amp.autocast('cuda', args...)` instead.\n",
      "  with autocast():\n",
      "/tmp/ipykernel_14880/3713387577.py:168: FutureWarning: `torch.cuda.amp.autocast(args...)` is deprecated. Please use `torch.amp.autocast('cuda', args...)` instead.\n",
      "  with autocast():\n"
     ]
    },
    {
     "name": "stdout",
     "output_type": "stream",
     "text": [
      "🔍 [Run 1 | Epoch 14] MAE: 18.951, R²: -0.884, TrainLoss: 0.1888, ValLoss: 0.1889\n",
      "🛑 Early stopping at epoch 14\n",
      "\n",
      "========== 🏁 Run 2/5 시작 ==========\n"
     ]
    },
    {
     "name": "stderr",
     "output_type": "stream",
     "text": [
      "/tmp/ipykernel_14880/3713387577.py:141: FutureWarning: `torch.cuda.amp.autocast(args...)` is deprecated. Please use `torch.amp.autocast('cuda', args...)` instead.\n",
      "  with autocast():\n",
      "/tmp/ipykernel_14880/3713387577.py:168: FutureWarning: `torch.cuda.amp.autocast(args...)` is deprecated. Please use `torch.amp.autocast('cuda', args...)` instead.\n",
      "  with autocast():\n"
     ]
    },
    {
     "name": "stdout",
     "output_type": "stream",
     "text": [
      "🔍 [Run 2 | Epoch 1] MAE: 16.080, R²: -0.335, TrainLoss: 0.6910, ValLoss: 0.1609\n"
     ]
    },
    {
     "name": "stderr",
     "output_type": "stream",
     "text": [
      "/tmp/ipykernel_14880/3713387577.py:141: FutureWarning: `torch.cuda.amp.autocast(args...)` is deprecated. Please use `torch.amp.autocast('cuda', args...)` instead.\n",
      "  with autocast():\n",
      "/tmp/ipykernel_14880/3713387577.py:168: FutureWarning: `torch.cuda.amp.autocast(args...)` is deprecated. Please use `torch.amp.autocast('cuda', args...)` instead.\n",
      "  with autocast():\n"
     ]
    },
    {
     "name": "stdout",
     "output_type": "stream",
     "text": [
      "🔍 [Run 2 | Epoch 2] MAE: 20.515, R²: -1.242, TrainLoss: 0.1873, ValLoss: 0.2049\n"
     ]
    },
    {
     "name": "stderr",
     "output_type": "stream",
     "text": [
      "/tmp/ipykernel_14880/3713387577.py:141: FutureWarning: `torch.cuda.amp.autocast(args...)` is deprecated. Please use `torch.amp.autocast('cuda', args...)` instead.\n",
      "  with autocast():\n",
      "/tmp/ipykernel_14880/3713387577.py:168: FutureWarning: `torch.cuda.amp.autocast(args...)` is deprecated. Please use `torch.amp.autocast('cuda', args...)` instead.\n",
      "  with autocast():\n"
     ]
    },
    {
     "name": "stdout",
     "output_type": "stream",
     "text": [
      "🔍 [Run 2 | Epoch 3] MAE: 28.706, R²: -2.884, TrainLoss: 0.2257, ValLoss: 0.2873\n"
     ]
    },
    {
     "name": "stderr",
     "output_type": "stream",
     "text": [
      "/tmp/ipykernel_14880/3713387577.py:141: FutureWarning: `torch.cuda.amp.autocast(args...)` is deprecated. Please use `torch.amp.autocast('cuda', args...)` instead.\n",
      "  with autocast():\n",
      "/tmp/ipykernel_14880/3713387577.py:168: FutureWarning: `torch.cuda.amp.autocast(args...)` is deprecated. Please use `torch.amp.autocast('cuda', args...)` instead.\n",
      "  with autocast():\n"
     ]
    },
    {
     "name": "stdout",
     "output_type": "stream",
     "text": [
      "🔍 [Run 2 | Epoch 4] MAE: 16.837, R²: -0.633, TrainLoss: 0.2197, ValLoss: 0.1686\n"
     ]
    },
    {
     "name": "stderr",
     "output_type": "stream",
     "text": [
      "/tmp/ipykernel_14880/3713387577.py:141: FutureWarning: `torch.cuda.amp.autocast(args...)` is deprecated. Please use `torch.amp.autocast('cuda', args...)` instead.\n",
      "  with autocast():\n",
      "/tmp/ipykernel_14880/3713387577.py:168: FutureWarning: `torch.cuda.amp.autocast(args...)` is deprecated. Please use `torch.amp.autocast('cuda', args...)` instead.\n",
      "  with autocast():\n"
     ]
    },
    {
     "name": "stdout",
     "output_type": "stream",
     "text": [
      "🔍 [Run 2 | Epoch 5] MAE: 15.197, R²: -0.236, TrainLoss: 0.2183, ValLoss: 0.1520\n"
     ]
    },
    {
     "name": "stderr",
     "output_type": "stream",
     "text": [
      "/tmp/ipykernel_14880/3713387577.py:141: FutureWarning: `torch.cuda.amp.autocast(args...)` is deprecated. Please use `torch.amp.autocast('cuda', args...)` instead.\n",
      "  with autocast():\n",
      "/tmp/ipykernel_14880/3713387577.py:168: FutureWarning: `torch.cuda.amp.autocast(args...)` is deprecated. Please use `torch.amp.autocast('cuda', args...)` instead.\n",
      "  with autocast():\n"
     ]
    },
    {
     "name": "stdout",
     "output_type": "stream",
     "text": [
      "🔍 [Run 2 | Epoch 6] MAE: 16.434, R²: -0.445, TrainLoss: 0.1893, ValLoss: 0.1645\n"
     ]
    },
    {
     "name": "stderr",
     "output_type": "stream",
     "text": [
      "/tmp/ipykernel_14880/3713387577.py:141: FutureWarning: `torch.cuda.amp.autocast(args...)` is deprecated. Please use `torch.amp.autocast('cuda', args...)` instead.\n",
      "  with autocast():\n",
      "/tmp/ipykernel_14880/3713387577.py:168: FutureWarning: `torch.cuda.amp.autocast(args...)` is deprecated. Please use `torch.amp.autocast('cuda', args...)` instead.\n",
      "  with autocast():\n"
     ]
    },
    {
     "name": "stdout",
     "output_type": "stream",
     "text": [
      "🔍 [Run 2 | Epoch 7] MAE: 13.011, R²: 0.112, TrainLoss: 0.1856, ValLoss: 0.1299\n"
     ]
    },
    {
     "name": "stderr",
     "output_type": "stream",
     "text": [
      "/tmp/ipykernel_14880/3713387577.py:141: FutureWarning: `torch.cuda.amp.autocast(args...)` is deprecated. Please use `torch.amp.autocast('cuda', args...)` instead.\n",
      "  with autocast():\n",
      "/tmp/ipykernel_14880/3713387577.py:168: FutureWarning: `torch.cuda.amp.autocast(args...)` is deprecated. Please use `torch.amp.autocast('cuda', args...)` instead.\n",
      "  with autocast():\n"
     ]
    },
    {
     "name": "stdout",
     "output_type": "stream",
     "text": [
      "🔍 [Run 2 | Epoch 8] MAE: 22.458, R²: -1.204, TrainLoss: 0.2114, ValLoss: 0.2243\n"
     ]
    },
    {
     "name": "stderr",
     "output_type": "stream",
     "text": [
      "/tmp/ipykernel_14880/3713387577.py:141: FutureWarning: `torch.cuda.amp.autocast(args...)` is deprecated. Please use `torch.amp.autocast('cuda', args...)` instead.\n",
      "  with autocast():\n",
      "/tmp/ipykernel_14880/3713387577.py:168: FutureWarning: `torch.cuda.amp.autocast(args...)` is deprecated. Please use `torch.amp.autocast('cuda', args...)` instead.\n",
      "  with autocast():\n"
     ]
    },
    {
     "name": "stdout",
     "output_type": "stream",
     "text": [
      "🔍 [Run 2 | Epoch 9] MAE: 18.988, R²: -0.817, TrainLoss: 0.1981, ValLoss: 0.1896\n"
     ]
    },
    {
     "name": "stderr",
     "output_type": "stream",
     "text": [
      "/tmp/ipykernel_14880/3713387577.py:141: FutureWarning: `torch.cuda.amp.autocast(args...)` is deprecated. Please use `torch.amp.autocast('cuda', args...)` instead.\n",
      "  with autocast():\n",
      "/tmp/ipykernel_14880/3713387577.py:168: FutureWarning: `torch.cuda.amp.autocast(args...)` is deprecated. Please use `torch.amp.autocast('cuda', args...)` instead.\n",
      "  with autocast():\n"
     ]
    },
    {
     "name": "stdout",
     "output_type": "stream",
     "text": [
      "🔍 [Run 2 | Epoch 10] MAE: 14.923, R²: -0.117, TrainLoss: 0.1625, ValLoss: 0.1490\n"
     ]
    },
    {
     "name": "stderr",
     "output_type": "stream",
     "text": [
      "/tmp/ipykernel_14880/3713387577.py:141: FutureWarning: `torch.cuda.amp.autocast(args...)` is deprecated. Please use `torch.amp.autocast('cuda', args...)` instead.\n",
      "  with autocast():\n",
      "/tmp/ipykernel_14880/3713387577.py:168: FutureWarning: `torch.cuda.amp.autocast(args...)` is deprecated. Please use `torch.amp.autocast('cuda', args...)` instead.\n",
      "  with autocast():\n"
     ]
    },
    {
     "name": "stdout",
     "output_type": "stream",
     "text": [
      "🔍 [Run 2 | Epoch 11] MAE: 16.706, R²: -0.565, TrainLoss: 0.1813, ValLoss: 0.1675\n"
     ]
    },
    {
     "name": "stderr",
     "output_type": "stream",
     "text": [
      "/tmp/ipykernel_14880/3713387577.py:141: FutureWarning: `torch.cuda.amp.autocast(args...)` is deprecated. Please use `torch.amp.autocast('cuda', args...)` instead.\n",
      "  with autocast():\n",
      "/tmp/ipykernel_14880/3713387577.py:168: FutureWarning: `torch.cuda.amp.autocast(args...)` is deprecated. Please use `torch.amp.autocast('cuda', args...)` instead.\n",
      "  with autocast():\n"
     ]
    },
    {
     "name": "stdout",
     "output_type": "stream",
     "text": [
      "🔍 [Run 2 | Epoch 12] MAE: 30.668, R²: -3.063, TrainLoss: 0.1889, ValLoss: 0.3069\n"
     ]
    },
    {
     "name": "stderr",
     "output_type": "stream",
     "text": [
      "/tmp/ipykernel_14880/3713387577.py:141: FutureWarning: `torch.cuda.amp.autocast(args...)` is deprecated. Please use `torch.amp.autocast('cuda', args...)` instead.\n",
      "  with autocast():\n",
      "/tmp/ipykernel_14880/3713387577.py:168: FutureWarning: `torch.cuda.amp.autocast(args...)` is deprecated. Please use `torch.amp.autocast('cuda', args...)` instead.\n",
      "  with autocast():\n"
     ]
    },
    {
     "name": "stdout",
     "output_type": "stream",
     "text": [
      "🔍 [Run 2 | Epoch 13] MAE: 15.120, R²: -0.230, TrainLoss: 0.1922, ValLoss: 0.1510\n"
     ]
    },
    {
     "name": "stderr",
     "output_type": "stream",
     "text": [
      "/tmp/ipykernel_14880/3713387577.py:141: FutureWarning: `torch.cuda.amp.autocast(args...)` is deprecated. Please use `torch.amp.autocast('cuda', args...)` instead.\n",
      "  with autocast():\n",
      "/tmp/ipykernel_14880/3713387577.py:168: FutureWarning: `torch.cuda.amp.autocast(args...)` is deprecated. Please use `torch.amp.autocast('cuda', args...)` instead.\n",
      "  with autocast():\n"
     ]
    },
    {
     "name": "stdout",
     "output_type": "stream",
     "text": [
      "🔍 [Run 2 | Epoch 14] MAE: 24.494, R²: -1.717, TrainLoss: 0.2231, ValLoss: 0.2446\n",
      "🛑 Early stopping at epoch 14\n",
      "\n",
      "========== 🏁 Run 3/5 시작 ==========\n"
     ]
    },
    {
     "name": "stderr",
     "output_type": "stream",
     "text": [
      "/tmp/ipykernel_14880/3713387577.py:141: FutureWarning: `torch.cuda.amp.autocast(args...)` is deprecated. Please use `torch.amp.autocast('cuda', args...)` instead.\n",
      "  with autocast():\n",
      "/tmp/ipykernel_14880/3713387577.py:168: FutureWarning: `torch.cuda.amp.autocast(args...)` is deprecated. Please use `torch.amp.autocast('cuda', args...)` instead.\n",
      "  with autocast():\n"
     ]
    },
    {
     "name": "stdout",
     "output_type": "stream",
     "text": [
      "🔍 [Run 3 | Epoch 1] MAE: 14.481, R²: -0.056, TrainLoss: 0.5396, ValLoss: 0.1448\n"
     ]
    },
    {
     "name": "stderr",
     "output_type": "stream",
     "text": [
      "/tmp/ipykernel_14880/3713387577.py:141: FutureWarning: `torch.cuda.amp.autocast(args...)` is deprecated. Please use `torch.amp.autocast('cuda', args...)` instead.\n",
      "  with autocast():\n",
      "/tmp/ipykernel_14880/3713387577.py:168: FutureWarning: `torch.cuda.amp.autocast(args...)` is deprecated. Please use `torch.amp.autocast('cuda', args...)` instead.\n",
      "  with autocast():\n"
     ]
    },
    {
     "name": "stdout",
     "output_type": "stream",
     "text": [
      "🔍 [Run 3 | Epoch 2] MAE: 29.270, R²: -3.225, TrainLoss: 0.2375, ValLoss: 0.2924\n"
     ]
    },
    {
     "name": "stderr",
     "output_type": "stream",
     "text": [
      "/tmp/ipykernel_14880/3713387577.py:141: FutureWarning: `torch.cuda.amp.autocast(args...)` is deprecated. Please use `torch.amp.autocast('cuda', args...)` instead.\n",
      "  with autocast():\n",
      "/tmp/ipykernel_14880/3713387577.py:168: FutureWarning: `torch.cuda.amp.autocast(args...)` is deprecated. Please use `torch.amp.autocast('cuda', args...)` instead.\n",
      "  with autocast():\n"
     ]
    },
    {
     "name": "stdout",
     "output_type": "stream",
     "text": [
      "🔍 [Run 3 | Epoch 3] MAE: 31.452, R²: -3.382, TrainLoss: 0.2635, ValLoss: 0.3143\n"
     ]
    },
    {
     "name": "stderr",
     "output_type": "stream",
     "text": [
      "/tmp/ipykernel_14880/3713387577.py:141: FutureWarning: `torch.cuda.amp.autocast(args...)` is deprecated. Please use `torch.amp.autocast('cuda', args...)` instead.\n",
      "  with autocast():\n",
      "/tmp/ipykernel_14880/3713387577.py:168: FutureWarning: `torch.cuda.amp.autocast(args...)` is deprecated. Please use `torch.amp.autocast('cuda', args...)` instead.\n",
      "  with autocast():\n"
     ]
    },
    {
     "name": "stdout",
     "output_type": "stream",
     "text": [
      "🔍 [Run 3 | Epoch 4] MAE: 11.881, R²: 0.293, TrainLoss: 0.1980, ValLoss: 0.1188\n"
     ]
    },
    {
     "name": "stderr",
     "output_type": "stream",
     "text": [
      "/tmp/ipykernel_14880/3713387577.py:141: FutureWarning: `torch.cuda.amp.autocast(args...)` is deprecated. Please use `torch.amp.autocast('cuda', args...)` instead.\n",
      "  with autocast():\n",
      "/tmp/ipykernel_14880/3713387577.py:168: FutureWarning: `torch.cuda.amp.autocast(args...)` is deprecated. Please use `torch.amp.autocast('cuda', args...)` instead.\n",
      "  with autocast():\n"
     ]
    },
    {
     "name": "stdout",
     "output_type": "stream",
     "text": [
      "🔍 [Run 3 | Epoch 5] MAE: 17.085, R²: -0.741, TrainLoss: 0.3205, ValLoss: 0.1708\n"
     ]
    },
    {
     "name": "stderr",
     "output_type": "stream",
     "text": [
      "/tmp/ipykernel_14880/3713387577.py:141: FutureWarning: `torch.cuda.amp.autocast(args...)` is deprecated. Please use `torch.amp.autocast('cuda', args...)` instead.\n",
      "  with autocast():\n",
      "/tmp/ipykernel_14880/3713387577.py:168: FutureWarning: `torch.cuda.amp.autocast(args...)` is deprecated. Please use `torch.amp.autocast('cuda', args...)` instead.\n",
      "  with autocast():\n"
     ]
    },
    {
     "name": "stdout",
     "output_type": "stream",
     "text": [
      "🔍 [Run 3 | Epoch 6] MAE: 32.770, R²: -3.867, TrainLoss: 0.1725, ValLoss: 0.3277\n"
     ]
    },
    {
     "name": "stderr",
     "output_type": "stream",
     "text": [
      "/tmp/ipykernel_14880/3713387577.py:141: FutureWarning: `torch.cuda.amp.autocast(args...)` is deprecated. Please use `torch.amp.autocast('cuda', args...)` instead.\n",
      "  with autocast():\n",
      "/tmp/ipykernel_14880/3713387577.py:168: FutureWarning: `torch.cuda.amp.autocast(args...)` is deprecated. Please use `torch.amp.autocast('cuda', args...)` instead.\n",
      "  with autocast():\n"
     ]
    },
    {
     "name": "stdout",
     "output_type": "stream",
     "text": [
      "🔍 [Run 3 | Epoch 7] MAE: 27.754, R²: -2.636, TrainLoss: 0.1903, ValLoss: 0.2774\n"
     ]
    },
    {
     "name": "stderr",
     "output_type": "stream",
     "text": [
      "/tmp/ipykernel_14880/3713387577.py:141: FutureWarning: `torch.cuda.amp.autocast(args...)` is deprecated. Please use `torch.amp.autocast('cuda', args...)` instead.\n",
      "  with autocast():\n",
      "/tmp/ipykernel_14880/3713387577.py:168: FutureWarning: `torch.cuda.amp.autocast(args...)` is deprecated. Please use `torch.amp.autocast('cuda', args...)` instead.\n",
      "  with autocast():\n"
     ]
    },
    {
     "name": "stdout",
     "output_type": "stream",
     "text": [
      "🔍 [Run 3 | Epoch 8] MAE: 26.431, R²: -2.428, TrainLoss: 0.2123, ValLoss: 0.2641\n"
     ]
    },
    {
     "name": "stderr",
     "output_type": "stream",
     "text": [
      "/tmp/ipykernel_14880/3713387577.py:141: FutureWarning: `torch.cuda.amp.autocast(args...)` is deprecated. Please use `torch.amp.autocast('cuda', args...)` instead.\n",
      "  with autocast():\n",
      "/tmp/ipykernel_14880/3713387577.py:168: FutureWarning: `torch.cuda.amp.autocast(args...)` is deprecated. Please use `torch.amp.autocast('cuda', args...)` instead.\n",
      "  with autocast():\n"
     ]
    },
    {
     "name": "stdout",
     "output_type": "stream",
     "text": [
      "🔍 [Run 3 | Epoch 9] MAE: 16.978, R²: -1.062, TrainLoss: 0.1903, ValLoss: 0.1698\n"
     ]
    },
    {
     "name": "stderr",
     "output_type": "stream",
     "text": [
      "/tmp/ipykernel_14880/3713387577.py:141: FutureWarning: `torch.cuda.amp.autocast(args...)` is deprecated. Please use `torch.amp.autocast('cuda', args...)` instead.\n",
      "  with autocast():\n",
      "/tmp/ipykernel_14880/3713387577.py:168: FutureWarning: `torch.cuda.amp.autocast(args...)` is deprecated. Please use `torch.amp.autocast('cuda', args...)` instead.\n",
      "  with autocast():\n"
     ]
    },
    {
     "name": "stdout",
     "output_type": "stream",
     "text": [
      "🔍 [Run 3 | Epoch 10] MAE: 24.093, R²: -1.775, TrainLoss: 0.1839, ValLoss: 0.2412\n"
     ]
    },
    {
     "name": "stderr",
     "output_type": "stream",
     "text": [
      "/tmp/ipykernel_14880/3713387577.py:141: FutureWarning: `torch.cuda.amp.autocast(args...)` is deprecated. Please use `torch.amp.autocast('cuda', args...)` instead.\n",
      "  with autocast():\n",
      "/tmp/ipykernel_14880/3713387577.py:168: FutureWarning: `torch.cuda.amp.autocast(args...)` is deprecated. Please use `torch.amp.autocast('cuda', args...)` instead.\n",
      "  with autocast():\n"
     ]
    },
    {
     "name": "stdout",
     "output_type": "stream",
     "text": [
      "🔍 [Run 3 | Epoch 11] MAE: 16.143, R²: -0.362, TrainLoss: 0.1688, ValLoss: 0.1611\n",
      "🛑 Early stopping at epoch 11\n",
      "\n",
      "========== 🏁 Run 4/5 시작 ==========\n"
     ]
    },
    {
     "name": "stderr",
     "output_type": "stream",
     "text": [
      "/tmp/ipykernel_14880/3713387577.py:141: FutureWarning: `torch.cuda.amp.autocast(args...)` is deprecated. Please use `torch.amp.autocast('cuda', args...)` instead.\n",
      "  with autocast():\n",
      "/tmp/ipykernel_14880/3713387577.py:168: FutureWarning: `torch.cuda.amp.autocast(args...)` is deprecated. Please use `torch.amp.autocast('cuda', args...)` instead.\n",
      "  with autocast():\n"
     ]
    },
    {
     "name": "stdout",
     "output_type": "stream",
     "text": [
      "🔍 [Run 4 | Epoch 1] MAE: 25.932, R²: -2.562, TrainLoss: 0.6336, ValLoss: 0.2594\n"
     ]
    },
    {
     "name": "stderr",
     "output_type": "stream",
     "text": [
      "/tmp/ipykernel_14880/3713387577.py:141: FutureWarning: `torch.cuda.amp.autocast(args...)` is deprecated. Please use `torch.amp.autocast('cuda', args...)` instead.\n",
      "  with autocast():\n",
      "/tmp/ipykernel_14880/3713387577.py:168: FutureWarning: `torch.cuda.amp.autocast(args...)` is deprecated. Please use `torch.amp.autocast('cuda', args...)` instead.\n",
      "  with autocast():\n"
     ]
    },
    {
     "name": "stdout",
     "output_type": "stream",
     "text": [
      "🔍 [Run 4 | Epoch 2] MAE: 42.791, R²: -7.158, TrainLoss: 0.2509, ValLoss: 0.4279\n"
     ]
    },
    {
     "name": "stderr",
     "output_type": "stream",
     "text": [
      "/tmp/ipykernel_14880/3713387577.py:141: FutureWarning: `torch.cuda.amp.autocast(args...)` is deprecated. Please use `torch.amp.autocast('cuda', args...)` instead.\n",
      "  with autocast():\n",
      "/tmp/ipykernel_14880/3713387577.py:168: FutureWarning: `torch.cuda.amp.autocast(args...)` is deprecated. Please use `torch.amp.autocast('cuda', args...)` instead.\n",
      "  with autocast():\n"
     ]
    },
    {
     "name": "stdout",
     "output_type": "stream",
     "text": [
      "🔍 [Run 4 | Epoch 3] MAE: 16.356, R²: -0.547, TrainLoss: 0.2109, ValLoss: 0.1637\n"
     ]
    },
    {
     "name": "stderr",
     "output_type": "stream",
     "text": [
      "/tmp/ipykernel_14880/3713387577.py:141: FutureWarning: `torch.cuda.amp.autocast(args...)` is deprecated. Please use `torch.amp.autocast('cuda', args...)` instead.\n",
      "  with autocast():\n",
      "/tmp/ipykernel_14880/3713387577.py:168: FutureWarning: `torch.cuda.amp.autocast(args...)` is deprecated. Please use `torch.amp.autocast('cuda', args...)` instead.\n",
      "  with autocast():\n"
     ]
    },
    {
     "name": "stdout",
     "output_type": "stream",
     "text": [
      "🔍 [Run 4 | Epoch 4] MAE: 28.002, R²: -2.824, TrainLoss: 0.3386, ValLoss: 0.2801\n"
     ]
    },
    {
     "name": "stderr",
     "output_type": "stream",
     "text": [
      "/tmp/ipykernel_14880/3713387577.py:141: FutureWarning: `torch.cuda.amp.autocast(args...)` is deprecated. Please use `torch.amp.autocast('cuda', args...)` instead.\n",
      "  with autocast():\n",
      "/tmp/ipykernel_14880/3713387577.py:168: FutureWarning: `torch.cuda.amp.autocast(args...)` is deprecated. Please use `torch.amp.autocast('cuda', args...)` instead.\n",
      "  with autocast():\n"
     ]
    },
    {
     "name": "stdout",
     "output_type": "stream",
     "text": [
      "🔍 [Run 4 | Epoch 5] MAE: 13.391, R²: 0.074, TrainLoss: 0.2804, ValLoss: 0.1340\n"
     ]
    },
    {
     "name": "stderr",
     "output_type": "stream",
     "text": [
      "/tmp/ipykernel_14880/3713387577.py:141: FutureWarning: `torch.cuda.amp.autocast(args...)` is deprecated. Please use `torch.amp.autocast('cuda', args...)` instead.\n",
      "  with autocast():\n",
      "/tmp/ipykernel_14880/3713387577.py:168: FutureWarning: `torch.cuda.amp.autocast(args...)` is deprecated. Please use `torch.amp.autocast('cuda', args...)` instead.\n",
      "  with autocast():\n"
     ]
    },
    {
     "name": "stdout",
     "output_type": "stream",
     "text": [
      "🔍 [Run 4 | Epoch 6] MAE: 44.895, R²: -7.648, TrainLoss: 0.2628, ValLoss: 0.4491\n"
     ]
    },
    {
     "name": "stderr",
     "output_type": "stream",
     "text": [
      "/tmp/ipykernel_14880/3713387577.py:141: FutureWarning: `torch.cuda.amp.autocast(args...)` is deprecated. Please use `torch.amp.autocast('cuda', args...)` instead.\n",
      "  with autocast():\n",
      "/tmp/ipykernel_14880/3713387577.py:168: FutureWarning: `torch.cuda.amp.autocast(args...)` is deprecated. Please use `torch.amp.autocast('cuda', args...)` instead.\n",
      "  with autocast():\n"
     ]
    },
    {
     "name": "stdout",
     "output_type": "stream",
     "text": [
      "🔍 [Run 4 | Epoch 7] MAE: 11.755, R²: 0.273, TrainLoss: 0.2163, ValLoss: 0.1176\n"
     ]
    },
    {
     "name": "stderr",
     "output_type": "stream",
     "text": [
      "/tmp/ipykernel_14880/3713387577.py:141: FutureWarning: `torch.cuda.amp.autocast(args...)` is deprecated. Please use `torch.amp.autocast('cuda', args...)` instead.\n",
      "  with autocast():\n",
      "/tmp/ipykernel_14880/3713387577.py:168: FutureWarning: `torch.cuda.amp.autocast(args...)` is deprecated. Please use `torch.amp.autocast('cuda', args...)` instead.\n",
      "  with autocast():\n"
     ]
    },
    {
     "name": "stdout",
     "output_type": "stream",
     "text": [
      "🔍 [Run 4 | Epoch 8] MAE: 11.638, R²: 0.199, TrainLoss: 0.1834, ValLoss: 0.1164\n"
     ]
    },
    {
     "name": "stderr",
     "output_type": "stream",
     "text": [
      "/tmp/ipykernel_14880/3713387577.py:141: FutureWarning: `torch.cuda.amp.autocast(args...)` is deprecated. Please use `torch.amp.autocast('cuda', args...)` instead.\n",
      "  with autocast():\n",
      "/tmp/ipykernel_14880/3713387577.py:168: FutureWarning: `torch.cuda.amp.autocast(args...)` is deprecated. Please use `torch.amp.autocast('cuda', args...)` instead.\n",
      "  with autocast():\n"
     ]
    },
    {
     "name": "stdout",
     "output_type": "stream",
     "text": [
      "🔍 [Run 4 | Epoch 9] MAE: 18.030, R²: -0.786, TrainLoss: 0.2105, ValLoss: 0.1805\n"
     ]
    },
    {
     "name": "stderr",
     "output_type": "stream",
     "text": [
      "/tmp/ipykernel_14880/3713387577.py:141: FutureWarning: `torch.cuda.amp.autocast(args...)` is deprecated. Please use `torch.amp.autocast('cuda', args...)` instead.\n",
      "  with autocast():\n",
      "/tmp/ipykernel_14880/3713387577.py:168: FutureWarning: `torch.cuda.amp.autocast(args...)` is deprecated. Please use `torch.amp.autocast('cuda', args...)` instead.\n",
      "  with autocast():\n"
     ]
    },
    {
     "name": "stdout",
     "output_type": "stream",
     "text": [
      "🔍 [Run 4 | Epoch 10] MAE: 30.964, R²: -3.860, TrainLoss: 0.2170, ValLoss: 0.3097\n"
     ]
    },
    {
     "name": "stderr",
     "output_type": "stream",
     "text": [
      "/tmp/ipykernel_14880/3713387577.py:141: FutureWarning: `torch.cuda.amp.autocast(args...)` is deprecated. Please use `torch.amp.autocast('cuda', args...)` instead.\n",
      "  with autocast():\n",
      "/tmp/ipykernel_14880/3713387577.py:168: FutureWarning: `torch.cuda.amp.autocast(args...)` is deprecated. Please use `torch.amp.autocast('cuda', args...)` instead.\n",
      "  with autocast():\n"
     ]
    },
    {
     "name": "stdout",
     "output_type": "stream",
     "text": [
      "🔍 [Run 4 | Epoch 11] MAE: 35.313, R²: -5.240, TrainLoss: 0.1956, ValLoss: 0.3534\n"
     ]
    },
    {
     "name": "stderr",
     "output_type": "stream",
     "text": [
      "/tmp/ipykernel_14880/3713387577.py:141: FutureWarning: `torch.cuda.amp.autocast(args...)` is deprecated. Please use `torch.amp.autocast('cuda', args...)` instead.\n",
      "  with autocast():\n",
      "/tmp/ipykernel_14880/3713387577.py:168: FutureWarning: `torch.cuda.amp.autocast(args...)` is deprecated. Please use `torch.amp.autocast('cuda', args...)` instead.\n",
      "  with autocast():\n"
     ]
    },
    {
     "name": "stdout",
     "output_type": "stream",
     "text": [
      "🔍 [Run 4 | Epoch 12] MAE: 12.061, R²: 0.110, TrainLoss: 0.1641, ValLoss: 0.1208\n"
     ]
    },
    {
     "name": "stderr",
     "output_type": "stream",
     "text": [
      "/tmp/ipykernel_14880/3713387577.py:141: FutureWarning: `torch.cuda.amp.autocast(args...)` is deprecated. Please use `torch.amp.autocast('cuda', args...)` instead.\n",
      "  with autocast():\n",
      "/tmp/ipykernel_14880/3713387577.py:168: FutureWarning: `torch.cuda.amp.autocast(args...)` is deprecated. Please use `torch.amp.autocast('cuda', args...)` instead.\n",
      "  with autocast():\n"
     ]
    },
    {
     "name": "stdout",
     "output_type": "stream",
     "text": [
      "🔍 [Run 4 | Epoch 13] MAE: 19.064, R²: -1.042, TrainLoss: 0.1662, ValLoss: 0.1907\n"
     ]
    },
    {
     "name": "stderr",
     "output_type": "stream",
     "text": [
      "/tmp/ipykernel_14880/3713387577.py:141: FutureWarning: `torch.cuda.amp.autocast(args...)` is deprecated. Please use `torch.amp.autocast('cuda', args...)` instead.\n",
      "  with autocast():\n",
      "/tmp/ipykernel_14880/3713387577.py:168: FutureWarning: `torch.cuda.amp.autocast(args...)` is deprecated. Please use `torch.amp.autocast('cuda', args...)` instead.\n",
      "  with autocast():\n"
     ]
    },
    {
     "name": "stdout",
     "output_type": "stream",
     "text": [
      "🔍 [Run 4 | Epoch 14] MAE: 12.795, R²: 0.081, TrainLoss: 0.1336, ValLoss: 0.1280\n"
     ]
    },
    {
     "name": "stderr",
     "output_type": "stream",
     "text": [
      "/tmp/ipykernel_14880/3713387577.py:141: FutureWarning: `torch.cuda.amp.autocast(args...)` is deprecated. Please use `torch.amp.autocast('cuda', args...)` instead.\n",
      "  with autocast():\n",
      "/tmp/ipykernel_14880/3713387577.py:168: FutureWarning: `torch.cuda.amp.autocast(args...)` is deprecated. Please use `torch.amp.autocast('cuda', args...)` instead.\n",
      "  with autocast():\n"
     ]
    },
    {
     "name": "stdout",
     "output_type": "stream",
     "text": [
      "🔍 [Run 4 | Epoch 15] MAE: 10.163, R²: 0.422, TrainLoss: 0.1090, ValLoss: 0.1017\n"
     ]
    },
    {
     "name": "stderr",
     "output_type": "stream",
     "text": [
      "/tmp/ipykernel_14880/3713387577.py:141: FutureWarning: `torch.cuda.amp.autocast(args...)` is deprecated. Please use `torch.amp.autocast('cuda', args...)` instead.\n",
      "  with autocast():\n",
      "/tmp/ipykernel_14880/3713387577.py:168: FutureWarning: `torch.cuda.amp.autocast(args...)` is deprecated. Please use `torch.amp.autocast('cuda', args...)` instead.\n",
      "  with autocast():\n"
     ]
    },
    {
     "name": "stdout",
     "output_type": "stream",
     "text": [
      "🔍 [Run 4 | Epoch 16] MAE: 11.849, R²: 0.148, TrainLoss: 0.1156, ValLoss: 0.1185\n"
     ]
    },
    {
     "name": "stderr",
     "output_type": "stream",
     "text": [
      "/tmp/ipykernel_14880/3713387577.py:141: FutureWarning: `torch.cuda.amp.autocast(args...)` is deprecated. Please use `torch.amp.autocast('cuda', args...)` instead.\n",
      "  with autocast():\n",
      "/tmp/ipykernel_14880/3713387577.py:168: FutureWarning: `torch.cuda.amp.autocast(args...)` is deprecated. Please use `torch.amp.autocast('cuda', args...)` instead.\n",
      "  with autocast():\n"
     ]
    },
    {
     "name": "stdout",
     "output_type": "stream",
     "text": [
      "🔍 [Run 4 | Epoch 17] MAE: 25.468, R²: -2.248, TrainLoss: 0.1177, ValLoss: 0.2547\n"
     ]
    },
    {
     "name": "stderr",
     "output_type": "stream",
     "text": [
      "/tmp/ipykernel_14880/3713387577.py:141: FutureWarning: `torch.cuda.amp.autocast(args...)` is deprecated. Please use `torch.amp.autocast('cuda', args...)` instead.\n",
      "  with autocast():\n",
      "/tmp/ipykernel_14880/3713387577.py:168: FutureWarning: `torch.cuda.amp.autocast(args...)` is deprecated. Please use `torch.amp.autocast('cuda', args...)` instead.\n",
      "  with autocast():\n"
     ]
    },
    {
     "name": "stdout",
     "output_type": "stream",
     "text": [
      "🔍 [Run 4 | Epoch 18] MAE: 31.872, R²: -3.620, TrainLoss: 0.1408, ValLoss: 0.3188\n"
     ]
    },
    {
     "name": "stderr",
     "output_type": "stream",
     "text": [
      "/tmp/ipykernel_14880/3713387577.py:141: FutureWarning: `torch.cuda.amp.autocast(args...)` is deprecated. Please use `torch.amp.autocast('cuda', args...)` instead.\n",
      "  with autocast():\n",
      "/tmp/ipykernel_14880/3713387577.py:168: FutureWarning: `torch.cuda.amp.autocast(args...)` is deprecated. Please use `torch.amp.autocast('cuda', args...)` instead.\n",
      "  with autocast():\n"
     ]
    },
    {
     "name": "stdout",
     "output_type": "stream",
     "text": [
      "🔍 [Run 4 | Epoch 19] MAE: 11.869, R²: 0.207, TrainLoss: 0.1334, ValLoss: 0.1187\n"
     ]
    },
    {
     "name": "stderr",
     "output_type": "stream",
     "text": [
      "/tmp/ipykernel_14880/3713387577.py:141: FutureWarning: `torch.cuda.amp.autocast(args...)` is deprecated. Please use `torch.amp.autocast('cuda', args...)` instead.\n",
      "  with autocast():\n",
      "/tmp/ipykernel_14880/3713387577.py:168: FutureWarning: `torch.cuda.amp.autocast(args...)` is deprecated. Please use `torch.amp.autocast('cuda', args...)` instead.\n",
      "  with autocast():\n"
     ]
    },
    {
     "name": "stdout",
     "output_type": "stream",
     "text": [
      "🔍 [Run 4 | Epoch 20] MAE: 12.077, R²: 0.158, TrainLoss: 0.0953, ValLoss: 0.1208\n"
     ]
    },
    {
     "name": "stderr",
     "output_type": "stream",
     "text": [
      "/tmp/ipykernel_14880/3713387577.py:141: FutureWarning: `torch.cuda.amp.autocast(args...)` is deprecated. Please use `torch.amp.autocast('cuda', args...)` instead.\n",
      "  with autocast():\n",
      "/tmp/ipykernel_14880/3713387577.py:168: FutureWarning: `torch.cuda.amp.autocast(args...)` is deprecated. Please use `torch.amp.autocast('cuda', args...)` instead.\n",
      "  with autocast():\n"
     ]
    },
    {
     "name": "stdout",
     "output_type": "stream",
     "text": [
      "🔍 [Run 4 | Epoch 21] MAE: 9.789, R²: 0.388, TrainLoss: 0.1395, ValLoss: 0.0979\n"
     ]
    },
    {
     "name": "stderr",
     "output_type": "stream",
     "text": [
      "/tmp/ipykernel_14880/3713387577.py:141: FutureWarning: `torch.cuda.amp.autocast(args...)` is deprecated. Please use `torch.amp.autocast('cuda', args...)` instead.\n",
      "  with autocast():\n",
      "/tmp/ipykernel_14880/3713387577.py:168: FutureWarning: `torch.cuda.amp.autocast(args...)` is deprecated. Please use `torch.amp.autocast('cuda', args...)` instead.\n",
      "  with autocast():\n"
     ]
    },
    {
     "name": "stdout",
     "output_type": "stream",
     "text": [
      "🔍 [Run 4 | Epoch 22] MAE: 13.062, R²: 0.007, TrainLoss: 0.0955, ValLoss: 0.1306\n"
     ]
    },
    {
     "name": "stderr",
     "output_type": "stream",
     "text": [
      "/tmp/ipykernel_14880/3713387577.py:141: FutureWarning: `torch.cuda.amp.autocast(args...)` is deprecated. Please use `torch.amp.autocast('cuda', args...)` instead.\n",
      "  with autocast():\n",
      "/tmp/ipykernel_14880/3713387577.py:168: FutureWarning: `torch.cuda.amp.autocast(args...)` is deprecated. Please use `torch.amp.autocast('cuda', args...)` instead.\n",
      "  with autocast():\n"
     ]
    },
    {
     "name": "stdout",
     "output_type": "stream",
     "text": [
      "🔍 [Run 4 | Epoch 23] MAE: 18.271, R²: -0.788, TrainLoss: 0.1201, ValLoss: 0.1827\n"
     ]
    },
    {
     "name": "stderr",
     "output_type": "stream",
     "text": [
      "/tmp/ipykernel_14880/3713387577.py:141: FutureWarning: `torch.cuda.amp.autocast(args...)` is deprecated. Please use `torch.amp.autocast('cuda', args...)` instead.\n",
      "  with autocast():\n",
      "/tmp/ipykernel_14880/3713387577.py:168: FutureWarning: `torch.cuda.amp.autocast(args...)` is deprecated. Please use `torch.amp.autocast('cuda', args...)` instead.\n",
      "  with autocast():\n"
     ]
    },
    {
     "name": "stdout",
     "output_type": "stream",
     "text": [
      "🔍 [Run 4 | Epoch 24] MAE: 10.549, R²: 0.300, TrainLoss: 0.1467, ValLoss: 0.1055\n"
     ]
    },
    {
     "name": "stderr",
     "output_type": "stream",
     "text": [
      "/tmp/ipykernel_14880/3713387577.py:141: FutureWarning: `torch.cuda.amp.autocast(args...)` is deprecated. Please use `torch.amp.autocast('cuda', args...)` instead.\n",
      "  with autocast():\n",
      "/tmp/ipykernel_14880/3713387577.py:168: FutureWarning: `torch.cuda.amp.autocast(args...)` is deprecated. Please use `torch.amp.autocast('cuda', args...)` instead.\n",
      "  with autocast():\n"
     ]
    },
    {
     "name": "stdout",
     "output_type": "stream",
     "text": [
      "🔍 [Run 4 | Epoch 25] MAE: 10.587, R²: 0.363, TrainLoss: 0.1019, ValLoss: 0.1058\n"
     ]
    },
    {
     "name": "stderr",
     "output_type": "stream",
     "text": [
      "/tmp/ipykernel_14880/3713387577.py:141: FutureWarning: `torch.cuda.amp.autocast(args...)` is deprecated. Please use `torch.amp.autocast('cuda', args...)` instead.\n",
      "  with autocast():\n",
      "/tmp/ipykernel_14880/3713387577.py:168: FutureWarning: `torch.cuda.amp.autocast(args...)` is deprecated. Please use `torch.amp.autocast('cuda', args...)` instead.\n",
      "  with autocast():\n"
     ]
    },
    {
     "name": "stdout",
     "output_type": "stream",
     "text": [
      "🔍 [Run 4 | Epoch 26] MAE: 18.042, R²: -1.010, TrainLoss: 0.1171, ValLoss: 0.1806\n"
     ]
    },
    {
     "name": "stderr",
     "output_type": "stream",
     "text": [
      "/tmp/ipykernel_14880/3713387577.py:141: FutureWarning: `torch.cuda.amp.autocast(args...)` is deprecated. Please use `torch.amp.autocast('cuda', args...)` instead.\n",
      "  with autocast():\n",
      "/tmp/ipykernel_14880/3713387577.py:168: FutureWarning: `torch.cuda.amp.autocast(args...)` is deprecated. Please use `torch.amp.autocast('cuda', args...)` instead.\n",
      "  with autocast():\n"
     ]
    },
    {
     "name": "stdout",
     "output_type": "stream",
     "text": [
      "🔍 [Run 4 | Epoch 27] MAE: 11.849, R²: 0.193, TrainLoss: 0.1378, ValLoss: 0.1185\n"
     ]
    },
    {
     "name": "stderr",
     "output_type": "stream",
     "text": [
      "/tmp/ipykernel_14880/3713387577.py:141: FutureWarning: `torch.cuda.amp.autocast(args...)` is deprecated. Please use `torch.amp.autocast('cuda', args...)` instead.\n",
      "  with autocast():\n",
      "/tmp/ipykernel_14880/3713387577.py:168: FutureWarning: `torch.cuda.amp.autocast(args...)` is deprecated. Please use `torch.amp.autocast('cuda', args...)` instead.\n",
      "  with autocast():\n"
     ]
    },
    {
     "name": "stdout",
     "output_type": "stream",
     "text": [
      "🔍 [Run 4 | Epoch 28] MAE: 10.105, R²: 0.420, TrainLoss: 0.0973, ValLoss: 0.1010\n",
      "🛑 Early stopping at epoch 28\n",
      "\n",
      "========== 🏁 Run 5/5 시작 ==========\n"
     ]
    },
    {
     "name": "stderr",
     "output_type": "stream",
     "text": [
      "/tmp/ipykernel_14880/3713387577.py:141: FutureWarning: `torch.cuda.amp.autocast(args...)` is deprecated. Please use `torch.amp.autocast('cuda', args...)` instead.\n",
      "  with autocast():\n",
      "/tmp/ipykernel_14880/3713387577.py:168: FutureWarning: `torch.cuda.amp.autocast(args...)` is deprecated. Please use `torch.amp.autocast('cuda', args...)` instead.\n",
      "  with autocast():\n"
     ]
    },
    {
     "name": "stdout",
     "output_type": "stream",
     "text": [
      "🔍 [Run 5 | Epoch 1] MAE: 51.710, R²: -9.539, TrainLoss: 0.8191, ValLoss: 0.5175\n"
     ]
    },
    {
     "name": "stderr",
     "output_type": "stream",
     "text": [
      "/tmp/ipykernel_14880/3713387577.py:141: FutureWarning: `torch.cuda.amp.autocast(args...)` is deprecated. Please use `torch.amp.autocast('cuda', args...)` instead.\n",
      "  with autocast():\n",
      "/tmp/ipykernel_14880/3713387577.py:168: FutureWarning: `torch.cuda.amp.autocast(args...)` is deprecated. Please use `torch.amp.autocast('cuda', args...)` instead.\n",
      "  with autocast():\n"
     ]
    },
    {
     "name": "stdout",
     "output_type": "stream",
     "text": [
      "🔍 [Run 5 | Epoch 2] MAE: 34.257, R²: -4.164, TrainLoss: 0.3237, ValLoss: 0.3429\n"
     ]
    },
    {
     "name": "stderr",
     "output_type": "stream",
     "text": [
      "/tmp/ipykernel_14880/3713387577.py:141: FutureWarning: `torch.cuda.amp.autocast(args...)` is deprecated. Please use `torch.amp.autocast('cuda', args...)` instead.\n",
      "  with autocast():\n",
      "/tmp/ipykernel_14880/3713387577.py:168: FutureWarning: `torch.cuda.amp.autocast(args...)` is deprecated. Please use `torch.amp.autocast('cuda', args...)` instead.\n",
      "  with autocast():\n"
     ]
    },
    {
     "name": "stdout",
     "output_type": "stream",
     "text": [
      "🔍 [Run 5 | Epoch 3] MAE: 14.127, R²: 0.030, TrainLoss: 0.2142, ValLoss: 0.1414\n"
     ]
    },
    {
     "name": "stderr",
     "output_type": "stream",
     "text": [
      "/tmp/ipykernel_14880/3713387577.py:141: FutureWarning: `torch.cuda.amp.autocast(args...)` is deprecated. Please use `torch.amp.autocast('cuda', args...)` instead.\n",
      "  with autocast():\n",
      "/tmp/ipykernel_14880/3713387577.py:168: FutureWarning: `torch.cuda.amp.autocast(args...)` is deprecated. Please use `torch.amp.autocast('cuda', args...)` instead.\n",
      "  with autocast():\n"
     ]
    },
    {
     "name": "stdout",
     "output_type": "stream",
     "text": [
      "🔍 [Run 5 | Epoch 4] MAE: 27.744, R²: -2.604, TrainLoss: 0.2276, ValLoss: 0.2777\n"
     ]
    },
    {
     "name": "stderr",
     "output_type": "stream",
     "text": [
      "/tmp/ipykernel_14880/3713387577.py:141: FutureWarning: `torch.cuda.amp.autocast(args...)` is deprecated. Please use `torch.amp.autocast('cuda', args...)` instead.\n",
      "  with autocast():\n",
      "/tmp/ipykernel_14880/3713387577.py:168: FutureWarning: `torch.cuda.amp.autocast(args...)` is deprecated. Please use `torch.amp.autocast('cuda', args...)` instead.\n",
      "  with autocast():\n"
     ]
    },
    {
     "name": "stdout",
     "output_type": "stream",
     "text": [
      "🔍 [Run 5 | Epoch 5] MAE: 19.158, R²: -1.041, TrainLoss: 0.2035, ValLoss: 0.1913\n"
     ]
    },
    {
     "name": "stderr",
     "output_type": "stream",
     "text": [
      "/tmp/ipykernel_14880/3713387577.py:141: FutureWarning: `torch.cuda.amp.autocast(args...)` is deprecated. Please use `torch.amp.autocast('cuda', args...)` instead.\n",
      "  with autocast():\n",
      "/tmp/ipykernel_14880/3713387577.py:168: FutureWarning: `torch.cuda.amp.autocast(args...)` is deprecated. Please use `torch.amp.autocast('cuda', args...)` instead.\n",
      "  with autocast():\n"
     ]
    },
    {
     "name": "stdout",
     "output_type": "stream",
     "text": [
      "🔍 [Run 5 | Epoch 6] MAE: 13.264, R²: -0.001, TrainLoss: 0.1759, ValLoss: 0.1328\n"
     ]
    },
    {
     "name": "stderr",
     "output_type": "stream",
     "text": [
      "/tmp/ipykernel_14880/3713387577.py:141: FutureWarning: `torch.cuda.amp.autocast(args...)` is deprecated. Please use `torch.amp.autocast('cuda', args...)` instead.\n",
      "  with autocast():\n",
      "/tmp/ipykernel_14880/3713387577.py:168: FutureWarning: `torch.cuda.amp.autocast(args...)` is deprecated. Please use `torch.amp.autocast('cuda', args...)` instead.\n",
      "  with autocast():\n"
     ]
    },
    {
     "name": "stdout",
     "output_type": "stream",
     "text": [
      "🔍 [Run 5 | Epoch 7] MAE: 24.522, R²: -1.909, TrainLoss: 0.1882, ValLoss: 0.2453\n"
     ]
    },
    {
     "name": "stderr",
     "output_type": "stream",
     "text": [
      "/tmp/ipykernel_14880/3713387577.py:141: FutureWarning: `torch.cuda.amp.autocast(args...)` is deprecated. Please use `torch.amp.autocast('cuda', args...)` instead.\n",
      "  with autocast():\n",
      "/tmp/ipykernel_14880/3713387577.py:168: FutureWarning: `torch.cuda.amp.autocast(args...)` is deprecated. Please use `torch.amp.autocast('cuda', args...)` instead.\n",
      "  with autocast():\n"
     ]
    },
    {
     "name": "stdout",
     "output_type": "stream",
     "text": [
      "🔍 [Run 5 | Epoch 8] MAE: 14.257, R²: -0.015, TrainLoss: 0.2019, ValLoss: 0.1425\n"
     ]
    },
    {
     "name": "stderr",
     "output_type": "stream",
     "text": [
      "/tmp/ipykernel_14880/3713387577.py:141: FutureWarning: `torch.cuda.amp.autocast(args...)` is deprecated. Please use `torch.amp.autocast('cuda', args...)` instead.\n",
      "  with autocast():\n",
      "/tmp/ipykernel_14880/3713387577.py:168: FutureWarning: `torch.cuda.amp.autocast(args...)` is deprecated. Please use `torch.amp.autocast('cuda', args...)` instead.\n",
      "  with autocast():\n"
     ]
    },
    {
     "name": "stdout",
     "output_type": "stream",
     "text": [
      "🔍 [Run 5 | Epoch 9] MAE: 13.229, R²: 0.089, TrainLoss: 0.2272, ValLoss: 0.1323\n"
     ]
    },
    {
     "name": "stderr",
     "output_type": "stream",
     "text": [
      "/tmp/ipykernel_14880/3713387577.py:141: FutureWarning: `torch.cuda.amp.autocast(args...)` is deprecated. Please use `torch.amp.autocast('cuda', args...)` instead.\n",
      "  with autocast():\n",
      "/tmp/ipykernel_14880/3713387577.py:168: FutureWarning: `torch.cuda.amp.autocast(args...)` is deprecated. Please use `torch.amp.autocast('cuda', args...)` instead.\n",
      "  with autocast():\n"
     ]
    },
    {
     "name": "stdout",
     "output_type": "stream",
     "text": [
      "🔍 [Run 5 | Epoch 10] MAE: 12.243, R²: 0.219, TrainLoss: 0.2053, ValLoss: 0.1224\n"
     ]
    },
    {
     "name": "stderr",
     "output_type": "stream",
     "text": [
      "/tmp/ipykernel_14880/3713387577.py:141: FutureWarning: `torch.cuda.amp.autocast(args...)` is deprecated. Please use `torch.amp.autocast('cuda', args...)` instead.\n",
      "  with autocast():\n",
      "/tmp/ipykernel_14880/3713387577.py:168: FutureWarning: `torch.cuda.amp.autocast(args...)` is deprecated. Please use `torch.amp.autocast('cuda', args...)` instead.\n",
      "  with autocast():\n"
     ]
    },
    {
     "name": "stdout",
     "output_type": "stream",
     "text": [
      "🔍 [Run 5 | Epoch 11] MAE: 22.671, R²: -1.456, TrainLoss: 0.1522, ValLoss: 0.2266\n"
     ]
    },
    {
     "name": "stderr",
     "output_type": "stream",
     "text": [
      "/tmp/ipykernel_14880/3713387577.py:141: FutureWarning: `torch.cuda.amp.autocast(args...)` is deprecated. Please use `torch.amp.autocast('cuda', args...)` instead.\n",
      "  with autocast():\n",
      "/tmp/ipykernel_14880/3713387577.py:168: FutureWarning: `torch.cuda.amp.autocast(args...)` is deprecated. Please use `torch.amp.autocast('cuda', args...)` instead.\n",
      "  with autocast():\n"
     ]
    },
    {
     "name": "stdout",
     "output_type": "stream",
     "text": [
      "🔍 [Run 5 | Epoch 12] MAE: 15.755, R²: -0.382, TrainLoss: 0.2047, ValLoss: 0.1577\n"
     ]
    },
    {
     "name": "stderr",
     "output_type": "stream",
     "text": [
      "/tmp/ipykernel_14880/3713387577.py:141: FutureWarning: `torch.cuda.amp.autocast(args...)` is deprecated. Please use `torch.amp.autocast('cuda', args...)` instead.\n",
      "  with autocast():\n",
      "/tmp/ipykernel_14880/3713387577.py:168: FutureWarning: `torch.cuda.amp.autocast(args...)` is deprecated. Please use `torch.amp.autocast('cuda', args...)` instead.\n",
      "  with autocast():\n"
     ]
    },
    {
     "name": "stdout",
     "output_type": "stream",
     "text": [
      "🔍 [Run 5 | Epoch 13] MAE: 17.382, R²: -0.613, TrainLoss: 0.1758, ValLoss: 0.1742\n"
     ]
    },
    {
     "name": "stderr",
     "output_type": "stream",
     "text": [
      "/tmp/ipykernel_14880/3713387577.py:141: FutureWarning: `torch.cuda.amp.autocast(args...)` is deprecated. Please use `torch.amp.autocast('cuda', args...)` instead.\n",
      "  with autocast():\n",
      "/tmp/ipykernel_14880/3713387577.py:168: FutureWarning: `torch.cuda.amp.autocast(args...)` is deprecated. Please use `torch.amp.autocast('cuda', args...)` instead.\n",
      "  with autocast():\n"
     ]
    },
    {
     "name": "stdout",
     "output_type": "stream",
     "text": [
      "🔍 [Run 5 | Epoch 14] MAE: 23.824, R²: -1.674, TrainLoss: 0.1656, ValLoss: 0.2385\n"
     ]
    },
    {
     "name": "stderr",
     "output_type": "stream",
     "text": [
      "/tmp/ipykernel_14880/3713387577.py:141: FutureWarning: `torch.cuda.amp.autocast(args...)` is deprecated. Please use `torch.amp.autocast('cuda', args...)` instead.\n",
      "  with autocast():\n",
      "/tmp/ipykernel_14880/3713387577.py:168: FutureWarning: `torch.cuda.amp.autocast(args...)` is deprecated. Please use `torch.amp.autocast('cuda', args...)` instead.\n",
      "  with autocast():\n"
     ]
    },
    {
     "name": "stdout",
     "output_type": "stream",
     "text": [
      "🔍 [Run 5 | Epoch 15] MAE: 15.262, R²: -0.237, TrainLoss: 0.1630, ValLoss: 0.1529\n"
     ]
    },
    {
     "name": "stderr",
     "output_type": "stream",
     "text": [
      "/tmp/ipykernel_14880/3713387577.py:141: FutureWarning: `torch.cuda.amp.autocast(args...)` is deprecated. Please use `torch.amp.autocast('cuda', args...)` instead.\n",
      "  with autocast():\n",
      "/tmp/ipykernel_14880/3713387577.py:168: FutureWarning: `torch.cuda.amp.autocast(args...)` is deprecated. Please use `torch.amp.autocast('cuda', args...)` instead.\n",
      "  with autocast():\n"
     ]
    },
    {
     "name": "stdout",
     "output_type": "stream",
     "text": [
      "🔍 [Run 5 | Epoch 16] MAE: 12.736, R²: -0.106, TrainLoss: 0.1490, ValLoss: 0.1274\n"
     ]
    },
    {
     "name": "stderr",
     "output_type": "stream",
     "text": [
      "/tmp/ipykernel_14880/3713387577.py:141: FutureWarning: `torch.cuda.amp.autocast(args...)` is deprecated. Please use `torch.amp.autocast('cuda', args...)` instead.\n",
      "  with autocast():\n",
      "/tmp/ipykernel_14880/3713387577.py:168: FutureWarning: `torch.cuda.amp.autocast(args...)` is deprecated. Please use `torch.amp.autocast('cuda', args...)` instead.\n",
      "  with autocast():\n"
     ]
    },
    {
     "name": "stdout",
     "output_type": "stream",
     "text": [
      "🔍 [Run 5 | Epoch 17] MAE: 19.263, R²: -0.842, TrainLoss: 0.1330, ValLoss: 0.1923\n",
      "🛑 Early stopping at epoch 17\n"
     ]
    },
    {
     "data": {
      "image/png": "[encoded data removed]",
      "text/plain": [
       "<Figure size 1000x500 with 1 Axes>"
      ]
     },
     "metadata": {},
     "output_type": "display_data"
    },
    {
     "data": {
      "image/png": "[encoded data removed]",
      "text/plain": [
       "<Figure size 1000x500 with 1 Axes>"
      ]
     },
     "metadata": {},
     "output_type": "display_data"
    }
   ],
   "source": [
    "import os\n",
    "import glob\n",
    "import pandas as pd\n",
    "import numpy as np\n",
    "import nibabel as nib\n",
    "from PIL import Image\n",
    "from sklearn.model_selection import train_test_split\n",
    "from sklearn.metrics import mean_absolute_error, r2_score\n",
    "import matplotlib.pyplot as plt\n",
    "\n",
    "import torch\n",
    "import torch.nn as nn\n",
    "from torch.utils.data import Dataset, DataLoader\n",
    "from torchvision import transforms\n",
    "import timm\n",
    "from torch.cuda.amp import autocast, GradScaler\n",
    "\n",
    "# 🔧 저장 경로 설정\n",
    "SAVE_DIR = \"./models/vitb16_ixi\"\n",
    "os.makedirs(SAVE_DIR, exist_ok=True)\n",
    "\n",
    "# 1. Load metadata\n",
    "print(\"📁 Loading IXI metadata...\")\n",
    "df_info = pd.read_excel(\"./IXI-T1/IXI.xls\", sheet_name=\"Table\")\n",
    "df_info[\"IXI_ID\"] = df_info[\"IXI_ID\"].apply(lambda x: f\"IXI{int(x):03d}\")\n",
    "df_info = df_info[[\"IXI_ID\", \"AGE\"]]\n",
    "\n",
    "if df_info[\"AGE\"].isna().sum() > 0:\n",
    "    print(f\"⚠️ AGE 컬럼에 NaN 존재 → {df_info['AGE'].isna().sum()}개 행 제거합니다.\")\n",
    "    df_info = df_info.dropna(subset=[\"AGE\"])\n",
    "\n",
    "nifti_paths = sorted(glob.glob(\"./IXI-T1/*.nii.gz\"))\n",
    "records = []\n",
    "for path in nifti_paths:\n",
    "    basename = os.path.basename(path)\n",
    "    ixid = basename.split(\"-\")[0]\n",
    "    age_row = df_info[df_info[\"IXI_ID\"] == ixid]\n",
    "    if not age_row.empty:\n",
    "        age = age_row.iloc[0][\"AGE\"]\n",
    "        records.append({\"path\": path, \"IXI_ID\": ixid, \"AGE\": age})\n",
    "df = pd.DataFrame(records)\n",
    "print(f\"✅ 매칭된 샘플 수: {len(df)}\")\n",
    "\n",
    "# 2. Dataset\n",
    "class IXIAgeDataset(Dataset):\n",
    "    def __init__(self, df, transform=None, num_slices=40, resolution=(192, 192)):\n",
    "        self.df = df\n",
    "        self.num_slices = num_slices\n",
    "        self.resolution = resolution\n",
    "        self.transform = transform or transforms.Compose([\n",
    "            transforms.Resize(self.resolution),\n",
    "            transforms.ToTensor(),\n",
    "            transforms.Normalize([0.485], [0.229]),\n",
    "        ])\n",
    "\n",
    "    def __len__(self):\n",
    "        return len(self.df)\n",
    "\n",
    "    def __getitem__(self, idx):\n",
    "        row = self.df.iloc[idx]\n",
    "        img = nib.load(row[\"path\"]).get_fdata()\n",
    "        z_center = img.shape[2] // 2\n",
    "        half = self.num_slices // 2\n",
    "        slice_indices = list(range(z_center - half, z_center + half))\n",
    "\n",
    "        slices = []\n",
    "        for z in slice_indices:\n",
    "            if z < 0 or z >= img.shape[2]:\n",
    "                slice_img = np.zeros_like(img[:, :, 0], dtype=np.float32)\n",
    "            else:\n",
    "                slice_img = img[:, :, z]\n",
    "                if slice_img.max() != slice_img.min():\n",
    "                    slice_img = ((slice_img - slice_img.min()) / (slice_img.max() - slice_img.min())).astype(np.float32)\n",
    "                else:\n",
    "                    slice_img = np.zeros_like(slice_img, dtype=np.float32)\n",
    "\n",
    "            pil_img = Image.fromarray((slice_img * 255).astype(np.uint8)).convert(\"L\")\n",
    "            tensor_img = self.transform(pil_img)\n",
    "            slices.append(tensor_img)\n",
    "\n",
    "        stack_tensor = torch.stack(slices, dim=0).squeeze(1)  # (num_slices, H, W)\n",
    "        age = torch.tensor(row[\"AGE\"] / 100.0, dtype=torch.float32)\n",
    "        return stack_tensor, age\n",
    "\n",
    "\n",
    "# 3. ViT 모델 정의\n",
    "class ViTRegressor(nn.Module):\n",
    "    def __init__(self):\n",
    "        super().__init__()\n",
    "        self.backbone = timm.create_model('vit_base_patch16_224', pretrained=True, num_classes=1)\n",
    "\n",
    "    def forward(self, x):\n",
    "        return self.backbone(x).squeeze(1)\n",
    "\n",
    "# 4. 학습 설정\n",
    "device = torch.device(\"cuda\" if torch.cuda.is_available() else \"cpu\")\n",
    "print(f\"🖥️ Using device: {device}\")\n",
    "\n",
    "mae_list = []\n",
    "r2_list = []\n",
    "global_best_mae = float('inf')\n",
    "global_best_model_state = None\n",
    "scaler = GradScaler()\n",
    "\n",
    "# 5. 하이퍼파라미터 설정\n",
    "batch_size = 10\n",
    "num_epochs = 500\n",
    "num_slices = 30\n",
    "image_resolution = (224, 224)  # ViT는 224 고정\n",
    "\n",
    "# 6. 5번 반복 학습\n",
    "for run in range(5):\n",
    "    print(f\"\\n========== 🏁 Run {run+1}/5 시작 ==========\")\n",
    "    train_df, val_df = train_test_split(df, test_size=0.3, random_state=run)\n",
    "\n",
    "    train_set = IXIAgeDataset(train_df, num_slices=num_slices, resolution=image_resolution)\n",
    "    val_set = IXIAgeDataset(val_df, num_slices=num_slices, resolution=image_resolution)\n",
    "    train_loader = DataLoader(train_set, batch_size=batch_size, shuffle=True, num_workers=4, pin_memory=True)\n",
    "    val_loader = DataLoader(val_set, batch_size=batch_size, num_workers=4, pin_memory=True)\n",
    "\n",
    "    model = ViTRegressor().to(device)\n",
    "    optimizer = torch.optim.AdamW(model.parameters(), lr=1e-4)\n",
    "    criterion = nn.L1Loss()\n",
    "\n",
    "    best_mae = float('inf')\n",
    "    best_model_path = os.path.join(SAVE_DIR, f\"best_model_run{run+1}.pt\")\n",
    "    patience = 7\n",
    "    patience_counter = 0\n",
    "\n",
    "    train_losses = []\n",
    "    val_losses = []\n",
    "\n",
    "    for epoch in range(num_epochs):\n",
    "        model.train()\n",
    "        total_loss = 0\n",
    "        for batch_idx, (x, y) in enumerate(train_loader):\n",
    "            x, y = x.to(device), y.to(device)\n",
    "            B, S, H, W = x.shape\n",
    "            x = x.view(B * S, 1, H, W).repeat(1, 3, 1, 1)\n",
    "\n",
    "            with autocast():\n",
    "                pred = model(x).view(B, S).mean(dim=1)\n",
    "                loss = criterion(pred, y)\n",
    "\n",
    "            if torch.isnan(loss):\n",
    "                continue\n",
    "\n",
    "            optimizer.zero_grad()\n",
    "            scaler.scale(loss).backward()\n",
    "            torch.nn.utils.clip_grad_norm_(model.parameters(), max_norm=1.0)\n",
    "            scaler.step(optimizer)\n",
    "            scaler.update()\n",
    "\n",
    "            total_loss += loss.item()\n",
    "\n",
    "        train_losses.append(total_loss / len(train_loader))\n",
    "        \n",
    "\n",
    "        model.eval()\n",
    "        preds = []\n",
    "        trues = []\n",
    "        val_loss_total = 0\n",
    "        with torch.no_grad():\n",
    "            for x, y in val_loader:\n",
    "                x, y = x.to(device), y.to(device)\n",
    "                B, S, H, W = x.shape\n",
    "                x = x.view(B * S, 1, H, W).repeat(1, 3, 1, 1)\n",
    "                with autocast():\n",
    "                    pred = model(x).view(B, S).mean(dim=1)\n",
    "                    loss = criterion(pred, y)\n",
    "                val_loss_total += loss.item()\n",
    "                preds.extend((pred * 100).cpu().numpy())\n",
    "                trues.extend((y * 100).cpu().numpy())\n",
    "\n",
    "        val_losses.append(val_loss_total / len(val_loader))\n",
    "\n",
    "        mae = mean_absolute_error(trues, preds)\n",
    "        r2 = r2_score(trues, preds)\n",
    "        print(f\"🔍 [Run {run+1} | Epoch {epoch+1}] MAE: {mae:.3f}, R²: {r2:.3f}, TrainLoss: {train_losses[-1]:.4f}, ValLoss: {val_losses[-1]:.4f}\")\n",
    "\n",
    "        if mae < best_mae:\n",
    "            best_mae = mae\n",
    "            patience_counter = 0\n",
    "            torch.save(model.state_dict(), best_model_path)\n",
    "        else:\n",
    "            patience_counter += 1\n",
    "\n",
    "        if patience_counter >= patience:\n",
    "            print(f\"🛑 Early stopping at epoch {epoch+1}\")\n",
    "            break\n",
    "\n",
    "    if best_mae < global_best_mae:\n",
    "        global_best_mae = best_mae\n",
    "        global_best_model_state = model.state_dict()\n",
    "        best_run_id = run + 1\n",
    "\n",
    "    mae_list.append(best_mae)\n",
    "    r2_list.append(r2)\n",
    "\n",
    "    # 🎨 개별 run의 학습 곡선 저장\n",
    "    plt.figure(figsize=(10, 5))\n",
    "    plt.plot(train_losses, label='Train Loss')\n",
    "    plt.plot(val_losses, label='Val Loss')\n",
    "    plt.title(f\"Train vs Val Loss (Run {run+1})\")\n",
    "    plt.xlabel(\"Epoch\")\n",
    "    plt.ylabel(\"Loss\")\n",
    "    plt.legend()\n",
    "    plt.grid(True)\n",
    "    plt.savefig(os.path.join(SAVE_DIR, f\"loss_curve_run{run+1}.png\"))\n",
    "    plt.close()\n",
    "\n",
    "# 7. 전체 최고 모델 저장\n",
    "torch.save(global_best_model_state, os.path.join(SAVE_DIR, \"best_model_overall.pt\"))\n",
    "\n",
    "# 8. 성능 요약 시각화\n",
    "plt.figure(figsize=(10,5))\n",
    "plt.plot(mae_list, marker='o', label='MAE')\n",
    "plt.title(\"MAE over 5 Random Splits\")\n",
    "plt.xlabel(\"Run\")\n",
    "plt.ylabel(\"MAE\")\n",
    "plt.legend()\n",
    "plt.grid(True)\n",
    "plt.savefig(os.path.join(SAVE_DIR, \"mae_plot.png\"))\n",
    "plt.show()\n",
    "\n",
    "plt.figure(figsize=(10,5))\n",
    "plt.plot(r2_list, marker='s', label='R²')\n",
    "plt.title(\"R² Score over 5 Random Splits\")\n",
    "plt.xlabel(\"Run\")\n",
    "plt.ylabel(\"R² Score\")\n",
    "plt.legend()\n",
    "plt.grid(True)\n",
    "plt.savefig(os.path.join(SAVE_DIR, \"r2_plot.png\"))\n",
    "plt.show()\n"
   ]
  },
  {
   "cell_type": "code",
   "execution_count": 2,
   "id": "d6b05e2f-c0ea-4841-8688-3b6dbe16da77",
   "metadata": {},
   "outputs": [
    {
     "name": "stdout",
     "output_type": "stream",
     "text": [
      "📁 Loading IXI metadata...\n",
      "⚠️ AGE 컬럼에 NaN 존재 → 29개 행 제거합니다.\n",
      "✅ 매칭된 샜항 수: 563\n",
      "📠️ Using device: cuda\n",
      "\n",
      "========== 🏁 Run 1/5 시작 ==========\n"
     ]
    },
    {
     "name": "stderr",
     "output_type": "stream",
     "text": [
      "/tmp/ipykernel_14880/3009099444.py:103: FutureWarning: `torch.cuda.amp.GradScaler(args...)` is deprecated. Please use `torch.amp.GradScaler('cuda', args...)` instead.\n",
      "  scaler = GradScaler()\n",
      "/tmp/ipykernel_14880/3009099444.py:141: FutureWarning: `torch.cuda.amp.autocast(args...)` is deprecated. Please use `torch.amp.autocast('cuda', args...)` instead.\n",
      "  with autocast():\n",
      "/tmp/ipykernel_14880/3009099444.py:167: FutureWarning: `torch.cuda.amp.autocast(args...)` is deprecated. Please use `torch.amp.autocast('cuda', args...)` instead.\n",
      "  with autocast():\n"
     ]
    },
    {
     "name": "stdout",
     "output_type": "stream",
     "text": [
      "🔍 [Run 1 | Epoch 1] MAE: 13.726, R²: -0.007, TrainLoss: 0.4846, ValLoss: 0.1375\n"
     ]
    },
    {
     "name": "stderr",
     "output_type": "stream",
     "text": [
      "/tmp/ipykernel_14880/3009099444.py:141: FutureWarning: `torch.cuda.amp.autocast(args...)` is deprecated. Please use `torch.amp.autocast('cuda', args...)` instead.\n",
      "  with autocast():\n",
      "/tmp/ipykernel_14880/3009099444.py:167: FutureWarning: `torch.cuda.amp.autocast(args...)` is deprecated. Please use `torch.amp.autocast('cuda', args...)` instead.\n",
      "  with autocast():\n"
     ]
    },
    {
     "name": "stdout",
     "output_type": "stream",
     "text": [
      "🔍 [Run 1 | Epoch 2] MAE: 27.535, R²: -2.781, TrainLoss: 0.1663, ValLoss: 0.2748\n"
     ]
    },
    {
     "name": "stderr",
     "output_type": "stream",
     "text": [
      "/tmp/ipykernel_14880/3009099444.py:141: FutureWarning: `torch.cuda.amp.autocast(args...)` is deprecated. Please use `torch.amp.autocast('cuda', args...)` instead.\n",
      "  with autocast():\n",
      "/tmp/ipykernel_14880/3009099444.py:167: FutureWarning: `torch.cuda.amp.autocast(args...)` is deprecated. Please use `torch.amp.autocast('cuda', args...)` instead.\n",
      "  with autocast():\n"
     ]
    },
    {
     "name": "stdout",
     "output_type": "stream",
     "text": [
      "🔍 [Run 1 | Epoch 3] MAE: 14.860, R²: -0.213, TrainLoss: 0.1714, ValLoss: 0.1490\n"
     ]
    },
    {
     "name": "stderr",
     "output_type": "stream",
     "text": [
      "/tmp/ipykernel_14880/3009099444.py:141: FutureWarning: `torch.cuda.amp.autocast(args...)` is deprecated. Please use `torch.amp.autocast('cuda', args...)` instead.\n",
      "  with autocast():\n",
      "/tmp/ipykernel_14880/3009099444.py:167: FutureWarning: `torch.cuda.amp.autocast(args...)` is deprecated. Please use `torch.amp.autocast('cuda', args...)` instead.\n",
      "  with autocast():\n"
     ]
    },
    {
     "name": "stdout",
     "output_type": "stream",
     "text": [
      "🔍 [Run 1 | Epoch 4] MAE: 16.772, R²: -0.623, TrainLoss: 0.1574, ValLoss: 0.1675\n"
     ]
    },
    {
     "name": "stderr",
     "output_type": "stream",
     "text": [
      "/tmp/ipykernel_14880/3009099444.py:141: FutureWarning: `torch.cuda.amp.autocast(args...)` is deprecated. Please use `torch.amp.autocast('cuda', args...)` instead.\n",
      "  with autocast():\n",
      "/tmp/ipykernel_14880/3009099444.py:167: FutureWarning: `torch.cuda.amp.autocast(args...)` is deprecated. Please use `torch.amp.autocast('cuda', args...)` instead.\n",
      "  with autocast():\n"
     ]
    },
    {
     "name": "stdout",
     "output_type": "stream",
     "text": [
      "🔍 [Run 1 | Epoch 5] MAE: 14.062, R²: -0.122, TrainLoss: 0.1495, ValLoss: 0.1410\n"
     ]
    },
    {
     "name": "stderr",
     "output_type": "stream",
     "text": [
      "/tmp/ipykernel_14880/3009099444.py:141: FutureWarning: `torch.cuda.amp.autocast(args...)` is deprecated. Please use `torch.amp.autocast('cuda', args...)` instead.\n",
      "  with autocast():\n",
      "/tmp/ipykernel_14880/3009099444.py:167: FutureWarning: `torch.cuda.amp.autocast(args...)` is deprecated. Please use `torch.amp.autocast('cuda', args...)` instead.\n",
      "  with autocast():\n"
     ]
    },
    {
     "name": "stdout",
     "output_type": "stream",
     "text": [
      "🔍 [Run 1 | Epoch 6] MAE: 13.693, R²: -0.115, TrainLoss: 0.1618, ValLoss: 0.1368\n"
     ]
    },
    {
     "name": "stderr",
     "output_type": "stream",
     "text": [
      "/tmp/ipykernel_14880/3009099444.py:141: FutureWarning: `torch.cuda.amp.autocast(args...)` is deprecated. Please use `torch.amp.autocast('cuda', args...)` instead.\n",
      "  with autocast():\n",
      "/tmp/ipykernel_14880/3009099444.py:167: FutureWarning: `torch.cuda.amp.autocast(args...)` is deprecated. Please use `torch.amp.autocast('cuda', args...)` instead.\n",
      "  with autocast():\n"
     ]
    },
    {
     "name": "stdout",
     "output_type": "stream",
     "text": [
      "🔍 [Run 1 | Epoch 7] MAE: 11.348, R²: 0.253, TrainLoss: 0.1434, ValLoss: 0.1137\n"
     ]
    },
    {
     "name": "stderr",
     "output_type": "stream",
     "text": [
      "/tmp/ipykernel_14880/3009099444.py:141: FutureWarning: `torch.cuda.amp.autocast(args...)` is deprecated. Please use `torch.amp.autocast('cuda', args...)` instead.\n",
      "  with autocast():\n",
      "/tmp/ipykernel_14880/3009099444.py:167: FutureWarning: `torch.cuda.amp.autocast(args...)` is deprecated. Please use `torch.amp.autocast('cuda', args...)` instead.\n",
      "  with autocast():\n"
     ]
    },
    {
     "name": "stdout",
     "output_type": "stream",
     "text": [
      "🔍 [Run 1 | Epoch 8] MAE: 15.112, R²: -0.235, TrainLoss: 0.1635, ValLoss: 0.1509\n"
     ]
    },
    {
     "name": "stderr",
     "output_type": "stream",
     "text": [
      "/tmp/ipykernel_14880/3009099444.py:141: FutureWarning: `torch.cuda.amp.autocast(args...)` is deprecated. Please use `torch.amp.autocast('cuda', args...)` instead.\n",
      "  with autocast():\n",
      "/tmp/ipykernel_14880/3009099444.py:167: FutureWarning: `torch.cuda.amp.autocast(args...)` is deprecated. Please use `torch.amp.autocast('cuda', args...)` instead.\n",
      "  with autocast():\n"
     ]
    },
    {
     "name": "stdout",
     "output_type": "stream",
     "text": [
      "🔍 [Run 1 | Epoch 9] MAE: 15.393, R²: -0.356, TrainLoss: 0.1279, ValLoss: 0.1537\n"
     ]
    },
    {
     "name": "stderr",
     "output_type": "stream",
     "text": [
      "/tmp/ipykernel_14880/3009099444.py:141: FutureWarning: `torch.cuda.amp.autocast(args...)` is deprecated. Please use `torch.amp.autocast('cuda', args...)` instead.\n",
      "  with autocast():\n",
      "/tmp/ipykernel_14880/3009099444.py:167: FutureWarning: `torch.cuda.amp.autocast(args...)` is deprecated. Please use `torch.amp.autocast('cuda', args...)` instead.\n",
      "  with autocast():\n"
     ]
    },
    {
     "name": "stdout",
     "output_type": "stream",
     "text": [
      "🔍 [Run 1 | Epoch 10] MAE: 17.409, R²: -0.549, TrainLoss: 0.1333, ValLoss: 0.1744\n"
     ]
    },
    {
     "name": "stderr",
     "output_type": "stream",
     "text": [
      "/tmp/ipykernel_14880/3009099444.py:141: FutureWarning: `torch.cuda.amp.autocast(args...)` is deprecated. Please use `torch.amp.autocast('cuda', args...)` instead.\n",
      "  with autocast():\n",
      "/tmp/ipykernel_14880/3009099444.py:167: FutureWarning: `torch.cuda.amp.autocast(args...)` is deprecated. Please use `torch.amp.autocast('cuda', args...)` instead.\n",
      "  with autocast():\n"
     ]
    },
    {
     "name": "stdout",
     "output_type": "stream",
     "text": [
      "🔍 [Run 1 | Epoch 11] MAE: 10.776, R²: 0.305, TrainLoss: 0.1080, ValLoss: 0.1078\n"
     ]
    },
    {
     "name": "stderr",
     "output_type": "stream",
     "text": [
      "/tmp/ipykernel_14880/3009099444.py:141: FutureWarning: `torch.cuda.amp.autocast(args...)` is deprecated. Please use `torch.amp.autocast('cuda', args...)` instead.\n",
      "  with autocast():\n",
      "/tmp/ipykernel_14880/3009099444.py:167: FutureWarning: `torch.cuda.amp.autocast(args...)` is deprecated. Please use `torch.amp.autocast('cuda', args...)` instead.\n",
      "  with autocast():\n"
     ]
    },
    {
     "name": "stdout",
     "output_type": "stream",
     "text": [
      "🔍 [Run 1 | Epoch 12] MAE: 11.494, R²: 0.221, TrainLoss: 0.1023, ValLoss: 0.1147\n"
     ]
    },
    {
     "name": "stderr",
     "output_type": "stream",
     "text": [
      "/tmp/ipykernel_14880/3009099444.py:141: FutureWarning: `torch.cuda.amp.autocast(args...)` is deprecated. Please use `torch.amp.autocast('cuda', args...)` instead.\n",
      "  with autocast():\n",
      "/tmp/ipykernel_14880/3009099444.py:167: FutureWarning: `torch.cuda.amp.autocast(args...)` is deprecated. Please use `torch.amp.autocast('cuda', args...)` instead.\n",
      "  with autocast():\n"
     ]
    },
    {
     "name": "stdout",
     "output_type": "stream",
     "text": [
      "🔍 [Run 1 | Epoch 13] MAE: 8.076, R²: 0.564, TrainLoss: 0.0771, ValLoss: 0.0807\n"
     ]
    },
    {
     "name": "stderr",
     "output_type": "stream",
     "text": [
      "/tmp/ipykernel_14880/3009099444.py:141: FutureWarning: `torch.cuda.amp.autocast(args...)` is deprecated. Please use `torch.amp.autocast('cuda', args...)` instead.\n",
      "  with autocast():\n",
      "/tmp/ipykernel_14880/3009099444.py:167: FutureWarning: `torch.cuda.amp.autocast(args...)` is deprecated. Please use `torch.amp.autocast('cuda', args...)` instead.\n",
      "  with autocast():\n"
     ]
    },
    {
     "name": "stdout",
     "output_type": "stream",
     "text": [
      "🔍 [Run 1 | Epoch 14] MAE: 11.449, R²: 0.279, TrainLoss: 0.0752, ValLoss: 0.1142\n"
     ]
    },
    {
     "name": "stderr",
     "output_type": "stream",
     "text": [
      "/tmp/ipykernel_14880/3009099444.py:141: FutureWarning: `torch.cuda.amp.autocast(args...)` is deprecated. Please use `torch.amp.autocast('cuda', args...)` instead.\n",
      "  with autocast():\n",
      "/tmp/ipykernel_14880/3009099444.py:167: FutureWarning: `torch.cuda.amp.autocast(args...)` is deprecated. Please use `torch.amp.autocast('cuda', args...)` instead.\n",
      "  with autocast():\n"
     ]
    },
    {
     "name": "stdout",
     "output_type": "stream",
     "text": [
      "🔍 [Run 1 | Epoch 15] MAE: 10.414, R²: 0.357, TrainLoss: 0.1008, ValLoss: 0.1043\n"
     ]
    },
    {
     "name": "stderr",
     "output_type": "stream",
     "text": [
      "/tmp/ipykernel_14880/3009099444.py:141: FutureWarning: `torch.cuda.amp.autocast(args...)` is deprecated. Please use `torch.amp.autocast('cuda', args...)` instead.\n",
      "  with autocast():\n",
      "/tmp/ipykernel_14880/3009099444.py:167: FutureWarning: `torch.cuda.amp.autocast(args...)` is deprecated. Please use `torch.amp.autocast('cuda', args...)` instead.\n",
      "  with autocast():\n"
     ]
    },
    {
     "name": "stdout",
     "output_type": "stream",
     "text": [
      "🔍 [Run 1 | Epoch 16] MAE: 18.221, R²: -0.555, TrainLoss: 0.0702, ValLoss: 0.1825\n"
     ]
    },
    {
     "name": "stderr",
     "output_type": "stream",
     "text": [
      "/tmp/ipykernel_14880/3009099444.py:141: FutureWarning: `torch.cuda.amp.autocast(args...)` is deprecated. Please use `torch.amp.autocast('cuda', args...)` instead.\n",
      "  with autocast():\n",
      "/tmp/ipykernel_14880/3009099444.py:167: FutureWarning: `torch.cuda.amp.autocast(args...)` is deprecated. Please use `torch.amp.autocast('cuda', args...)` instead.\n",
      "  with autocast():\n"
     ]
    },
    {
     "name": "stdout",
     "output_type": "stream",
     "text": [
      "🔍 [Run 1 | Epoch 17] MAE: 10.166, R²: 0.418, TrainLoss: 0.1042, ValLoss: 0.1019\n"
     ]
    },
    {
     "name": "stderr",
     "output_type": "stream",
     "text": [
      "/tmp/ipykernel_14880/3009099444.py:141: FutureWarning: `torch.cuda.amp.autocast(args...)` is deprecated. Please use `torch.amp.autocast('cuda', args...)` instead.\n",
      "  with autocast():\n",
      "/tmp/ipykernel_14880/3009099444.py:167: FutureWarning: `torch.cuda.amp.autocast(args...)` is deprecated. Please use `torch.amp.autocast('cuda', args...)` instead.\n",
      "  with autocast():\n"
     ]
    },
    {
     "name": "stdout",
     "output_type": "stream",
     "text": [
      "🔍 [Run 1 | Epoch 18] MAE: 7.268, R²: 0.698, TrainLoss: 0.1099, ValLoss: 0.0726\n"
     ]
    },
    {
     "name": "stderr",
     "output_type": "stream",
     "text": [
      "/tmp/ipykernel_14880/3009099444.py:141: FutureWarning: `torch.cuda.amp.autocast(args...)` is deprecated. Please use `torch.amp.autocast('cuda', args...)` instead.\n",
      "  with autocast():\n",
      "/tmp/ipykernel_14880/3009099444.py:167: FutureWarning: `torch.cuda.amp.autocast(args...)` is deprecated. Please use `torch.amp.autocast('cuda', args...)` instead.\n",
      "  with autocast():\n"
     ]
    },
    {
     "name": "stdout",
     "output_type": "stream",
     "text": [
      "🔍 [Run 1 | Epoch 19] MAE: 8.656, R²: 0.550, TrainLoss: 0.0605, ValLoss: 0.0868\n"
     ]
    },
    {
     "name": "stderr",
     "output_type": "stream",
     "text": [
      "/tmp/ipykernel_14880/3009099444.py:141: FutureWarning: `torch.cuda.amp.autocast(args...)` is deprecated. Please use `torch.amp.autocast('cuda', args...)` instead.\n",
      "  with autocast():\n",
      "/tmp/ipykernel_14880/3009099444.py:167: FutureWarning: `torch.cuda.amp.autocast(args...)` is deprecated. Please use `torch.amp.autocast('cuda', args...)` instead.\n",
      "  with autocast():\n"
     ]
    },
    {
     "name": "stdout",
     "output_type": "stream",
     "text": [
      "🔍 [Run 1 | Epoch 20] MAE: 6.716, R²: 0.730, TrainLoss: 0.0689, ValLoss: 0.0671\n"
     ]
    },
    {
     "name": "stderr",
     "output_type": "stream",
     "text": [
      "/tmp/ipykernel_14880/3009099444.py:141: FutureWarning: `torch.cuda.amp.autocast(args...)` is deprecated. Please use `torch.amp.autocast('cuda', args...)` instead.\n",
      "  with autocast():\n",
      "/tmp/ipykernel_14880/3009099444.py:167: FutureWarning: `torch.cuda.amp.autocast(args...)` is deprecated. Please use `torch.amp.autocast('cuda', args...)` instead.\n",
      "  with autocast():\n"
     ]
    },
    {
     "name": "stdout",
     "output_type": "stream",
     "text": [
      "🔍 [Run 1 | Epoch 21] MAE: 6.325, R²: 0.743, TrainLoss: 0.0668, ValLoss: 0.0633\n"
     ]
    },
    {
     "name": "stderr",
     "output_type": "stream",
     "text": [
      "/tmp/ipykernel_14880/3009099444.py:141: FutureWarning: `torch.cuda.amp.autocast(args...)` is deprecated. Please use `torch.amp.autocast('cuda', args...)` instead.\n",
      "  with autocast():\n",
      "/tmp/ipykernel_14880/3009099444.py:167: FutureWarning: `torch.cuda.amp.autocast(args...)` is deprecated. Please use `torch.amp.autocast('cuda', args...)` instead.\n",
      "  with autocast():\n"
     ]
    },
    {
     "name": "stdout",
     "output_type": "stream",
     "text": [
      "🔍 [Run 1 | Epoch 22] MAE: 11.845, R²: 0.244, TrainLoss: 0.0654, ValLoss: 0.1187\n"
     ]
    },
    {
     "name": "stderr",
     "output_type": "stream",
     "text": [
      "/tmp/ipykernel_14880/3009099444.py:141: FutureWarning: `torch.cuda.amp.autocast(args...)` is deprecated. Please use `torch.amp.autocast('cuda', args...)` instead.\n",
      "  with autocast():\n",
      "/tmp/ipykernel_14880/3009099444.py:167: FutureWarning: `torch.cuda.amp.autocast(args...)` is deprecated. Please use `torch.amp.autocast('cuda', args...)` instead.\n",
      "  with autocast():\n"
     ]
    },
    {
     "name": "stdout",
     "output_type": "stream",
     "text": [
      "🔍 [Run 1 | Epoch 23] MAE: 6.539, R²: 0.734, TrainLoss: 0.0588, ValLoss: 0.0653\n"
     ]
    },
    {
     "name": "stderr",
     "output_type": "stream",
     "text": [
      "/tmp/ipykernel_14880/3009099444.py:141: FutureWarning: `torch.cuda.amp.autocast(args...)` is deprecated. Please use `torch.amp.autocast('cuda', args...)` instead.\n",
      "  with autocast():\n",
      "/tmp/ipykernel_14880/3009099444.py:167: FutureWarning: `torch.cuda.amp.autocast(args...)` is deprecated. Please use `torch.amp.autocast('cuda', args...)` instead.\n",
      "  with autocast():\n"
     ]
    },
    {
     "name": "stdout",
     "output_type": "stream",
     "text": [
      "🔍 [Run 1 | Epoch 24] MAE: 9.476, R²: 0.516, TrainLoss: 0.0668, ValLoss: 0.0945\n"
     ]
    },
    {
     "name": "stderr",
     "output_type": "stream",
     "text": [
      "/tmp/ipykernel_14880/3009099444.py:141: FutureWarning: `torch.cuda.amp.autocast(args...)` is deprecated. Please use `torch.amp.autocast('cuda', args...)` instead.\n",
      "  with autocast():\n",
      "/tmp/ipykernel_14880/3009099444.py:167: FutureWarning: `torch.cuda.amp.autocast(args...)` is deprecated. Please use `torch.amp.autocast('cuda', args...)` instead.\n",
      "  with autocast():\n"
     ]
    },
    {
     "name": "stdout",
     "output_type": "stream",
     "text": [
      "🔍 [Run 1 | Epoch 25] MAE: 12.562, R²: 0.173, TrainLoss: 0.0605, ValLoss: 0.1259\n"
     ]
    },
    {
     "name": "stderr",
     "output_type": "stream",
     "text": [
      "/tmp/ipykernel_14880/3009099444.py:141: FutureWarning: `torch.cuda.amp.autocast(args...)` is deprecated. Please use `torch.amp.autocast('cuda', args...)` instead.\n",
      "  with autocast():\n",
      "/tmp/ipykernel_14880/3009099444.py:167: FutureWarning: `torch.cuda.amp.autocast(args...)` is deprecated. Please use `torch.amp.autocast('cuda', args...)` instead.\n",
      "  with autocast():\n"
     ]
    },
    {
     "name": "stdout",
     "output_type": "stream",
     "text": [
      "🔍 [Run 1 | Epoch 26] MAE: 6.521, R²: 0.733, TrainLoss: 0.0672, ValLoss: 0.0651\n"
     ]
    },
    {
     "name": "stderr",
     "output_type": "stream",
     "text": [
      "/tmp/ipykernel_14880/3009099444.py:141: FutureWarning: `torch.cuda.amp.autocast(args...)` is deprecated. Please use `torch.amp.autocast('cuda', args...)` instead.\n",
      "  with autocast():\n",
      "/tmp/ipykernel_14880/3009099444.py:167: FutureWarning: `torch.cuda.amp.autocast(args...)` is deprecated. Please use `torch.amp.autocast('cuda', args...)` instead.\n",
      "  with autocast():\n"
     ]
    },
    {
     "name": "stdout",
     "output_type": "stream",
     "text": [
      "🔍 [Run 1 | Epoch 27] MAE: 6.438, R²: 0.733, TrainLoss: 0.0459, ValLoss: 0.0643\n"
     ]
    },
    {
     "name": "stderr",
     "output_type": "stream",
     "text": [
      "/tmp/ipykernel_14880/3009099444.py:141: FutureWarning: `torch.cuda.amp.autocast(args...)` is deprecated. Please use `torch.amp.autocast('cuda', args...)` instead.\n",
      "  with autocast():\n",
      "/tmp/ipykernel_14880/3009099444.py:167: FutureWarning: `torch.cuda.amp.autocast(args...)` is deprecated. Please use `torch.amp.autocast('cuda', args...)` instead.\n",
      "  with autocast():\n"
     ]
    },
    {
     "name": "stdout",
     "output_type": "stream",
     "text": [
      "🔍 [Run 1 | Epoch 28] MAE: 8.250, R²: 0.606, TrainLoss: 0.0627, ValLoss: 0.0827\n",
      "🚑 Early stopping at epoch 28\n",
      "\n",
      "========== 🏁 Run 2/5 시작 ==========\n"
     ]
    },
    {
     "name": "stderr",
     "output_type": "stream",
     "text": [
      "/tmp/ipykernel_14880/3009099444.py:141: FutureWarning: `torch.cuda.amp.autocast(args...)` is deprecated. Please use `torch.amp.autocast('cuda', args...)` instead.\n",
      "  with autocast():\n",
      "/tmp/ipykernel_14880/3009099444.py:167: FutureWarning: `torch.cuda.amp.autocast(args...)` is deprecated. Please use `torch.amp.autocast('cuda', args...)` instead.\n",
      "  with autocast():\n"
     ]
    },
    {
     "name": "stdout",
     "output_type": "stream",
     "text": [
      "🔍 [Run 2 | Epoch 1] MAE: 32.991, R²: -3.875, TrainLoss: 0.7530, ValLoss: 0.3296\n"
     ]
    },
    {
     "name": "stderr",
     "output_type": "stream",
     "text": [
      "/tmp/ipykernel_14880/3009099444.py:141: FutureWarning: `torch.cuda.amp.autocast(args...)` is deprecated. Please use `torch.amp.autocast('cuda', args...)` instead.\n",
      "  with autocast():\n",
      "/tmp/ipykernel_14880/3009099444.py:167: FutureWarning: `torch.cuda.amp.autocast(args...)` is deprecated. Please use `torch.amp.autocast('cuda', args...)` instead.\n",
      "  with autocast():\n"
     ]
    },
    {
     "name": "stdout",
     "output_type": "stream",
     "text": [
      "🔍 [Run 2 | Epoch 2] MAE: 15.074, R²: -0.198, TrainLoss: 0.1698, ValLoss: 0.1506\n"
     ]
    },
    {
     "name": "stderr",
     "output_type": "stream",
     "text": [
      "/tmp/ipykernel_14880/3009099444.py:141: FutureWarning: `torch.cuda.amp.autocast(args...)` is deprecated. Please use `torch.amp.autocast('cuda', args...)` instead.\n",
      "  with autocast():\n",
      "/tmp/ipykernel_14880/3009099444.py:167: FutureWarning: `torch.cuda.amp.autocast(args...)` is deprecated. Please use `torch.amp.autocast('cuda', args...)` instead.\n",
      "  with autocast():\n"
     ]
    },
    {
     "name": "stdout",
     "output_type": "stream",
     "text": [
      "🔍 [Run 2 | Epoch 3] MAE: 17.193, R²: -0.714, TrainLoss: 0.2047, ValLoss: 0.1722\n"
     ]
    },
    {
     "name": "stderr",
     "output_type": "stream",
     "text": [
      "/tmp/ipykernel_14880/3009099444.py:141: FutureWarning: `torch.cuda.amp.autocast(args...)` is deprecated. Please use `torch.amp.autocast('cuda', args...)` instead.\n",
      "  with autocast():\n",
      "/tmp/ipykernel_14880/3009099444.py:167: FutureWarning: `torch.cuda.amp.autocast(args...)` is deprecated. Please use `torch.amp.autocast('cuda', args...)` instead.\n",
      "  with autocast():\n"
     ]
    },
    {
     "name": "stdout",
     "output_type": "stream",
     "text": [
      "🔍 [Run 2 | Epoch 4] MAE: 14.255, R²: -0.094, TrainLoss: 0.1925, ValLoss: 0.1427\n"
     ]
    },
    {
     "name": "stderr",
     "output_type": "stream",
     "text": [
      "/tmp/ipykernel_14880/3009099444.py:141: FutureWarning: `torch.cuda.amp.autocast(args...)` is deprecated. Please use `torch.amp.autocast('cuda', args...)` instead.\n",
      "  with autocast():\n",
      "/tmp/ipykernel_14880/3009099444.py:167: FutureWarning: `torch.cuda.amp.autocast(args...)` is deprecated. Please use `torch.amp.autocast('cuda', args...)` instead.\n",
      "  with autocast():\n"
     ]
    },
    {
     "name": "stdout",
     "output_type": "stream",
     "text": [
      "🔍 [Run 2 | Epoch 5] MAE: 14.865, R²: -0.380, TrainLoss: 0.1638, ValLoss: 0.1489\n"
     ]
    },
    {
     "name": "stderr",
     "output_type": "stream",
     "text": [
      "/tmp/ipykernel_14880/3009099444.py:141: FutureWarning: `torch.cuda.amp.autocast(args...)` is deprecated. Please use `torch.amp.autocast('cuda', args...)` instead.\n",
      "  with autocast():\n",
      "/tmp/ipykernel_14880/3009099444.py:167: FutureWarning: `torch.cuda.amp.autocast(args...)` is deprecated. Please use `torch.amp.autocast('cuda', args...)` instead.\n",
      "  with autocast():\n"
     ]
    },
    {
     "name": "stdout",
     "output_type": "stream",
     "text": [
      "🔍 [Run 2 | Epoch 6] MAE: 37.630, R²: -5.088, TrainLoss: 0.1616, ValLoss: 0.3766\n"
     ]
    },
    {
     "name": "stderr",
     "output_type": "stream",
     "text": [
      "/tmp/ipykernel_14880/3009099444.py:141: FutureWarning: `torch.cuda.amp.autocast(args...)` is deprecated. Please use `torch.amp.autocast('cuda', args...)` instead.\n",
      "  with autocast():\n",
      "/tmp/ipykernel_14880/3009099444.py:167: FutureWarning: `torch.cuda.amp.autocast(args...)` is deprecated. Please use `torch.amp.autocast('cuda', args...)` instead.\n",
      "  with autocast():\n"
     ]
    },
    {
     "name": "stdout",
     "output_type": "stream",
     "text": [
      "🔍 [Run 2 | Epoch 7] MAE: 13.288, R²: 0.113, TrainLoss: 0.1955, ValLoss: 0.1327\n"
     ]
    },
    {
     "name": "stderr",
     "output_type": "stream",
     "text": [
      "/tmp/ipykernel_14880/3009099444.py:141: FutureWarning: `torch.cuda.amp.autocast(args...)` is deprecated. Please use `torch.amp.autocast('cuda', args...)` instead.\n",
      "  with autocast():\n",
      "/tmp/ipykernel_14880/3009099444.py:167: FutureWarning: `torch.cuda.amp.autocast(args...)` is deprecated. Please use `torch.amp.autocast('cuda', args...)` instead.\n",
      "  with autocast():\n"
     ]
    },
    {
     "name": "stdout",
     "output_type": "stream",
     "text": [
      "🔍 [Run 2 | Epoch 8] MAE: 14.272, R²: -0.072, TrainLoss: 0.1422, ValLoss: 0.1425\n"
     ]
    },
    {
     "name": "stderr",
     "output_type": "stream",
     "text": [
      "/tmp/ipykernel_14880/3009099444.py:141: FutureWarning: `torch.cuda.amp.autocast(args...)` is deprecated. Please use `torch.amp.autocast('cuda', args...)` instead.\n",
      "  with autocast():\n",
      "/tmp/ipykernel_14880/3009099444.py:167: FutureWarning: `torch.cuda.amp.autocast(args...)` is deprecated. Please use `torch.amp.autocast('cuda', args...)` instead.\n",
      "  with autocast():\n"
     ]
    },
    {
     "name": "stdout",
     "output_type": "stream",
     "text": [
      "🔍 [Run 2 | Epoch 9] MAE: 20.715, R²: -1.008, TrainLoss: 0.1360, ValLoss: 0.2069\n"
     ]
    },
    {
     "name": "stderr",
     "output_type": "stream",
     "text": [
      "/tmp/ipykernel_14880/3009099444.py:141: FutureWarning: `torch.cuda.amp.autocast(args...)` is deprecated. Please use `torch.amp.autocast('cuda', args...)` instead.\n",
      "  with autocast():\n",
      "/tmp/ipykernel_14880/3009099444.py:167: FutureWarning: `torch.cuda.amp.autocast(args...)` is deprecated. Please use `torch.amp.autocast('cuda', args...)` instead.\n",
      "  with autocast():\n"
     ]
    },
    {
     "name": "stdout",
     "output_type": "stream",
     "text": [
      "🔍 [Run 2 | Epoch 10] MAE: 15.424, R²: -0.396, TrainLoss: 0.1278, ValLoss: 0.1545\n"
     ]
    },
    {
     "name": "stderr",
     "output_type": "stream",
     "text": [
      "/tmp/ipykernel_14880/3009099444.py:141: FutureWarning: `torch.cuda.amp.autocast(args...)` is deprecated. Please use `torch.amp.autocast('cuda', args...)` instead.\n",
      "  with autocast():\n",
      "/tmp/ipykernel_14880/3009099444.py:167: FutureWarning: `torch.cuda.amp.autocast(args...)` is deprecated. Please use `torch.amp.autocast('cuda', args...)` instead.\n",
      "  with autocast():\n"
     ]
    },
    {
     "name": "stdout",
     "output_type": "stream",
     "text": [
      "🔍 [Run 2 | Epoch 11] MAE: 15.721, R²: -0.291, TrainLoss: 0.1484, ValLoss: 0.1570\n"
     ]
    },
    {
     "name": "stderr",
     "output_type": "stream",
     "text": [
      "/tmp/ipykernel_14880/3009099444.py:141: FutureWarning: `torch.cuda.amp.autocast(args...)` is deprecated. Please use `torch.amp.autocast('cuda', args...)` instead.\n",
      "  with autocast():\n",
      "/tmp/ipykernel_14880/3009099444.py:167: FutureWarning: `torch.cuda.amp.autocast(args...)` is deprecated. Please use `torch.amp.autocast('cuda', args...)` instead.\n",
      "  with autocast():\n"
     ]
    },
    {
     "name": "stdout",
     "output_type": "stream",
     "text": [
      "🔍 [Run 2 | Epoch 12] MAE: 13.705, R²: 0.056, TrainLoss: 0.1416, ValLoss: 0.1369\n"
     ]
    },
    {
     "name": "stderr",
     "output_type": "stream",
     "text": [
      "/tmp/ipykernel_14880/3009099444.py:141: FutureWarning: `torch.cuda.amp.autocast(args...)` is deprecated. Please use `torch.amp.autocast('cuda', args...)` instead.\n",
      "  with autocast():\n",
      "/tmp/ipykernel_14880/3009099444.py:167: FutureWarning: `torch.cuda.amp.autocast(args...)` is deprecated. Please use `torch.amp.autocast('cuda', args...)` instead.\n",
      "  with autocast():\n"
     ]
    },
    {
     "name": "stdout",
     "output_type": "stream",
     "text": [
      "🔍 [Run 2 | Epoch 13] MAE: 10.516, R²: 0.341, TrainLoss: 0.1556, ValLoss: 0.1053\n"
     ]
    },
    {
     "name": "stderr",
     "output_type": "stream",
     "text": [
      "/tmp/ipykernel_14880/3009099444.py:141: FutureWarning: `torch.cuda.amp.autocast(args...)` is deprecated. Please use `torch.amp.autocast('cuda', args...)` instead.\n",
      "  with autocast():\n",
      "/tmp/ipykernel_14880/3009099444.py:167: FutureWarning: `torch.cuda.amp.autocast(args...)` is deprecated. Please use `torch.amp.autocast('cuda', args...)` instead.\n",
      "  with autocast():\n"
     ]
    },
    {
     "name": "stdout",
     "output_type": "stream",
     "text": [
      "🔍 [Run 2 | Epoch 14] MAE: 11.747, R²: 0.236, TrainLoss: 0.1179, ValLoss: 0.1175\n"
     ]
    },
    {
     "name": "stderr",
     "output_type": "stream",
     "text": [
      "/tmp/ipykernel_14880/3009099444.py:141: FutureWarning: `torch.cuda.amp.autocast(args...)` is deprecated. Please use `torch.amp.autocast('cuda', args...)` instead.\n",
      "  with autocast():\n",
      "/tmp/ipykernel_14880/3009099444.py:167: FutureWarning: `torch.cuda.amp.autocast(args...)` is deprecated. Please use `torch.amp.autocast('cuda', args...)` instead.\n",
      "  with autocast():\n"
     ]
    },
    {
     "name": "stdout",
     "output_type": "stream",
     "text": [
      "🔍 [Run 2 | Epoch 15] MAE: 15.093, R²: -0.264, TrainLoss: 0.1263, ValLoss: 0.1511\n"
     ]
    },
    {
     "name": "stderr",
     "output_type": "stream",
     "text": [
      "/tmp/ipykernel_14880/3009099444.py:141: FutureWarning: `torch.cuda.amp.autocast(args...)` is deprecated. Please use `torch.amp.autocast('cuda', args...)` instead.\n",
      "  with autocast():\n",
      "/tmp/ipykernel_14880/3009099444.py:167: FutureWarning: `torch.cuda.amp.autocast(args...)` is deprecated. Please use `torch.amp.autocast('cuda', args...)` instead.\n",
      "  with autocast():\n"
     ]
    },
    {
     "name": "stdout",
     "output_type": "stream",
     "text": [
      "🔍 [Run 2 | Epoch 16] MAE: 16.105, R²: -0.225, TrainLoss: 0.1189, ValLoss: 0.1609\n"
     ]
    },
    {
     "name": "stderr",
     "output_type": "stream",
     "text": [
      "/tmp/ipykernel_14880/3009099444.py:141: FutureWarning: `torch.cuda.amp.autocast(args...)` is deprecated. Please use `torch.amp.autocast('cuda', args...)` instead.\n",
      "  with autocast():\n",
      "/tmp/ipykernel_14880/3009099444.py:167: FutureWarning: `torch.cuda.amp.autocast(args...)` is deprecated. Please use `torch.amp.autocast('cuda', args...)` instead.\n",
      "  with autocast():\n"
     ]
    },
    {
     "name": "stdout",
     "output_type": "stream",
     "text": [
      "🔍 [Run 2 | Epoch 17] MAE: 17.579, R²: -0.584, TrainLoss: 0.1387, ValLoss: 0.1759\n"
     ]
    },
    {
     "name": "stderr",
     "output_type": "stream",
     "text": [
      "/tmp/ipykernel_14880/3009099444.py:141: FutureWarning: `torch.cuda.amp.autocast(args...)` is deprecated. Please use `torch.amp.autocast('cuda', args...)` instead.\n",
      "  with autocast():\n",
      "/tmp/ipykernel_14880/3009099444.py:167: FutureWarning: `torch.cuda.amp.autocast(args...)` is deprecated. Please use `torch.amp.autocast('cuda', args...)` instead.\n",
      "  with autocast():\n"
     ]
    },
    {
     "name": "stdout",
     "output_type": "stream",
     "text": [
      "🔍 [Run 2 | Epoch 18] MAE: 12.301, R²: 0.112, TrainLoss: 0.1094, ValLoss: 0.1232\n"
     ]
    },
    {
     "name": "stderr",
     "output_type": "stream",
     "text": [
      "/tmp/ipykernel_14880/3009099444.py:141: FutureWarning: `torch.cuda.amp.autocast(args...)` is deprecated. Please use `torch.amp.autocast('cuda', args...)` instead.\n",
      "  with autocast():\n",
      "/tmp/ipykernel_14880/3009099444.py:167: FutureWarning: `torch.cuda.amp.autocast(args...)` is deprecated. Please use `torch.amp.autocast('cuda', args...)` instead.\n",
      "  with autocast():\n"
     ]
    },
    {
     "name": "stdout",
     "output_type": "stream",
     "text": [
      "🔍 [Run 2 | Epoch 19] MAE: 7.907, R²: 0.572, TrainLoss: 0.1022, ValLoss: 0.0791\n"
     ]
    },
    {
     "name": "stderr",
     "output_type": "stream",
     "text": [
      "/tmp/ipykernel_14880/3009099444.py:141: FutureWarning: `torch.cuda.amp.autocast(args...)` is deprecated. Please use `torch.amp.autocast('cuda', args...)` instead.\n",
      "  with autocast():\n",
      "/tmp/ipykernel_14880/3009099444.py:167: FutureWarning: `torch.cuda.amp.autocast(args...)` is deprecated. Please use `torch.amp.autocast('cuda', args...)` instead.\n",
      "  with autocast():\n"
     ]
    },
    {
     "name": "stdout",
     "output_type": "stream",
     "text": [
      "🔍 [Run 2 | Epoch 20] MAE: 19.558, R²: -0.660, TrainLoss: 0.0994, ValLoss: 0.1957\n"
     ]
    },
    {
     "name": "stderr",
     "output_type": "stream",
     "text": [
      "/tmp/ipykernel_14880/3009099444.py:141: FutureWarning: `torch.cuda.amp.autocast(args...)` is deprecated. Please use `torch.amp.autocast('cuda', args...)` instead.\n",
      "  with autocast():\n",
      "/tmp/ipykernel_14880/3009099444.py:167: FutureWarning: `torch.cuda.amp.autocast(args...)` is deprecated. Please use `torch.amp.autocast('cuda', args...)` instead.\n",
      "  with autocast():\n"
     ]
    },
    {
     "name": "stdout",
     "output_type": "stream",
     "text": [
      "🔍 [Run 2 | Epoch 21] MAE: 6.685, R²: 0.737, TrainLoss: 0.1027, ValLoss: 0.0669\n"
     ]
    },
    {
     "name": "stderr",
     "output_type": "stream",
     "text": [
      "/tmp/ipykernel_14880/3009099444.py:141: FutureWarning: `torch.cuda.amp.autocast(args...)` is deprecated. Please use `torch.amp.autocast('cuda', args...)` instead.\n",
      "  with autocast():\n",
      "/tmp/ipykernel_14880/3009099444.py:167: FutureWarning: `torch.cuda.amp.autocast(args...)` is deprecated. Please use `torch.amp.autocast('cuda', args...)` instead.\n",
      "  with autocast():\n"
     ]
    },
    {
     "name": "stdout",
     "output_type": "stream",
     "text": [
      "🔍 [Run 2 | Epoch 22] MAE: 6.302, R²: 0.727, TrainLoss: 0.0956, ValLoss: 0.0631\n"
     ]
    },
    {
     "name": "stderr",
     "output_type": "stream",
     "text": [
      "/tmp/ipykernel_14880/3009099444.py:141: FutureWarning: `torch.cuda.amp.autocast(args...)` is deprecated. Please use `torch.amp.autocast('cuda', args...)` instead.\n",
      "  with autocast():\n",
      "/tmp/ipykernel_14880/3009099444.py:167: FutureWarning: `torch.cuda.amp.autocast(args...)` is deprecated. Please use `torch.amp.autocast('cuda', args...)` instead.\n",
      "  with autocast():\n"
     ]
    },
    {
     "name": "stdout",
     "output_type": "stream",
     "text": [
      "🔍 [Run 2 | Epoch 23] MAE: 7.094, R²: 0.695, TrainLoss: 0.0833, ValLoss: 0.0710\n"
     ]
    },
    {
     "name": "stderr",
     "output_type": "stream",
     "text": [
      "/tmp/ipykernel_14880/3009099444.py:141: FutureWarning: `torch.cuda.amp.autocast(args...)` is deprecated. Please use `torch.amp.autocast('cuda', args...)` instead.\n",
      "  with autocast():\n",
      "/tmp/ipykernel_14880/3009099444.py:167: FutureWarning: `torch.cuda.amp.autocast(args...)` is deprecated. Please use `torch.amp.autocast('cuda', args...)` instead.\n",
      "  with autocast():\n"
     ]
    },
    {
     "name": "stdout",
     "output_type": "stream",
     "text": [
      "🔍 [Run 2 | Epoch 24] MAE: 6.590, R²: 0.754, TrainLoss: 0.0733, ValLoss: 0.0660\n"
     ]
    },
    {
     "name": "stderr",
     "output_type": "stream",
     "text": [
      "/tmp/ipykernel_14880/3009099444.py:141: FutureWarning: `torch.cuda.amp.autocast(args...)` is deprecated. Please use `torch.amp.autocast('cuda', args...)` instead.\n",
      "  with autocast():\n",
      "/tmp/ipykernel_14880/3009099444.py:167: FutureWarning: `torch.cuda.amp.autocast(args...)` is deprecated. Please use `torch.amp.autocast('cuda', args...)` instead.\n",
      "  with autocast():\n"
     ]
    },
    {
     "name": "stdout",
     "output_type": "stream",
     "text": [
      "🔍 [Run 2 | Epoch 25] MAE: 6.705, R²: 0.693, TrainLoss: 0.0672, ValLoss: 0.0671\n"
     ]
    },
    {
     "name": "stderr",
     "output_type": "stream",
     "text": [
      "/tmp/ipykernel_14880/3009099444.py:141: FutureWarning: `torch.cuda.amp.autocast(args...)` is deprecated. Please use `torch.amp.autocast('cuda', args...)` instead.\n",
      "  with autocast():\n",
      "/tmp/ipykernel_14880/3009099444.py:167: FutureWarning: `torch.cuda.amp.autocast(args...)` is deprecated. Please use `torch.amp.autocast('cuda', args...)` instead.\n",
      "  with autocast():\n"
     ]
    },
    {
     "name": "stdout",
     "output_type": "stream",
     "text": [
      "🔍 [Run 2 | Epoch 26] MAE: 18.981, R²: -0.528, TrainLoss: 0.0779, ValLoss: 0.1899\n"
     ]
    },
    {
     "name": "stderr",
     "output_type": "stream",
     "text": [
      "/tmp/ipykernel_14880/3009099444.py:141: FutureWarning: `torch.cuda.amp.autocast(args...)` is deprecated. Please use `torch.amp.autocast('cuda', args...)` instead.\n",
      "  with autocast():\n",
      "/tmp/ipykernel_14880/3009099444.py:167: FutureWarning: `torch.cuda.amp.autocast(args...)` is deprecated. Please use `torch.amp.autocast('cuda', args...)` instead.\n",
      "  with autocast():\n"
     ]
    },
    {
     "name": "stdout",
     "output_type": "stream",
     "text": [
      "🔍 [Run 2 | Epoch 27] MAE: 11.693, R²: 0.348, TrainLoss: 0.0822, ValLoss: 0.1168\n"
     ]
    },
    {
     "name": "stderr",
     "output_type": "stream",
     "text": [
      "/tmp/ipykernel_14880/3009099444.py:141: FutureWarning: `torch.cuda.amp.autocast(args...)` is deprecated. Please use `torch.amp.autocast('cuda', args...)` instead.\n",
      "  with autocast():\n",
      "/tmp/ipykernel_14880/3009099444.py:167: FutureWarning: `torch.cuda.amp.autocast(args...)` is deprecated. Please use `torch.amp.autocast('cuda', args...)` instead.\n",
      "  with autocast():\n"
     ]
    },
    {
     "name": "stdout",
     "output_type": "stream",
     "text": [
      "🔍 [Run 2 | Epoch 28] MAE: 12.235, R²: 0.297, TrainLoss: 0.0853, ValLoss: 0.1225\n"
     ]
    },
    {
     "name": "stderr",
     "output_type": "stream",
     "text": [
      "/tmp/ipykernel_14880/3009099444.py:141: FutureWarning: `torch.cuda.amp.autocast(args...)` is deprecated. Please use `torch.amp.autocast('cuda', args...)` instead.\n",
      "  with autocast():\n",
      "/tmp/ipykernel_14880/3009099444.py:167: FutureWarning: `torch.cuda.amp.autocast(args...)` is deprecated. Please use `torch.amp.autocast('cuda', args...)` instead.\n",
      "  with autocast():\n"
     ]
    },
    {
     "name": "stdout",
     "output_type": "stream",
     "text": [
      "🔍 [Run 2 | Epoch 29] MAE: 7.719, R²: 0.644, TrainLoss: 0.0638, ValLoss: 0.0772\n",
      "🚑 Early stopping at epoch 29\n",
      "\n",
      "========== 🏁 Run 3/5 시작 ==========\n"
     ]
    },
    {
     "name": "stderr",
     "output_type": "stream",
     "text": [
      "/tmp/ipykernel_14880/3009099444.py:141: FutureWarning: `torch.cuda.amp.autocast(args...)` is deprecated. Please use `torch.amp.autocast('cuda', args...)` instead.\n",
      "  with autocast():\n",
      "/tmp/ipykernel_14880/3009099444.py:167: FutureWarning: `torch.cuda.amp.autocast(args...)` is deprecated. Please use `torch.amp.autocast('cuda', args...)` instead.\n",
      "  with autocast():\n"
     ]
    },
    {
     "name": "stdout",
     "output_type": "stream",
     "text": [
      "🔍 [Run 3 | Epoch 1] MAE: 14.389, R²: 0.007, TrainLoss: 0.5419, ValLoss: 0.1439\n"
     ]
    },
    {
     "name": "stderr",
     "output_type": "stream",
     "text": [
      "/tmp/ipykernel_14880/3009099444.py:141: FutureWarning: `torch.cuda.amp.autocast(args...)` is deprecated. Please use `torch.amp.autocast('cuda', args...)` instead.\n",
      "  with autocast():\n",
      "/tmp/ipykernel_14880/3009099444.py:167: FutureWarning: `torch.cuda.amp.autocast(args...)` is deprecated. Please use `torch.amp.autocast('cuda', args...)` instead.\n",
      "  with autocast():\n"
     ]
    },
    {
     "name": "stdout",
     "output_type": "stream",
     "text": [
      "🔍 [Run 3 | Epoch 2] MAE: 15.072, R²: -0.249, TrainLoss: 0.2502, ValLoss: 0.1509\n"
     ]
    },
    {
     "name": "stderr",
     "output_type": "stream",
     "text": [
      "/tmp/ipykernel_14880/3009099444.py:141: FutureWarning: `torch.cuda.amp.autocast(args...)` is deprecated. Please use `torch.amp.autocast('cuda', args...)` instead.\n",
      "  with autocast():\n",
      "/tmp/ipykernel_14880/3009099444.py:167: FutureWarning: `torch.cuda.amp.autocast(args...)` is deprecated. Please use `torch.amp.autocast('cuda', args...)` instead.\n",
      "  with autocast():\n"
     ]
    },
    {
     "name": "stdout",
     "output_type": "stream",
     "text": [
      "🔍 [Run 3 | Epoch 3] MAE: 19.037, R²: -0.962, TrainLoss: 0.1621, ValLoss: 0.1903\n"
     ]
    },
    {
     "name": "stderr",
     "output_type": "stream",
     "text": [
      "/tmp/ipykernel_14880/3009099444.py:141: FutureWarning: `torch.cuda.amp.autocast(args...)` is deprecated. Please use `torch.amp.autocast('cuda', args...)` instead.\n",
      "  with autocast():\n",
      "/tmp/ipykernel_14880/3009099444.py:167: FutureWarning: `torch.cuda.amp.autocast(args...)` is deprecated. Please use `torch.amp.autocast('cuda', args...)` instead.\n",
      "  with autocast():\n"
     ]
    },
    {
     "name": "stdout",
     "output_type": "stream",
     "text": [
      "🔍 [Run 3 | Epoch 4] MAE: 26.587, R²: -2.172, TrainLoss: 0.1408, ValLoss: 0.2662\n"
     ]
    },
    {
     "name": "stderr",
     "output_type": "stream",
     "text": [
      "/tmp/ipykernel_14880/3009099444.py:141: FutureWarning: `torch.cuda.amp.autocast(args...)` is deprecated. Please use `torch.amp.autocast('cuda', args...)` instead.\n",
      "  with autocast():\n",
      "/tmp/ipykernel_14880/3009099444.py:167: FutureWarning: `torch.cuda.amp.autocast(args...)` is deprecated. Please use `torch.amp.autocast('cuda', args...)` instead.\n",
      "  with autocast():\n"
     ]
    },
    {
     "name": "stdout",
     "output_type": "stream",
     "text": [
      "🔍 [Run 3 | Epoch 5] MAE: 21.172, R²: -1.021, TrainLoss: 0.1573, ValLoss: 0.2115\n"
     ]
    },
    {
     "name": "stderr",
     "output_type": "stream",
     "text": [
      "/tmp/ipykernel_14880/3009099444.py:141: FutureWarning: `torch.cuda.amp.autocast(args...)` is deprecated. Please use `torch.amp.autocast('cuda', args...)` instead.\n",
      "  with autocast():\n",
      "/tmp/ipykernel_14880/3009099444.py:167: FutureWarning: `torch.cuda.amp.autocast(args...)` is deprecated. Please use `torch.amp.autocast('cuda', args...)` instead.\n",
      "  with autocast():\n"
     ]
    },
    {
     "name": "stdout",
     "output_type": "stream",
     "text": [
      "🔍 [Run 3 | Epoch 6] MAE: 8.595, R²: 0.604, TrainLoss: 0.1106, ValLoss: 0.0859\n"
     ]
    },
    {
     "name": "stderr",
     "output_type": "stream",
     "text": [
      "/tmp/ipykernel_14880/3009099444.py:141: FutureWarning: `torch.cuda.amp.autocast(args...)` is deprecated. Please use `torch.amp.autocast('cuda', args...)` instead.\n",
      "  with autocast():\n",
      "/tmp/ipykernel_14880/3009099444.py:167: FutureWarning: `torch.cuda.amp.autocast(args...)` is deprecated. Please use `torch.amp.autocast('cuda', args...)` instead.\n",
      "  with autocast():\n"
     ]
    },
    {
     "name": "stdout",
     "output_type": "stream",
     "text": [
      "🔍 [Run 3 | Epoch 7] MAE: 12.543, R²: 0.176, TrainLoss: 0.1083, ValLoss: 0.1253\n"
     ]
    },
    {
     "name": "stderr",
     "output_type": "stream",
     "text": [
      "/tmp/ipykernel_14880/3009099444.py:141: FutureWarning: `torch.cuda.amp.autocast(args...)` is deprecated. Please use `torch.amp.autocast('cuda', args...)` instead.\n",
      "  with autocast():\n",
      "/tmp/ipykernel_14880/3009099444.py:167: FutureWarning: `torch.cuda.amp.autocast(args...)` is deprecated. Please use `torch.amp.autocast('cuda', args...)` instead.\n",
      "  with autocast():\n"
     ]
    },
    {
     "name": "stdout",
     "output_type": "stream",
     "text": [
      "🔍 [Run 3 | Epoch 8] MAE: 7.070, R²: 0.725, TrainLoss: 0.0887, ValLoss: 0.0707\n"
     ]
    },
    {
     "name": "stderr",
     "output_type": "stream",
     "text": [
      "/tmp/ipykernel_14880/3009099444.py:141: FutureWarning: `torch.cuda.amp.autocast(args...)` is deprecated. Please use `torch.amp.autocast('cuda', args...)` instead.\n",
      "  with autocast():\n",
      "/tmp/ipykernel_14880/3009099444.py:167: FutureWarning: `torch.cuda.amp.autocast(args...)` is deprecated. Please use `torch.amp.autocast('cuda', args...)` instead.\n",
      "  with autocast():\n"
     ]
    },
    {
     "name": "stdout",
     "output_type": "stream",
     "text": [
      "🔍 [Run 3 | Epoch 9] MAE: 9.563, R²: 0.493, TrainLoss: 0.0871, ValLoss: 0.0958\n"
     ]
    },
    {
     "name": "stderr",
     "output_type": "stream",
     "text": [
      "/tmp/ipykernel_14880/3009099444.py:141: FutureWarning: `torch.cuda.amp.autocast(args...)` is deprecated. Please use `torch.amp.autocast('cuda', args...)` instead.\n",
      "  with autocast():\n",
      "/tmp/ipykernel_14880/3009099444.py:167: FutureWarning: `torch.cuda.amp.autocast(args...)` is deprecated. Please use `torch.amp.autocast('cuda', args...)` instead.\n",
      "  with autocast():\n"
     ]
    },
    {
     "name": "stdout",
     "output_type": "stream",
     "text": [
      "🔍 [Run 3 | Epoch 10] MAE: 11.131, R²: 0.362, TrainLoss: 0.1010, ValLoss: 0.1111\n"
     ]
    },
    {
     "name": "stderr",
     "output_type": "stream",
     "text": [
      "/tmp/ipykernel_14880/3009099444.py:141: FutureWarning: `torch.cuda.amp.autocast(args...)` is deprecated. Please use `torch.amp.autocast('cuda', args...)` instead.\n",
      "  with autocast():\n",
      "/tmp/ipykernel_14880/3009099444.py:167: FutureWarning: `torch.cuda.amp.autocast(args...)` is deprecated. Please use `torch.amp.autocast('cuda', args...)` instead.\n",
      "  with autocast():\n"
     ]
    },
    {
     "name": "stdout",
     "output_type": "stream",
     "text": [
      "🔍 [Run 3 | Epoch 11] MAE: 11.749, R²: 0.263, TrainLoss: 0.1056, ValLoss: 0.1175\n"
     ]
    },
    {
     "name": "stderr",
     "output_type": "stream",
     "text": [
      "/tmp/ipykernel_14880/3009099444.py:141: FutureWarning: `torch.cuda.amp.autocast(args...)` is deprecated. Please use `torch.amp.autocast('cuda', args...)` instead.\n",
      "  with autocast():\n",
      "/tmp/ipykernel_14880/3009099444.py:167: FutureWarning: `torch.cuda.amp.autocast(args...)` is deprecated. Please use `torch.amp.autocast('cuda', args...)` instead.\n",
      "  with autocast():\n"
     ]
    },
    {
     "name": "stdout",
     "output_type": "stream",
     "text": [
      "🔍 [Run 3 | Epoch 12] MAE: 8.818, R²: 0.550, TrainLoss: 0.0928, ValLoss: 0.0883\n"
     ]
    },
    {
     "name": "stderr",
     "output_type": "stream",
     "text": [
      "/tmp/ipykernel_14880/3009099444.py:141: FutureWarning: `torch.cuda.amp.autocast(args...)` is deprecated. Please use `torch.amp.autocast('cuda', args...)` instead.\n",
      "  with autocast():\n",
      "/tmp/ipykernel_14880/3009099444.py:167: FutureWarning: `torch.cuda.amp.autocast(args...)` is deprecated. Please use `torch.amp.autocast('cuda', args...)` instead.\n",
      "  with autocast():\n"
     ]
    },
    {
     "name": "stdout",
     "output_type": "stream",
     "text": [
      "🔍 [Run 3 | Epoch 13] MAE: 24.797, R²: -1.539, TrainLoss: 0.1194, ValLoss: 0.2483\n"
     ]
    },
    {
     "name": "stderr",
     "output_type": "stream",
     "text": [
      "/tmp/ipykernel_14880/3009099444.py:141: FutureWarning: `torch.cuda.amp.autocast(args...)` is deprecated. Please use `torch.amp.autocast('cuda', args...)` instead.\n",
      "  with autocast():\n",
      "/tmp/ipykernel_14880/3009099444.py:167: FutureWarning: `torch.cuda.amp.autocast(args...)` is deprecated. Please use `torch.amp.autocast('cuda', args...)` instead.\n",
      "  with autocast():\n"
     ]
    },
    {
     "name": "stdout",
     "output_type": "stream",
     "text": [
      "🔍 [Run 3 | Epoch 14] MAE: 8.042, R²: 0.667, TrainLoss: 0.1122, ValLoss: 0.0803\n"
     ]
    },
    {
     "name": "stderr",
     "output_type": "stream",
     "text": [
      "/tmp/ipykernel_14880/3009099444.py:141: FutureWarning: `torch.cuda.amp.autocast(args...)` is deprecated. Please use `torch.amp.autocast('cuda', args...)` instead.\n",
      "  with autocast():\n",
      "/tmp/ipykernel_14880/3009099444.py:167: FutureWarning: `torch.cuda.amp.autocast(args...)` is deprecated. Please use `torch.amp.autocast('cuda', args...)` instead.\n",
      "  with autocast():\n"
     ]
    },
    {
     "name": "stdout",
     "output_type": "stream",
     "text": [
      "🔍 [Run 3 | Epoch 15] MAE: 11.786, R²: 0.295, TrainLoss: 0.0656, ValLoss: 0.1180\n",
      "🚑 Early stopping at epoch 15\n",
      "\n",
      "========== 🏁 Run 4/5 시작 ==========\n"
     ]
    },
    {
     "name": "stderr",
     "output_type": "stream",
     "text": [
      "/tmp/ipykernel_14880/3009099444.py:141: FutureWarning: `torch.cuda.amp.autocast(args...)` is deprecated. Please use `torch.amp.autocast('cuda', args...)` instead.\n",
      "  with autocast():\n",
      "/tmp/ipykernel_14880/3009099444.py:167: FutureWarning: `torch.cuda.amp.autocast(args...)` is deprecated. Please use `torch.amp.autocast('cuda', args...)` instead.\n",
      "  with autocast():\n"
     ]
    },
    {
     "name": "stdout",
     "output_type": "stream",
     "text": [
      "🔍 [Run 4 | Epoch 1] MAE: 45.078, R²: -7.825, TrainLoss: 0.4427, ValLoss: 0.4507\n"
     ]
    },
    {
     "name": "stderr",
     "output_type": "stream",
     "text": [
      "/tmp/ipykernel_14880/3009099444.py:141: FutureWarning: `torch.cuda.amp.autocast(args...)` is deprecated. Please use `torch.amp.autocast('cuda', args...)` instead.\n",
      "  with autocast():\n",
      "/tmp/ipykernel_14880/3009099444.py:167: FutureWarning: `torch.cuda.amp.autocast(args...)` is deprecated. Please use `torch.amp.autocast('cuda', args...)` instead.\n",
      "  with autocast():\n"
     ]
    },
    {
     "name": "stdout",
     "output_type": "stream",
     "text": [
      "🔍 [Run 4 | Epoch 2] MAE: 19.954, R²: -1.271, TrainLoss: 0.3370, ValLoss: 0.1997\n"
     ]
    },
    {
     "name": "stderr",
     "output_type": "stream",
     "text": [
      "/tmp/ipykernel_14880/3009099444.py:141: FutureWarning: `torch.cuda.amp.autocast(args...)` is deprecated. Please use `torch.amp.autocast('cuda', args...)` instead.\n",
      "  with autocast():\n",
      "/tmp/ipykernel_14880/3009099444.py:167: FutureWarning: `torch.cuda.amp.autocast(args...)` is deprecated. Please use `torch.amp.autocast('cuda', args...)` instead.\n",
      "  with autocast():\n"
     ]
    },
    {
     "name": "stdout",
     "output_type": "stream",
     "text": [
      "🔍 [Run 4 | Epoch 3] MAE: 13.259, R²: -0.023, TrainLoss: 0.1709, ValLoss: 0.1327\n"
     ]
    },
    {
     "name": "stderr",
     "output_type": "stream",
     "text": [
      "/tmp/ipykernel_14880/3009099444.py:141: FutureWarning: `torch.cuda.amp.autocast(args...)` is deprecated. Please use `torch.amp.autocast('cuda', args...)` instead.\n",
      "  with autocast():\n",
      "/tmp/ipykernel_14880/3009099444.py:167: FutureWarning: `torch.cuda.amp.autocast(args...)` is deprecated. Please use `torch.amp.autocast('cuda', args...)` instead.\n",
      "  with autocast():\n"
     ]
    },
    {
     "name": "stdout",
     "output_type": "stream",
     "text": [
      "🔍 [Run 4 | Epoch 4] MAE: 15.769, R²: -0.493, TrainLoss: 0.1504, ValLoss: 0.1578\n"
     ]
    },
    {
     "name": "stderr",
     "output_type": "stream",
     "text": [
      "/tmp/ipykernel_14880/3009099444.py:141: FutureWarning: `torch.cuda.amp.autocast(args...)` is deprecated. Please use `torch.amp.autocast('cuda', args...)` instead.\n",
      "  with autocast():\n",
      "/tmp/ipykernel_14880/3009099444.py:167: FutureWarning: `torch.cuda.amp.autocast(args...)` is deprecated. Please use `torch.amp.autocast('cuda', args...)` instead.\n",
      "  with autocast():\n"
     ]
    },
    {
     "name": "stdout",
     "output_type": "stream",
     "text": [
      "🔍 [Run 4 | Epoch 5] MAE: 11.226, R²: 0.288, TrainLoss: 0.1458, ValLoss: 0.1124\n"
     ]
    },
    {
     "name": "stderr",
     "output_type": "stream",
     "text": [
      "/tmp/ipykernel_14880/3009099444.py:141: FutureWarning: `torch.cuda.amp.autocast(args...)` is deprecated. Please use `torch.amp.autocast('cuda', args...)` instead.\n",
      "  with autocast():\n",
      "/tmp/ipykernel_14880/3009099444.py:167: FutureWarning: `torch.cuda.amp.autocast(args...)` is deprecated. Please use `torch.amp.autocast('cuda', args...)` instead.\n",
      "  with autocast():\n"
     ]
    },
    {
     "name": "stdout",
     "output_type": "stream",
     "text": [
      "🔍 [Run 4 | Epoch 6] MAE: 10.420, R²: 0.331, TrainLoss: 0.1462, ValLoss: 0.1042\n"
     ]
    },
    {
     "name": "stderr",
     "output_type": "stream",
     "text": [
      "/tmp/ipykernel_14880/3009099444.py:141: FutureWarning: `torch.cuda.amp.autocast(args...)` is deprecated. Please use `torch.amp.autocast('cuda', args...)` instead.\n",
      "  with autocast():\n",
      "/tmp/ipykernel_14880/3009099444.py:167: FutureWarning: `torch.cuda.amp.autocast(args...)` is deprecated. Please use `torch.amp.autocast('cuda', args...)` instead.\n",
      "  with autocast():\n"
     ]
    },
    {
     "name": "stdout",
     "output_type": "stream",
     "text": [
      "🔍 [Run 4 | Epoch 7] MAE: 9.551, R²: 0.453, TrainLoss: 0.1597, ValLoss: 0.0956\n"
     ]
    },
    {
     "name": "stderr",
     "output_type": "stream",
     "text": [
      "/tmp/ipykernel_14880/3009099444.py:141: FutureWarning: `torch.cuda.amp.autocast(args...)` is deprecated. Please use `torch.amp.autocast('cuda', args...)` instead.\n",
      "  with autocast():\n",
      "/tmp/ipykernel_14880/3009099444.py:167: FutureWarning: `torch.cuda.amp.autocast(args...)` is deprecated. Please use `torch.amp.autocast('cuda', args...)` instead.\n",
      "  with autocast():\n"
     ]
    },
    {
     "name": "stdout",
     "output_type": "stream",
     "text": [
      "🔍 [Run 4 | Epoch 8] MAE: 12.525, R²: 0.091, TrainLoss: 0.0878, ValLoss: 0.1255\n"
     ]
    },
    {
     "name": "stderr",
     "output_type": "stream",
     "text": [
      "/tmp/ipykernel_14880/3009099444.py:141: FutureWarning: `torch.cuda.amp.autocast(args...)` is deprecated. Please use `torch.amp.autocast('cuda', args...)` instead.\n",
      "  with autocast():\n",
      "/tmp/ipykernel_14880/3009099444.py:167: FutureWarning: `torch.cuda.amp.autocast(args...)` is deprecated. Please use `torch.amp.autocast('cuda', args...)` instead.\n",
      "  with autocast():\n"
     ]
    },
    {
     "name": "stdout",
     "output_type": "stream",
     "text": [
      "🔍 [Run 4 | Epoch 9] MAE: 11.853, R²: 0.166, TrainLoss: 0.1415, ValLoss: 0.1186\n"
     ]
    },
    {
     "name": "stderr",
     "output_type": "stream",
     "text": [
      "/tmp/ipykernel_14880/3009099444.py:141: FutureWarning: `torch.cuda.amp.autocast(args...)` is deprecated. Please use `torch.amp.autocast('cuda', args...)` instead.\n",
      "  with autocast():\n",
      "/tmp/ipykernel_14880/3009099444.py:167: FutureWarning: `torch.cuda.amp.autocast(args...)` is deprecated. Please use `torch.amp.autocast('cuda', args...)` instead.\n",
      "  with autocast():\n"
     ]
    },
    {
     "name": "stdout",
     "output_type": "stream",
     "text": [
      "🔍 [Run 4 | Epoch 10] MAE: 8.937, R²: 0.496, TrainLoss: 0.1029, ValLoss: 0.0894\n"
     ]
    },
    {
     "name": "stderr",
     "output_type": "stream",
     "text": [
      "/tmp/ipykernel_14880/3009099444.py:141: FutureWarning: `torch.cuda.amp.autocast(args...)` is deprecated. Please use `torch.amp.autocast('cuda', args...)` instead.\n",
      "  with autocast():\n",
      "/tmp/ipykernel_14880/3009099444.py:167: FutureWarning: `torch.cuda.amp.autocast(args...)` is deprecated. Please use `torch.amp.autocast('cuda', args...)` instead.\n",
      "  with autocast():\n"
     ]
    },
    {
     "name": "stdout",
     "output_type": "stream",
     "text": [
      "🔍 [Run 4 | Epoch 11] MAE: 7.448, R²: 0.674, TrainLoss: 0.0890, ValLoss: 0.0745\n"
     ]
    },
    {
     "name": "stderr",
     "output_type": "stream",
     "text": [
      "/tmp/ipykernel_14880/3009099444.py:141: FutureWarning: `torch.cuda.amp.autocast(args...)` is deprecated. Please use `torch.amp.autocast('cuda', args...)` instead.\n",
      "  with autocast():\n",
      "/tmp/ipykernel_14880/3009099444.py:167: FutureWarning: `torch.cuda.amp.autocast(args...)` is deprecated. Please use `torch.amp.autocast('cuda', args...)` instead.\n",
      "  with autocast():\n"
     ]
    },
    {
     "name": "stdout",
     "output_type": "stream",
     "text": [
      "🔍 [Run 4 | Epoch 12] MAE: 8.378, R²: 0.582, TrainLoss: 0.0805, ValLoss: 0.0837\n"
     ]
    },
    {
     "name": "stderr",
     "output_type": "stream",
     "text": [
      "/tmp/ipykernel_14880/3009099444.py:141: FutureWarning: `torch.cuda.amp.autocast(args...)` is deprecated. Please use `torch.amp.autocast('cuda', args...)` instead.\n",
      "  with autocast():\n",
      "/tmp/ipykernel_14880/3009099444.py:167: FutureWarning: `torch.cuda.amp.autocast(args...)` is deprecated. Please use `torch.amp.autocast('cuda', args...)` instead.\n",
      "  with autocast():\n"
     ]
    },
    {
     "name": "stdout",
     "output_type": "stream",
     "text": [
      "🔍 [Run 4 | Epoch 13] MAE: 7.684, R²: 0.621, TrainLoss: 0.0883, ValLoss: 0.0768\n"
     ]
    },
    {
     "name": "stderr",
     "output_type": "stream",
     "text": [
      "/tmp/ipykernel_14880/3009099444.py:141: FutureWarning: `torch.cuda.amp.autocast(args...)` is deprecated. Please use `torch.amp.autocast('cuda', args...)` instead.\n",
      "  with autocast():\n",
      "/tmp/ipykernel_14880/3009099444.py:167: FutureWarning: `torch.cuda.amp.autocast(args...)` is deprecated. Please use `torch.amp.autocast('cuda', args...)` instead.\n",
      "  with autocast():\n"
     ]
    },
    {
     "name": "stdout",
     "output_type": "stream",
     "text": [
      "🔍 [Run 4 | Epoch 14] MAE: 7.303, R²: 0.651, TrainLoss: 0.0806, ValLoss: 0.0731\n"
     ]
    },
    {
     "name": "stderr",
     "output_type": "stream",
     "text": [
      "/tmp/ipykernel_14880/3009099444.py:141: FutureWarning: `torch.cuda.amp.autocast(args...)` is deprecated. Please use `torch.amp.autocast('cuda', args...)` instead.\n",
      "  with autocast():\n",
      "/tmp/ipykernel_14880/3009099444.py:167: FutureWarning: `torch.cuda.amp.autocast(args...)` is deprecated. Please use `torch.amp.autocast('cuda', args...)` instead.\n",
      "  with autocast():\n"
     ]
    },
    {
     "name": "stdout",
     "output_type": "stream",
     "text": [
      "🔍 [Run 4 | Epoch 15] MAE: 8.497, R²: 0.570, TrainLoss: 0.0776, ValLoss: 0.0851\n"
     ]
    },
    {
     "name": "stderr",
     "output_type": "stream",
     "text": [
      "/tmp/ipykernel_14880/3009099444.py:141: FutureWarning: `torch.cuda.amp.autocast(args...)` is deprecated. Please use `torch.amp.autocast('cuda', args...)` instead.\n",
      "  with autocast():\n",
      "/tmp/ipykernel_14880/3009099444.py:167: FutureWarning: `torch.cuda.amp.autocast(args...)` is deprecated. Please use `torch.amp.autocast('cuda', args...)` instead.\n",
      "  with autocast():\n"
     ]
    },
    {
     "name": "stdout",
     "output_type": "stream",
     "text": [
      "🔍 [Run 4 | Epoch 16] MAE: 6.934, R²: 0.707, TrainLoss: 0.0878, ValLoss: 0.0694\n"
     ]
    },
    {
     "name": "stderr",
     "output_type": "stream",
     "text": [
      "/tmp/ipykernel_14880/3009099444.py:141: FutureWarning: `torch.cuda.amp.autocast(args...)` is deprecated. Please use `torch.amp.autocast('cuda', args...)` instead.\n",
      "  with autocast():\n",
      "/tmp/ipykernel_14880/3009099444.py:167: FutureWarning: `torch.cuda.amp.autocast(args...)` is deprecated. Please use `torch.amp.autocast('cuda', args...)` instead.\n",
      "  with autocast():\n"
     ]
    },
    {
     "name": "stdout",
     "output_type": "stream",
     "text": [
      "🔍 [Run 4 | Epoch 17] MAE: 16.955, R²: -0.375, TrainLoss: 0.0758, ValLoss: 0.1694\n"
     ]
    },
    {
     "name": "stderr",
     "output_type": "stream",
     "text": [
      "/tmp/ipykernel_14880/3009099444.py:141: FutureWarning: `torch.cuda.amp.autocast(args...)` is deprecated. Please use `torch.amp.autocast('cuda', args...)` instead.\n",
      "  with autocast():\n",
      "/tmp/ipykernel_14880/3009099444.py:167: FutureWarning: `torch.cuda.amp.autocast(args...)` is deprecated. Please use `torch.amp.autocast('cuda', args...)` instead.\n",
      "  with autocast():\n"
     ]
    },
    {
     "name": "stdout",
     "output_type": "stream",
     "text": [
      "🔍 [Run 4 | Epoch 18] MAE: 6.503, R²: 0.741, TrainLoss: 0.0658, ValLoss: 0.0649\n"
     ]
    },
    {
     "name": "stderr",
     "output_type": "stream",
     "text": [
      "/tmp/ipykernel_14880/3009099444.py:141: FutureWarning: `torch.cuda.amp.autocast(args...)` is deprecated. Please use `torch.amp.autocast('cuda', args...)` instead.\n",
      "  with autocast():\n",
      "/tmp/ipykernel_14880/3009099444.py:167: FutureWarning: `torch.cuda.amp.autocast(args...)` is deprecated. Please use `torch.amp.autocast('cuda', args...)` instead.\n",
      "  with autocast():\n"
     ]
    },
    {
     "name": "stdout",
     "output_type": "stream",
     "text": [
      "🔍 [Run 4 | Epoch 19] MAE: 7.012, R²: 0.695, TrainLoss: 0.0894, ValLoss: 0.0701\n"
     ]
    },
    {
     "name": "stderr",
     "output_type": "stream",
     "text": [
      "/tmp/ipykernel_14880/3009099444.py:141: FutureWarning: `torch.cuda.amp.autocast(args...)` is deprecated. Please use `torch.amp.autocast('cuda', args...)` instead.\n",
      "  with autocast():\n",
      "/tmp/ipykernel_14880/3009099444.py:167: FutureWarning: `torch.cuda.amp.autocast(args...)` is deprecated. Please use `torch.amp.autocast('cuda', args...)` instead.\n",
      "  with autocast():\n"
     ]
    },
    {
     "name": "stdout",
     "output_type": "stream",
     "text": [
      "🔍 [Run 4 | Epoch 20] MAE: 8.687, R²: 0.564, TrainLoss: 0.0672, ValLoss: 0.0867\n"
     ]
    },
    {
     "name": "stderr",
     "output_type": "stream",
     "text": [
      "/tmp/ipykernel_14880/3009099444.py:141: FutureWarning: `torch.cuda.amp.autocast(args...)` is deprecated. Please use `torch.amp.autocast('cuda', args...)` instead.\n",
      "  with autocast():\n",
      "/tmp/ipykernel_14880/3009099444.py:167: FutureWarning: `torch.cuda.amp.autocast(args...)` is deprecated. Please use `torch.amp.autocast('cuda', args...)` instead.\n",
      "  with autocast():\n"
     ]
    },
    {
     "name": "stdout",
     "output_type": "stream",
     "text": [
      "🔍 [Run 4 | Epoch 21] MAE: 7.719, R²: 0.628, TrainLoss: 0.0587, ValLoss: 0.0772\n"
     ]
    },
    {
     "name": "stderr",
     "output_type": "stream",
     "text": [
      "/tmp/ipykernel_14880/3009099444.py:141: FutureWarning: `torch.cuda.amp.autocast(args...)` is deprecated. Please use `torch.amp.autocast('cuda', args...)` instead.\n",
      "  with autocast():\n",
      "/tmp/ipykernel_14880/3009099444.py:167: FutureWarning: `torch.cuda.amp.autocast(args...)` is deprecated. Please use `torch.amp.autocast('cuda', args...)` instead.\n",
      "  with autocast():\n"
     ]
    },
    {
     "name": "stdout",
     "output_type": "stream",
     "text": [
      "🔍 [Run 4 | Epoch 22] MAE: 7.662, R²: 0.654, TrainLoss: 0.0688, ValLoss: 0.0767\n"
     ]
    },
    {
     "name": "stderr",
     "output_type": "stream",
     "text": [
      "/tmp/ipykernel_14880/3009099444.py:141: FutureWarning: `torch.cuda.amp.autocast(args...)` is deprecated. Please use `torch.amp.autocast('cuda', args...)` instead.\n",
      "  with autocast():\n",
      "/tmp/ipykernel_14880/3009099444.py:167: FutureWarning: `torch.cuda.amp.autocast(args...)` is deprecated. Please use `torch.amp.autocast('cuda', args...)` instead.\n",
      "  with autocast():\n"
     ]
    },
    {
     "name": "stdout",
     "output_type": "stream",
     "text": [
      "🔍 [Run 4 | Epoch 23] MAE: 7.572, R²: 0.663, TrainLoss: 0.0467, ValLoss: 0.0758\n"
     ]
    },
    {
     "name": "stderr",
     "output_type": "stream",
     "text": [
      "/tmp/ipykernel_14880/3009099444.py:141: FutureWarning: `torch.cuda.amp.autocast(args...)` is deprecated. Please use `torch.amp.autocast('cuda', args...)` instead.\n",
      "  with autocast():\n",
      "/tmp/ipykernel_14880/3009099444.py:167: FutureWarning: `torch.cuda.amp.autocast(args...)` is deprecated. Please use `torch.amp.autocast('cuda', args...)` instead.\n",
      "  with autocast():\n"
     ]
    },
    {
     "name": "stdout",
     "output_type": "stream",
     "text": [
      "🔍 [Run 4 | Epoch 24] MAE: 10.822, R²: 0.362, TrainLoss: 0.0651, ValLoss: 0.1083\n"
     ]
    },
    {
     "name": "stderr",
     "output_type": "stream",
     "text": [
      "/tmp/ipykernel_14880/3009099444.py:141: FutureWarning: `torch.cuda.amp.autocast(args...)` is deprecated. Please use `torch.amp.autocast('cuda', args...)` instead.\n",
      "  with autocast():\n",
      "/tmp/ipykernel_14880/3009099444.py:167: FutureWarning: `torch.cuda.amp.autocast(args...)` is deprecated. Please use `torch.amp.autocast('cuda', args...)` instead.\n",
      "  with autocast():\n"
     ]
    },
    {
     "name": "stdout",
     "output_type": "stream",
     "text": [
      "🔍 [Run 4 | Epoch 25] MAE: 8.230, R²: 0.634, TrainLoss: 0.0737, ValLoss: 0.0823\n",
      "🚑 Early stopping at epoch 25\n",
      "\n",
      "========== 🏁 Run 5/5 시작 ==========\n"
     ]
    },
    {
     "name": "stderr",
     "output_type": "stream",
     "text": [
      "/tmp/ipykernel_14880/3009099444.py:141: FutureWarning: `torch.cuda.amp.autocast(args...)` is deprecated. Please use `torch.amp.autocast('cuda', args...)` instead.\n",
      "  with autocast():\n",
      "/tmp/ipykernel_14880/3009099444.py:167: FutureWarning: `torch.cuda.amp.autocast(args...)` is deprecated. Please use `torch.amp.autocast('cuda', args...)` instead.\n",
      "  with autocast():\n"
     ]
    },
    {
     "name": "stdout",
     "output_type": "stream",
     "text": [
      "🔍 [Run 5 | Epoch 1] MAE: 17.668, R²: -0.712, TrainLoss: 0.7206, ValLoss: 0.1769\n"
     ]
    },
    {
     "name": "stderr",
     "output_type": "stream",
     "text": [
      "/tmp/ipykernel_14880/3009099444.py:141: FutureWarning: `torch.cuda.amp.autocast(args...)` is deprecated. Please use `torch.amp.autocast('cuda', args...)` instead.\n",
      "  with autocast():\n",
      "/tmp/ipykernel_14880/3009099444.py:167: FutureWarning: `torch.cuda.amp.autocast(args...)` is deprecated. Please use `torch.amp.autocast('cuda', args...)` instead.\n",
      "  with autocast():\n"
     ]
    },
    {
     "name": "stdout",
     "output_type": "stream",
     "text": [
      "🔍 [Run 5 | Epoch 2] MAE: 14.693, R²: -0.006, TrainLoss: 0.2234, ValLoss: 0.1471\n"
     ]
    },
    {
     "name": "stderr",
     "output_type": "stream",
     "text": [
      "/tmp/ipykernel_14880/3009099444.py:141: FutureWarning: `torch.cuda.amp.autocast(args...)` is deprecated. Please use `torch.amp.autocast('cuda', args...)` instead.\n",
      "  with autocast():\n",
      "/tmp/ipykernel_14880/3009099444.py:167: FutureWarning: `torch.cuda.amp.autocast(args...)` is deprecated. Please use `torch.amp.autocast('cuda', args...)` instead.\n",
      "  with autocast():\n"
     ]
    },
    {
     "name": "stdout",
     "output_type": "stream",
     "text": [
      "🔍 [Run 5 | Epoch 3] MAE: 14.741, R²: -0.081, TrainLoss: 0.1580, ValLoss: 0.1476\n"
     ]
    },
    {
     "name": "stderr",
     "output_type": "stream",
     "text": [
      "/tmp/ipykernel_14880/3009099444.py:141: FutureWarning: `torch.cuda.amp.autocast(args...)` is deprecated. Please use `torch.amp.autocast('cuda', args...)` instead.\n",
      "  with autocast():\n",
      "/tmp/ipykernel_14880/3009099444.py:167: FutureWarning: `torch.cuda.amp.autocast(args...)` is deprecated. Please use `torch.amp.autocast('cuda', args...)` instead.\n",
      "  with autocast():\n"
     ]
    },
    {
     "name": "stdout",
     "output_type": "stream",
     "text": [
      "🔍 [Run 5 | Epoch 4] MAE: 13.962, R²: 0.018, TrainLoss: 0.1966, ValLoss: 0.1398\n"
     ]
    },
    {
     "name": "stderr",
     "output_type": "stream",
     "text": [
      "/tmp/ipykernel_14880/3009099444.py:141: FutureWarning: `torch.cuda.amp.autocast(args...)` is deprecated. Please use `torch.amp.autocast('cuda', args...)` instead.\n",
      "  with autocast():\n",
      "/tmp/ipykernel_14880/3009099444.py:167: FutureWarning: `torch.cuda.amp.autocast(args...)` is deprecated. Please use `torch.amp.autocast('cuda', args...)` instead.\n",
      "  with autocast():\n"
     ]
    },
    {
     "name": "stdout",
     "output_type": "stream",
     "text": [
      "🔍 [Run 5 | Epoch 5] MAE: 13.833, R²: 0.075, TrainLoss: 0.1685, ValLoss: 0.1384\n"
     ]
    },
    {
     "name": "stderr",
     "output_type": "stream",
     "text": [
      "/tmp/ipykernel_14880/3009099444.py:141: FutureWarning: `torch.cuda.amp.autocast(args...)` is deprecated. Please use `torch.amp.autocast('cuda', args...)` instead.\n",
      "  with autocast():\n",
      "/tmp/ipykernel_14880/3009099444.py:167: FutureWarning: `torch.cuda.amp.autocast(args...)` is deprecated. Please use `torch.amp.autocast('cuda', args...)` instead.\n",
      "  with autocast():\n"
     ]
    },
    {
     "name": "stdout",
     "output_type": "stream",
     "text": [
      "🔍 [Run 5 | Epoch 6] MAE: 15.973, R²: -0.371, TrainLoss: 0.1542, ValLoss: 0.1600\n"
     ]
    },
    {
     "name": "stderr",
     "output_type": "stream",
     "text": [
      "/tmp/ipykernel_14880/3009099444.py:141: FutureWarning: `torch.cuda.amp.autocast(args...)` is deprecated. Please use `torch.amp.autocast('cuda', args...)` instead.\n",
      "  with autocast():\n",
      "/tmp/ipykernel_14880/3009099444.py:167: FutureWarning: `torch.cuda.amp.autocast(args...)` is deprecated. Please use `torch.amp.autocast('cuda', args...)` instead.\n",
      "  with autocast():\n"
     ]
    },
    {
     "name": "stdout",
     "output_type": "stream",
     "text": [
      "🔍 [Run 5 | Epoch 7] MAE: 13.308, R²: 0.054, TrainLoss: 0.1605, ValLoss: 0.1330\n"
     ]
    },
    {
     "name": "stderr",
     "output_type": "stream",
     "text": [
      "/tmp/ipykernel_14880/3009099444.py:141: FutureWarning: `torch.cuda.amp.autocast(args...)` is deprecated. Please use `torch.amp.autocast('cuda', args...)` instead.\n",
      "  with autocast():\n",
      "/tmp/ipykernel_14880/3009099444.py:167: FutureWarning: `torch.cuda.amp.autocast(args...)` is deprecated. Please use `torch.amp.autocast('cuda', args...)` instead.\n",
      "  with autocast():\n"
     ]
    },
    {
     "name": "stdout",
     "output_type": "stream",
     "text": [
      "🔍 [Run 5 | Epoch 8] MAE: 12.680, R²: 0.194, TrainLoss: 0.1733, ValLoss: 0.1268\n"
     ]
    },
    {
     "name": "stderr",
     "output_type": "stream",
     "text": [
      "/tmp/ipykernel_14880/3009099444.py:141: FutureWarning: `torch.cuda.amp.autocast(args...)` is deprecated. Please use `torch.amp.autocast('cuda', args...)` instead.\n",
      "  with autocast():\n",
      "/tmp/ipykernel_14880/3009099444.py:167: FutureWarning: `torch.cuda.amp.autocast(args...)` is deprecated. Please use `torch.amp.autocast('cuda', args...)` instead.\n",
      "  with autocast():\n"
     ]
    },
    {
     "name": "stdout",
     "output_type": "stream",
     "text": [
      "🔍 [Run 5 | Epoch 9] MAE: 14.596, R²: -0.166, TrainLoss: 0.1250, ValLoss: 0.1460\n"
     ]
    },
    {
     "name": "stderr",
     "output_type": "stream",
     "text": [
      "/tmp/ipykernel_14880/3009099444.py:141: FutureWarning: `torch.cuda.amp.autocast(args...)` is deprecated. Please use `torch.amp.autocast('cuda', args...)` instead.\n",
      "  with autocast():\n",
      "/tmp/ipykernel_14880/3009099444.py:167: FutureWarning: `torch.cuda.amp.autocast(args...)` is deprecated. Please use `torch.amp.autocast('cuda', args...)` instead.\n",
      "  with autocast():\n"
     ]
    },
    {
     "name": "stdout",
     "output_type": "stream",
     "text": [
      "🔍 [Run 5 | Epoch 10] MAE: 11.884, R²: 0.223, TrainLoss: 0.1444, ValLoss: 0.1187\n"
     ]
    },
    {
     "name": "stderr",
     "output_type": "stream",
     "text": [
      "/tmp/ipykernel_14880/3009099444.py:141: FutureWarning: `torch.cuda.amp.autocast(args...)` is deprecated. Please use `torch.amp.autocast('cuda', args...)` instead.\n",
      "  with autocast():\n",
      "/tmp/ipykernel_14880/3009099444.py:167: FutureWarning: `torch.cuda.amp.autocast(args...)` is deprecated. Please use `torch.amp.autocast('cuda', args...)` instead.\n",
      "  with autocast():\n"
     ]
    },
    {
     "name": "stdout",
     "output_type": "stream",
     "text": [
      "🔍 [Run 5 | Epoch 11] MAE: 14.612, R²: -0.170, TrainLoss: 0.1133, ValLoss: 0.1462\n"
     ]
    },
    {
     "name": "stderr",
     "output_type": "stream",
     "text": [
      "/tmp/ipykernel_14880/3009099444.py:141: FutureWarning: `torch.cuda.amp.autocast(args...)` is deprecated. Please use `torch.amp.autocast('cuda', args...)` instead.\n",
      "  with autocast():\n",
      "/tmp/ipykernel_14880/3009099444.py:167: FutureWarning: `torch.cuda.amp.autocast(args...)` is deprecated. Please use `torch.amp.autocast('cuda', args...)` instead.\n",
      "  with autocast():\n"
     ]
    },
    {
     "name": "stdout",
     "output_type": "stream",
     "text": [
      "🔍 [Run 5 | Epoch 12] MAE: 9.898, R²: 0.501, TrainLoss: 0.1297, ValLoss: 0.0990\n"
     ]
    },
    {
     "name": "stderr",
     "output_type": "stream",
     "text": [
      "/tmp/ipykernel_14880/3009099444.py:141: FutureWarning: `torch.cuda.amp.autocast(args...)` is deprecated. Please use `torch.amp.autocast('cuda', args...)` instead.\n",
      "  with autocast():\n",
      "/tmp/ipykernel_14880/3009099444.py:167: FutureWarning: `torch.cuda.amp.autocast(args...)` is deprecated. Please use `torch.amp.autocast('cuda', args...)` instead.\n",
      "  with autocast():\n"
     ]
    },
    {
     "name": "stdout",
     "output_type": "stream",
     "text": [
      "🔍 [Run 5 | Epoch 13] MAE: 9.105, R²: 0.506, TrainLoss: 0.1168, ValLoss: 0.0911\n"
     ]
    },
    {
     "name": "stderr",
     "output_type": "stream",
     "text": [
      "/tmp/ipykernel_14880/3009099444.py:141: FutureWarning: `torch.cuda.amp.autocast(args...)` is deprecated. Please use `torch.amp.autocast('cuda', args...)` instead.\n",
      "  with autocast():\n",
      "/tmp/ipykernel_14880/3009099444.py:167: FutureWarning: `torch.cuda.amp.autocast(args...)` is deprecated. Please use `torch.amp.autocast('cuda', args...)` instead.\n",
      "  with autocast():\n"
     ]
    },
    {
     "name": "stdout",
     "output_type": "stream",
     "text": [
      "🔍 [Run 5 | Epoch 14] MAE: 10.022, R²: 0.430, TrainLoss: 0.1066, ValLoss: 0.1001\n"
     ]
    },
    {
     "name": "stderr",
     "output_type": "stream",
     "text": [
      "/tmp/ipykernel_14880/3009099444.py:141: FutureWarning: `torch.cuda.amp.autocast(args...)` is deprecated. Please use `torch.amp.autocast('cuda', args...)` instead.\n",
      "  with autocast():\n",
      "/tmp/ipykernel_14880/3009099444.py:167: FutureWarning: `torch.cuda.amp.autocast(args...)` is deprecated. Please use `torch.amp.autocast('cuda', args...)` instead.\n",
      "  with autocast():\n"
     ]
    },
    {
     "name": "stdout",
     "output_type": "stream",
     "text": [
      "🔍 [Run 5 | Epoch 15] MAE: 13.811, R²: -0.173, TrainLoss: 0.0905, ValLoss: 0.1380\n"
     ]
    },
    {
     "name": "stderr",
     "output_type": "stream",
     "text": [
      "/tmp/ipykernel_14880/3009099444.py:141: FutureWarning: `torch.cuda.amp.autocast(args...)` is deprecated. Please use `torch.amp.autocast('cuda', args...)` instead.\n",
      "  with autocast():\n",
      "/tmp/ipykernel_14880/3009099444.py:167: FutureWarning: `torch.cuda.amp.autocast(args...)` is deprecated. Please use `torch.amp.autocast('cuda', args...)` instead.\n",
      "  with autocast():\n"
     ]
    },
    {
     "name": "stdout",
     "output_type": "stream",
     "text": [
      "🔍 [Run 5 | Epoch 16] MAE: 11.793, R²: 0.226, TrainLoss: 0.1081, ValLoss: 0.1179\n"
     ]
    },
    {
     "name": "stderr",
     "output_type": "stream",
     "text": [
      "/tmp/ipykernel_14880/3009099444.py:141: FutureWarning: `torch.cuda.amp.autocast(args...)` is deprecated. Please use `torch.amp.autocast('cuda', args...)` instead.\n",
      "  with autocast():\n",
      "/tmp/ipykernel_14880/3009099444.py:167: FutureWarning: `torch.cuda.amp.autocast(args...)` is deprecated. Please use `torch.amp.autocast('cuda', args...)` instead.\n",
      "  with autocast():\n"
     ]
    },
    {
     "name": "stdout",
     "output_type": "stream",
     "text": [
      "🔍 [Run 5 | Epoch 17] MAE: 8.506, R²: 0.583, TrainLoss: 0.0739, ValLoss: 0.0852\n"
     ]
    },
    {
     "name": "stderr",
     "output_type": "stream",
     "text": [
      "/tmp/ipykernel_14880/3009099444.py:141: FutureWarning: `torch.cuda.amp.autocast(args...)` is deprecated. Please use `torch.amp.autocast('cuda', args...)` instead.\n",
      "  with autocast():\n",
      "/tmp/ipykernel_14880/3009099444.py:167: FutureWarning: `torch.cuda.amp.autocast(args...)` is deprecated. Please use `torch.amp.autocast('cuda', args...)` instead.\n",
      "  with autocast():\n"
     ]
    },
    {
     "name": "stdout",
     "output_type": "stream",
     "text": [
      "🔍 [Run 5 | Epoch 18] MAE: 9.390, R²: 0.460, TrainLoss: 0.0820, ValLoss: 0.0939\n"
     ]
    },
    {
     "name": "stderr",
     "output_type": "stream",
     "text": [
      "/tmp/ipykernel_14880/3009099444.py:141: FutureWarning: `torch.cuda.amp.autocast(args...)` is deprecated. Please use `torch.amp.autocast('cuda', args...)` instead.\n",
      "  with autocast():\n",
      "/tmp/ipykernel_14880/3009099444.py:167: FutureWarning: `torch.cuda.amp.autocast(args...)` is deprecated. Please use `torch.amp.autocast('cuda', args...)` instead.\n",
      "  with autocast():\n"
     ]
    },
    {
     "name": "stdout",
     "output_type": "stream",
     "text": [
      "🔍 [Run 5 | Epoch 19] MAE: 7.509, R²: 0.680, TrainLoss: 0.0772, ValLoss: 0.0750\n"
     ]
    },
    {
     "name": "stderr",
     "output_type": "stream",
     "text": [
      "/tmp/ipykernel_14880/3009099444.py:141: FutureWarning: `torch.cuda.amp.autocast(args...)` is deprecated. Please use `torch.amp.autocast('cuda', args...)` instead.\n",
      "  with autocast():\n",
      "/tmp/ipykernel_14880/3009099444.py:167: FutureWarning: `torch.cuda.amp.autocast(args...)` is deprecated. Please use `torch.amp.autocast('cuda', args...)` instead.\n",
      "  with autocast():\n"
     ]
    },
    {
     "name": "stdout",
     "output_type": "stream",
     "text": [
      "🔍 [Run 5 | Epoch 20] MAE: 7.858, R²: 0.649, TrainLoss: 0.1013, ValLoss: 0.0785\n"
     ]
    },
    {
     "name": "stderr",
     "output_type": "stream",
     "text": [
      "/tmp/ipykernel_14880/3009099444.py:141: FutureWarning: `torch.cuda.amp.autocast(args...)` is deprecated. Please use `torch.amp.autocast('cuda', args...)` instead.\n",
      "  with autocast():\n",
      "/tmp/ipykernel_14880/3009099444.py:167: FutureWarning: `torch.cuda.amp.autocast(args...)` is deprecated. Please use `torch.amp.autocast('cuda', args...)` instead.\n",
      "  with autocast():\n"
     ]
    },
    {
     "name": "stdout",
     "output_type": "stream",
     "text": [
      "🔍 [Run 5 | Epoch 21] MAE: 8.642, R²: 0.578, TrainLoss: 0.0710, ValLoss: 0.0863\n"
     ]
    },
    {
     "name": "stderr",
     "output_type": "stream",
     "text": [
      "/tmp/ipykernel_14880/3009099444.py:141: FutureWarning: `torch.cuda.amp.autocast(args...)` is deprecated. Please use `torch.amp.autocast('cuda', args...)` instead.\n",
      "  with autocast():\n",
      "/tmp/ipykernel_14880/3009099444.py:167: FutureWarning: `torch.cuda.amp.autocast(args...)` is deprecated. Please use `torch.amp.autocast('cuda', args...)` instead.\n",
      "  with autocast():\n"
     ]
    },
    {
     "name": "stdout",
     "output_type": "stream",
     "text": [
      "🔍 [Run 5 | Epoch 22] MAE: 10.901, R²: 0.383, TrainLoss: 0.0778, ValLoss: 0.1090\n"
     ]
    },
    {
     "name": "stderr",
     "output_type": "stream",
     "text": [
      "/tmp/ipykernel_14880/3009099444.py:141: FutureWarning: `torch.cuda.amp.autocast(args...)` is deprecated. Please use `torch.amp.autocast('cuda', args...)` instead.\n",
      "  with autocast():\n",
      "/tmp/ipykernel_14880/3009099444.py:167: FutureWarning: `torch.cuda.amp.autocast(args...)` is deprecated. Please use `torch.amp.autocast('cuda', args...)` instead.\n",
      "  with autocast():\n"
     ]
    },
    {
     "name": "stdout",
     "output_type": "stream",
     "text": [
      "🔍 [Run 5 | Epoch 23] MAE: 14.371, R²: -0.003, TrainLoss: 0.0695, ValLoss: 0.1437\n"
     ]
    },
    {
     "name": "stderr",
     "output_type": "stream",
     "text": [
      "/tmp/ipykernel_14880/3009099444.py:141: FutureWarning: `torch.cuda.amp.autocast(args...)` is deprecated. Please use `torch.amp.autocast('cuda', args...)` instead.\n",
      "  with autocast():\n",
      "/tmp/ipykernel_14880/3009099444.py:167: FutureWarning: `torch.cuda.amp.autocast(args...)` is deprecated. Please use `torch.amp.autocast('cuda', args...)` instead.\n",
      "  with autocast():\n"
     ]
    },
    {
     "name": "stdout",
     "output_type": "stream",
     "text": [
      "🔍 [Run 5 | Epoch 24] MAE: 7.945, R²: 0.629, TrainLoss: 0.0645, ValLoss: 0.0794\n"
     ]
    },
    {
     "name": "stderr",
     "output_type": "stream",
     "text": [
      "/tmp/ipykernel_14880/3009099444.py:141: FutureWarning: `torch.cuda.amp.autocast(args...)` is deprecated. Please use `torch.amp.autocast('cuda', args...)` instead.\n",
      "  with autocast():\n",
      "/tmp/ipykernel_14880/3009099444.py:167: FutureWarning: `torch.cuda.amp.autocast(args...)` is deprecated. Please use `torch.amp.autocast('cuda', args...)` instead.\n",
      "  with autocast():\n"
     ]
    },
    {
     "name": "stdout",
     "output_type": "stream",
     "text": [
      "🔍 [Run 5 | Epoch 25] MAE: 6.504, R²: 0.763, TrainLoss: 0.0636, ValLoss: 0.0649\n"
     ]
    },
    {
     "name": "stderr",
     "output_type": "stream",
     "text": [
      "/tmp/ipykernel_14880/3009099444.py:141: FutureWarning: `torch.cuda.amp.autocast(args...)` is deprecated. Please use `torch.amp.autocast('cuda', args...)` instead.\n",
      "  with autocast():\n",
      "/tmp/ipykernel_14880/3009099444.py:167: FutureWarning: `torch.cuda.amp.autocast(args...)` is deprecated. Please use `torch.amp.autocast('cuda', args...)` instead.\n",
      "  with autocast():\n"
     ]
    },
    {
     "name": "stdout",
     "output_type": "stream",
     "text": [
      "🔍 [Run 5 | Epoch 26] MAE: 7.372, R²: 0.668, TrainLoss: 0.0626, ValLoss: 0.0737\n"
     ]
    },
    {
     "name": "stderr",
     "output_type": "stream",
     "text": [
      "/tmp/ipykernel_14880/3009099444.py:141: FutureWarning: `torch.cuda.amp.autocast(args...)` is deprecated. Please use `torch.amp.autocast('cuda', args...)` instead.\n",
      "  with autocast():\n",
      "/tmp/ipykernel_14880/3009099444.py:167: FutureWarning: `torch.cuda.amp.autocast(args...)` is deprecated. Please use `torch.amp.autocast('cuda', args...)` instead.\n",
      "  with autocast():\n"
     ]
    },
    {
     "name": "stdout",
     "output_type": "stream",
     "text": [
      "🔍 [Run 5 | Epoch 27] MAE: 6.621, R²: 0.744, TrainLoss: 0.0609, ValLoss: 0.0661\n"
     ]
    },
    {
     "name": "stderr",
     "output_type": "stream",
     "text": [
      "/tmp/ipykernel_14880/3009099444.py:141: FutureWarning: `torch.cuda.amp.autocast(args...)` is deprecated. Please use `torch.amp.autocast('cuda', args...)` instead.\n",
      "  with autocast():\n",
      "/tmp/ipykernel_14880/3009099444.py:167: FutureWarning: `torch.cuda.amp.autocast(args...)` is deprecated. Please use `torch.amp.autocast('cuda', args...)` instead.\n",
      "  with autocast():\n"
     ]
    },
    {
     "name": "stdout",
     "output_type": "stream",
     "text": [
      "🔍 [Run 5 | Epoch 28] MAE: 8.496, R²: 0.581, TrainLoss: 0.0814, ValLoss: 0.0849\n"
     ]
    },
    {
     "name": "stderr",
     "output_type": "stream",
     "text": [
      "/tmp/ipykernel_14880/3009099444.py:141: FutureWarning: `torch.cuda.amp.autocast(args...)` is deprecated. Please use `torch.amp.autocast('cuda', args...)` instead.\n",
      "  with autocast():\n",
      "/tmp/ipykernel_14880/3009099444.py:167: FutureWarning: `torch.cuda.amp.autocast(args...)` is deprecated. Please use `torch.amp.autocast('cuda', args...)` instead.\n",
      "  with autocast():\n"
     ]
    },
    {
     "name": "stdout",
     "output_type": "stream",
     "text": [
      "🔍 [Run 5 | Epoch 29] MAE: 9.189, R²: 0.546, TrainLoss: 0.0682, ValLoss: 0.0918\n"
     ]
    },
    {
     "name": "stderr",
     "output_type": "stream",
     "text": [
      "/tmp/ipykernel_14880/3009099444.py:141: FutureWarning: `torch.cuda.amp.autocast(args...)` is deprecated. Please use `torch.amp.autocast('cuda', args...)` instead.\n",
      "  with autocast():\n",
      "/tmp/ipykernel_14880/3009099444.py:167: FutureWarning: `torch.cuda.amp.autocast(args...)` is deprecated. Please use `torch.amp.autocast('cuda', args...)` instead.\n",
      "  with autocast():\n"
     ]
    },
    {
     "name": "stdout",
     "output_type": "stream",
     "text": [
      "🔍 [Run 5 | Epoch 30] MAE: 7.922, R²: 0.663, TrainLoss: 0.0566, ValLoss: 0.0792\n"
     ]
    },
    {
     "name": "stderr",
     "output_type": "stream",
     "text": [
      "/tmp/ipykernel_14880/3009099444.py:141: FutureWarning: `torch.cuda.amp.autocast(args...)` is deprecated. Please use `torch.amp.autocast('cuda', args...)` instead.\n",
      "  with autocast():\n",
      "/tmp/ipykernel_14880/3009099444.py:167: FutureWarning: `torch.cuda.amp.autocast(args...)` is deprecated. Please use `torch.amp.autocast('cuda', args...)` instead.\n",
      "  with autocast():\n"
     ]
    },
    {
     "name": "stdout",
     "output_type": "stream",
     "text": [
      "🔍 [Run 5 | Epoch 31] MAE: 6.663, R²: 0.753, TrainLoss: 0.0760, ValLoss: 0.0665\n"
     ]
    },
    {
     "name": "stderr",
     "output_type": "stream",
     "text": [
      "/tmp/ipykernel_14880/3009099444.py:141: FutureWarning: `torch.cuda.amp.autocast(args...)` is deprecated. Please use `torch.amp.autocast('cuda', args...)` instead.\n",
      "  with autocast():\n",
      "/tmp/ipykernel_14880/3009099444.py:167: FutureWarning: `torch.cuda.amp.autocast(args...)` is deprecated. Please use `torch.amp.autocast('cuda', args...)` instead.\n",
      "  with autocast():\n"
     ]
    },
    {
     "name": "stdout",
     "output_type": "stream",
     "text": [
      "🔍 [Run 5 | Epoch 32] MAE: 7.352, R²: 0.707, TrainLoss: 0.0710, ValLoss: 0.0734\n",
      "🚑 Early stopping at epoch 32\n"
     ]
    },
    {
     "data": {
      "image/png": "[encoded data removed]",
      "text/plain": [
       "<Figure size 1000x500 with 1 Axes>"
      ]
     },
     "metadata": {},
     "output_type": "display_data"
    },
    {
     "data": {
      "image/png": "[encoded data removed]",
      "text/plain": [
       "<Figure size 1000x500 with 1 Axes>"
      ]
     },
     "metadata": {},
     "output_type": "display_data"
    }
   ],
   "source": [
    "import os\n",
    "import glob\n",
    "import pandas as pd\n",
    "import numpy as np\n",
    "import nibabel as nib\n",
    "from PIL import Image\n",
    "from sklearn.model_selection import train_test_split\n",
    "from sklearn.metrics import mean_absolute_error, r2_score\n",
    "import matplotlib.pyplot as plt\n",
    "\n",
    "import torch\n",
    "import torch.nn as nn\n",
    "from torch.utils.data import Dataset, DataLoader\n",
    "from torchvision import transforms\n",
    "import timm\n",
    "from torch.cuda.amp import autocast, GradScaler\n",
    "\n",
    "# 🔧 저장 경로 설정\n",
    "SAVE_DIR = \"./models/convnext_ixi\"\n",
    "os.makedirs(SAVE_DIR, exist_ok=True)\n",
    "\n",
    "# 1. Load metadata\n",
    "print(\"📁 Loading IXI metadata...\")\n",
    "df_info = pd.read_excel(\"./IXI-T1/IXI.xls\", sheet_name=\"Table\")\n",
    "df_info[\"IXI_ID\"] = df_info[\"IXI_ID\"].apply(lambda x: f\"IXI{int(x):03d}\")\n",
    "df_info = df_info[[\"IXI_ID\", \"AGE\"]]\n",
    "\n",
    "if df_info[\"AGE\"].isna().sum() > 0:\n",
    "    print(f\"⚠️ AGE 컬럼에 NaN 존재 → {df_info['AGE'].isna().sum()}개 행 제거합니다.\")\n",
    "    df_info = df_info.dropna(subset=[\"AGE\"])\n",
    "\n",
    "nifti_paths = sorted(glob.glob(\"./IXI-T1/*.nii.gz\"))\n",
    "records = []\n",
    "for path in nifti_paths:\n",
    "    basename = os.path.basename(path)\n",
    "    ixid = basename.split(\"-\")[0]\n",
    "    age_row = df_info[df_info[\"IXI_ID\"] == ixid]\n",
    "    if not age_row.empty:\n",
    "        age = age_row.iloc[0][\"AGE\"]\n",
    "        records.append({\"path\": path, \"IXI_ID\": ixid, \"AGE\": age})\n",
    "df = pd.DataFrame(records)\n",
    "print(f\"✅ 매칭된 샜항 수: {len(df)}\")\n",
    "\n",
    "# 2. Dataset\n",
    "class IXIAgeDataset(Dataset):\n",
    "    def __init__(self, df, transform=None, num_slices=30, resolution=(224, 224)):\n",
    "        self.df = df\n",
    "        self.num_slices = num_slices\n",
    "        self.resolution = resolution\n",
    "        self.transform = transform or transforms.Compose([\n",
    "            transforms.Resize(self.resolution),\n",
    "            transforms.ToTensor(),\n",
    "            transforms.Normalize([0.485], [0.229]),\n",
    "        ])\n",
    "\n",
    "    def __len__(self):\n",
    "        return len(self.df)\n",
    "\n",
    "    def __getitem__(self, idx):\n",
    "        row = self.df.iloc[idx]\n",
    "        img = nib.load(row[\"path\"]).get_fdata()\n",
    "        z_center = img.shape[2] // 2\n",
    "        half = self.num_slices // 2\n",
    "        slice_indices = list(range(z_center - half, z_center + half))\n",
    "\n",
    "        slices = []\n",
    "        for z in slice_indices:\n",
    "            if z < 0 or z >= img.shape[2]:\n",
    "                slice_img = np.zeros_like(img[:, :, 0], dtype=np.float32)\n",
    "            else:\n",
    "                slice_img = img[:, :, z]\n",
    "                if slice_img.max() != slice_img.min():\n",
    "                    slice_img = ((slice_img - slice_img.min()) / (slice_img.max() - slice_img.min())).astype(np.float32)\n",
    "                else:\n",
    "                    slice_img = np.zeros_like(slice_img, dtype=np.float32)\n",
    "\n",
    "            pil_img = Image.fromarray((slice_img * 255).astype(np.uint8)).convert(\"L\")\n",
    "            tensor_img = self.transform(pil_img)\n",
    "            slices.append(tensor_img)\n",
    "\n",
    "        stack_tensor = torch.stack(slices, dim=0).squeeze(1)  # (num_slices, H, W)\n",
    "        age = torch.tensor(row[\"AGE\"] / 100.0, dtype=torch.float32)\n",
    "        return stack_tensor, age\n",
    "\n",
    "\n",
    "# 3. ConvNeXt Small 모델 정의\n",
    "class ConvNeXtRegressor(nn.Module):\n",
    "    def __init__(self):\n",
    "        super().__init__()\n",
    "        self.backbone = timm.create_model('convnext_small', pretrained=True, num_classes=1)\n",
    "\n",
    "    def forward(self, x):\n",
    "        return self.backbone(x).squeeze(1)\n",
    "\n",
    "# 4. 학생 설정\n",
    "device = torch.device(\"cuda\" if torch.cuda.is_available() else \"cpu\")\n",
    "print(f\"📠️ Using device: {device}\")\n",
    "\n",
    "mae_list = []\n",
    "r2_list = []\n",
    "global_best_mae = float('inf')\n",
    "global_best_model_state = None\n",
    "scaler = GradScaler()\n",
    "\n",
    "# 5. 하이퍼파리터 설정\n",
    "batch_size = 10\n",
    "num_epochs = 500\n",
    "num_slices = 30\n",
    "image_resolution = (224, 224)\n",
    "\n",
    "# 6. 5번 반복 학생\n",
    "for run in range(5):\n",
    "    print(f\"\\n========== 🏁 Run {run+1}/5 시작 ==========\")\n",
    "    train_df, val_df = train_test_split(df, test_size=0.3, random_state=run)\n",
    "\n",
    "    train_set = IXIAgeDataset(train_df, num_slices=num_slices, resolution=image_resolution)\n",
    "    val_set = IXIAgeDataset(val_df, num_slices=num_slices, resolution=image_resolution)\n",
    "    train_loader = DataLoader(train_set, batch_size=batch_size, shuffle=True, num_workers=4, pin_memory=True)\n",
    "    val_loader = DataLoader(val_set, batch_size=batch_size, num_workers=4, pin_memory=True)\n",
    "\n",
    "    model = ConvNeXtRegressor().to(device)\n",
    "    optimizer = torch.optim.AdamW(model.parameters(), lr=1e-4)\n",
    "    criterion = nn.L1Loss()\n",
    "\n",
    "    best_mae = float('inf')\n",
    "    best_model_path = os.path.join(SAVE_DIR, f\"best_model_run{run+1}.pt\")\n",
    "    patience = 7\n",
    "    patience_counter = 0\n",
    "\n",
    "    train_losses = []\n",
    "    val_losses = []\n",
    "\n",
    "    for epoch in range(num_epochs):\n",
    "        model.train()\n",
    "        total_loss = 0\n",
    "        for batch_idx, (x, y) in enumerate(train_loader):\n",
    "            x, y = x.to(device), y.to(device)\n",
    "            B, S, H, W = x.shape\n",
    "            x = x.view(B * S, 1, H, W).repeat(1, 3, 1, 1)\n",
    "\n",
    "            with autocast():\n",
    "                pred = model(x).view(B, S).mean(dim=1)\n",
    "                loss = criterion(pred, y)\n",
    "\n",
    "            if torch.isnan(loss):\n",
    "                continue\n",
    "\n",
    "            optimizer.zero_grad()\n",
    "            scaler.scale(loss).backward()\n",
    "            torch.nn.utils.clip_grad_norm_(model.parameters(), max_norm=1.0)\n",
    "            scaler.step(optimizer)\n",
    "            scaler.update()\n",
    "\n",
    "            total_loss += loss.item()\n",
    "\n",
    "        train_losses.append(total_loss / len(train_loader))\n",
    "\n",
    "        model.eval()\n",
    "        preds = []\n",
    "        trues = []\n",
    "        val_loss_total = 0\n",
    "        with torch.no_grad():\n",
    "            for x, y in val_loader:\n",
    "                x, y = x.to(device), y.to(device)\n",
    "                B, S, H, W = x.shape\n",
    "                x = x.view(B * S, 1, H, W).repeat(1, 3, 1, 1)\n",
    "                with autocast():\n",
    "                    pred = model(x).view(B, S).mean(dim=1)\n",
    "                    loss = criterion(pred, y)\n",
    "                val_loss_total += loss.item()\n",
    "                preds.extend((pred * 100).cpu().numpy())\n",
    "                trues.extend((y * 100).cpu().numpy())\n",
    "\n",
    "        val_losses.append(val_loss_total / len(val_loader))\n",
    "\n",
    "        mae = mean_absolute_error(trues, preds)\n",
    "        r2 = r2_score(trues, preds)\n",
    "        print(f\"🔍 [Run {run+1} | Epoch {epoch+1}] MAE: {mae:.3f}, R²: {r2:.3f}, TrainLoss: {train_losses[-1]:.4f}, ValLoss: {val_losses[-1]:.4f}\")\n",
    "\n",
    "        if mae < best_mae:\n",
    "            best_mae = mae\n",
    "            patience_counter = 0\n",
    "            torch.save(model.state_dict(), best_model_path)\n",
    "        else:\n",
    "            patience_counter += 1\n",
    "\n",
    "        if patience_counter >= patience:\n",
    "            print(f\"🚑 Early stopping at epoch {epoch+1}\")\n",
    "            break\n",
    "\n",
    "    if best_mae < global_best_mae:\n",
    "        global_best_mae = best_mae\n",
    "        global_best_model_state = model.state_dict()\n",
    "        best_run_id = run + 1\n",
    "\n",
    "    mae_list.append(best_mae)\n",
    "    r2_list.append(r2)\n",
    "\n",
    "    # 🎨 개별 run의 학생 규선 저장\n",
    "    plt.figure(figsize=(10, 5))\n",
    "    plt.plot(train_losses, label='Train Loss')\n",
    "    plt.plot(val_losses, label='Val Loss')\n",
    "    plt.title(f\"Train vs Val Loss (Run {run+1})\")\n",
    "    plt.xlabel(\"Epoch\")\n",
    "    plt.ylabel(\"Loss\")\n",
    "    plt.legend()\n",
    "    plt.grid(True)\n",
    "    plt.savefig(os.path.join(SAVE_DIR, f\"loss_curve_run{run+1}.png\"))\n",
    "    plt.close()\n",
    "\n",
    "# 7. 전체 최고 모델 저장\n",
    "torch.save(global_best_model_state, os.path.join(SAVE_DIR, \"best_model_overall.pt\"))\n",
    "\n",
    "# 8. 성능 요약 시각화\n",
    "plt.figure(figsize=(10,5))\n",
    "plt.plot(mae_list, marker='o', label='MAE')\n",
    "plt.title(\"MAE over 5 Random Splits\")\n",
    "plt.xlabel(\"Run\")\n",
    "plt.ylabel(\"MAE\")\n",
    "plt.legend()\n",
    "plt.grid(True)\n",
    "plt.savefig(os.path.join(SAVE_DIR, \"mae_plot.png\"))\n",
    "plt.show()\n",
    "\n",
    "plt.figure(figsize=(10,5))\n",
    "plt.plot(r2_list, marker='s', label='R²')\n",
    "plt.title(\"R² Score over 5 Random Splits\")\n",
    "plt.xlabel(\"Run\")\n",
    "plt.ylabel(\"R² Score\")\n",
    "plt.legend()\n",
    "plt.grid(True)\n",
    "plt.savefig(os.path.join(SAVE_DIR, \"r2_plot.png\"))\n",
    "plt.show()\n"
   ]
  },
  {
   "cell_type": "code",
   "execution_count": 3,
   "id": "cefe5f45-25ba-44ca-bea7-08a9c78ad9d5",
   "metadata": {},
   "outputs": [
    {
     "name": "stdout",
     "output_type": "stream",
     "text": [
      "📁 Loading IXI metadata...\n",
      "⚠️ AGE 컬럼에 NaN 존재 → 29개 행 제거합니다.\n",
      "✅ 매칭된 샜항 수: 563\n",
      "📠️ Using device: cuda\n",
      "\n",
      "========== 🏁 Run 1/5 시작 ==========\n"
     ]
    },
    {
     "name": "stderr",
     "output_type": "stream",
     "text": [
      "/tmp/ipykernel_14880/2133873398.py:103: FutureWarning: `torch.cuda.amp.GradScaler(args...)` is deprecated. Please use `torch.amp.GradScaler('cuda', args...)` instead.\n",
      "  scaler = GradScaler()\n",
      "/venv/main/lib/python3.10/site-packages/torchvision/models/_utils.py:208: UserWarning: The parameter 'pretrained' is deprecated since 0.13 and may be removed in the future, please use 'weights' instead.\n",
      "  warnings.warn(\n",
      "/venv/main/lib/python3.10/site-packages/torchvision/models/_utils.py:223: UserWarning: Arguments other than a weight enum or `None` for 'weights' are deprecated since 0.13 and may be removed in the future. The current behavior is equivalent to passing `weights=VGG16_BN_Weights.IMAGENET1K_V1`. You can also use `weights=VGG16_BN_Weights.DEFAULT` to get the most up-to-date weights.\n",
      "  warnings.warn(msg)\n",
      "/tmp/ipykernel_14880/2133873398.py:141: FutureWarning: `torch.cuda.amp.autocast(args...)` is deprecated. Please use `torch.amp.autocast('cuda', args...)` instead.\n",
      "  with autocast():\n",
      "/tmp/ipykernel_14880/2133873398.py:167: FutureWarning: `torch.cuda.amp.autocast(args...)` is deprecated. Please use `torch.amp.autocast('cuda', args...)` instead.\n",
      "  with autocast():\n"
     ]
    },
    {
     "name": "stdout",
     "output_type": "stream",
     "text": [
      "🔍 [Run 1 | Epoch 1] MAE: 7.217, R²: 0.667, TrainLoss: 0.1711, ValLoss: 0.0725\n"
     ]
    },
    {
     "name": "stderr",
     "output_type": "stream",
     "text": [
      "/tmp/ipykernel_14880/2133873398.py:141: FutureWarning: `torch.cuda.amp.autocast(args...)` is deprecated. Please use `torch.amp.autocast('cuda', args...)` instead.\n",
      "  with autocast():\n",
      "/tmp/ipykernel_14880/2133873398.py:167: FutureWarning: `torch.cuda.amp.autocast(args...)` is deprecated. Please use `torch.amp.autocast('cuda', args...)` instead.\n",
      "  with autocast():\n"
     ]
    },
    {
     "name": "stdout",
     "output_type": "stream",
     "text": [
      "🔍 [Run 1 | Epoch 2] MAE: 16.179, R²: -0.345, TrainLoss: 0.1053, ValLoss: 0.1616\n"
     ]
    },
    {
     "name": "stderr",
     "output_type": "stream",
     "text": [
      "/tmp/ipykernel_14880/2133873398.py:141: FutureWarning: `torch.cuda.amp.autocast(args...)` is deprecated. Please use `torch.amp.autocast('cuda', args...)` instead.\n",
      "  with autocast():\n",
      "/tmp/ipykernel_14880/2133873398.py:167: FutureWarning: `torch.cuda.amp.autocast(args...)` is deprecated. Please use `torch.amp.autocast('cuda', args...)` instead.\n",
      "  with autocast():\n"
     ]
    },
    {
     "name": "stdout",
     "output_type": "stream",
     "text": [
      "🔍 [Run 1 | Epoch 3] MAE: 11.067, R²: 0.369, TrainLoss: 0.0883, ValLoss: 0.1103\n"
     ]
    },
    {
     "name": "stderr",
     "output_type": "stream",
     "text": [
      "/tmp/ipykernel_14880/2133873398.py:141: FutureWarning: `torch.cuda.amp.autocast(args...)` is deprecated. Please use `torch.amp.autocast('cuda', args...)` instead.\n",
      "  with autocast():\n",
      "/tmp/ipykernel_14880/2133873398.py:167: FutureWarning: `torch.cuda.amp.autocast(args...)` is deprecated. Please use `torch.amp.autocast('cuda', args...)` instead.\n",
      "  with autocast():\n"
     ]
    },
    {
     "name": "stdout",
     "output_type": "stream",
     "text": [
      "🔍 [Run 1 | Epoch 4] MAE: 10.683, R²: 0.424, TrainLoss: 0.0727, ValLoss: 0.1066\n"
     ]
    },
    {
     "name": "stderr",
     "output_type": "stream",
     "text": [
      "/tmp/ipykernel_14880/2133873398.py:141: FutureWarning: `torch.cuda.amp.autocast(args...)` is deprecated. Please use `torch.amp.autocast('cuda', args...)` instead.\n",
      "  with autocast():\n",
      "/tmp/ipykernel_14880/2133873398.py:167: FutureWarning: `torch.cuda.amp.autocast(args...)` is deprecated. Please use `torch.amp.autocast('cuda', args...)` instead.\n",
      "  with autocast():\n"
     ]
    },
    {
     "name": "stdout",
     "output_type": "stream",
     "text": [
      "🔍 [Run 1 | Epoch 5] MAE: 8.613, R²: 0.611, TrainLoss: 0.0632, ValLoss: 0.0860\n"
     ]
    },
    {
     "name": "stderr",
     "output_type": "stream",
     "text": [
      "/tmp/ipykernel_14880/2133873398.py:141: FutureWarning: `torch.cuda.amp.autocast(args...)` is deprecated. Please use `torch.amp.autocast('cuda', args...)` instead.\n",
      "  with autocast():\n",
      "/tmp/ipykernel_14880/2133873398.py:167: FutureWarning: `torch.cuda.amp.autocast(args...)` is deprecated. Please use `torch.amp.autocast('cuda', args...)` instead.\n",
      "  with autocast():\n"
     ]
    },
    {
     "name": "stdout",
     "output_type": "stream",
     "text": [
      "🔍 [Run 1 | Epoch 6] MAE: 5.950, R²: 0.770, TrainLoss: 0.0521, ValLoss: 0.0594\n"
     ]
    },
    {
     "name": "stderr",
     "output_type": "stream",
     "text": [
      "/tmp/ipykernel_14880/2133873398.py:141: FutureWarning: `torch.cuda.amp.autocast(args...)` is deprecated. Please use `torch.amp.autocast('cuda', args...)` instead.\n",
      "  with autocast():\n",
      "/tmp/ipykernel_14880/2133873398.py:167: FutureWarning: `torch.cuda.amp.autocast(args...)` is deprecated. Please use `torch.amp.autocast('cuda', args...)` instead.\n",
      "  with autocast():\n"
     ]
    },
    {
     "name": "stdout",
     "output_type": "stream",
     "text": [
      "🔍 [Run 1 | Epoch 7] MAE: 4.998, R²: 0.835, TrainLoss: 0.0697, ValLoss: 0.0500\n"
     ]
    },
    {
     "name": "stderr",
     "output_type": "stream",
     "text": [
      "/tmp/ipykernel_14880/2133873398.py:141: FutureWarning: `torch.cuda.amp.autocast(args...)` is deprecated. Please use `torch.amp.autocast('cuda', args...)` instead.\n",
      "  with autocast():\n",
      "/tmp/ipykernel_14880/2133873398.py:167: FutureWarning: `torch.cuda.amp.autocast(args...)` is deprecated. Please use `torch.amp.autocast('cuda', args...)` instead.\n",
      "  with autocast():\n"
     ]
    },
    {
     "name": "stdout",
     "output_type": "stream",
     "text": [
      "🔍 [Run 1 | Epoch 8] MAE: 4.616, R²: 0.865, TrainLoss: 0.0503, ValLoss: 0.0461\n"
     ]
    },
    {
     "name": "stderr",
     "output_type": "stream",
     "text": [
      "/tmp/ipykernel_14880/2133873398.py:141: FutureWarning: `torch.cuda.amp.autocast(args...)` is deprecated. Please use `torch.amp.autocast('cuda', args...)` instead.\n",
      "  with autocast():\n",
      "/tmp/ipykernel_14880/2133873398.py:167: FutureWarning: `torch.cuda.amp.autocast(args...)` is deprecated. Please use `torch.amp.autocast('cuda', args...)` instead.\n",
      "  with autocast():\n"
     ]
    },
    {
     "name": "stdout",
     "output_type": "stream",
     "text": [
      "🔍 [Run 1 | Epoch 9] MAE: 6.519, R²: 0.730, TrainLoss: 0.0516, ValLoss: 0.0653\n"
     ]
    },
    {
     "name": "stderr",
     "output_type": "stream",
     "text": [
      "/tmp/ipykernel_14880/2133873398.py:141: FutureWarning: `torch.cuda.amp.autocast(args...)` is deprecated. Please use `torch.amp.autocast('cuda', args...)` instead.\n",
      "  with autocast():\n",
      "/tmp/ipykernel_14880/2133873398.py:167: FutureWarning: `torch.cuda.amp.autocast(args...)` is deprecated. Please use `torch.amp.autocast('cuda', args...)` instead.\n",
      "  with autocast():\n"
     ]
    },
    {
     "name": "stdout",
     "output_type": "stream",
     "text": [
      "🔍 [Run 1 | Epoch 10] MAE: 9.806, R²: 0.496, TrainLoss: 0.0469, ValLoss: 0.0978\n"
     ]
    },
    {
     "name": "stderr",
     "output_type": "stream",
     "text": [
      "/tmp/ipykernel_14880/2133873398.py:141: FutureWarning: `torch.cuda.amp.autocast(args...)` is deprecated. Please use `torch.amp.autocast('cuda', args...)` instead.\n",
      "  with autocast():\n",
      "/tmp/ipykernel_14880/2133873398.py:167: FutureWarning: `torch.cuda.amp.autocast(args...)` is deprecated. Please use `torch.amp.autocast('cuda', args...)` instead.\n",
      "  with autocast():\n"
     ]
    },
    {
     "name": "stdout",
     "output_type": "stream",
     "text": [
      "🔍 [Run 1 | Epoch 11] MAE: 5.978, R²: 0.790, TrainLoss: 0.0431, ValLoss: 0.0596\n"
     ]
    },
    {
     "name": "stderr",
     "output_type": "stream",
     "text": [
      "/tmp/ipykernel_14880/2133873398.py:141: FutureWarning: `torch.cuda.amp.autocast(args...)` is deprecated. Please use `torch.amp.autocast('cuda', args...)` instead.\n",
      "  with autocast():\n",
      "/tmp/ipykernel_14880/2133873398.py:167: FutureWarning: `torch.cuda.amp.autocast(args...)` is deprecated. Please use `torch.amp.autocast('cuda', args...)` instead.\n",
      "  with autocast():\n"
     ]
    },
    {
     "name": "stdout",
     "output_type": "stream",
     "text": [
      "🔍 [Run 1 | Epoch 12] MAE: 8.456, R²: 0.619, TrainLoss: 0.0469, ValLoss: 0.0843\n"
     ]
    },
    {
     "name": "stderr",
     "output_type": "stream",
     "text": [
      "/tmp/ipykernel_14880/2133873398.py:141: FutureWarning: `torch.cuda.amp.autocast(args...)` is deprecated. Please use `torch.amp.autocast('cuda', args...)` instead.\n",
      "  with autocast():\n",
      "/tmp/ipykernel_14880/2133873398.py:167: FutureWarning: `torch.cuda.amp.autocast(args...)` is deprecated. Please use `torch.amp.autocast('cuda', args...)` instead.\n",
      "  with autocast():\n"
     ]
    },
    {
     "name": "stdout",
     "output_type": "stream",
     "text": [
      "🔍 [Run 1 | Epoch 13] MAE: 14.215, R²: 0.064, TrainLoss: 0.0447, ValLoss: 0.1419\n"
     ]
    },
    {
     "name": "stderr",
     "output_type": "stream",
     "text": [
      "/tmp/ipykernel_14880/2133873398.py:141: FutureWarning: `torch.cuda.amp.autocast(args...)` is deprecated. Please use `torch.amp.autocast('cuda', args...)` instead.\n",
      "  with autocast():\n",
      "/tmp/ipykernel_14880/2133873398.py:167: FutureWarning: `torch.cuda.amp.autocast(args...)` is deprecated. Please use `torch.amp.autocast('cuda', args...)` instead.\n",
      "  with autocast():\n"
     ]
    },
    {
     "name": "stdout",
     "output_type": "stream",
     "text": [
      "🔍 [Run 1 | Epoch 14] MAE: 9.334, R²: 0.561, TrainLoss: 0.0558, ValLoss: 0.0931\n"
     ]
    },
    {
     "name": "stderr",
     "output_type": "stream",
     "text": [
      "/tmp/ipykernel_14880/2133873398.py:141: FutureWarning: `torch.cuda.amp.autocast(args...)` is deprecated. Please use `torch.amp.autocast('cuda', args...)` instead.\n",
      "  with autocast():\n",
      "/tmp/ipykernel_14880/2133873398.py:167: FutureWarning: `torch.cuda.amp.autocast(args...)` is deprecated. Please use `torch.amp.autocast('cuda', args...)` instead.\n",
      "  with autocast():\n"
     ]
    },
    {
     "name": "stdout",
     "output_type": "stream",
     "text": [
      "🔍 [Run 1 | Epoch 15] MAE: 13.122, R²: 0.207, TrainLoss: 0.0418, ValLoss: 0.1310\n",
      "🚑 Early stopping at epoch 15\n",
      "\n",
      "========== 🏁 Run 2/5 시작 ==========\n"
     ]
    },
    {
     "name": "stderr",
     "output_type": "stream",
     "text": [
      "/venv/main/lib/python3.10/site-packages/torchvision/models/_utils.py:208: UserWarning: The parameter 'pretrained' is deprecated since 0.13 and may be removed in the future, please use 'weights' instead.\n",
      "  warnings.warn(\n",
      "/venv/main/lib/python3.10/site-packages/torchvision/models/_utils.py:223: UserWarning: Arguments other than a weight enum or `None` for 'weights' are deprecated since 0.13 and may be removed in the future. The current behavior is equivalent to passing `weights=VGG16_BN_Weights.IMAGENET1K_V1`. You can also use `weights=VGG16_BN_Weights.DEFAULT` to get the most up-to-date weights.\n",
      "  warnings.warn(msg)\n",
      "/tmp/ipykernel_14880/2133873398.py:141: FutureWarning: `torch.cuda.amp.autocast(args...)` is deprecated. Please use `torch.amp.autocast('cuda', args...)` instead.\n",
      "  with autocast():\n",
      "/tmp/ipykernel_14880/2133873398.py:167: FutureWarning: `torch.cuda.amp.autocast(args...)` is deprecated. Please use `torch.amp.autocast('cuda', args...)` instead.\n",
      "  with autocast():\n"
     ]
    },
    {
     "name": "stdout",
     "output_type": "stream",
     "text": [
      "🔍 [Run 2 | Epoch 1] MAE: 8.322, R²: 0.631, TrainLoss: 0.1905, ValLoss: 0.0832\n"
     ]
    },
    {
     "name": "stderr",
     "output_type": "stream",
     "text": [
      "/tmp/ipykernel_14880/2133873398.py:141: FutureWarning: `torch.cuda.amp.autocast(args...)` is deprecated. Please use `torch.amp.autocast('cuda', args...)` instead.\n",
      "  with autocast():\n",
      "/tmp/ipykernel_14880/2133873398.py:167: FutureWarning: `torch.cuda.amp.autocast(args...)` is deprecated. Please use `torch.amp.autocast('cuda', args...)` instead.\n",
      "  with autocast():\n"
     ]
    },
    {
     "name": "stdout",
     "output_type": "stream",
     "text": [
      "🔍 [Run 2 | Epoch 2] MAE: 7.933, R²: 0.657, TrainLoss: 0.1005, ValLoss: 0.0794\n"
     ]
    },
    {
     "name": "stderr",
     "output_type": "stream",
     "text": [
      "/tmp/ipykernel_14880/2133873398.py:141: FutureWarning: `torch.cuda.amp.autocast(args...)` is deprecated. Please use `torch.amp.autocast('cuda', args...)` instead.\n",
      "  with autocast():\n",
      "/tmp/ipykernel_14880/2133873398.py:167: FutureWarning: `torch.cuda.amp.autocast(args...)` is deprecated. Please use `torch.amp.autocast('cuda', args...)` instead.\n",
      "  with autocast():\n"
     ]
    },
    {
     "name": "stdout",
     "output_type": "stream",
     "text": [
      "🔍 [Run 2 | Epoch 3] MAE: 9.523, R²: 0.540, TrainLoss: 0.0821, ValLoss: 0.0951\n"
     ]
    },
    {
     "name": "stderr",
     "output_type": "stream",
     "text": [
      "/tmp/ipykernel_14880/2133873398.py:141: FutureWarning: `torch.cuda.amp.autocast(args...)` is deprecated. Please use `torch.amp.autocast('cuda', args...)` instead.\n",
      "  with autocast():\n",
      "/tmp/ipykernel_14880/2133873398.py:167: FutureWarning: `torch.cuda.amp.autocast(args...)` is deprecated. Please use `torch.amp.autocast('cuda', args...)` instead.\n",
      "  with autocast():\n"
     ]
    },
    {
     "name": "stdout",
     "output_type": "stream",
     "text": [
      "🔍 [Run 2 | Epoch 4] MAE: 12.366, R²: 0.274, TrainLoss: 0.0652, ValLoss: 0.1236\n"
     ]
    },
    {
     "name": "stderr",
     "output_type": "stream",
     "text": [
      "/tmp/ipykernel_14880/2133873398.py:141: FutureWarning: `torch.cuda.amp.autocast(args...)` is deprecated. Please use `torch.amp.autocast('cuda', args...)` instead.\n",
      "  with autocast():\n",
      "/tmp/ipykernel_14880/2133873398.py:167: FutureWarning: `torch.cuda.amp.autocast(args...)` is deprecated. Please use `torch.amp.autocast('cuda', args...)` instead.\n",
      "  with autocast():\n"
     ]
    },
    {
     "name": "stdout",
     "output_type": "stream",
     "text": [
      "🔍 [Run 2 | Epoch 5] MAE: 7.648, R²: 0.676, TrainLoss: 0.0576, ValLoss: 0.0764\n"
     ]
    },
    {
     "name": "stderr",
     "output_type": "stream",
     "text": [
      "/tmp/ipykernel_14880/2133873398.py:141: FutureWarning: `torch.cuda.amp.autocast(args...)` is deprecated. Please use `torch.amp.autocast('cuda', args...)` instead.\n",
      "  with autocast():\n",
      "/tmp/ipykernel_14880/2133873398.py:167: FutureWarning: `torch.cuda.amp.autocast(args...)` is deprecated. Please use `torch.amp.autocast('cuda', args...)` instead.\n",
      "  with autocast():\n"
     ]
    },
    {
     "name": "stdout",
     "output_type": "stream",
     "text": [
      "🔍 [Run 2 | Epoch 6] MAE: 10.553, R²: 0.427, TrainLoss: 0.0597, ValLoss: 0.1056\n"
     ]
    },
    {
     "name": "stderr",
     "output_type": "stream",
     "text": [
      "/tmp/ipykernel_14880/2133873398.py:141: FutureWarning: `torch.cuda.amp.autocast(args...)` is deprecated. Please use `torch.amp.autocast('cuda', args...)` instead.\n",
      "  with autocast():\n",
      "/tmp/ipykernel_14880/2133873398.py:167: FutureWarning: `torch.cuda.amp.autocast(args...)` is deprecated. Please use `torch.amp.autocast('cuda', args...)` instead.\n",
      "  with autocast():\n"
     ]
    },
    {
     "name": "stdout",
     "output_type": "stream",
     "text": [
      "🔍 [Run 2 | Epoch 7] MAE: 9.470, R²: 0.566, TrainLoss: 0.0491, ValLoss: 0.0948\n"
     ]
    },
    {
     "name": "stderr",
     "output_type": "stream",
     "text": [
      "/tmp/ipykernel_14880/2133873398.py:141: FutureWarning: `torch.cuda.amp.autocast(args...)` is deprecated. Please use `torch.amp.autocast('cuda', args...)` instead.\n",
      "  with autocast():\n",
      "/tmp/ipykernel_14880/2133873398.py:167: FutureWarning: `torch.cuda.amp.autocast(args...)` is deprecated. Please use `torch.amp.autocast('cuda', args...)` instead.\n",
      "  with autocast():\n"
     ]
    },
    {
     "name": "stdout",
     "output_type": "stream",
     "text": [
      "🔍 [Run 2 | Epoch 8] MAE: 10.148, R²: 0.517, TrainLoss: 0.0515, ValLoss: 0.1015\n"
     ]
    },
    {
     "name": "stderr",
     "output_type": "stream",
     "text": [
      "/tmp/ipykernel_14880/2133873398.py:141: FutureWarning: `torch.cuda.amp.autocast(args...)` is deprecated. Please use `torch.amp.autocast('cuda', args...)` instead.\n",
      "  with autocast():\n",
      "/tmp/ipykernel_14880/2133873398.py:167: FutureWarning: `torch.cuda.amp.autocast(args...)` is deprecated. Please use `torch.amp.autocast('cuda', args...)` instead.\n",
      "  with autocast():\n"
     ]
    },
    {
     "name": "stdout",
     "output_type": "stream",
     "text": [
      "🔍 [Run 2 | Epoch 9] MAE: 9.999, R²: 0.511, TrainLoss: 0.0645, ValLoss: 0.1000\n"
     ]
    },
    {
     "name": "stderr",
     "output_type": "stream",
     "text": [
      "/tmp/ipykernel_14880/2133873398.py:141: FutureWarning: `torch.cuda.amp.autocast(args...)` is deprecated. Please use `torch.amp.autocast('cuda', args...)` instead.\n",
      "  with autocast():\n",
      "/tmp/ipykernel_14880/2133873398.py:167: FutureWarning: `torch.cuda.amp.autocast(args...)` is deprecated. Please use `torch.amp.autocast('cuda', args...)` instead.\n",
      "  with autocast():\n"
     ]
    },
    {
     "name": "stdout",
     "output_type": "stream",
     "text": [
      "🔍 [Run 2 | Epoch 10] MAE: 6.765, R²: 0.754, TrainLoss: 0.0581, ValLoss: 0.0677\n"
     ]
    },
    {
     "name": "stderr",
     "output_type": "stream",
     "text": [
      "/tmp/ipykernel_14880/2133873398.py:141: FutureWarning: `torch.cuda.amp.autocast(args...)` is deprecated. Please use `torch.amp.autocast('cuda', args...)` instead.\n",
      "  with autocast():\n",
      "/tmp/ipykernel_14880/2133873398.py:167: FutureWarning: `torch.cuda.amp.autocast(args...)` is deprecated. Please use `torch.amp.autocast('cuda', args...)` instead.\n",
      "  with autocast():\n"
     ]
    },
    {
     "name": "stdout",
     "output_type": "stream",
     "text": [
      "🔍 [Run 2 | Epoch 11] MAE: 10.944, R²: 0.442, TrainLoss: 0.0446, ValLoss: 0.1095\n"
     ]
    },
    {
     "name": "stderr",
     "output_type": "stream",
     "text": [
      "/tmp/ipykernel_14880/2133873398.py:141: FutureWarning: `torch.cuda.amp.autocast(args...)` is deprecated. Please use `torch.amp.autocast('cuda', args...)` instead.\n",
      "  with autocast():\n",
      "/tmp/ipykernel_14880/2133873398.py:167: FutureWarning: `torch.cuda.amp.autocast(args...)` is deprecated. Please use `torch.amp.autocast('cuda', args...)` instead.\n",
      "  with autocast():\n"
     ]
    },
    {
     "name": "stdout",
     "output_type": "stream",
     "text": [
      "🔍 [Run 2 | Epoch 12] MAE: 6.521, R²: 0.758, TrainLoss: 0.0434, ValLoss: 0.0652\n"
     ]
    },
    {
     "name": "stderr",
     "output_type": "stream",
     "text": [
      "/tmp/ipykernel_14880/2133873398.py:141: FutureWarning: `torch.cuda.amp.autocast(args...)` is deprecated. Please use `torch.amp.autocast('cuda', args...)` instead.\n",
      "  with autocast():\n",
      "/tmp/ipykernel_14880/2133873398.py:167: FutureWarning: `torch.cuda.amp.autocast(args...)` is deprecated. Please use `torch.amp.autocast('cuda', args...)` instead.\n",
      "  with autocast():\n"
     ]
    },
    {
     "name": "stdout",
     "output_type": "stream",
     "text": [
      "🔍 [Run 2 | Epoch 13] MAE: 6.617, R²: 0.770, TrainLoss: 0.0392, ValLoss: 0.0662\n"
     ]
    },
    {
     "name": "stderr",
     "output_type": "stream",
     "text": [
      "/tmp/ipykernel_14880/2133873398.py:141: FutureWarning: `torch.cuda.amp.autocast(args...)` is deprecated. Please use `torch.amp.autocast('cuda', args...)` instead.\n",
      "  with autocast():\n",
      "/tmp/ipykernel_14880/2133873398.py:167: FutureWarning: `torch.cuda.amp.autocast(args...)` is deprecated. Please use `torch.amp.autocast('cuda', args...)` instead.\n",
      "  with autocast():\n"
     ]
    },
    {
     "name": "stdout",
     "output_type": "stream",
     "text": [
      "🔍 [Run 2 | Epoch 14] MAE: 7.879, R²: 0.687, TrainLoss: 0.0390, ValLoss: 0.0788\n"
     ]
    },
    {
     "name": "stderr",
     "output_type": "stream",
     "text": [
      "/tmp/ipykernel_14880/2133873398.py:141: FutureWarning: `torch.cuda.amp.autocast(args...)` is deprecated. Please use `torch.amp.autocast('cuda', args...)` instead.\n",
      "  with autocast():\n",
      "/tmp/ipykernel_14880/2133873398.py:167: FutureWarning: `torch.cuda.amp.autocast(args...)` is deprecated. Please use `torch.amp.autocast('cuda', args...)` instead.\n",
      "  with autocast():\n"
     ]
    },
    {
     "name": "stdout",
     "output_type": "stream",
     "text": [
      "🔍 [Run 2 | Epoch 15] MAE: 4.897, R²: 0.849, TrainLoss: 0.0324, ValLoss: 0.0489\n"
     ]
    },
    {
     "name": "stderr",
     "output_type": "stream",
     "text": [
      "/tmp/ipykernel_14880/2133873398.py:141: FutureWarning: `torch.cuda.amp.autocast(args...)` is deprecated. Please use `torch.amp.autocast('cuda', args...)` instead.\n",
      "  with autocast():\n",
      "/tmp/ipykernel_14880/2133873398.py:167: FutureWarning: `torch.cuda.amp.autocast(args...)` is deprecated. Please use `torch.amp.autocast('cuda', args...)` instead.\n",
      "  with autocast():\n"
     ]
    },
    {
     "name": "stdout",
     "output_type": "stream",
     "text": [
      "🔍 [Run 2 | Epoch 16] MAE: 15.554, R²: -0.052, TrainLoss: 0.0506, ValLoss: 0.1556\n"
     ]
    },
    {
     "name": "stderr",
     "output_type": "stream",
     "text": [
      "/tmp/ipykernel_14880/2133873398.py:141: FutureWarning: `torch.cuda.amp.autocast(args...)` is deprecated. Please use `torch.amp.autocast('cuda', args...)` instead.\n",
      "  with autocast():\n",
      "/tmp/ipykernel_14880/2133873398.py:167: FutureWarning: `torch.cuda.amp.autocast(args...)` is deprecated. Please use `torch.amp.autocast('cuda', args...)` instead.\n",
      "  with autocast():\n"
     ]
    },
    {
     "name": "stdout",
     "output_type": "stream",
     "text": [
      "🔍 [Run 2 | Epoch 17] MAE: 10.949, R²: 0.455, TrainLoss: 0.0476, ValLoss: 0.1095\n"
     ]
    },
    {
     "name": "stderr",
     "output_type": "stream",
     "text": [
      "/tmp/ipykernel_14880/2133873398.py:141: FutureWarning: `torch.cuda.amp.autocast(args...)` is deprecated. Please use `torch.amp.autocast('cuda', args...)` instead.\n",
      "  with autocast():\n",
      "/tmp/ipykernel_14880/2133873398.py:167: FutureWarning: `torch.cuda.amp.autocast(args...)` is deprecated. Please use `torch.amp.autocast('cuda', args...)` instead.\n",
      "  with autocast():\n"
     ]
    },
    {
     "name": "stdout",
     "output_type": "stream",
     "text": [
      "🔍 [Run 2 | Epoch 18] MAE: 11.823, R²: 0.373, TrainLoss: 0.0387, ValLoss: 0.1182\n"
     ]
    },
    {
     "name": "stderr",
     "output_type": "stream",
     "text": [
      "/tmp/ipykernel_14880/2133873398.py:141: FutureWarning: `torch.cuda.amp.autocast(args...)` is deprecated. Please use `torch.amp.autocast('cuda', args...)` instead.\n",
      "  with autocast():\n",
      "/tmp/ipykernel_14880/2133873398.py:167: FutureWarning: `torch.cuda.amp.autocast(args...)` is deprecated. Please use `torch.amp.autocast('cuda', args...)` instead.\n",
      "  with autocast():\n"
     ]
    },
    {
     "name": "stdout",
     "output_type": "stream",
     "text": [
      "🔍 [Run 2 | Epoch 19] MAE: 4.658, R²: 0.863, TrainLoss: 0.0524, ValLoss: 0.0465\n"
     ]
    },
    {
     "name": "stderr",
     "output_type": "stream",
     "text": [
      "/tmp/ipykernel_14880/2133873398.py:141: FutureWarning: `torch.cuda.amp.autocast(args...)` is deprecated. Please use `torch.amp.autocast('cuda', args...)` instead.\n",
      "  with autocast():\n",
      "/tmp/ipykernel_14880/2133873398.py:167: FutureWarning: `torch.cuda.amp.autocast(args...)` is deprecated. Please use `torch.amp.autocast('cuda', args...)` instead.\n",
      "  with autocast():\n"
     ]
    },
    {
     "name": "stdout",
     "output_type": "stream",
     "text": [
      "🔍 [Run 2 | Epoch 20] MAE: 5.079, R²: 0.849, TrainLoss: 0.0378, ValLoss: 0.0508\n"
     ]
    },
    {
     "name": "stderr",
     "output_type": "stream",
     "text": [
      "/tmp/ipykernel_14880/2133873398.py:141: FutureWarning: `torch.cuda.amp.autocast(args...)` is deprecated. Please use `torch.amp.autocast('cuda', args...)` instead.\n",
      "  with autocast():\n",
      "/tmp/ipykernel_14880/2133873398.py:167: FutureWarning: `torch.cuda.amp.autocast(args...)` is deprecated. Please use `torch.amp.autocast('cuda', args...)` instead.\n",
      "  with autocast():\n"
     ]
    },
    {
     "name": "stdout",
     "output_type": "stream",
     "text": [
      "🔍 [Run 2 | Epoch 21] MAE: 13.224, R²: 0.247, TrainLoss: 0.0485, ValLoss: 0.1322\n"
     ]
    },
    {
     "name": "stderr",
     "output_type": "stream",
     "text": [
      "/tmp/ipykernel_14880/2133873398.py:141: FutureWarning: `torch.cuda.amp.autocast(args...)` is deprecated. Please use `torch.amp.autocast('cuda', args...)` instead.\n",
      "  with autocast():\n",
      "/tmp/ipykernel_14880/2133873398.py:167: FutureWarning: `torch.cuda.amp.autocast(args...)` is deprecated. Please use `torch.amp.autocast('cuda', args...)` instead.\n",
      "  with autocast():\n"
     ]
    },
    {
     "name": "stdout",
     "output_type": "stream",
     "text": [
      "🔍 [Run 2 | Epoch 22] MAE: 8.921, R²: 0.621, TrainLoss: 0.0393, ValLoss: 0.0892\n"
     ]
    },
    {
     "name": "stderr",
     "output_type": "stream",
     "text": [
      "/tmp/ipykernel_14880/2133873398.py:141: FutureWarning: `torch.cuda.amp.autocast(args...)` is deprecated. Please use `torch.amp.autocast('cuda', args...)` instead.\n",
      "  with autocast():\n",
      "/tmp/ipykernel_14880/2133873398.py:167: FutureWarning: `torch.cuda.amp.autocast(args...)` is deprecated. Please use `torch.amp.autocast('cuda', args...)` instead.\n",
      "  with autocast():\n"
     ]
    },
    {
     "name": "stdout",
     "output_type": "stream",
     "text": [
      "🔍 [Run 2 | Epoch 23] MAE: 6.179, R²: 0.796, TrainLoss: 0.0383, ValLoss: 0.0618\n"
     ]
    },
    {
     "name": "stderr",
     "output_type": "stream",
     "text": [
      "/tmp/ipykernel_14880/2133873398.py:141: FutureWarning: `torch.cuda.amp.autocast(args...)` is deprecated. Please use `torch.amp.autocast('cuda', args...)` instead.\n",
      "  with autocast():\n",
      "/tmp/ipykernel_14880/2133873398.py:167: FutureWarning: `torch.cuda.amp.autocast(args...)` is deprecated. Please use `torch.amp.autocast('cuda', args...)` instead.\n",
      "  with autocast():\n"
     ]
    },
    {
     "name": "stdout",
     "output_type": "stream",
     "text": [
      "🔍 [Run 2 | Epoch 24] MAE: 6.791, R²: 0.755, TrainLoss: 0.0309, ValLoss: 0.0679\n"
     ]
    },
    {
     "name": "stderr",
     "output_type": "stream",
     "text": [
      "/tmp/ipykernel_14880/2133873398.py:141: FutureWarning: `torch.cuda.amp.autocast(args...)` is deprecated. Please use `torch.amp.autocast('cuda', args...)` instead.\n",
      "  with autocast():\n",
      "/tmp/ipykernel_14880/2133873398.py:167: FutureWarning: `torch.cuda.amp.autocast(args...)` is deprecated. Please use `torch.amp.autocast('cuda', args...)` instead.\n",
      "  with autocast():\n"
     ]
    },
    {
     "name": "stdout",
     "output_type": "stream",
     "text": [
      "🔍 [Run 2 | Epoch 25] MAE: 8.331, R²: 0.656, TrainLoss: 0.0264, ValLoss: 0.0833\n"
     ]
    },
    {
     "name": "stderr",
     "output_type": "stream",
     "text": [
      "/tmp/ipykernel_14880/2133873398.py:141: FutureWarning: `torch.cuda.amp.autocast(args...)` is deprecated. Please use `torch.amp.autocast('cuda', args...)` instead.\n",
      "  with autocast():\n",
      "/tmp/ipykernel_14880/2133873398.py:167: FutureWarning: `torch.cuda.amp.autocast(args...)` is deprecated. Please use `torch.amp.autocast('cuda', args...)` instead.\n",
      "  with autocast():\n"
     ]
    },
    {
     "name": "stdout",
     "output_type": "stream",
     "text": [
      "🔍 [Run 2 | Epoch 26] MAE: 6.214, R²: 0.782, TrainLoss: 0.0294, ValLoss: 0.0621\n",
      "🚑 Early stopping at epoch 26\n",
      "\n",
      "========== 🏁 Run 3/5 시작 ==========\n"
     ]
    },
    {
     "name": "stderr",
     "output_type": "stream",
     "text": [
      "/venv/main/lib/python3.10/site-packages/torchvision/models/_utils.py:208: UserWarning: The parameter 'pretrained' is deprecated since 0.13 and may be removed in the future, please use 'weights' instead.\n",
      "  warnings.warn(\n",
      "/venv/main/lib/python3.10/site-packages/torchvision/models/_utils.py:223: UserWarning: Arguments other than a weight enum or `None` for 'weights' are deprecated since 0.13 and may be removed in the future. The current behavior is equivalent to passing `weights=VGG16_BN_Weights.IMAGENET1K_V1`. You can also use `weights=VGG16_BN_Weights.DEFAULT` to get the most up-to-date weights.\n",
      "  warnings.warn(msg)\n",
      "/tmp/ipykernel_14880/2133873398.py:141: FutureWarning: `torch.cuda.amp.autocast(args...)` is deprecated. Please use `torch.amp.autocast('cuda', args...)` instead.\n",
      "  with autocast():\n",
      "/tmp/ipykernel_14880/2133873398.py:167: FutureWarning: `torch.cuda.amp.autocast(args...)` is deprecated. Please use `torch.amp.autocast('cuda', args...)` instead.\n",
      "  with autocast():\n"
     ]
    },
    {
     "name": "stdout",
     "output_type": "stream",
     "text": [
      "🔍 [Run 3 | Epoch 1] MAE: 17.366, R²: -0.423, TrainLoss: 0.1784, ValLoss: 0.1740\n"
     ]
    },
    {
     "name": "stderr",
     "output_type": "stream",
     "text": [
      "/tmp/ipykernel_14880/2133873398.py:141: FutureWarning: `torch.cuda.amp.autocast(args...)` is deprecated. Please use `torch.amp.autocast('cuda', args...)` instead.\n",
      "  with autocast():\n",
      "/tmp/ipykernel_14880/2133873398.py:167: FutureWarning: `torch.cuda.amp.autocast(args...)` is deprecated. Please use `torch.amp.autocast('cuda', args...)` instead.\n",
      "  with autocast():\n"
     ]
    },
    {
     "name": "stdout",
     "output_type": "stream",
     "text": [
      "🔍 [Run 3 | Epoch 2] MAE: 8.044, R²: 0.658, TrainLoss: 0.0849, ValLoss: 0.0803\n"
     ]
    },
    {
     "name": "stderr",
     "output_type": "stream",
     "text": [
      "/tmp/ipykernel_14880/2133873398.py:141: FutureWarning: `torch.cuda.amp.autocast(args...)` is deprecated. Please use `torch.amp.autocast('cuda', args...)` instead.\n",
      "  with autocast():\n",
      "/tmp/ipykernel_14880/2133873398.py:167: FutureWarning: `torch.cuda.amp.autocast(args...)` is deprecated. Please use `torch.amp.autocast('cuda', args...)` instead.\n",
      "  with autocast():\n"
     ]
    },
    {
     "name": "stdout",
     "output_type": "stream",
     "text": [
      "🔍 [Run 3 | Epoch 3] MAE: 6.144, R²: 0.787, TrainLoss: 0.0696, ValLoss: 0.0614\n"
     ]
    },
    {
     "name": "stderr",
     "output_type": "stream",
     "text": [
      "/tmp/ipykernel_14880/2133873398.py:141: FutureWarning: `torch.cuda.amp.autocast(args...)` is deprecated. Please use `torch.amp.autocast('cuda', args...)` instead.\n",
      "  with autocast():\n",
      "/tmp/ipykernel_14880/2133873398.py:167: FutureWarning: `torch.cuda.amp.autocast(args...)` is deprecated. Please use `torch.amp.autocast('cuda', args...)` instead.\n",
      "  with autocast():\n"
     ]
    },
    {
     "name": "stdout",
     "output_type": "stream",
     "text": [
      "🔍 [Run 3 | Epoch 4] MAE: 5.844, R²: 0.801, TrainLoss: 0.0602, ValLoss: 0.0585\n"
     ]
    },
    {
     "name": "stderr",
     "output_type": "stream",
     "text": [
      "/tmp/ipykernel_14880/2133873398.py:141: FutureWarning: `torch.cuda.amp.autocast(args...)` is deprecated. Please use `torch.amp.autocast('cuda', args...)` instead.\n",
      "  with autocast():\n",
      "/tmp/ipykernel_14880/2133873398.py:167: FutureWarning: `torch.cuda.amp.autocast(args...)` is deprecated. Please use `torch.amp.autocast('cuda', args...)` instead.\n",
      "  with autocast():\n"
     ]
    },
    {
     "name": "stdout",
     "output_type": "stream",
     "text": [
      "🔍 [Run 3 | Epoch 5] MAE: 5.804, R²: 0.809, TrainLoss: 0.0890, ValLoss: 0.0581\n"
     ]
    },
    {
     "name": "stderr",
     "output_type": "stream",
     "text": [
      "/tmp/ipykernel_14880/2133873398.py:141: FutureWarning: `torch.cuda.amp.autocast(args...)` is deprecated. Please use `torch.amp.autocast('cuda', args...)` instead.\n",
      "  with autocast():\n",
      "/tmp/ipykernel_14880/2133873398.py:167: FutureWarning: `torch.cuda.amp.autocast(args...)` is deprecated. Please use `torch.amp.autocast('cuda', args...)` instead.\n",
      "  with autocast():\n"
     ]
    },
    {
     "name": "stdout",
     "output_type": "stream",
     "text": [
      "🔍 [Run 3 | Epoch 6] MAE: 6.815, R²: 0.747, TrainLoss: 0.0515, ValLoss: 0.0680\n"
     ]
    },
    {
     "name": "stderr",
     "output_type": "stream",
     "text": [
      "/tmp/ipykernel_14880/2133873398.py:141: FutureWarning: `torch.cuda.amp.autocast(args...)` is deprecated. Please use `torch.amp.autocast('cuda', args...)` instead.\n",
      "  with autocast():\n",
      "/tmp/ipykernel_14880/2133873398.py:167: FutureWarning: `torch.cuda.amp.autocast(args...)` is deprecated. Please use `torch.amp.autocast('cuda', args...)` instead.\n",
      "  with autocast():\n"
     ]
    },
    {
     "name": "stdout",
     "output_type": "stream",
     "text": [
      "🔍 [Run 3 | Epoch 7] MAE: 7.491, R²: 0.705, TrainLoss: 0.0576, ValLoss: 0.0749\n"
     ]
    },
    {
     "name": "stderr",
     "output_type": "stream",
     "text": [
      "/tmp/ipykernel_14880/2133873398.py:141: FutureWarning: `torch.cuda.amp.autocast(args...)` is deprecated. Please use `torch.amp.autocast('cuda', args...)` instead.\n",
      "  with autocast():\n",
      "/tmp/ipykernel_14880/2133873398.py:167: FutureWarning: `torch.cuda.amp.autocast(args...)` is deprecated. Please use `torch.amp.autocast('cuda', args...)` instead.\n",
      "  with autocast():\n"
     ]
    },
    {
     "name": "stdout",
     "output_type": "stream",
     "text": [
      "🔍 [Run 3 | Epoch 8] MAE: 7.154, R²: 0.719, TrainLoss: 0.0474, ValLoss: 0.0714\n"
     ]
    },
    {
     "name": "stderr",
     "output_type": "stream",
     "text": [
      "/tmp/ipykernel_14880/2133873398.py:141: FutureWarning: `torch.cuda.amp.autocast(args...)` is deprecated. Please use `torch.amp.autocast('cuda', args...)` instead.\n",
      "  with autocast():\n",
      "/tmp/ipykernel_14880/2133873398.py:167: FutureWarning: `torch.cuda.amp.autocast(args...)` is deprecated. Please use `torch.amp.autocast('cuda', args...)` instead.\n",
      "  with autocast():\n"
     ]
    },
    {
     "name": "stdout",
     "output_type": "stream",
     "text": [
      "🔍 [Run 3 | Epoch 9] MAE: 6.713, R²: 0.758, TrainLoss: 0.0512, ValLoss: 0.0671\n"
     ]
    },
    {
     "name": "stderr",
     "output_type": "stream",
     "text": [
      "/tmp/ipykernel_14880/2133873398.py:141: FutureWarning: `torch.cuda.amp.autocast(args...)` is deprecated. Please use `torch.amp.autocast('cuda', args...)` instead.\n",
      "  with autocast():\n",
      "/tmp/ipykernel_14880/2133873398.py:167: FutureWarning: `torch.cuda.amp.autocast(args...)` is deprecated. Please use `torch.amp.autocast('cuda', args...)` instead.\n",
      "  with autocast():\n"
     ]
    },
    {
     "name": "stdout",
     "output_type": "stream",
     "text": [
      "🔍 [Run 3 | Epoch 10] MAE: 6.024, R²: 0.798, TrainLoss: 0.0470, ValLoss: 0.0602\n"
     ]
    },
    {
     "name": "stderr",
     "output_type": "stream",
     "text": [
      "/tmp/ipykernel_14880/2133873398.py:141: FutureWarning: `torch.cuda.amp.autocast(args...)` is deprecated. Please use `torch.amp.autocast('cuda', args...)` instead.\n",
      "  with autocast():\n",
      "/tmp/ipykernel_14880/2133873398.py:167: FutureWarning: `torch.cuda.amp.autocast(args...)` is deprecated. Please use `torch.amp.autocast('cuda', args...)` instead.\n",
      "  with autocast():\n"
     ]
    },
    {
     "name": "stdout",
     "output_type": "stream",
     "text": [
      "🔍 [Run 3 | Epoch 11] MAE: 5.514, R²: 0.830, TrainLoss: 0.0465, ValLoss: 0.0552\n"
     ]
    },
    {
     "name": "stderr",
     "output_type": "stream",
     "text": [
      "/tmp/ipykernel_14880/2133873398.py:141: FutureWarning: `torch.cuda.amp.autocast(args...)` is deprecated. Please use `torch.amp.autocast('cuda', args...)` instead.\n",
      "  with autocast():\n",
      "/tmp/ipykernel_14880/2133873398.py:167: FutureWarning: `torch.cuda.amp.autocast(args...)` is deprecated. Please use `torch.amp.autocast('cuda', args...)` instead.\n",
      "  with autocast():\n"
     ]
    },
    {
     "name": "stdout",
     "output_type": "stream",
     "text": [
      "🔍 [Run 3 | Epoch 12] MAE: 5.919, R²: 0.815, TrainLoss: 0.0483, ValLoss: 0.0592\n"
     ]
    },
    {
     "name": "stderr",
     "output_type": "stream",
     "text": [
      "/tmp/ipykernel_14880/2133873398.py:141: FutureWarning: `torch.cuda.amp.autocast(args...)` is deprecated. Please use `torch.amp.autocast('cuda', args...)` instead.\n",
      "  with autocast():\n",
      "/tmp/ipykernel_14880/2133873398.py:167: FutureWarning: `torch.cuda.amp.autocast(args...)` is deprecated. Please use `torch.amp.autocast('cuda', args...)` instead.\n",
      "  with autocast():\n"
     ]
    },
    {
     "name": "stdout",
     "output_type": "stream",
     "text": [
      "🔍 [Run 3 | Epoch 13] MAE: 5.276, R²: 0.845, TrainLoss: 0.0536, ValLoss: 0.0527\n"
     ]
    },
    {
     "name": "stderr",
     "output_type": "stream",
     "text": [
      "/tmp/ipykernel_14880/2133873398.py:141: FutureWarning: `torch.cuda.amp.autocast(args...)` is deprecated. Please use `torch.amp.autocast('cuda', args...)` instead.\n",
      "  with autocast():\n",
      "/tmp/ipykernel_14880/2133873398.py:167: FutureWarning: `torch.cuda.amp.autocast(args...)` is deprecated. Please use `torch.amp.autocast('cuda', args...)` instead.\n",
      "  with autocast():\n"
     ]
    },
    {
     "name": "stdout",
     "output_type": "stream",
     "text": [
      "🔍 [Run 3 | Epoch 14] MAE: 6.962, R²: 0.742, TrainLoss: 0.0447, ValLoss: 0.0695\n"
     ]
    },
    {
     "name": "stderr",
     "output_type": "stream",
     "text": [
      "/tmp/ipykernel_14880/2133873398.py:141: FutureWarning: `torch.cuda.amp.autocast(args...)` is deprecated. Please use `torch.amp.autocast('cuda', args...)` instead.\n",
      "  with autocast():\n",
      "/tmp/ipykernel_14880/2133873398.py:167: FutureWarning: `torch.cuda.amp.autocast(args...)` is deprecated. Please use `torch.amp.autocast('cuda', args...)` instead.\n",
      "  with autocast():\n"
     ]
    },
    {
     "name": "stdout",
     "output_type": "stream",
     "text": [
      "🔍 [Run 3 | Epoch 15] MAE: 6.163, R²: 0.797, TrainLoss: 0.0401, ValLoss: 0.0616\n"
     ]
    },
    {
     "name": "stderr",
     "output_type": "stream",
     "text": [
      "/tmp/ipykernel_14880/2133873398.py:141: FutureWarning: `torch.cuda.amp.autocast(args...)` is deprecated. Please use `torch.amp.autocast('cuda', args...)` instead.\n",
      "  with autocast():\n",
      "/tmp/ipykernel_14880/2133873398.py:167: FutureWarning: `torch.cuda.amp.autocast(args...)` is deprecated. Please use `torch.amp.autocast('cuda', args...)` instead.\n",
      "  with autocast():\n"
     ]
    },
    {
     "name": "stdout",
     "output_type": "stream",
     "text": [
      "🔍 [Run 3 | Epoch 16] MAE: 9.798, R²: 0.543, TrainLoss: 0.0386, ValLoss: 0.0978\n"
     ]
    },
    {
     "name": "stderr",
     "output_type": "stream",
     "text": [
      "/tmp/ipykernel_14880/2133873398.py:141: FutureWarning: `torch.cuda.amp.autocast(args...)` is deprecated. Please use `torch.amp.autocast('cuda', args...)` instead.\n",
      "  with autocast():\n",
      "/tmp/ipykernel_14880/2133873398.py:167: FutureWarning: `torch.cuda.amp.autocast(args...)` is deprecated. Please use `torch.amp.autocast('cuda', args...)` instead.\n",
      "  with autocast():\n"
     ]
    },
    {
     "name": "stdout",
     "output_type": "stream",
     "text": [
      "🔍 [Run 3 | Epoch 17] MAE: 5.802, R²: 0.814, TrainLoss: 0.0367, ValLoss: 0.0579\n"
     ]
    },
    {
     "name": "stderr",
     "output_type": "stream",
     "text": [
      "/tmp/ipykernel_14880/2133873398.py:141: FutureWarning: `torch.cuda.amp.autocast(args...)` is deprecated. Please use `torch.amp.autocast('cuda', args...)` instead.\n",
      "  with autocast():\n",
      "/tmp/ipykernel_14880/2133873398.py:167: FutureWarning: `torch.cuda.amp.autocast(args...)` is deprecated. Please use `torch.amp.autocast('cuda', args...)` instead.\n",
      "  with autocast():\n"
     ]
    },
    {
     "name": "stdout",
     "output_type": "stream",
     "text": [
      "🔍 [Run 3 | Epoch 18] MAE: 13.596, R²: 0.153, TrainLoss: 0.0362, ValLoss: 0.1358\n"
     ]
    },
    {
     "name": "stderr",
     "output_type": "stream",
     "text": [
      "/tmp/ipykernel_14880/2133873398.py:141: FutureWarning: `torch.cuda.amp.autocast(args...)` is deprecated. Please use `torch.amp.autocast('cuda', args...)` instead.\n",
      "  with autocast():\n",
      "/tmp/ipykernel_14880/2133873398.py:167: FutureWarning: `torch.cuda.amp.autocast(args...)` is deprecated. Please use `torch.amp.autocast('cuda', args...)` instead.\n",
      "  with autocast():\n"
     ]
    },
    {
     "name": "stdout",
     "output_type": "stream",
     "text": [
      "🔍 [Run 3 | Epoch 19] MAE: 5.566, R²: 0.829, TrainLoss: 0.0476, ValLoss: 0.0556\n"
     ]
    },
    {
     "name": "stderr",
     "output_type": "stream",
     "text": [
      "/tmp/ipykernel_14880/2133873398.py:141: FutureWarning: `torch.cuda.amp.autocast(args...)` is deprecated. Please use `torch.amp.autocast('cuda', args...)` instead.\n",
      "  with autocast():\n",
      "/tmp/ipykernel_14880/2133873398.py:167: FutureWarning: `torch.cuda.amp.autocast(args...)` is deprecated. Please use `torch.amp.autocast('cuda', args...)` instead.\n",
      "  with autocast():\n"
     ]
    },
    {
     "name": "stdout",
     "output_type": "stream",
     "text": [
      "🔍 [Run 3 | Epoch 20] MAE: 8.472, R²: 0.635, TrainLoss: 0.0359, ValLoss: 0.0845\n",
      "🚑 Early stopping at epoch 20\n",
      "\n",
      "========== 🏁 Run 4/5 시작 ==========\n"
     ]
    },
    {
     "name": "stderr",
     "output_type": "stream",
     "text": [
      "/venv/main/lib/python3.10/site-packages/torchvision/models/_utils.py:208: UserWarning: The parameter 'pretrained' is deprecated since 0.13 and may be removed in the future, please use 'weights' instead.\n",
      "  warnings.warn(\n",
      "/venv/main/lib/python3.10/site-packages/torchvision/models/_utils.py:223: UserWarning: Arguments other than a weight enum or `None` for 'weights' are deprecated since 0.13 and may be removed in the future. The current behavior is equivalent to passing `weights=VGG16_BN_Weights.IMAGENET1K_V1`. You can also use `weights=VGG16_BN_Weights.DEFAULT` to get the most up-to-date weights.\n",
      "  warnings.warn(msg)\n",
      "/tmp/ipykernel_14880/2133873398.py:141: FutureWarning: `torch.cuda.amp.autocast(args...)` is deprecated. Please use `torch.amp.autocast('cuda', args...)` instead.\n",
      "  with autocast():\n",
      "/tmp/ipykernel_14880/2133873398.py:167: FutureWarning: `torch.cuda.amp.autocast(args...)` is deprecated. Please use `torch.amp.autocast('cuda', args...)` instead.\n",
      "  with autocast():\n"
     ]
    },
    {
     "name": "stdout",
     "output_type": "stream",
     "text": [
      "🔍 [Run 4 | Epoch 1] MAE: 7.333, R²: 0.673, TrainLoss: 0.1371, ValLoss: 0.0734\n"
     ]
    },
    {
     "name": "stderr",
     "output_type": "stream",
     "text": [
      "/tmp/ipykernel_14880/2133873398.py:141: FutureWarning: `torch.cuda.amp.autocast(args...)` is deprecated. Please use `torch.amp.autocast('cuda', args...)` instead.\n",
      "  with autocast():\n",
      "/tmp/ipykernel_14880/2133873398.py:167: FutureWarning: `torch.cuda.amp.autocast(args...)` is deprecated. Please use `torch.amp.autocast('cuda', args...)` instead.\n",
      "  with autocast():\n"
     ]
    },
    {
     "name": "stdout",
     "output_type": "stream",
     "text": [
      "🔍 [Run 4 | Epoch 2] MAE: 7.223, R²: 0.683, TrainLoss: 0.0807, ValLoss: 0.0722\n"
     ]
    },
    {
     "name": "stderr",
     "output_type": "stream",
     "text": [
      "/tmp/ipykernel_14880/2133873398.py:141: FutureWarning: `torch.cuda.amp.autocast(args...)` is deprecated. Please use `torch.amp.autocast('cuda', args...)` instead.\n",
      "  with autocast():\n",
      "/tmp/ipykernel_14880/2133873398.py:167: FutureWarning: `torch.cuda.amp.autocast(args...)` is deprecated. Please use `torch.amp.autocast('cuda', args...)` instead.\n",
      "  with autocast():\n"
     ]
    },
    {
     "name": "stdout",
     "output_type": "stream",
     "text": [
      "🔍 [Run 4 | Epoch 3] MAE: 12.106, R²: 0.270, TrainLoss: 0.0710, ValLoss: 0.1211\n"
     ]
    },
    {
     "name": "stderr",
     "output_type": "stream",
     "text": [
      "/tmp/ipykernel_14880/2133873398.py:141: FutureWarning: `torch.cuda.amp.autocast(args...)` is deprecated. Please use `torch.amp.autocast('cuda', args...)` instead.\n",
      "  with autocast():\n",
      "/tmp/ipykernel_14880/2133873398.py:167: FutureWarning: `torch.cuda.amp.autocast(args...)` is deprecated. Please use `torch.amp.autocast('cuda', args...)` instead.\n",
      "  with autocast():\n"
     ]
    },
    {
     "name": "stdout",
     "output_type": "stream",
     "text": [
      "🔍 [Run 4 | Epoch 4] MAE: 8.056, R²: 0.641, TrainLoss: 0.0605, ValLoss: 0.0807\n"
     ]
    },
    {
     "name": "stderr",
     "output_type": "stream",
     "text": [
      "/tmp/ipykernel_14880/2133873398.py:141: FutureWarning: `torch.cuda.amp.autocast(args...)` is deprecated. Please use `torch.amp.autocast('cuda', args...)` instead.\n",
      "  with autocast():\n",
      "/tmp/ipykernel_14880/2133873398.py:167: FutureWarning: `torch.cuda.amp.autocast(args...)` is deprecated. Please use `torch.amp.autocast('cuda', args...)` instead.\n",
      "  with autocast():\n"
     ]
    },
    {
     "name": "stdout",
     "output_type": "stream",
     "text": [
      "🔍 [Run 4 | Epoch 5] MAE: 9.740, R²: 0.485, TrainLoss: 0.0729, ValLoss: 0.0976\n"
     ]
    },
    {
     "name": "stderr",
     "output_type": "stream",
     "text": [
      "/tmp/ipykernel_14880/2133873398.py:141: FutureWarning: `torch.cuda.amp.autocast(args...)` is deprecated. Please use `torch.amp.autocast('cuda', args...)` instead.\n",
      "  with autocast():\n",
      "/tmp/ipykernel_14880/2133873398.py:167: FutureWarning: `torch.cuda.amp.autocast(args...)` is deprecated. Please use `torch.amp.autocast('cuda', args...)` instead.\n",
      "  with autocast():\n"
     ]
    },
    {
     "name": "stdout",
     "output_type": "stream",
     "text": [
      "🔍 [Run 4 | Epoch 6] MAE: 6.187, R²: 0.763, TrainLoss: 0.0693, ValLoss: 0.0619\n"
     ]
    },
    {
     "name": "stderr",
     "output_type": "stream",
     "text": [
      "/tmp/ipykernel_14880/2133873398.py:141: FutureWarning: `torch.cuda.amp.autocast(args...)` is deprecated. Please use `torch.amp.autocast('cuda', args...)` instead.\n",
      "  with autocast():\n",
      "/tmp/ipykernel_14880/2133873398.py:167: FutureWarning: `torch.cuda.amp.autocast(args...)` is deprecated. Please use `torch.amp.autocast('cuda', args...)` instead.\n",
      "  with autocast():\n"
     ]
    },
    {
     "name": "stdout",
     "output_type": "stream",
     "text": [
      "🔍 [Run 4 | Epoch 7] MAE: 5.301, R²: 0.830, TrainLoss: 0.0545, ValLoss: 0.0530\n"
     ]
    },
    {
     "name": "stderr",
     "output_type": "stream",
     "text": [
      "/tmp/ipykernel_14880/2133873398.py:141: FutureWarning: `torch.cuda.amp.autocast(args...)` is deprecated. Please use `torch.amp.autocast('cuda', args...)` instead.\n",
      "  with autocast():\n",
      "/tmp/ipykernel_14880/2133873398.py:167: FutureWarning: `torch.cuda.amp.autocast(args...)` is deprecated. Please use `torch.amp.autocast('cuda', args...)` instead.\n",
      "  with autocast():\n"
     ]
    },
    {
     "name": "stdout",
     "output_type": "stream",
     "text": [
      "🔍 [Run 4 | Epoch 8] MAE: 5.162, R²: 0.845, TrainLoss: 0.0524, ValLoss: 0.0518\n"
     ]
    },
    {
     "name": "stderr",
     "output_type": "stream",
     "text": [
      "/tmp/ipykernel_14880/2133873398.py:141: FutureWarning: `torch.cuda.amp.autocast(args...)` is deprecated. Please use `torch.amp.autocast('cuda', args...)` instead.\n",
      "  with autocast():\n",
      "/tmp/ipykernel_14880/2133873398.py:167: FutureWarning: `torch.cuda.amp.autocast(args...)` is deprecated. Please use `torch.amp.autocast('cuda', args...)` instead.\n",
      "  with autocast():\n"
     ]
    },
    {
     "name": "stdout",
     "output_type": "stream",
     "text": [
      "🔍 [Run 4 | Epoch 9] MAE: 7.333, R²: 0.688, TrainLoss: 0.0462, ValLoss: 0.0735\n"
     ]
    },
    {
     "name": "stderr",
     "output_type": "stream",
     "text": [
      "/tmp/ipykernel_14880/2133873398.py:141: FutureWarning: `torch.cuda.amp.autocast(args...)` is deprecated. Please use `torch.amp.autocast('cuda', args...)` instead.\n",
      "  with autocast():\n",
      "/tmp/ipykernel_14880/2133873398.py:167: FutureWarning: `torch.cuda.amp.autocast(args...)` is deprecated. Please use `torch.amp.autocast('cuda', args...)` instead.\n",
      "  with autocast():\n"
     ]
    },
    {
     "name": "stdout",
     "output_type": "stream",
     "text": [
      "🔍 [Run 4 | Epoch 10] MAE: 5.712, R²: 0.802, TrainLoss: 0.0527, ValLoss: 0.0571\n"
     ]
    },
    {
     "name": "stderr",
     "output_type": "stream",
     "text": [
      "/tmp/ipykernel_14880/2133873398.py:141: FutureWarning: `torch.cuda.amp.autocast(args...)` is deprecated. Please use `torch.amp.autocast('cuda', args...)` instead.\n",
      "  with autocast():\n",
      "/tmp/ipykernel_14880/2133873398.py:167: FutureWarning: `torch.cuda.amp.autocast(args...)` is deprecated. Please use `torch.amp.autocast('cuda', args...)` instead.\n",
      "  with autocast():\n"
     ]
    },
    {
     "name": "stdout",
     "output_type": "stream",
     "text": [
      "🔍 [Run 4 | Epoch 11] MAE: 9.366, R²: 0.532, TrainLoss: 0.0413, ValLoss: 0.0938\n"
     ]
    },
    {
     "name": "stderr",
     "output_type": "stream",
     "text": [
      "/tmp/ipykernel_14880/2133873398.py:141: FutureWarning: `torch.cuda.amp.autocast(args...)` is deprecated. Please use `torch.amp.autocast('cuda', args...)` instead.\n",
      "  with autocast():\n",
      "/tmp/ipykernel_14880/2133873398.py:167: FutureWarning: `torch.cuda.amp.autocast(args...)` is deprecated. Please use `torch.amp.autocast('cuda', args...)` instead.\n",
      "  with autocast():\n"
     ]
    },
    {
     "name": "stdout",
     "output_type": "stream",
     "text": [
      "🔍 [Run 4 | Epoch 12] MAE: 8.712, R²: 0.595, TrainLoss: 0.0407, ValLoss: 0.0872\n"
     ]
    },
    {
     "name": "stderr",
     "output_type": "stream",
     "text": [
      "/tmp/ipykernel_14880/2133873398.py:141: FutureWarning: `torch.cuda.amp.autocast(args...)` is deprecated. Please use `torch.amp.autocast('cuda', args...)` instead.\n",
      "  with autocast():\n",
      "/tmp/ipykernel_14880/2133873398.py:167: FutureWarning: `torch.cuda.amp.autocast(args...)` is deprecated. Please use `torch.amp.autocast('cuda', args...)` instead.\n",
      "  with autocast():\n"
     ]
    },
    {
     "name": "stdout",
     "output_type": "stream",
     "text": [
      "🔍 [Run 4 | Epoch 13] MAE: 6.427, R²: 0.745, TrainLoss: 0.0411, ValLoss: 0.0643\n"
     ]
    },
    {
     "name": "stderr",
     "output_type": "stream",
     "text": [
      "/tmp/ipykernel_14880/2133873398.py:141: FutureWarning: `torch.cuda.amp.autocast(args...)` is deprecated. Please use `torch.amp.autocast('cuda', args...)` instead.\n",
      "  with autocast():\n",
      "/tmp/ipykernel_14880/2133873398.py:167: FutureWarning: `torch.cuda.amp.autocast(args...)` is deprecated. Please use `torch.amp.autocast('cuda', args...)` instead.\n",
      "  with autocast():\n"
     ]
    },
    {
     "name": "stdout",
     "output_type": "stream",
     "text": [
      "🔍 [Run 4 | Epoch 14] MAE: 5.320, R²: 0.834, TrainLoss: 0.0446, ValLoss: 0.0532\n"
     ]
    },
    {
     "name": "stderr",
     "output_type": "stream",
     "text": [
      "/tmp/ipykernel_14880/2133873398.py:141: FutureWarning: `torch.cuda.amp.autocast(args...)` is deprecated. Please use `torch.amp.autocast('cuda', args...)` instead.\n",
      "  with autocast():\n",
      "/tmp/ipykernel_14880/2133873398.py:167: FutureWarning: `torch.cuda.amp.autocast(args...)` is deprecated. Please use `torch.amp.autocast('cuda', args...)` instead.\n",
      "  with autocast():\n"
     ]
    },
    {
     "name": "stdout",
     "output_type": "stream",
     "text": [
      "🔍 [Run 4 | Epoch 15] MAE: 10.622, R²: 0.432, TrainLoss: 0.0475, ValLoss: 0.1064\n",
      "🚑 Early stopping at epoch 15\n",
      "\n",
      "========== 🏁 Run 5/5 시작 ==========\n"
     ]
    },
    {
     "name": "stderr",
     "output_type": "stream",
     "text": [
      "/venv/main/lib/python3.10/site-packages/torchvision/models/_utils.py:208: UserWarning: The parameter 'pretrained' is deprecated since 0.13 and may be removed in the future, please use 'weights' instead.\n",
      "  warnings.warn(\n",
      "/venv/main/lib/python3.10/site-packages/torchvision/models/_utils.py:223: UserWarning: Arguments other than a weight enum or `None` for 'weights' are deprecated since 0.13 and may be removed in the future. The current behavior is equivalent to passing `weights=VGG16_BN_Weights.IMAGENET1K_V1`. You can also use `weights=VGG16_BN_Weights.DEFAULT` to get the most up-to-date weights.\n",
      "  warnings.warn(msg)\n",
      "/tmp/ipykernel_14880/2133873398.py:141: FutureWarning: `torch.cuda.amp.autocast(args...)` is deprecated. Please use `torch.amp.autocast('cuda', args...)` instead.\n",
      "  with autocast():\n",
      "/tmp/ipykernel_14880/2133873398.py:167: FutureWarning: `torch.cuda.amp.autocast(args...)` is deprecated. Please use `torch.amp.autocast('cuda', args...)` instead.\n",
      "  with autocast():\n"
     ]
    },
    {
     "name": "stdout",
     "output_type": "stream",
     "text": [
      "🔍 [Run 5 | Epoch 1] MAE: 7.267, R²: 0.671, TrainLoss: 0.1223, ValLoss: 0.0726\n"
     ]
    },
    {
     "name": "stderr",
     "output_type": "stream",
     "text": [
      "/tmp/ipykernel_14880/2133873398.py:141: FutureWarning: `torch.cuda.amp.autocast(args...)` is deprecated. Please use `torch.amp.autocast('cuda', args...)` instead.\n",
      "  with autocast():\n",
      "/tmp/ipykernel_14880/2133873398.py:167: FutureWarning: `torch.cuda.amp.autocast(args...)` is deprecated. Please use `torch.amp.autocast('cuda', args...)` instead.\n",
      "  with autocast():\n"
     ]
    },
    {
     "name": "stdout",
     "output_type": "stream",
     "text": [
      "🔍 [Run 5 | Epoch 2] MAE: 8.740, R²: 0.518, TrainLoss: 0.0880, ValLoss: 0.0872\n"
     ]
    },
    {
     "name": "stderr",
     "output_type": "stream",
     "text": [
      "/tmp/ipykernel_14880/2133873398.py:141: FutureWarning: `torch.cuda.amp.autocast(args...)` is deprecated. Please use `torch.amp.autocast('cuda', args...)` instead.\n",
      "  with autocast():\n",
      "/tmp/ipykernel_14880/2133873398.py:167: FutureWarning: `torch.cuda.amp.autocast(args...)` is deprecated. Please use `torch.amp.autocast('cuda', args...)` instead.\n",
      "  with autocast():\n"
     ]
    },
    {
     "name": "stdout",
     "output_type": "stream",
     "text": [
      "🔍 [Run 5 | Epoch 3] MAE: 6.385, R²: 0.760, TrainLoss: 0.0847, ValLoss: 0.0637\n"
     ]
    },
    {
     "name": "stderr",
     "output_type": "stream",
     "text": [
      "/tmp/ipykernel_14880/2133873398.py:141: FutureWarning: `torch.cuda.amp.autocast(args...)` is deprecated. Please use `torch.amp.autocast('cuda', args...)` instead.\n",
      "  with autocast():\n",
      "/tmp/ipykernel_14880/2133873398.py:167: FutureWarning: `torch.cuda.amp.autocast(args...)` is deprecated. Please use `torch.amp.autocast('cuda', args...)` instead.\n",
      "  with autocast():\n"
     ]
    },
    {
     "name": "stdout",
     "output_type": "stream",
     "text": [
      "🔍 [Run 5 | Epoch 4] MAE: 6.262, R²: 0.763, TrainLoss: 0.0722, ValLoss: 0.0625\n"
     ]
    },
    {
     "name": "stderr",
     "output_type": "stream",
     "text": [
      "/tmp/ipykernel_14880/2133873398.py:141: FutureWarning: `torch.cuda.amp.autocast(args...)` is deprecated. Please use `torch.amp.autocast('cuda', args...)` instead.\n",
      "  with autocast():\n",
      "/tmp/ipykernel_14880/2133873398.py:167: FutureWarning: `torch.cuda.amp.autocast(args...)` is deprecated. Please use `torch.amp.autocast('cuda', args...)` instead.\n",
      "  with autocast():\n"
     ]
    },
    {
     "name": "stdout",
     "output_type": "stream",
     "text": [
      "🔍 [Run 5 | Epoch 5] MAE: 9.867, R²: 0.458, TrainLoss: 0.0621, ValLoss: 0.0985\n"
     ]
    },
    {
     "name": "stderr",
     "output_type": "stream",
     "text": [
      "/tmp/ipykernel_14880/2133873398.py:141: FutureWarning: `torch.cuda.amp.autocast(args...)` is deprecated. Please use `torch.amp.autocast('cuda', args...)` instead.\n",
      "  with autocast():\n",
      "/tmp/ipykernel_14880/2133873398.py:167: FutureWarning: `torch.cuda.amp.autocast(args...)` is deprecated. Please use `torch.amp.autocast('cuda', args...)` instead.\n",
      "  with autocast():\n"
     ]
    },
    {
     "name": "stdout",
     "output_type": "stream",
     "text": [
      "🔍 [Run 5 | Epoch 6] MAE: 7.571, R²: 0.685, TrainLoss: 0.0566, ValLoss: 0.0756\n"
     ]
    },
    {
     "name": "stderr",
     "output_type": "stream",
     "text": [
      "/tmp/ipykernel_14880/2133873398.py:141: FutureWarning: `torch.cuda.amp.autocast(args...)` is deprecated. Please use `torch.amp.autocast('cuda', args...)` instead.\n",
      "  with autocast():\n",
      "/tmp/ipykernel_14880/2133873398.py:167: FutureWarning: `torch.cuda.amp.autocast(args...)` is deprecated. Please use `torch.amp.autocast('cuda', args...)` instead.\n",
      "  with autocast():\n"
     ]
    },
    {
     "name": "stdout",
     "output_type": "stream",
     "text": [
      "🔍 [Run 5 | Epoch 7] MAE: 8.178, R²: 0.633, TrainLoss: 0.0688, ValLoss: 0.0817\n"
     ]
    },
    {
     "name": "stderr",
     "output_type": "stream",
     "text": [
      "/tmp/ipykernel_14880/2133873398.py:141: FutureWarning: `torch.cuda.amp.autocast(args...)` is deprecated. Please use `torch.amp.autocast('cuda', args...)` instead.\n",
      "  with autocast():\n",
      "/tmp/ipykernel_14880/2133873398.py:167: FutureWarning: `torch.cuda.amp.autocast(args...)` is deprecated. Please use `torch.amp.autocast('cuda', args...)` instead.\n",
      "  with autocast():\n"
     ]
    },
    {
     "name": "stdout",
     "output_type": "stream",
     "text": [
      "🔍 [Run 5 | Epoch 8] MAE: 8.636, R²: 0.560, TrainLoss: 0.0704, ValLoss: 0.0862\n"
     ]
    },
    {
     "name": "stderr",
     "output_type": "stream",
     "text": [
      "/tmp/ipykernel_14880/2133873398.py:141: FutureWarning: `torch.cuda.amp.autocast(args...)` is deprecated. Please use `torch.amp.autocast('cuda', args...)` instead.\n",
      "  with autocast():\n",
      "/tmp/ipykernel_14880/2133873398.py:167: FutureWarning: `torch.cuda.amp.autocast(args...)` is deprecated. Please use `torch.amp.autocast('cuda', args...)` instead.\n",
      "  with autocast():\n"
     ]
    },
    {
     "name": "stdout",
     "output_type": "stream",
     "text": [
      "🔍 [Run 5 | Epoch 9] MAE: 9.100, R²: 0.553, TrainLoss: 0.0460, ValLoss: 0.0909\n"
     ]
    },
    {
     "name": "stderr",
     "output_type": "stream",
     "text": [
      "/tmp/ipykernel_14880/2133873398.py:141: FutureWarning: `torch.cuda.amp.autocast(args...)` is deprecated. Please use `torch.amp.autocast('cuda', args...)` instead.\n",
      "  with autocast():\n",
      "/tmp/ipykernel_14880/2133873398.py:167: FutureWarning: `torch.cuda.amp.autocast(args...)` is deprecated. Please use `torch.amp.autocast('cuda', args...)` instead.\n",
      "  with autocast():\n"
     ]
    },
    {
     "name": "stdout",
     "output_type": "stream",
     "text": [
      "🔍 [Run 5 | Epoch 10] MAE: 7.044, R²: 0.735, TrainLoss: 0.0471, ValLoss: 0.0703\n"
     ]
    },
    {
     "name": "stderr",
     "output_type": "stream",
     "text": [
      "/tmp/ipykernel_14880/2133873398.py:141: FutureWarning: `torch.cuda.amp.autocast(args...)` is deprecated. Please use `torch.amp.autocast('cuda', args...)` instead.\n",
      "  with autocast():\n",
      "/tmp/ipykernel_14880/2133873398.py:167: FutureWarning: `torch.cuda.amp.autocast(args...)` is deprecated. Please use `torch.amp.autocast('cuda', args...)` instead.\n",
      "  with autocast():\n"
     ]
    },
    {
     "name": "stdout",
     "output_type": "stream",
     "text": [
      "🔍 [Run 5 | Epoch 11] MAE: 11.042, R²: 0.416, TrainLoss: 0.0483, ValLoss: 0.1104\n",
      "🚑 Early stopping at epoch 11\n"
     ]
    },
    {
     "data": {
      "image/png": "[encoded data removed]",
      "text/plain": [
       "<Figure size 1000x500 with 1 Axes>"
      ]
     },
     "metadata": {},
     "output_type": "display_data"
    },
    {
     "data": {
      "image/png": "[encoded data removed]",
      "text/plain": [
       "<Figure size 1000x500 with 1 Axes>"
      ]
     },
     "metadata": {},
     "output_type": "display_data"
    }
   ],
   "source": [
    "import os\n",
    "import glob\n",
    "import pandas as pd\n",
    "import numpy as np\n",
    "import nibabel as nib\n",
    "from PIL import Image\n",
    "from sklearn.model_selection import train_test_split\n",
    "from sklearn.metrics import mean_absolute_error, r2_score\n",
    "import matplotlib.pyplot as plt\n",
    "\n",
    "import torch\n",
    "import torch.nn as nn\n",
    "from torch.utils.data import Dataset, DataLoader\n",
    "from torchvision import transforms, models\n",
    "from torch.cuda.amp import autocast, GradScaler\n",
    "\n",
    "# 🔧 저장 경로 설정\n",
    "SAVE_DIR = \"./models/vgg16bn_ixi\"\n",
    "os.makedirs(SAVE_DIR, exist_ok=True)\n",
    "\n",
    "# 1. Load metadata\n",
    "print(\"📁 Loading IXI metadata...\")\n",
    "df_info = pd.read_excel(\"./IXI-T1/IXI.xls\", sheet_name=\"Table\")\n",
    "df_info[\"IXI_ID\"] = df_info[\"IXI_ID\"].apply(lambda x: f\"IXI{int(x):03d}\")\n",
    "df_info = df_info[[\"IXI_ID\", \"AGE\"]]\n",
    "\n",
    "if df_info[\"AGE\"].isna().sum() > 0:\n",
    "    print(f\"⚠️ AGE 컬럼에 NaN 존재 → {df_info['AGE'].isna().sum()}개 행 제거합니다.\")\n",
    "    df_info = df_info.dropna(subset=[\"AGE\"])\n",
    "\n",
    "nifti_paths = sorted(glob.glob(\"./IXI-T1/*.nii.gz\"))\n",
    "records = []\n",
    "for path in nifti_paths:\n",
    "    basename = os.path.basename(path)\n",
    "    ixid = basename.split(\"-\")[0]\n",
    "    age_row = df_info[df_info[\"IXI_ID\"] == ixid]\n",
    "    if not age_row.empty:\n",
    "        age = age_row.iloc[0][\"AGE\"]\n",
    "        records.append({\"path\": path, \"IXI_ID\": ixid, \"AGE\": age})\n",
    "df = pd.DataFrame(records)\n",
    "print(f\"✅ 매칭된 샜항 수: {len(df)}\")\n",
    "\n",
    "# 2. Dataset\n",
    "class IXIAgeDataset(Dataset):\n",
    "    def __init__(self, df, transform=None, num_slices=30, resolution=(224, 224)):\n",
    "        self.df = df\n",
    "        self.num_slices = num_slices\n",
    "        self.resolution = resolution\n",
    "        self.transform = transform or transforms.Compose([\n",
    "            transforms.Resize(self.resolution),\n",
    "            transforms.ToTensor(),\n",
    "            transforms.Normalize([0.485], [0.229]),\n",
    "        ])\n",
    "\n",
    "    def __len__(self):\n",
    "        return len(self.df)\n",
    "\n",
    "    def __getitem__(self, idx):\n",
    "        row = self.df.iloc[idx]\n",
    "        img = nib.load(row[\"path\"]).get_fdata()\n",
    "        z_center = img.shape[2] // 2\n",
    "        half = self.num_slices // 2\n",
    "        slice_indices = list(range(z_center - half, z_center + half))\n",
    "\n",
    "        slices = []\n",
    "        for z in slice_indices:\n",
    "            if z < 0 or z >= img.shape[2]:\n",
    "                slice_img = np.zeros_like(img[:, :, 0], dtype=np.float32)\n",
    "            else:\n",
    "                slice_img = img[:, :, z]\n",
    "                if slice_img.max() != slice_img.min():\n",
    "                    slice_img = ((slice_img - slice_img.min()) / (slice_img.max() - slice_img.min())).astype(np.float32)\n",
    "                else:\n",
    "                    slice_img = np.zeros_like(slice_img, dtype=np.float32)\n",
    "\n",
    "            pil_img = Image.fromarray((slice_img * 255).astype(np.uint8)).convert(\"L\")\n",
    "            tensor_img = self.transform(pil_img)\n",
    "            slices.append(tensor_img)\n",
    "\n",
    "        stack_tensor = torch.stack(slices, dim=0).squeeze(1)  # (num_slices, H, W)\n",
    "        age = torch.tensor(row[\"AGE\"] / 100.0, dtype=torch.float32)\n",
    "        return stack_tensor, age\n",
    "\n",
    "\n",
    "# 3. VGG16-BN 모델 정의\n",
    "class VGG16BNRegressor(nn.Module):\n",
    "    def __init__(self):\n",
    "        super().__init__()\n",
    "        self.backbone = models.vgg16_bn(pretrained=True)\n",
    "        self.backbone.classifier[-1] = nn.Linear(self.backbone.classifier[-1].in_features, 1)\n",
    "\n",
    "    def forward(self, x):\n",
    "        return self.backbone(x).squeeze(1)\n",
    "\n",
    "# 4. 학생 설정\n",
    "device = torch.device(\"cuda\" if torch.cuda.is_available() else \"cpu\")\n",
    "print(f\"📠️ Using device: {device}\")\n",
    "\n",
    "mae_list = []\n",
    "r2_list = []\n",
    "global_best_mae = float('inf')\n",
    "global_best_model_state = None\n",
    "scaler = GradScaler()\n",
    "\n",
    "# 5. 하이퍼파리터 설정\n",
    "batch_size = 10\n",
    "num_epochs = 500\n",
    "num_slices = 30\n",
    "image_resolution = (224, 224)\n",
    "\n",
    "# 6. 5번 반복 학생\n",
    "for run in range(5):\n",
    "    print(f\"\\n========== 🏁 Run {run+1}/5 시작 ==========\")\n",
    "    train_df, val_df = train_test_split(df, test_size=0.3, random_state=run)\n",
    "\n",
    "    train_set = IXIAgeDataset(train_df, num_slices=num_slices, resolution=image_resolution)\n",
    "    val_set = IXIAgeDataset(val_df, num_slices=num_slices, resolution=image_resolution)\n",
    "    train_loader = DataLoader(train_set, batch_size=batch_size, shuffle=True, num_workers=4, pin_memory=True)\n",
    "    val_loader = DataLoader(val_set, batch_size=batch_size, num_workers=4, pin_memory=True)\n",
    "\n",
    "    model = VGG16BNRegressor().to(device)\n",
    "    optimizer = torch.optim.AdamW(model.parameters(), lr=1e-4)\n",
    "    criterion = nn.L1Loss()\n",
    "\n",
    "    best_mae = float('inf')\n",
    "    best_model_path = os.path.join(SAVE_DIR, f\"best_model_run{run+1}.pt\")\n",
    "    patience = 7\n",
    "    patience_counter = 0\n",
    "\n",
    "    train_losses = []\n",
    "    val_losses = []\n",
    "\n",
    "    for epoch in range(num_epochs):\n",
    "        model.train()\n",
    "        total_loss = 0\n",
    "        for batch_idx, (x, y) in enumerate(train_loader):\n",
    "            x, y = x.to(device), y.to(device)\n",
    "            B, S, H, W = x.shape\n",
    "            x = x.view(B * S, 1, H, W).repeat(1, 3, 1, 1)\n",
    "\n",
    "            with autocast():\n",
    "                pred = model(x).view(B, S).mean(dim=1)\n",
    "                loss = criterion(pred, y)\n",
    "\n",
    "            if torch.isnan(loss):\n",
    "                continue\n",
    "\n",
    "            optimizer.zero_grad()\n",
    "            scaler.scale(loss).backward()\n",
    "            torch.nn.utils.clip_grad_norm_(model.parameters(), max_norm=1.0)\n",
    "            scaler.step(optimizer)\n",
    "            scaler.update()\n",
    "\n",
    "            total_loss += loss.item()\n",
    "\n",
    "        train_losses.append(total_loss / len(train_loader))\n",
    "\n",
    "        model.eval()\n",
    "        preds = []\n",
    "        trues = []\n",
    "        val_loss_total = 0\n",
    "        with torch.no_grad():\n",
    "            for x, y in val_loader:\n",
    "                x, y = x.to(device), y.to(device)\n",
    "                B, S, H, W = x.shape\n",
    "                x = x.view(B * S, 1, H, W).repeat(1, 3, 1, 1)\n",
    "                with autocast():\n",
    "                    pred = model(x).view(B, S).mean(dim=1)\n",
    "                    loss = criterion(pred, y)\n",
    "                val_loss_total += loss.item()\n",
    "                preds.extend((pred * 100).cpu().numpy())\n",
    "                trues.extend((y * 100).cpu().numpy())\n",
    "\n",
    "        val_losses.append(val_loss_total / len(val_loader))\n",
    "\n",
    "        mae = mean_absolute_error(trues, preds)\n",
    "        r2 = r2_score(trues, preds)\n",
    "        print(f\"🔍 [Run {run+1} | Epoch {epoch+1}] MAE: {mae:.3f}, R²: {r2:.3f}, TrainLoss: {train_losses[-1]:.4f}, ValLoss: {val_losses[-1]:.4f}\")\n",
    "\n",
    "        if mae < best_mae:\n",
    "            best_mae = mae\n",
    "            patience_counter = 0\n",
    "            torch.save(model.state_dict(), best_model_path)\n",
    "        else:\n",
    "            patience_counter += 1\n",
    "\n",
    "        if patience_counter >= patience:\n",
    "            print(f\"🚑 Early stopping at epoch {epoch+1}\")\n",
    "            break\n",
    "\n",
    "    if best_mae < global_best_mae:\n",
    "        global_best_mae = best_mae\n",
    "        global_best_model_state = model.state_dict()\n",
    "        best_run_id = run + 1\n",
    "\n",
    "    mae_list.append(best_mae)\n",
    "    r2_list.append(r2)\n",
    "\n",
    "    # 🎨 개별 run의 학생 규선 저장\n",
    "    plt.figure(figsize=(10, 5))\n",
    "    plt.plot(train_losses, label='Train Loss')\n",
    "    plt.plot(val_losses, label='Val Loss')\n",
    "    plt.title(f\"Train vs Val Loss (Run {run+1})\")\n",
    "    plt.xlabel(\"Epoch\")\n",
    "    plt.ylabel(\"Loss\")\n",
    "    plt.legend()\n",
    "    plt.grid(True)\n",
    "    plt.savefig(os.path.join(SAVE_DIR, f\"loss_curve_run{run+1}.png\"))\n",
    "    plt.close()\n",
    "\n",
    "# 7. 전체 최고 모델 저장\n",
    "torch.save(global_best_model_state, os.path.join(SAVE_DIR, \"best_model_overall.pt\"))\n",
    "\n",
    "# 8. 성능 요약 시각화\n",
    "plt.figure(figsize=(10,5))\n",
    "plt.plot(mae_list, marker='o', label='MAE')\n",
    "plt.title(\"MAE over 5 Random Splits\")\n",
    "plt.xlabel(\"Run\")\n",
    "plt.ylabel(\"MAE\")\n",
    "plt.legend()\n",
    "plt.grid(True)\n",
    "plt.savefig(os.path.join(SAVE_DIR, \"mae_plot.png\"))\n",
    "plt.show()\n",
    "\n",
    "plt.figure(figsize=(10,5))\n",
    "plt.plot(r2_list, marker='s', label='R²')\n",
    "plt.title(\"R² Score over 5 Random Splits\")\n",
    "plt.xlabel(\"Run\")\n",
    "plt.ylabel(\"R² Score\")\n",
    "plt.legend()\n",
    "plt.grid(True)\n",
    "plt.savefig(os.path.join(SAVE_DIR, \"r2_plot.png\"))\n",
    "plt.show()"
   ]
  },
  {
   "cell_type": "code",
   "execution_count": null,
   "id": "680ab3f3",
   "metadata": {},
   "outputs": [],
   "source": [
    "# COANet : CNN + Transformer\n",
    "\n",
    "import os\n",
    "import glob\n",
    "import pandas as pd\n",
    "import numpy as np\n",
    "import nibabel as nib\n",
    "from PIL import Image\n",
    "from sklearn.model_selection import train_test_split\n",
    "from sklearn.metrics import mean_absolute_error, r2_score\n",
    "import matplotlib.pyplot as plt\n",
    "\n",
    "import torch\n",
    "import torch.nn as nn\n",
    "from torch.utils.data import Dataset, DataLoader\n",
    "from torchvision import transforms\n",
    "import timm\n",
    "from torch.cuda.amp import autocast, GradScaler\n",
    "\n",
    "# 🔧 저장 경로 설정\n",
    "SAVE_DIR = \"./models/coatnet1_ixi\"\n",
    "os.makedirs(SAVE_DIR, exist_ok=True)\n",
    "\n",
    "# 1. Load metadata\n",
    "print(\"📁 Loading IXI metadata...\")\n",
    "df_info = pd.read_excel(\"./IXI-T1/IXI.xls\", sheet_name=\"Table\")\n",
    "df_info[\"IXI_ID\"] = df_info[\"IXI_ID\"].apply(lambda x: f\"IXI{int(x):03d}\")\n",
    "df_info = df_info[[\"IXI_ID\", \"AGE\"]]\n",
    "df_info = df_info.dropna(subset=[\"AGE\"])\n",
    "\n",
    "nifti_paths = sorted(glob.glob(\"./IXI-T1/*.nii.gz\"))\n",
    "records = []\n",
    "for path in nifti_paths:\n",
    "    basename = os.path.basename(path)\n",
    "    ixid = basename.split(\"-\")[0]\n",
    "    age_row = df_info[df_info[\"IXI_ID\"] == ixid]\n",
    "    if not age_row.empty:\n",
    "        age = age_row.iloc[0][\"AGE\"]\n",
    "        records.append({\"path\": path, \"IXI_ID\": ixid, \"AGE\": age})\n",
    "df = pd.DataFrame(records)\n",
    "print(f\"✅ 매칭된 샘플 수: {len(df)}\")\n",
    "\n",
    "# 2. Dataset\n",
    "class IXIAgeDataset(Dataset):\n",
    "    def __init__(self, df, transform=None, num_slices=20, resolution=(224, 224)):\n",
    "        self.df = df\n",
    "        self.num_slices = num_slices\n",
    "        self.resolution = resolution\n",
    "        self.transform = transform or transforms.Compose([\n",
    "            transforms.Resize(self.resolution),\n",
    "            transforms.ToTensor(),\n",
    "            transforms.Normalize([0.5]*3, [0.5]*3),\n",
    "        ])\n",
    "\n",
    "    def __len__(self):\n",
    "        return len(self.df)\n",
    "\n",
    "    def __getitem__(self, idx):\n",
    "        row = self.df.iloc[idx]\n",
    "        img = nib.load(row[\"path\"]).get_fdata()\n",
    "        z_center = img.shape[2] // 2\n",
    "        half = self.num_slices // 2\n",
    "        slice_indices = list(range(z_center - half, z_center + half))\n",
    "\n",
    "        slices = []\n",
    "        for z in slice_indices:\n",
    "            if z < 0 or z >= img.shape[2]:\n",
    "                slice_img = np.zeros_like(img[:, :, 0], dtype=np.float32)\n",
    "            else:\n",
    "                slice_img = img[:, :, z]\n",
    "                if slice_img.max() != slice_img.min():\n",
    "                    slice_img = ((slice_img - slice_img.min()) / (slice_img.max() - slice_img.min())).astype(np.float32)\n",
    "                else:\n",
    "                    slice_img = np.zeros_like(slice_img, dtype=np.float32)\n",
    "\n",
    "            pil_img = Image.fromarray((slice_img * 255).astype(np.uint8)).convert(\"L\")\n",
    "            rgb_img = pil_img.convert(\"RGB\")\n",
    "            tensor_img = self.transform(rgb_img)\n",
    "            slices.append(tensor_img)\n",
    "\n",
    "        stack_tensor = torch.stack(slices, dim=0)\n",
    "        age = torch.tensor(row[\"AGE\"] / 100.0, dtype=torch.float32)\n",
    "        return stack_tensor, age\n",
    "\n",
    "# 3. CoAtNet 모델 정의\n",
    "class CoAtNetRegressor(nn.Module):\n",
    "    def __init__(self):\n",
    "        super().__init__()\n",
    "        self.backbone = timm.create_model('coatnet_1_rw_224', pretrained=True, num_classes=1)\n",
    "\n",
    "    def forward(self, x):\n",
    "        return self.backbone(x).squeeze(1)\n",
    "\n",
    "# 4. 설정\n",
    "device = torch.device(\"cuda\" if torch.cuda.is_available() else \"cpu\")\n",
    "print(f\"🖥️ Using device: {device}\")\n",
    "\n",
    "# 5. 하이퍼파라미터\n",
    "batch_size = 8\n",
    "num_epochs = 500\n",
    "num_slices = 20\n",
    "image_resolution = (224, 224)\n",
    "\n",
    "# 6. 반복 학습\n",
    "mae_list, r2_list = [], []\n",
    "global_best_mae = float('inf')\n",
    "global_best_model_state = None\n",
    "scaler = GradScaler()\n",
    "\n",
    "for run in range(5):\n",
    "    print(f\"\\n========== 🏁 Run {run+1}/5 시작 ==========\")\n",
    "    train_df, val_df = train_test_split(df, test_size=0.3, random_state=run)\n",
    "\n",
    "    train_set = IXIAgeDataset(train_df, num_slices=num_slices, resolution=image_resolution)\n",
    "    val_set = IXIAgeDataset(val_df, num_slices=num_slices, resolution=image_resolution)\n",
    "    train_loader = DataLoader(train_set, batch_size=batch_size, shuffle=True, num_workers=4, pin_memory=True)\n",
    "    val_loader = DataLoader(val_set, batch_size=batch_size, num_workers=4, pin_memory=True)\n",
    "\n",
    "    model = CoAtNetRegressor().to(device)\n",
    "    optimizer = torch.optim.AdamW(model.parameters(), lr=1e-4)\n",
    "    criterion = nn.L1Loss()\n",
    "\n",
    "    best_mae = float('inf')\n",
    "    best_model_path = os.path.join(SAVE_DIR, f\"best_model_run{run+1}.pt\")\n",
    "    patience = 7\n",
    "    patience_counter = 0\n",
    "\n",
    "    for epoch in range(num_epochs):\n",
    "        model.train()\n",
    "        total_loss = 0\n",
    "        for x, y in train_loader:\n",
    "            x, y = x.to(device), y.to(device)\n",
    "            B, S, C, H, W = x.shape\n",
    "            x = x.view(B * S, C, H, W)\n",
    "\n",
    "            with autocast():\n",
    "                pred = model(x).view(B, S).mean(dim=1)\n",
    "                loss = criterion(pred, y)\n",
    "\n",
    "            if torch.isnan(loss):\n",
    "                continue\n",
    "\n",
    "            optimizer.zero_grad()\n",
    "            scaler.scale(loss).backward()\n",
    "            torch.nn.utils.clip_grad_norm_(model.parameters(), max_norm=1.0)\n",
    "            scaler.step(optimizer)\n",
    "            scaler.update()\n",
    "            total_loss += loss.item()\n",
    "\n",
    "        model.eval()\n",
    "        preds, trues = [], []\n",
    "        with torch.no_grad():\n",
    "            for x, y in val_loader:\n",
    "                x = x.to(device)\n",
    "                B, S, C, H, W = x.shape\n",
    "                x = x.view(B * S, C, H, W)\n",
    "\n",
    "                with autocast():\n",
    "                    pred = model(x).view(B, S).mean(dim=1).cpu().numpy() * 100.0\n",
    "\n",
    "                preds.extend(pred)\n",
    "                trues.extend(y.numpy() * 100.0)\n",
    "\n",
    "        mae = mean_absolute_error(trues, preds)\n",
    "        r2 = r2_score(trues, preds)\n",
    "        print(f\"📊 Run {run+1} | Epoch {epoch+1} → Val MAE: {mae:.3f}, R²: {r2:.3f}\")\n",
    "\n",
    "        if mae < best_mae:\n",
    "            best_mae = mae\n",
    "            patience_counter = 0\n",
    "            torch.save(model.state_dict(), best_model_path)\n",
    "        else:\n",
    "            patience_counter += 1\n",
    "\n",
    "        if patience_counter >= patience:\n",
    "            print(f\"🛑 Early stopping at epoch {epoch+1}\")\n",
    "            break\n",
    "\n",
    "    if best_mae < global_best_mae:\n",
    "        global_best_mae = best_mae\n",
    "        global_best_model_state = model.state_dict()\n",
    "        best_run_id = run + 1\n",
    "\n",
    "    mae_list.append(best_mae)\n",
    "    r2_list.append(r2)\n",
    "\n",
    "# 7. 최고 모델 저장\n",
    "torch.save(global_best_model_state, os.path.join(SAVE_DIR, \"best_model_overall.pt\"))\n",
    "\n",
    "# 8. 시각화\n",
    "plt.plot(mae_list, marker='o', label='MAE')\n",
    "plt.title(\"MAE over 5 Runs\")\n",
    "plt.xlabel(\"Run\")\n",
    "plt.ylabel(\"MAE\")\n",
    "plt.grid(True)\n",
    "plt.savefig(os.path.join(SAVE_DIR, \"mae_plot.png\"))\n",
    "plt.show()\n",
    "\n",
    "plt.plot(r2_list, marker='s', label='R²')\n",
    "plt.title(\"R² Score over 5 Runs\")\n",
    "plt.xlabel(\"Run\")\n",
    "plt.ylabel(\"R² Score\")\n",
    "plt.grid(True)\n",
    "plt.savefig(os.path.join(SAVE_DIR, \"r2_plot.png\"))\n",
    "plt.show()\n"
   ]
  },
  {
   "cell_type": "code",
   "execution_count": null,
   "id": "8ab39a2e",
   "metadata": {},
   "outputs": [],
   "source": [
    "# COATNET → TWINS-SVT SMALL 변경 버전\n",
    "\n",
    "import os\n",
    "import glob\n",
    "import pandas as pd\n",
    "import numpy as np\n",
    "import nibabel as nib\n",
    "from PIL import Image\n",
    "from sklearn.model_selection import train_test_split\n",
    "from sklearn.metrics import mean_absolute_error, r2_score\n",
    "import matplotlib.pyplot as plt\n",
    "\n",
    "import torch\n",
    "import torch.nn as nn\n",
    "from torch.utils.data import Dataset, DataLoader\n",
    "from torchvision import transforms\n",
    "import timm\n",
    "from torch.cuda.amp import autocast, GradScaler\n",
    "\n",
    "# 🔧 저장 경로\n",
    "SAVE_DIR = \"./models/twins_svt_ixi\"\n",
    "os.makedirs(SAVE_DIR, exist_ok=True)\n",
    "\n",
    "# 1. Load metadata\n",
    "print(\"📁 Loading IXI metadata...\")\n",
    "df_info = pd.read_excel(\"./IXI-T1/IXI.xls\", sheet_name=\"Table\")\n",
    "df_info[\"IXI_ID\"] = df_info[\"IXI_ID\"].apply(lambda x: f\"IXI{int(x):03d}\")\n",
    "df_info = df_info[[\"IXI_ID\", \"AGE\"]]\n",
    "df_info = df_info.dropna(subset=[\"AGE\"])\n",
    "\n",
    "nifti_paths = sorted(glob.glob(\"./IXI-T1/*.nii.gz\"))\n",
    "records = []\n",
    "for path in nifti_paths:\n",
    "    basename = os.path.basename(path)\n",
    "    ixid = basename.split(\"-\")[0]\n",
    "    age_row = df_info[df_info[\"IXI_ID\"] == ixid]\n",
    "    if not age_row.empty:\n",
    "        age = age_row.iloc[0][\"AGE\"]\n",
    "        records.append({\"path\": path, \"IXI_ID\": ixid, \"AGE\": age})\n",
    "df = pd.DataFrame(records)\n",
    "print(f\"✅ 매칭된 샘플 수: {len(df)}\")\n",
    "\n",
    "# 2. Dataset 정의\n",
    "class IXIAgeDataset(Dataset):\n",
    "    def __init__(self, df, transform=None, num_slices=20, resolution=(224, 224)):\n",
    "        self.df = df\n",
    "        self.num_slices = num_slices\n",
    "        self.resolution = resolution\n",
    "        self.transform = transform or transforms.Compose([\n",
    "            transforms.Resize(self.resolution),\n",
    "            transforms.ToTensor(),\n",
    "            transforms.Normalize([0.5]*3, [0.5]*3),\n",
    "        ])\n",
    "\n",
    "    def __len__(self):\n",
    "        return len(self.df)\n",
    "\n",
    "    def __getitem__(self, idx):\n",
    "        row = self.df.iloc[idx]\n",
    "        img = nib.load(row[\"path\"]).get_fdata()\n",
    "        z_center = img.shape[2] // 2\n",
    "        half = self.num_slices // 2\n",
    "        slice_indices = list(range(z_center - half, z_center + half))\n",
    "\n",
    "        slices = []\n",
    "        for z in slice_indices:\n",
    "            if z < 0 or z >= img.shape[2]:\n",
    "                slice_img = np.zeros_like(img[:, :, 0], dtype=np.float32)\n",
    "            else:\n",
    "                slice_img = img[:, :, z]\n",
    "                if slice_img.max() != slice_img.min():\n",
    "                    slice_img = ((slice_img - slice_img.min()) / (slice_img.max() - slice_img.min())).astype(np.float32)\n",
    "                else:\n",
    "                    slice_img = np.zeros_like(slice_img, dtype=np.float32)\n",
    "\n",
    "            pil_img = Image.fromarray((slice_img * 255).astype(np.uint8)).convert(\"L\")\n",
    "            rgb_img = pil_img.convert(\"RGB\")\n",
    "            tensor_img = self.transform(rgb_img)\n",
    "            slices.append(tensor_img)\n",
    "\n",
    "        stack_tensor = torch.stack(slices, dim=0)\n",
    "        age = torch.tensor(row[\"AGE\"] / 100.0, dtype=torch.float32)\n",
    "        return stack_tensor, age\n",
    "\n",
    "# 3. Twins-SVT 모델 정의\n",
    "class TwinsSVTRegressor(nn.Module):\n",
    "    def __init__(self):\n",
    "        super().__init__()\n",
    "        self.backbone = timm.create_model('twins_svt_small', pretrained=True, num_classes=1)\n",
    "\n",
    "    def forward(self, x):\n",
    "        return self.backbone(x).squeeze(1)\n",
    "\n",
    "# 4. 설정\n",
    "device = torch.device(\"cuda\" if torch.cuda.is_available() else \"cpu\")\n",
    "print(f\"🖥️ Using device: {device}\")\n",
    "\n",
    "# 5. 하이퍼파라미터\n",
    "batch_size = 8\n",
    "num_epochs = 500\n",
    "num_slices = 20\n",
    "image_resolution = (224, 224)\n",
    "\n",
    "# 6. 반복 학습\n",
    "mae_list, r2_list = [], []\n",
    "global_best_mae = float('inf')\n",
    "global_best_model_state = None\n",
    "scaler = GradScaler()\n",
    "\n",
    "for run in range(5):\n",
    "    print(f\"\\n========== 🏁 Run {run+1}/5 시작 ==========\")\n",
    "    train_df, val_df = train_test_split(df, test_size=0.3, random_state=run)\n",
    "\n",
    "    train_set = IXIAgeDataset(train_df, num_slices=num_slices, resolution=image_resolution)\n",
    "    val_set = IXIAgeDataset(val_df, num_slices=num_slices, resolution=image_resolution)\n",
    "    train_loader = DataLoader(train_set, batch_size=batch_size, shuffle=True, num_workers=4, pin_memory=True)\n",
    "    val_loader = DataLoader(val_set, batch_size=batch_size, num_workers=4, pin_memory=True)\n",
    "\n",
    "    model = TwinsSVTRegressor().to(device)\n",
    "    optimizer = torch.optim.AdamW(model.parameters(), lr=1e-4)\n",
    "    criterion = nn.L1Loss()\n",
    "\n",
    "    best_mae = float('inf')\n",
    "    best_model_path = os.path.join(SAVE_DIR, f\"best_model_run{run+1}.pt\")\n",
    "    patience = 7\n",
    "    patience_counter = 0\n",
    "\n",
    "    for epoch in range(num_epochs):\n",
    "        model.train()\n",
    "        total_loss = 0\n",
    "        for x, y in train_loader:\n",
    "            x, y = x.to(device), y.to(device)\n",
    "            B, S, C, H, W = x.shape\n",
    "            x = x.view(B * S, C, H, W)\n",
    "\n",
    "            with autocast():\n",
    "                pred = model(x).view(B, S).mean(dim=1)\n",
    "                loss = criterion(pred, y)\n",
    "\n",
    "            if torch.isnan(loss):\n",
    "                continue\n",
    "\n",
    "            optimizer.zero_grad()\n",
    "            scaler.scale(loss).backward()\n",
    "            torch.nn.utils.clip_grad_norm_(model.parameters(), max_norm=1.0)\n",
    "            scaler.step(optimizer)\n",
    "            scaler.update()\n",
    "            total_loss += loss.item()\n",
    "\n",
    "        model.eval()\n",
    "        preds, trues = [], []\n",
    "        with torch.no_grad():\n",
    "            for x, y in val_loader:\n",
    "                x = x.to(device)\n",
    "                B, S, C, H, W = x.shape\n",
    "                x = x.view(B * S, C, H, W)\n",
    "\n",
    "                with autocast():\n",
    "                    pred = model(x).view(B, S).mean(dim=1).cpu().numpy() * 100.0\n",
    "\n",
    "                preds.extend(pred)\n",
    "                trues.extend(y.numpy() * 100.0)\n",
    "\n",
    "        mae = mean_absolute_error(trues, preds)\n",
    "        r2 = r2_score(trues, preds)\n",
    "        print(f\"📊 Run {run+1} | Epoch {epoch+1} → Val MAE: {mae:.3f}, R²: {r2:.3f}\")\n",
    "\n",
    "        if mae < best_mae:\n",
    "            best_mae = mae\n",
    "            patience_counter = 0\n",
    "            torch.save(model.state_dict(), best_model_path)\n",
    "        else:\n",
    "            patience_counter += 1\n",
    "\n",
    "        if patience_counter >= patience:\n",
    "            print(f\"🛑 Early stopping at epoch {epoch+1}\")\n",
    "            break\n",
    "\n",
    "    if best_mae < global_best_mae:\n",
    "        global_best_mae = best_mae\n",
    "        global_best_model_state = model.state_dict()\n",
    "        best_run_id = run + 1\n",
    "\n",
    "    mae_list.append(best_mae)\n",
    "    r2_list.append(r2)\n",
    "\n",
    "# 7. 최고 모델 저장\n",
    "torch.save(global_best_model_state, os.path.join(SAVE_DIR, \"best_model_overall.pt\"))\n",
    "\n",
    "# 8. 시각화\n",
    "plt.plot(mae_list, marker='o', label='MAE')\n",
    "plt.title(\"MAE over 5 Runs\")\n",
    "plt.xlabel(\"Run\")\n",
    "plt.ylabel(\"MAE\")\n",
    "plt.grid(True)\n",
    "plt.savefig(os.path.join(SAVE_DIR, \"mae_plot.png\"))\n",
    "plt.show()\n",
    "\n",
    "plt.plot(r2_list, marker='s', label='R²')\n",
    "plt.title(\"R² Score over 5 Runs\")\n",
    "plt.xlabel(\"Run\")\n",
    "plt.ylabel(\"R² Score\")\n",
    "plt.grid(True)\n",
    "plt.savefig(os.path.join(SAVE_DIR, \"r2_plot.png\"))\n",
    "plt.show()\n"
   ]
  },
  {
   "cell_type": "code",
   "execution_count": null,
   "id": "b0277346",
   "metadata": {},
   "outputs": [],
   "source": [
    "# eva\n",
    "\n",
    "import os\n",
    "import glob\n",
    "import pandas as pd\n",
    "import numpy as np\n",
    "import nibabel as nib\n",
    "from PIL import Image\n",
    "from sklearn.model_selection import train_test_split\n",
    "from sklearn.metrics import mean_absolute_error, r2_score\n",
    "import matplotlib.pyplot as plt\n",
    "\n",
    "import torch\n",
    "import torch.nn as nn\n",
    "from torch.utils.data import Dataset, DataLoader\n",
    "from torchvision import transforms\n",
    "import timm\n",
    "from torch.cuda.amp import autocast, GradScaler\n",
    "\n",
    "# 🔧 저장 경로\n",
    "SAVE_DIR = \"./models/eva_ixi\"\n",
    "os.makedirs(SAVE_DIR, exist_ok=True)\n",
    "\n",
    "# 1. Load metadata\n",
    "print(\"📁 Loading IXI metadata...\")\n",
    "df_info = pd.read_excel(\"./IXI-T1/IXI.xls\", sheet_name=\"Table\")\n",
    "df_info[\"IXI_ID\"] = df_info[\"IXI_ID\"].apply(lambda x: f\"IXI{int(x):03d}\")\n",
    "df_info = df_info[[\"IXI_ID\", \"AGE\"]].dropna(subset=[\"AGE\"])\n",
    "\n",
    "nifti_paths = sorted(glob.glob(\"./IXI-T1/*.nii.gz\"))\n",
    "records = []\n",
    "for path in nifti_paths:\n",
    "    basename = os.path.basename(path)\n",
    "    ixid = basename.split(\"-\")[0]\n",
    "    age_row = df_info[df_info[\"IXI_ID\"] == ixid]\n",
    "    if not age_row.empty:\n",
    "        age = age_row.iloc[0][\"AGE\"]\n",
    "        records.append({\"path\": path, \"IXI_ID\": ixid, \"AGE\": age})\n",
    "df = pd.DataFrame(records)\n",
    "print(f\"✅ 매칭된 샘플 수: {len(df)}\")\n",
    "\n",
    "# 2. Dataset\n",
    "class IXIAgeDataset(Dataset):\n",
    "    def __init__(self, df, transform=None, num_slices=20, resolution=(224, 224)):\n",
    "        self.df = df\n",
    "        self.num_slices = num_slices\n",
    "        self.resolution = resolution\n",
    "        self.transform = transform or transforms.Compose([\n",
    "            transforms.Resize(self.resolution),\n",
    "            transforms.ToTensor(),\n",
    "            transforms.Normalize([0.5]*3, [0.5]*3),\n",
    "        ])\n",
    "\n",
    "    def __len__(self):\n",
    "        return len(self.df)\n",
    "\n",
    "    def __getitem__(self, idx):\n",
    "        row = self.df.iloc[idx]\n",
    "        img = nib.load(row[\"path\"]).get_fdata()\n",
    "        z_center = img.shape[2] // 2\n",
    "        half = self.num_slices // 2\n",
    "        slice_indices = list(range(z_center - half, z_center + half))\n",
    "\n",
    "        slices = []\n",
    "        for z in slice_indices:\n",
    "            slice_img = np.zeros_like(img[:, :, 0], dtype=np.float32) if z < 0 or z >= img.shape[2] else img[:, :, z]\n",
    "            if slice_img.max() != slice_img.min():\n",
    "                slice_img = ((slice_img - slice_img.min()) / (slice_img.max() - slice_img.min())).astype(np.float32)\n",
    "            else:\n",
    "                slice_img = np.zeros_like(slice_img, dtype=np.float32)\n",
    "            pil_img = Image.fromarray((slice_img * 255).astype(np.uint8)).convert(\"L\").convert(\"RGB\")\n",
    "            slices.append(self.transform(pil_img))\n",
    "\n",
    "        return torch.stack(slices, dim=0), torch.tensor(row[\"AGE\"] / 100.0, dtype=torch.float32)\n",
    "\n",
    "# 3. EVA Regressor 정의\n",
    "class EVARegressor(nn.Module):\n",
    "    def __init__(self):\n",
    "        super().__init__()\n",
    "        self.backbone = timm.create_model(\n",
    "            'eva02_base_patch14_224.mim_in22k',\n",
    "            pretrained=True,\n",
    "            num_classes=1\n",
    "        )\n",
    "\n",
    "    def forward(self, x):\n",
    "        return self.backbone(x).squeeze(1)\n",
    "\n",
    "# 4. 설정\n",
    "device = torch.device(\"cuda\" if torch.cuda.is_available() else \"cpu\")\n",
    "print(f\"🖥️ Using device: {device}\")\n",
    "\n",
    "# 5. 하이퍼파라미터\n",
    "batch_size = 8\n",
    "num_epochs = 500\n",
    "num_slices = 20\n",
    "image_resolution = (224, 224)\n",
    "\n",
    "# 6. 반복 학습\n",
    "mae_list, r2_list = [], []\n",
    "global_best_mae = float('inf')\n",
    "global_best_model_state = None\n",
    "scaler = GradScaler()\n",
    "\n",
    "for run in range(5):\n",
    "    print(f\"\\n========== 🏁 Run {run+1}/5 시작 ==========\")\n",
    "    train_df, val_df = train_test_split(df, test_size=0.3, random_state=run)\n",
    "\n",
    "    train_set = IXIAgeDataset(train_df, num_slices=num_slices, resolution=image_resolution)\n",
    "    val_set = IXIAgeDataset(val_df, num_slices=num_slices, resolution=image_resolution)\n",
    "    train_loader = DataLoader(train_set, batch_size=batch_size, shuffle=True, num_workers=4, pin_memory=True)\n",
    "    val_loader = DataLoader(val_set, batch_size=batch_size, num_workers=4, pin_memory=True)\n",
    "\n",
    "    model = EVARegressor().to(device)\n",
    "    optimizer = torch.optim.AdamW(model.parameters(), lr=1e-4)\n",
    "    criterion = nn.L1Loss()\n",
    "\n",
    "    best_mae = float('inf')\n",
    "    best_model_path = os.path.join(SAVE_DIR, f\"best_model_run{run+1}.pt\")\n",
    "    patience = 7\n",
    "    patience_counter = 0\n",
    "\n",
    "    for epoch in range(num_epochs):\n",
    "        model.train()\n",
    "        total_loss = 0\n",
    "        for x, y in train_loader:\n",
    "            x, y = x.to(device), y.to(device)\n",
    "            B, S, C, H, W = x.shape\n",
    "            x = x.view(B * S, C, H, W)\n",
    "\n",
    "            with autocast():\n",
    "                pred = model(x).view(B, S).mean(dim=1)\n",
    "                loss = criterion(pred, y)\n",
    "\n",
    "            if torch.isnan(loss):\n",
    "                continue\n",
    "\n",
    "            optimizer.zero_grad()\n",
    "            scaler.scale(loss).backward()\n",
    "            torch.nn.utils.clip_grad_norm_(model.parameters(), 1.0)\n",
    "            scaler.step(optimizer)\n",
    "            scaler.update()\n",
    "            total_loss += loss.item()\n",
    "\n",
    "        # Validation\n",
    "        model.eval()\n",
    "        preds, trues = [], []\n",
    "        with torch.no_grad():\n",
    "            for x, y in val_loader:\n",
    "                x = x.to(device)\n",
    "                B, S, C, H, W = x.shape\n",
    "                x = x.view(B * S, C, H, W)\n",
    "\n",
    "                with autocast():\n",
    "                    pred = model(x).view(B, S).mean(dim=1).cpu().numpy() * 100.0\n",
    "\n",
    "                preds.extend(pred)\n",
    "                trues.extend(y.numpy() * 100.0)\n",
    "\n",
    "        mae = mean_absolute_error(trues, preds)\n",
    "        r2 = r2_score(trues, preds)\n",
    "        print(f\"📊 Run {run+1} | Epoch {epoch+1} → Val MAE: {mae:.3f}, R²: {r2:.3f}\")\n",
    "\n",
    "        if mae < best_mae:\n",
    "            best_mae = mae\n",
    "            patience_counter = 0\n",
    "            torch.save(model.state_dict(), best_model_path)\n",
    "        else:\n",
    "            patience_counter += 1\n",
    "\n",
    "        if patience_counter >= patience:\n",
    "            print(f\"🛑 Early stopping at epoch {epoch+1}\")\n",
    "            break\n",
    "\n",
    "    if best_mae < global_best_mae:\n",
    "        global_best_mae = best_mae\n",
    "        global_best_model_state = model.state_dict()\n",
    "        best_run_id = run + 1\n",
    "\n",
    "    mae_list.append(best_mae)\n",
    "    r2_list.append(r2)\n",
    "\n",
    "# 7. 저장\n",
    "torch.save(global_best_model_state, os.path.join(SAVE_DIR, \"best_model_overall.pt\"))\n",
    "\n",
    "# 8. 시각화\n",
    "plt.plot(mae_list, marker='o', label='MAE')\n",
    "plt.title(\"MAE over 5 Runs\")\n",
    "plt.xlabel(\"Run\")\n",
    "plt.ylabel(\"MAE\")\n",
    "plt.grid(True)\n",
    "plt.savefig(os.path.join(SAVE_DIR, \"mae_plot.png\"))\n",
    "plt.show()\n",
    "\n",
    "plt.plot(r2_list, marker='s', label='R²')\n",
    "plt.title(\"R² Score over 5 Runs\")\n",
    "plt.xlabel(\"Run\")\n",
    "plt.ylabel(\"R² Score\")\n",
    "plt.grid(True)\n",
    "plt.savefig(os.path.join(SAVE_DIR, \"r2_plot.png\"))\n",
    "plt.show()\n"
   ]
  },
  {
   "cell_type": "code",
   "execution_count": null,
   "id": "0effaafa",
   "metadata": {},
   "outputs": [],
   "source": [
    "# MAE 기반 나이 회귀 모델\n",
    "\n",
    "import os\n",
    "import glob\n",
    "import pandas as pd\n",
    "import numpy as np\n",
    "import nibabel as nib\n",
    "from PIL import Image\n",
    "from sklearn.model_selection import train_test_split\n",
    "from sklearn.metrics import mean_absolute_error, r2_score\n",
    "import matplotlib.pyplot as plt\n",
    "\n",
    "import torch\n",
    "import torch.nn as nn\n",
    "from torch.utils.data import Dataset, DataLoader\n",
    "from torchvision import transforms\n",
    "import timm\n",
    "from torch.cuda.amp import autocast, GradScaler\n",
    "\n",
    "# 🔧 저장 경로\n",
    "SAVE_DIR = \"./models/mae_ixi\"\n",
    "os.makedirs(SAVE_DIR, exist_ok=True)\n",
    "\n",
    "# 1. Load metadata\n",
    "print(\"📁 Loading IXI metadata...\")\n",
    "df_info = pd.read_excel(\"./IXI-T1/IXI.xls\", sheet_name=\"Table\")\n",
    "df_info[\"IXI_ID\"] = df_info[\"IXI_ID\"].apply(lambda x: f\"IXI{int(x):03d}\")\n",
    "df_info = df_info[[\"IXI_ID\", \"AGE\"]].dropna(subset=[\"AGE\"])\n",
    "\n",
    "nifti_paths = sorted(glob.glob(\"./IXI-T1/*.nii.gz\"))\n",
    "records = []\n",
    "for path in nifti_paths:\n",
    "    basename = os.path.basename(path)\n",
    "    ixid = basename.split(\"-\")[0]\n",
    "    age_row = df_info[df_info[\"IXI_ID\"] == ixid]\n",
    "    if not age_row.empty:\n",
    "        age = age_row.iloc[0][\"AGE\"]\n",
    "        records.append({\"path\": path, \"IXI_ID\": ixid, \"AGE\": age})\n",
    "df = pd.DataFrame(records)\n",
    "print(f\"✅ 매칭된 샘플 수: {len(df)}\")\n",
    "\n",
    "# 2. Dataset\n",
    "class IXIAgeDataset(Dataset):\n",
    "    def __init__(self, df, transform=None, num_slices=20, resolution=(224, 224)):\n",
    "        self.df = df\n",
    "        self.num_slices = num_slices\n",
    "        self.resolution = resolution\n",
    "        self.transform = transform or transforms.Compose([\n",
    "            transforms.Resize(self.resolution),\n",
    "            transforms.ToTensor(),\n",
    "            transforms.Normalize([0.5]*3, [0.5]*3),\n",
    "        ])\n",
    "\n",
    "    def __len__(self):\n",
    "        return len(self.df)\n",
    "\n",
    "    def __getitem__(self, idx):\n",
    "        row = self.df.iloc[idx]\n",
    "        img = nib.load(row[\"path\"]).get_fdata()\n",
    "        z_center = img.shape[2] // 2\n",
    "        half = self.num_slices // 2\n",
    "        slice_indices = list(range(z_center - half, z_center + half))\n",
    "\n",
    "        slices = []\n",
    "        for z in slice_indices:\n",
    "            slice_img = np.zeros_like(img[:, :, 0], dtype=np.float32) if z < 0 or z >= img.shape[2] else img[:, :, z]\n",
    "            if slice_img.max() != slice_img.min():\n",
    "                slice_img = ((slice_img - slice_img.min()) / (slice_img.max() - slice_img.min())).astype(np.float32)\n",
    "            else:\n",
    "                slice_img = np.zeros_like(slice_img, dtype=np.float32)\n",
    "            pil_img = Image.fromarray((slice_img * 255).astype(np.uint8)).convert(\"L\").convert(\"RGB\")\n",
    "            slices.append(self.transform(pil_img))\n",
    "\n",
    "        return torch.stack(slices, dim=0), torch.tensor(row[\"AGE\"] / 100.0, dtype=torch.float32)\n",
    "\n",
    "# 3. MAE (Aoutoendoder) 모델 정의\n",
    "class MAERegressor(nn.Module):\n",
    "    def __init__(self):\n",
    "        super().__init__()\n",
    "        # MAE 사전학습된 encoder만 불러오기\n",
    "        self.backbone = timm.create_model(\"vit_base_patch16_224.mae\", pretrained=True, num_classes=1)\n",
    "\n",
    "    def forward(self, x):\n",
    "        return self.backbone(x).squeeze(1)\n",
    "\n",
    "\n",
    "# 4. 설정\n",
    "device = torch.device(\"cuda\" if torch.cuda.is_available() else \"cpu\")\n",
    "print(f\"🖥️ Using device: {device}\")\n",
    "\n",
    "# 5. 하이퍼파라미터\n",
    "batch_size = 8\n",
    "num_epochs = 500\n",
    "num_slices = 20\n",
    "image_resolution = (224, 224)\n",
    "\n",
    "# 6. 반복 학습\n",
    "mae_list, r2_list = [], []\n",
    "global_best_mae = float('inf')\n",
    "global_best_model_state = None\n",
    "scaler = GradScaler()\n",
    "\n",
    "for run in range(5):\n",
    "    print(f\"\\n========== 🏁 Run {run+1}/5 시작 ==========\")\n",
    "    train_df, val_df = train_test_split(df, test_size=0.3, random_state=run)\n",
    "\n",
    "    train_set = IXIAgeDataset(train_df, num_slices=num_slices, resolution=image_resolution)\n",
    "    val_set = IXIAgeDataset(val_df, num_slices=num_slices, resolution=image_resolution)\n",
    "    train_loader = DataLoader(train_set, batch_size=batch_size, shuffle=True, num_workers=4, pin_memory=True)\n",
    "    val_loader = DataLoader(val_set, batch_size=batch_size, num_workers=4, pin_memory=True)\n",
    "\n",
    "    model = MAERegressor().to(device)\n",
    "    optimizer = torch.optim.AdamW(model.parameters(), lr=1e-4)\n",
    "    criterion = nn.L1Loss()\n",
    "\n",
    "    best_mae = float('inf')\n",
    "    best_model_path = os.path.join(SAVE_DIR, f\"best_model_run{run+1}.pt\")\n",
    "    patience = 7\n",
    "    patience_counter = 0\n",
    "\n",
    "    for epoch in range(num_epochs):\n",
    "        model.train()\n",
    "        total_loss = 0\n",
    "        for x, y in train_loader:\n",
    "            x, y = x.to(device), y.to(device)\n",
    "            B, S, C, H, W = x.shape\n",
    "            x = x.view(B * S, C, H, W)\n",
    "\n",
    "            with autocast():\n",
    "                pred = model(x).view(B, S).mean(dim=1)\n",
    "                loss = criterion(pred, y)\n",
    "\n",
    "            if torch.isnan(loss):\n",
    "                continue\n",
    "\n",
    "            optimizer.zero_grad()\n",
    "            scaler.scale(loss).backward()\n",
    "            torch.nn.utils.clip_grad_norm_(model.parameters(), 1.0)\n",
    "            scaler.step(optimizer)\n",
    "            scaler.update()\n",
    "            total_loss += loss.item()\n",
    "\n",
    "        # Validation\n",
    "        model.eval()\n",
    "        preds, trues = [], []\n",
    "        with torch.no_grad():\n",
    "            for x, y in val_loader:\n",
    "                x = x.to(device)\n",
    "                B, S, C, H, W = x.shape\n",
    "                x = x.view(B * S, C, H, W)\n",
    "\n",
    "                with autocast():\n",
    "                    pred = model(x).view(B, S).mean(dim=1).cpu().numpy() * 100.0\n",
    "\n",
    "                preds.extend(pred)\n",
    "                trues.extend(y.numpy() * 100.0)\n",
    "\n",
    "        mae = mean_absolute_error(trues, preds)\n",
    "        r2 = r2_score(trues, preds)\n",
    "        print(f\"📊 Run {run+1} | Epoch {epoch+1} → Val MAE: {mae:.3f}, R²: {r2:.3f}\")\n",
    "\n",
    "        if mae < best_mae:\n",
    "            best_mae = mae\n",
    "            patience_counter = 0\n",
    "            torch.save(model.state_dict(), best_model_path)\n",
    "        else:\n",
    "            patience_counter += 1\n",
    "\n",
    "        if patience_counter >= patience:\n",
    "            print(f\"🛑 Early stopping at epoch {epoch+1}\")\n",
    "            break\n",
    "\n",
    "    if best_mae < global_best_mae:\n",
    "        global_best_mae = best_mae\n",
    "        global_best_model_state = model.state_dict()\n",
    "        best_run_id = run + 1\n",
    "\n",
    "    mae_list.append(best_mae)\n",
    "    r2_list.append(r2)\n",
    "\n",
    "# 7. 저장\n",
    "torch.save(global_best_model_state, os.path.join(SAVE_DIR, \"best_model_overall.pt\"))\n",
    "\n",
    "# 8. 시각화\n",
    "plt.plot(mae_list, marker='o', label='MAE')\n",
    "plt.title(\"MAE over 5 Runs\")\n",
    "plt.xlabel(\"Run\")\n",
    "plt.ylabel(\"MAE\")\n",
    "plt.grid(True)\n",
    "plt.savefig(os.path.join(SAVE_DIR, \"mae_plot.png\"))\n",
    "plt.show()\n",
    "\n",
    "plt.plot(r2_list, marker='s', label='R²')\n",
    "plt.title(\"R² Score over 5 Runs\")\n",
    "plt.xlabel(\"Run\")\n",
    "plt.ylabel(\"R² Score\")\n",
    "plt.grid(True)\n",
    "plt.savefig(os.path.join(SAVE_DIR, \"r2_plot.png\"))\n",
    "plt.show()\n"
   ]
  },
  {
   "cell_type": "code",
   "execution_count": null,
   "id": "1ee16eec",
   "metadata": {},
   "outputs": [],
   "source": [
    "# BEiT  기반 나이 회귀 모델\n",
    "\n",
    "import os\n",
    "import glob\n",
    "import pandas as pd\n",
    "import numpy as np\n",
    "import nibabel as nib\n",
    "from PIL import Image\n",
    "from sklearn.model_selection import train_test_split\n",
    "from sklearn.metrics import mean_absolute_error, r2_score\n",
    "import matplotlib.pyplot as plt\n",
    "\n",
    "import torch\n",
    "import torch.nn as nn\n",
    "from torch.utils.data import Dataset, DataLoader\n",
    "from torchvision import transforms\n",
    "import timm\n",
    "from torch.cuda.amp import autocast, GradScaler\n",
    "\n",
    "# 🔧 저장 경로\n",
    "SAVE_DIR = \"./models/beit_ixi\"\n",
    "os.makedirs(SAVE_DIR, exist_ok=True)\n",
    "\n",
    "# 1. Load metadata\n",
    "print(\"📁 Loading IXI metadata...\")\n",
    "df_info = pd.read_excel(\"./IXI-T1/IXI.xls\", sheet_name=\"Table\")\n",
    "df_info[\"IXI_ID\"] = df_info[\"IXI_ID\"].apply(lambda x: f\"IXI{int(x):03d}\")\n",
    "df_info = df_info[[\"IXI_ID\", \"AGE\"]].dropna(subset=[\"AGE\"])\n",
    "\n",
    "nifti_paths = sorted(glob.glob(\"./IXI-T1/*.nii.gz\"))\n",
    "records = []\n",
    "for path in nifti_paths:\n",
    "    basename = os.path.basename(path)\n",
    "    ixid = basename.split(\"-\")[0]\n",
    "    age_row = df_info[df_info[\"IXI_ID\"] == ixid]\n",
    "    if not age_row.empty:\n",
    "        age = age_row.iloc[0][\"AGE\"]\n",
    "        records.append({\"path\": path, \"IXI_ID\": ixid, \"AGE\": age})\n",
    "df = pd.DataFrame(records)\n",
    "print(f\"✅ 매칭된 샘플 수: {len(df)}\")\n",
    "\n",
    "# 2. Dataset\n",
    "class IXIAgeDataset(Dataset):\n",
    "    def __init__(self, df, transform=None, num_slices=20, resolution=(224, 224)):\n",
    "        self.df = df\n",
    "        self.num_slices = num_slices\n",
    "        self.resolution = resolution\n",
    "        self.transform = transform or transforms.Compose([\n",
    "            transforms.Resize(self.resolution),\n",
    "            transforms.ToTensor(),\n",
    "            transforms.Normalize([0.5]*3, [0.5]*3),\n",
    "        ])\n",
    "\n",
    "    def __len__(self):\n",
    "        return len(self.df)\n",
    "\n",
    "    def __getitem__(self, idx):\n",
    "        row = self.df.iloc[idx]\n",
    "        img = nib.load(row[\"path\"]).get_fdata()\n",
    "        z_center = img.shape[2] // 2\n",
    "        half = self.num_slices // 2\n",
    "        slice_indices = list(range(z_center - half, z_center + half))\n",
    "\n",
    "        slices = []\n",
    "        for z in slice_indices:\n",
    "            slice_img = np.zeros_like(img[:, :, 0], dtype=np.float32) if z < 0 or z >= img.shape[2] else img[:, :, z]\n",
    "            if slice_img.max() != slice_img.min():\n",
    "                slice_img = ((slice_img - slice_img.min()) / (slice_img.max() - slice_img.min())).astype(np.float32)\n",
    "            else:\n",
    "                slice_img = np.zeros_like(slice_img, dtype=np.float32)\n",
    "            pil_img = Image.fromarray((slice_img * 255).astype(np.uint8)).convert(\"L\").convert(\"RGB\")\n",
    "            slices.append(self.transform(pil_img))\n",
    "\n",
    "        return torch.stack(slices, dim=0), torch.tensor(row[\"AGE\"] / 100.0, dtype=torch.float32)\n",
    "\n",
    "# 3. BEiT v2 모델 정의\n",
    "class BEiTRegressor(nn.Module):\n",
    "    def __init__(self):\n",
    "        super().__init__()\n",
    "        self.backbone = timm.create_model('beit_base_patch16_224', pretrained=True, num_classes=1)\n",
    "\n",
    "    def forward(self, x):\n",
    "        return self.backbone(x).squeeze(1)\n",
    "\n",
    "# 4. 설정\n",
    "device = torch.device(\"cuda\" if torch.cuda.is_available() else \"cpu\")\n",
    "print(f\"🖥️ Using device: {device}\")\n",
    "\n",
    "# 5. 하이퍼파라미터\n",
    "batch_size = 8\n",
    "num_epochs = 500\n",
    "num_slices = 20\n",
    "image_resolution = (224, 224)\n",
    "\n",
    "# 6. 반복 학습\n",
    "mae_list, r2_list = [], []\n",
    "global_best_mae = float('inf')\n",
    "global_best_model_state = None\n",
    "scaler = GradScaler()\n",
    "\n",
    "for run in range(5):\n",
    "    print(f\"\\n========== 🏁 Run {run+1}/5 시작 ==========\")\n",
    "    train_df, val_df = train_test_split(df, test_size=0.3, random_state=run)\n",
    "\n",
    "    train_set = IXIAgeDataset(train_df, num_slices=num_slices, resolution=image_resolution)\n",
    "    val_set = IXIAgeDataset(val_df, num_slices=num_slices, resolution=image_resolution)\n",
    "    train_loader = DataLoader(train_set, batch_size=batch_size, shuffle=True, num_workers=4, pin_memory=True)\n",
    "    val_loader = DataLoader(val_set, batch_size=batch_size, num_workers=4, pin_memory=True)\n",
    "\n",
    "    model = BEiTRegressor().to(device)\n",
    "    optimizer = torch.optim.AdamW(model.parameters(), lr=1e-4)\n",
    "    criterion = nn.L1Loss()\n",
    "\n",
    "    best_mae = float('inf')\n",
    "    best_model_path = os.path.join(SAVE_DIR, f\"best_model_run{run+1}.pt\")\n",
    "    patience = 7\n",
    "    patience_counter = 0\n",
    "\n",
    "    for epoch in range(num_epochs):\n",
    "        model.train()\n",
    "        total_loss = 0\n",
    "        for x, y in train_loader:\n",
    "            x, y = x.to(device), y.to(device)\n",
    "            B, S, C, H, W = x.shape\n",
    "            x = x.view(B * S, C, H, W)\n",
    "\n",
    "            with autocast():\n",
    "                pred = model(x).view(B, S).mean(dim=1)\n",
    "                loss = criterion(pred, y)\n",
    "\n",
    "            if torch.isnan(loss):\n",
    "                continue\n",
    "\n",
    "            optimizer.zero_grad()\n",
    "            scaler.scale(loss).backward()\n",
    "            torch.nn.utils.clip_grad_norm_(model.parameters(), 1.0)\n",
    "            scaler.step(optimizer)\n",
    "            scaler.update()\n",
    "            total_loss += loss.item()\n",
    "\n",
    "        # Validation\n",
    "        model.eval()\n",
    "        preds, trues = [], []\n",
    "        with torch.no_grad():\n",
    "            for x, y in val_loader:\n",
    "                x = x.to(device)\n",
    "                B, S, C, H, W = x.shape\n",
    "                x = x.view(B * S, C, H, W)\n",
    "\n",
    "                with autocast():\n",
    "                    pred = model(x).view(B, S).mean(dim=1).cpu().numpy() * 100.0\n",
    "\n",
    "                preds.extend(pred)\n",
    "                trues.extend(y.numpy() * 100.0)\n",
    "\n",
    "        mae = mean_absolute_error(trues, preds)\n",
    "        r2 = r2_score(trues, preds)\n",
    "        print(f\"📊 Run {run+1} | Epoch {epoch+1} → Val MAE: {mae:.3f}, R²: {r2:.3f}\")\n",
    "\n",
    "        if mae < best_mae:\n",
    "            best_mae = mae\n",
    "            patience_counter = 0\n",
    "            torch.save(model.state_dict(), best_model_path)\n",
    "        else:\n",
    "            patience_counter += 1\n",
    "\n",
    "        if patience_counter >= patience:\n",
    "            print(f\"🛑 Early stopping at epoch {epoch+1}\")\n",
    "            break\n",
    "\n",
    "    if best_mae < global_best_mae:\n",
    "        global_best_mae = best_mae\n",
    "        global_best_model_state = model.state_dict()\n",
    "        best_run_id = run + 1\n",
    "\n",
    "    mae_list.append(best_mae)\n",
    "    r2_list.append(r2)\n",
    "\n",
    "# 7. 저장\n",
    "torch.save(global_best_model_state, os.path.join(SAVE_DIR, \"best_model_overall.pt\"))\n",
    "\n",
    "# 8. 시각화\n",
    "plt.plot(mae_list, marker='o', label='MAE')\n",
    "plt.title(\"MAE over 5 Runs\")\n",
    "plt.xlabel(\"Run\")\n",
    "plt.ylabel(\"MAE\")\n",
    "plt.grid(True)\n",
    "plt.savefig(os.path.join(SAVE_DIR, \"mae_plot.png\"))\n",
    "plt.show()\n",
    "\n",
    "plt.plot(r2_list, marker='s', label='R²')\n",
    "plt.title(\"R² Score over 5 Runs\")\n",
    "plt.xlabel(\"Run\")\n",
    "plt.ylabel(\"R² Score\")\n",
    "plt.grid(True)\n",
    "plt.savefig(os.path.join(SAVE_DIR, \"r2_plot.png\"))\n",
    "plt.show()\n"
   ]
  },
  {
   "cell_type": "code",
   "execution_count": null,
   "id": "02e0372d",
   "metadata": {},
   "outputs": [],
   "source": [
    "# MAE 기반 나이 회귀 모델\n",
    "\n",
    "import os\n",
    "import glob\n",
    "import pandas as pd\n",
    "import numpy as np\n",
    "import nibabel as nib\n",
    "from PIL import Image\n",
    "from sklearn.model_selection import train_test_split\n",
    "from sklearn.metrics import mean_absolute_error, r2_score\n",
    "import matplotlib.pyplot as plt\n",
    "\n",
    "import torch\n",
    "import torch.nn as nn\n",
    "from torch.utils.data import Dataset, DataLoader\n",
    "from torchvision import transforms\n",
    "import timm\n",
    "from torch.cuda.amp import autocast, GradScaler\n",
    "\n",
    "# 🔧 저장 경로\n",
    "SAVE_DIR = \"./models/mae_ixi\"\n",
    "os.makedirs(SAVE_DIR, exist_ok=True)\n",
    "\n",
    "# 1. Load metadata\n",
    "print(\"📁 Loading IXI metadata...\")\n",
    "df_info = pd.read_excel(\"./IXI-T1/IXI.xls\", sheet_name=\"Table\")\n",
    "df_info[\"IXI_ID\"] = df_info[\"IXI_ID\"].apply(lambda x: f\"IXI{int(x):03d}\")\n",
    "df_info = df_info[[\"IXI_ID\", \"AGE\"]].dropna(subset=[\"AGE\"])\n",
    "\n",
    "nifti_paths = sorted(glob.glob(\"./IXI-T1/*.nii.gz\"))\n",
    "records = []\n",
    "for path in nifti_paths:\n",
    "    basename = os.path.basename(path)\n",
    "    ixid = basename.split(\"-\")[0]\n",
    "    age_row = df_info[df_info[\"IXI_ID\"] == ixid]\n",
    "    if not age_row.empty:\n",
    "        age = age_row.iloc[0][\"AGE\"]\n",
    "        records.append({\"path\": path, \"IXI_ID\": ixid, \"AGE\": age})\n",
    "df = pd.DataFrame(records)\n",
    "print(f\"✅ 매칭된 샘플 수: {len(df)}\")\n",
    "\n",
    "# 2. Dataset\n",
    "class IXIAgeDataset(Dataset):\n",
    "    def __init__(self, df, transform=None, num_slices=20, resolution=(224, 224)):\n",
    "        self.df = df\n",
    "        self.num_slices = num_slices\n",
    "        self.resolution = resolution\n",
    "        self.transform = transform or transforms.Compose([\n",
    "            transforms.Resize(self.resolution),\n",
    "            transforms.ToTensor(),\n",
    "            transforms.Normalize([0.5]*3, [0.5]*3),\n",
    "        ])\n",
    "\n",
    "    def __len__(self):\n",
    "        return len(self.df)\n",
    "\n",
    "    def __getitem__(self, idx):\n",
    "        row = self.df.iloc[idx]\n",
    "        img = nib.load(row[\"path\"]).get_fdata()\n",
    "        z_center = img.shape[2] // 2\n",
    "        half = self.num_slices // 2\n",
    "        slice_indices = list(range(z_center - half, z_center + half))\n",
    "\n",
    "        slices = []\n",
    "        for z in slice_indices:\n",
    "            slice_img = np.zeros_like(img[:, :, 0], dtype=np.float32) if z < 0 or z >= img.shape[2] else img[:, :, z]\n",
    "            if slice_img.max() != slice_img.min():\n",
    "                slice_img = ((slice_img - slice_img.min()) / (slice_img.max() - slice_img.min())).astype(np.float32)\n",
    "            else:\n",
    "                slice_img = np.zeros_like(slice_img, dtype=np.float32)\n",
    "            pil_img = Image.fromarray((slice_img * 255).astype(np.uint8)).convert(\"L\").convert(\"RGB\")\n",
    "            slices.append(self.transform(pil_img))\n",
    "\n",
    "        return torch.stack(slices, dim=0), torch.tensor(row[\"AGE\"] / 100.0, dtype=torch.float32)\n",
    "\n",
    "# 3. MAE (Aoutoendoder) 모델 정의\n",
    "class MAERegressor(nn.Module):\n",
    "    def __init__(self):\n",
    "        super().__init__()\n",
    "        # MAE 사전학습된 encoder만 불러오기\n",
    "        self.backbone = timm.create_model(\"vit_base_patch16_224.mae\", pretrained=True, num_classes=1)\n",
    "\n",
    "    def forward(self, x):\n",
    "        return self.backbone(x).squeeze(1)\n",
    "\n",
    "\n",
    "# 4. 설정\n",
    "device = torch.device(\"cuda\" if torch.cuda.is_available() else \"cpu\")\n",
    "print(f\"🖥️ Using device: {device}\")\n",
    "\n",
    "# 5. 하이퍼파라미터\n",
    "batch_size = 16\n",
    "num_epochs = 500\n",
    "num_slices = 20\n",
    "image_resolution = (224, 224)\n",
    "\n",
    "# 6. 반복 학습\n",
    "mae_list, r2_list = [], []\n",
    "global_best_mae = float('inf')\n",
    "global_best_model_state = None\n",
    "scaler = GradScaler()\n",
    "\n",
    "for run in range(5):\n",
    "    print(f\"\\n========== 🏁 Run {run+1}/5 시작 ==========\")\n",
    "    train_df, val_df = train_test_split(df, test_size=0.3, random_state=run)\n",
    "\n",
    "    train_set = IXIAgeDataset(train_df, num_slices=num_slices, resolution=image_resolution)\n",
    "    val_set = IXIAgeDataset(val_df, num_slices=num_slices, resolution=image_resolution)\n",
    "    train_loader = DataLoader(train_set, batch_size=batch_size, shuffle=True, num_workers=4, pin_memory=True)\n",
    "    val_loader = DataLoader(val_set, batch_size=batch_size, num_workers=4, pin_memory=True)\n",
    "\n",
    "    model = MAERegressor().to(device)\n",
    "    optimizer = torch.optim.AdamW(model.parameters(), lr=1e-4)\n",
    "    criterion = nn.L1Loss()\n",
    "\n",
    "    best_mae = float('inf')\n",
    "    best_model_path = os.path.join(SAVE_DIR, f\"best_model_run{run+1}.pt\")\n",
    "    patience = 7\n",
    "    patience_counter = 0\n",
    "\n",
    "    for epoch in range(num_epochs):\n",
    "        model.train()\n",
    "        total_loss = 0\n",
    "        for x, y in train_loader:\n",
    "            x, y = x.to(device), y.to(device)\n",
    "            B, S, C, H, W = x.shape\n",
    "            x = x.view(B * S, C, H, W)\n",
    "\n",
    "            with autocast():\n",
    "                pred = model(x).view(B, S).mean(dim=1)\n",
    "                loss = criterion(pred, y)\n",
    "\n",
    "            if torch.isnan(loss):\n",
    "                continue\n",
    "\n",
    "            optimizer.zero_grad()\n",
    "            scaler.scale(loss).backward()\n",
    "            torch.nn.utils.clip_grad_norm_(model.parameters(), 1.0)\n",
    "            scaler.step(optimizer)\n",
    "            scaler.update()\n",
    "            total_loss += loss.item()\n",
    "\n",
    "        # Validation\n",
    "        model.eval()\n",
    "        preds, trues = [], []\n",
    "        with torch.no_grad():\n",
    "            for x, y in val_loader:\n",
    "                x = x.to(device)\n",
    "                B, S, C, H, W = x.shape\n",
    "                x = x.view(B * S, C, H, W)\n",
    "\n",
    "                with autocast():\n",
    "                    pred = model(x).view(B, S).mean(dim=1).cpu().numpy() * 100.0\n",
    "\n",
    "                preds.extend(pred)\n",
    "                trues.extend(y.numpy() * 100.0)\n",
    "\n",
    "        mae = mean_absolute_error(trues, preds)\n",
    "        r2 = r2_score(trues, preds)\n",
    "        print(f\"📊 Run {run+1} | Epoch {epoch+1} → Val MAE: {mae:.3f}, R²: {r2:.3f}\")\n",
    "\n",
    "        if mae < best_mae:\n",
    "            best_mae = mae\n",
    "            patience_counter = 0\n",
    "            torch.save(model.state_dict(), best_model_path)\n",
    "        else:\n",
    "            patience_counter += 1\n",
    "\n",
    "        if patience_counter >= patience:\n",
    "            print(f\"🛑 Early stopping at epoch {epoch+1}\")\n",
    "            break\n",
    "\n",
    "    if best_mae < global_best_mae:\n",
    "        global_best_mae = best_mae\n",
    "        global_best_model_state = model.state_dict()\n",
    "        best_run_id = run + 1\n",
    "\n",
    "    mae_list.append(best_mae)\n",
    "    r2_list.append(r2)\n",
    "\n",
    "# 7. 저장\n",
    "torch.save(global_best_model_state, os.path.join(SAVE_DIR, \"best_model_overall.pt\"))\n",
    "\n",
    "# 8. 시각화\n",
    "plt.plot(mae_list, marker='o', label='MAE')\n",
    "plt.title(\"MAE over 5 Runs\")\n",
    "plt.xlabel(\"Run\")\n",
    "plt.ylabel(\"MAE\")\n",
    "plt.grid(True)\n",
    "plt.savefig(os.path.join(SAVE_DIR, \"mae_plot.png\"))\n",
    "plt.show()\n",
    "\n",
    "plt.plot(r2_list, marker='s', label='R²')\n",
    "plt.title(\"R² Score over 5 Runs\")\n",
    "plt.xlabel(\"Run\")\n",
    "plt.ylabel(\"R² Score\")\n",
    "plt.grid(True)\n",
    "plt.savefig(os.path.join(SAVE_DIR, \"r2_plot.png\"))\n",
    "plt.show()\n"
   ]
  }
 ],
 "metadata": {
  "kernelspec": {
   "display_name": "Python3 (ipykernel)",
   "language": "python",
   "name": "python3"
  },
  "language_info": {
   "codemirror_mode": {
    "name": "ipython",
    "version": 3
   },
   "file_extension": ".py",
   "mimetype": "text/x-python",
   "name": "python",
   "nbconvert_exporter": "python",
   "pygments_lexer": "ipython3",
   "version": "3.10.12"
  }
 },
 "nbformat": 4,
 "nbformat_minor": 5
}
